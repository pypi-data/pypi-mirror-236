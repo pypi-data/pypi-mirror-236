{
 "cells": [
  {
   "cell_type": "code",
   "execution_count": null,
   "id": "37019f5b-26eb-43e8-a123-a5b11d811712",
   "metadata": {},
   "outputs": [],
   "source": [
    "import matplotlib.pyplot as plt\n",
    "import numpy as np\n",
    "import seaborn as sns\n",
    "\n",
    "# import from local folder\n",
    "from GA_AGENTS import GA_TSPOptimizer\n",
    "\n",
    "from GA_ENV import GA_TSP_ENV\n",
    "\n",
    "# from GA_BenchMarks import BoothFunction, boothFunction"
   ]
  },
  {
   "cell_type": "code",
   "execution_count": null,
   "id": "5a644182-2101-4544-a16c-332a4934f2d1",
   "metadata": {},
   "outputs": [],
   "source": [
    "# ** GA_Agent manager **\n",
    "gaManager = GA_TSPOptimizer(\n",
    "        chromosome_size=3, \n",
    "         population_size=12, \n",
    "         chromosomeAlphabet=list(range(1, 4)), \n",
    "         generations=100,\n",
    "         mutation_rate=.001,\n",
    "         crossOver_rate=.90,\n",
    "         objective_func=adjacencyDistance,\n",
    "         mode=\"min\",\n",
    "         DistanceMat=adjMat,\n",
    "        )\n",
    "# ** GA_Agent Environment **\n",
    "\n",
    "gaENV = GA_TSP_ENV(agentManager=gaManager, generations=100, patienceLimit=np.inf)"
   ]
  },
  {
   "cell_type": "code",
   "execution_count": null,
   "id": "7306d524",
   "metadata": {},
   "outputs": [],
   "source": [
    "\"gaManager = GA_TSPOptimizer(chromosome_size=3, population_size=12, chromosomeAlphabet=list(range(1, 4)), generations=100,mutation_rate=.001,crossOver_rate=.90,objective_func=adjacencyDistance,mode='min',DistanceMat=adjMat,)\""
   ]
  },
  {
   "cell_type": "code",
   "execution_count": null,
   "id": "ee11bb6f-3f01-4938-8528-c97e55bb418b",
   "metadata": {},
   "outputs": [],
   "source": [
    "# # will calculate the distance traveled using the path represented by the chromsome\n",
    "# # NOTE: the chromosome does not include the source node (0) \n",
    "# def adjacencyDistance(chromosome, mat, **kwargs):\n",
    "#     # get distance from source to first node\n",
    "#     d = mat[chromosome[0], 0]\n",
    "#     for node in range(len(chromosome)-1):\n",
    "#         i = chromosome[node]\n",
    "#         j = chromosome[node+1]\n",
    "#         d += mat[i, j]\n",
    "#         print(f\"\\nI: {i}-->J:{j}\")\n",
    "\n",
    "#     # calculate return trip to source from final node\n",
    "#     d += mat[chromosome[-1], 0]\n",
    "#     return d\n",
    "# M = 1e2\n",
    "# adjMat = np.array([\n",
    "#     [M, 1, 1, 1],\n",
    "#     [1, M, 5, 2],\n",
    "#     [1, 5, M, 1],\n",
    "#     [1, 2, 1, M],\n",
    "# ])\n",
    "\n",
    "# # display(adjMat)\n",
    "\n",
    "# testPath0 = [1,2,3]\n",
    "# testPath1 = [1,3,2]\n",
    "# testPath2 = [2,1,3]\n",
    "# testPath3 = [2,3,1]\n",
    "# testPath4 = [3,1,2]\n",
    "# testPath5 = [3,2,1]\n",
    "\n",
    "\n",
    "# display(f\"path: {testPath0}: distance: {adjacencyDistance(testPath0, adjMat)}\")\n",
    "# display(f\"path: {testPath1}: distance: {adjacencyDistance(testPath1, adjMat)}\")\n",
    "# display(f\"path: {testPath2}: distance: {adjacencyDistance(testPath2, adjMat)}\")\n",
    "# display(f\"path: {testPath3}: distance: {adjacencyDistance(testPath3, adjMat)}\")\n",
    "# display(f\"path: {testPath4}: distance: {adjacencyDistance(testPath4, adjMat)}\")\n",
    "# display(f\"path: {testPath5}: distance: {adjacencyDistance(testPath5, adjMat)}\")"
   ]
  },
  {
   "cell_type": "code",
   "execution_count": null,
   "id": "f571239d-7887-4941-9ef7-9addc8dedb63",
   "metadata": {},
   "outputs": [],
   "source": [
    "print(gaManager.chromosomeAlphabet)\n",
    "print(gaManager.adjacencyMat)\n",
    "print(gaENV.scores)"
   ]
  },
  {
   "cell_type": "markdown",
   "id": "91433b52",
   "metadata": {},
   "source": [
    "# Test problem\n",
    "* Above shows the weighted adjacency matrix for the simulated road network\n",
    "* The optimal solutions for the shortest Hamiltonian Walk are [1,3,2] and [2,3,1] both with a distance of 5\n",
    "* IF the algo works it should find one of these and eventually converge\n",
    "* All distances displayed below"
   ]
  },
  {
   "cell_type": "code",
   "execution_count": null,
   "id": "c4effe7c-8b27-48bd-a715-b46a76901fba",
   "metadata": {},
   "outputs": [],
   "source": [
    "gaENV.Solve(verbose=True, interval=50)"
   ]
  },
  {
   "cell_type": "code",
   "execution_count": null,
   "id": "13a9160d-d827-450e-b872-c28af4e8389a",
   "metadata": {},
   "outputs": [],
   "source": [
    "gaENV.plot_scores()"
   ]
  },
  {
   "cell_type": "code",
   "execution_count": null,
   "id": "6bc15fe7-1f37-4435-8f64-8ddc46f3569d",
   "metadata": {},
   "outputs": [],
   "source": []
  }
 ],
 "metadata": {
  "kernelspec": {
   "display_name": "Python 3 (ipykernel)",
   "language": "python",
   "name": "python3"
  },
  "language_info": {
   "codemirror_mode": {
    "name": "ipython",
    "version": 3
   },
   "file_extension": ".py",
   "mimetype": "text/x-python",
   "name": "python",
   "nbconvert_exporter": "python",
   "pygments_lexer": "ipython3",
   "version": "3.10.5"
  }
 },
 "nbformat": 4,
 "nbformat_minor": 5
}
