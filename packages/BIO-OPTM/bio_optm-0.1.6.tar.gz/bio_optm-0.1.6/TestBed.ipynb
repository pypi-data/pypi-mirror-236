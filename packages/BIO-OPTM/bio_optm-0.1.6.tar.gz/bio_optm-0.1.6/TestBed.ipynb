{
 "cells": [
  {
   "cell_type": "code",
   "execution_count": 6,
   "id": "05b1ccbe",
   "metadata": {},
   "outputs": [
    {
     "name": "stdout",
     "output_type": "stream",
     "text": [
      "3.12.0 (tags/v3.12.0:0fb18b0, Oct  2 2023, 13:03:39) [MSC v.1935 64 bit (AMD64)]\n"
     ]
    }
   ],
   "source": [
    "import sys\n",
    "print(sys.version)\n",
    "# mypath = r\"\\code\\DataProcessors\\GsDataToolSet\\JSON_TOOLS\"\n",
    "# sys.path.insert(0, mypath)\n",
    "# print(sys.path)"
   ]
  },
  {
   "cell_type": "code",
   "execution_count": 4,
   "id": "e8965ded",
   "metadata": {},
   "outputs": [],
   "source": [
    "import matplotlib.pyplot as plt\n",
    "import json\n",
    "\n",
    "import numpy as np\n",
    "import seaborn as sns\n",
    "import sys\n",
    "\n",
    "from BIO_OPTM.GA_TOOLS.GA_AGENTS import sum_obj, RNG_gen, GA_AGENT, GA_OptimizerOmegaMin\n",
    "\n",
    "from GsDataToolSet.JSON_TOOLS.Js_JSON import *"
   ]
  },
  {
   "cell_type": "code",
   "execution_count": 5,
   "id": "0a40f00e",
   "metadata": {},
   "outputs": [],
   "source": [
    "testD = {\"a\":1, \"b\":2, \"c\":3}\n",
    "\n",
    "jsonDict = convertDictJson(testD)\n",
    "\n",
    "writeDictToJsonFile(jsonDict, './dumpFiles/Test.json')"
   ]
  },
  {
   "cell_type": "code",
   "execution_count": null,
   "id": "1328e65b",
   "metadata": {},
   "outputs": [],
   "source": []
  }
 ],
 "metadata": {
  "kernelspec": {
   "display_name": "Python 3 (ipykernel)",
   "language": "python",
   "name": "python3"
  },
  "language_info": {
   "codemirror_mode": {
    "name": "ipython",
    "version": 3
   },
   "file_extension": ".py",
   "mimetype": "text/x-python",
   "name": "python",
   "nbconvert_exporter": "python",
   "pygments_lexer": "ipython3",
   "version": "3.12.0"
  }
 },
 "nbformat": 4,
 "nbformat_minor": 5
}
