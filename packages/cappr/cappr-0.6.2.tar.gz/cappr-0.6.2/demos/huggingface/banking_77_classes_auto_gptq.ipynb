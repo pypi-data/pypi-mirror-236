{
  "cells": [
    {
      "cell_type": "markdown",
      "metadata": {
        "id": "P4HstkWvR1WZ"
      },
      "source": [
        "You must run this notebook on a GPU. A T4 is sufficient. It's free on [Google\n",
        "Colab](https://stackoverflow.com/questions/62596466/how-can-i-run-notebooks-of-a-github-project-in-google-colab/67344477#67344477).\n",
        "\n",
        "This notebook runs a demo of a [GPTQd StableLM\n",
        "3B](https://huggingface.co/ethzanalytics/stablelm-tuned-alpha-3b-gptq-4bit-128g) on a\n",
        "classification task using CAPPr and then via sampling."
      ]
    },
    {
      "cell_type": "code",
      "execution_count": null,
      "metadata": {
        "id": "BLsIUPPUR1Wd"
      },
      "outputs": [],
      "source": [
        "# check correct CUDA version\n",
        "import torch\n",
        "\n",
        "_cuda_version = torch.version.cuda\n",
        "_msg = (\n",
        "    \"Change the pip install auto-gptq command to the one for \"\n",
        "    f\"{_cuda_version} based on the list here: \"\n",
        "    \"https://github.com/PanQiWei/AutoGPTQ#quick-installation\"\n",
        ")\n",
        "\n",
        "assert _cuda_version == \"11.8\", _msg"
      ]
    },
    {
      "cell_type": "code",
      "execution_count": null,
      "metadata": {
        "id": "7EYS12SxR1Wf"
      },
      "outputs": [],
      "source": [
        "!python -m pip install \"cappr[demos] @ git+https://github.com/kddubey/cappr.git\" \\\n",
        "auto-gptq --extra-index-url https://huggingface.github.io/autogptq-index/whl/cu118/ \\\n",
        "optimum"
      ]
    },
    {
      "cell_type": "code",
      "execution_count": null,
      "metadata": {
        "colab": {
          "base_uri": "https://localhost:8080/"
        },
        "id": "cufrjmgeR1Wf",
        "outputId": "d6fcb8e7-f3d0-4804-8616-ffaec92ad966"
      },
      "outputs": [
        {
          "output_type": "stream",
          "name": "stdout",
          "text": [
            "Git LFS initialized.\n",
            "Cloning into 'stablelm-tuned-alpha-3b-gptq-4bit-128g'...\n",
            "remote: Enumerating objects: 23, done.\u001b[K\n",
            "remote: Total 23 (delta 0), reused 0 (delta 0), pack-reused 23\u001b[K\n",
            "Unpacking objects: 100% (23/23), 593.64 KiB | 6.06 MiB/s, done.\n"
          ]
        }
      ],
      "source": [
        "!git lfs install\n",
        "!git clone https://huggingface.co/ethzanalytics/stablelm-tuned-alpha-3b-gptq-4bit-128g"
      ]
    },
    {
      "cell_type": "code",
      "execution_count": null,
      "metadata": {
        "colab": {
          "base_uri": "https://localhost:8080/"
        },
        "id": "s_PPMCchR1Wf",
        "outputId": "0c592dfc-edab-4744-a312-0176706a44b3"
      },
      "outputs": [
        {
          "output_type": "stream",
          "name": "stdout",
          "text": [
            "config.json\t\t\t  quantize_config.json\t   tokenizer_config.json\n",
            "generation_config.json\t\t  README.md\t\t   tokenizer.json\n",
            "gptq_model-4bit-128g.safetensors  special_tokens_map.json\n"
          ]
        }
      ],
      "source": [
        "!ls stablelm-tuned-alpha-3b-gptq-4bit-128g"
      ]
    },
    {
      "cell_type": "code",
      "execution_count": null,
      "metadata": {
        "id": "T289hL2jR1Wg"
      },
      "outputs": [],
      "source": [
        "from __future__ import annotations\n",
        "\n",
        "from auto_gptq import AutoGPTQForCausalLM\n",
        "import datasets as nlp_datasets\n",
        "import pandas as pd\n",
        "from sklearn.metrics import f1_score\n",
        "from tqdm.auto import tqdm\n",
        "from transformers import AutoTokenizer, GenerationConfig, pipeline\n",
        "\n",
        "from cappr.huggingface.classify import predict_proba"
      ]
    },
    {
      "cell_type": "markdown",
      "metadata": {
        "id": "FXopq1ddR1Wg"
      },
      "source": [
        "# Load data"
      ]
    },
    {
      "cell_type": "code",
      "execution_count": null,
      "metadata": {
        "id": "_vBYpGV7R1Wh"
      },
      "outputs": [],
      "source": [
        "df = pd.DataFrame(nlp_datasets.load_dataset(\"ought/raft\", \"banking_77\", split=\"train\"))"
      ]
    },
    {
      "cell_type": "code",
      "execution_count": null,
      "metadata": {
        "id": "vV7DxmWaR1Wh"
      },
      "outputs": [],
      "source": [
        "stablelm_chat_template = \"\"\"\n",
        "<|SYSTEM|># {system_prompt}\n",
        "<|USER|>{user_message}<|ASSISTANT|>\n",
        "\"\"\".strip(\"\\n\")"
      ]
    },
    {
      "cell_type": "code",
      "execution_count": null,
      "metadata": {
        "id": "wwgSZAzgR1Wi"
      },
      "outputs": [],
      "source": [
        "def prompt(query: str) -> str:\n",
        "    system_prompt = (\n",
        "        \"Summarize an inputted banking customer service query in a few words.\"\n",
        "    )\n",
        "    user_message = f'Query: \"{query}\"\\nSummary:'\n",
        "    return stablelm_chat_template.format(\n",
        "        system_prompt=system_prompt, user_message=user_message\n",
        "    )"
      ]
    },
    {
      "cell_type": "code",
      "execution_count": null,
      "metadata": {
        "id": "unmfKzdOR1Wi"
      },
      "outputs": [],
      "source": [
        "df[\"prompt\"] = [prompt(query) for query in df[\"Query\"]]"
      ]
    },
    {
      "cell_type": "code",
      "execution_count": null,
      "metadata": {
        "id": "K21hf1jsR1Wi"
      },
      "outputs": [],
      "source": [
        "original_class_names = [\"Refund_not_showing_up\", \"activate_my_card\", \"age_limit\", \"apple_pay_or_google_pay\", \"atm_support\", \"automatic_top_up\", \"balance_not_updated_after_bank_transfer\", \"balance_not_updated_after_cheque_or_cash_deposit\", \"beneficiary_not_allowed\", \"cancel_transfer\", \"card_about_to_expire\", \"card_acceptance\", \"card_arrival\", \"card_delivery_estimate\", \"card_linking\", \"card_not_working\", \"card_payment_fee_charged\", \"card_payment_not_recognised\", \"card_payment_wrong_exchange_rate\", \"card_swallowed\", \"cash_withdrawal_charge\", \"cash_withdrawal_not_recognised\", \"change_pin\", \"compromised_card\", \"contactless_not_working\", \"country_support\", \"declined_card_payment\", \"declined_cash_withdrawal\", \"declined_transfer\", \"direct_debit_payment_not_recognised\", \"disposable_card_limits\", \"edit_personal_details\", \"exchange_charge\", \"exchange_rate\", \"exchange_via_app\", \"extra_charge_on_statement\", \"failed_transfer\", \"fiat_currency_support\", \"get_disposable_virtual_card\", \"get_physical_card\", \"getting_spare_card\", \"getting_virtual_card\", \"lost_or_stolen_card\", \"lost_or_stolen_phone\", \"order_physical_card\", \"passcode_forgotten\", \"pending_card_payment\", \"pending_cash_withdrawal\", \"pending_top_up\", \"pending_transfer\", \"pin_blocked\", \"receiving_money\", \"request_refund\", \"reverted_card_payment?\", \"supported_cards_and_currencies\", \"terminate_account\", \"top_up_by_bank_transfer_charge\", \"top_up_by_card_charge\", \"top_up_by_cash_or_cheque\", \"top_up_failed\", \"top_up_limits\", \"top_up_reverted\", \"topping_up_by_card\", \"transaction_charged_twice\", \"transfer_fee_charged\", \"transfer_into_account\", \"transfer_not_received_by_recipient\", \"transfer_timing\", \"unable_to_verify_identity\", \"verify_my_identity\", \"verify_source_of_funds\", \"verify_top_up\", \"virtual_card_not_working\", \"visa_or_mastercard\", \"why_verify_identity\", \"wrong_amount_of_cash_received\", \"wrong_exchange_rate_for_cash_withdrawal\"]"
      ]
    },
    {
      "cell_type": "code",
      "execution_count": null,
      "metadata": {
        "id": "hseKFLpAR1Wj"
      },
      "outputs": [],
      "source": [
        "class_names = [\n",
        "    \" \".join(class_name.split(\"_\")).capitalize() for class_name in original_class_names\n",
        "]"
      ]
    },
    {
      "cell_type": "code",
      "execution_count": null,
      "metadata": {
        "id": "-L6OonmER1Wj"
      },
      "outputs": [],
      "source": [
        "df[\"class_name\"] = [class_names[label_idx - 1] for label_idx in df[\"Label\"]]"
      ]
    },
    {
      "cell_type": "code",
      "execution_count": null,
      "metadata": {
        "colab": {
          "base_uri": "https://localhost:8080/"
        },
        "id": "PDAWvyR1R1Wj",
        "outputId": "b3c3048c-c14e-4a09-e799-c2b6f7d6f8d6"
      },
      "outputs": [
        {
          "output_type": "stream",
          "name": "stdout",
          "text": [
            "<|SYSTEM|># Summarize an inputted banking customer service query in a few words.\n",
            "<|USER|>Query: \"Is it possible for me to change my PIN number?\"\n",
            "Summary:<|ASSISTANT|>\n"
          ]
        }
      ],
      "source": [
        "print(df[\"prompt\"].iloc[0])"
      ]
    },
    {
      "cell_type": "code",
      "execution_count": null,
      "metadata": {
        "colab": {
          "base_uri": "https://localhost:8080/"
        },
        "id": "4_lvokAzR1Wk",
        "outputId": "afeb9e9c-8338-4411-bfc2-6b8f1ae00f5f"
      },
      "outputs": [
        {
          "output_type": "stream",
          "name": "stdout",
          "text": [
            "Change pin\n"
          ]
        }
      ],
      "source": [
        "print(df[\"class_name\"].iloc[0])"
      ]
    },
    {
      "cell_type": "markdown",
      "metadata": {
        "id": "mTRJPq-fR1Wk"
      },
      "source": [
        "# Load model"
      ]
    },
    {
      "cell_type": "code",
      "execution_count": null,
      "metadata": {
        "colab": {
          "base_uri": "https://localhost:8080/"
        },
        "id": "ZmedJgoCR1Wk",
        "outputId": "d79d41a8-eda7-467a-ed0d-909b8d1c9af7"
      },
      "outputs": [
        {
          "output_type": "stream",
          "name": "stderr",
          "text": [
            "WARNING:accelerate.utils.modeling:The safetensors archive passed at stablelm-tuned-alpha-3b-gptq-4bit-128g/gptq_model-4bit-128g.safetensors does not contain metadata. Make sure to save your model with the `save_pretrained` method. Defaulting to 'pt' metadata.\n",
            "WARNING:auto_gptq.modeling._base:GPTNeoXGPTQForCausalLM hasn't fused attention module yet, will skip inject fused attention.\n",
            "WARNING:auto_gptq.modeling._base:GPTNeoXGPTQForCausalLM hasn't fused mlp module yet, will skip inject fused mlp.\n"
          ]
        }
      ],
      "source": [
        "quantized_model_dir = \"stablelm-tuned-alpha-3b-gptq-4bit-128g\"\n",
        "model = AutoGPTQForCausalLM.from_quantized(\n",
        "    quantized_model_dir, use_triton=False, use_safetensors=True\n",
        ")\n",
        "tokenizer = AutoTokenizer.from_pretrained(\"StabilityAI/stablelm-tuned-alpha-7b\")"
      ]
    },
    {
      "cell_type": "code",
      "execution_count": null,
      "metadata": {
        "id": "euxP1iWmR1Wk"
      },
      "outputs": [],
      "source": [
        "# warm up model\n",
        "_ = model(**tokenizer([\"warm up\"], return_tensors=\"pt\").to(model.device))"
      ]
    },
    {
      "cell_type": "markdown",
      "metadata": {
        "id": "9O8OQd6ZR1Wk"
      },
      "source": [
        "# CAPPr"
      ]
    },
    {
      "cell_type": "code",
      "execution_count": null,
      "metadata": {
        "colab": {
          "base_uri": "https://localhost:8080/",
          "height": 49,
          "referenced_widgets": [
            "193a2c59a70845bbbd6293166124007d",
            "c71aa24e23cd47f0b15b5f8312424008",
            "efef5cf3fab744ae97a695718461741d",
            "65402db7d66b4c279348e13b49653774",
            "8a1cbab1e39f443d8b7f6d61f69f334c",
            "3459a4e25a0740fcadf4346cea9522f3",
            "d1b38c24449d47f196c3507798fdd088",
            "927e654636fb46b2b4d5ab1a0eb71c8b",
            "400d3deb94004417be18bda3e60c188b",
            "19782299be1e43d898418e458fdab55c",
            "0a20ebf0f6d84a80a3cd596a7cb9e797"
          ]
        },
        "id": "NSrcE1AvR1Wk",
        "outputId": "72188df7-b829-4f9e-ed73-8b62e5ea869f"
      },
      "outputs": [
        {
          "output_type": "display_data",
          "data": {
            "text/plain": [
              "conditional log-probs:   0%|          | 0/50 [00:00<?, ?it/s]"
            ],
            "application/vnd.jupyter.widget-view+json": {
              "version_major": 2,
              "version_minor": 0,
              "model_id": "193a2c59a70845bbbd6293166124007d"
            }
          },
          "metadata": {}
        }
      ],
      "source": [
        "pred_probs = predict_proba(\n",
        "    prompts=df[\"prompt\"],\n",
        "    completions=class_names,\n",
        "    model_and_tokenizer=(model, tokenizer),\n",
        "    batch_size=1,\n",
        ")"
      ]
    },
    {
      "cell_type": "code",
      "execution_count": null,
      "metadata": {
        "colab": {
          "base_uri": "https://localhost:8080/"
        },
        "id": "2xBnltP7R1Wk",
        "outputId": "8403134b-4c13-4a46-ddff-10fa24dacfe0"
      },
      "outputs": [
        {
          "output_type": "execute_result",
          "data": {
            "text/plain": [
              "0.13594104308390023"
            ]
          },
          "metadata": {},
          "execution_count": 14
        }
      ],
      "source": [
        "f1_score(df[\"Label\"] - 1, pred_probs.argmax(axis=1), average=\"macro\")"
      ]
    },
    {
      "cell_type": "markdown",
      "source": [
        "Accuracy:"
      ],
      "metadata": {
        "id": "nY4Os12ffTCu"
      }
    },
    {
      "cell_type": "code",
      "source": [
        "((df[\"Label\"] - 1) == pred_probs.argmax(axis=1)).mean()"
      ],
      "metadata": {
        "colab": {
          "base_uri": "https://localhost:8080/"
        },
        "id": "JXb2V7_ffNuD",
        "outputId": "df440112-e2e7-4677-99b5-da0ac543ce6c"
      },
      "execution_count": null,
      "outputs": [
        {
          "output_type": "execute_result",
          "data": {
            "text/plain": [
              "0.18"
            ]
          },
          "metadata": {},
          "execution_count": 15
        }
      ]
    },
    {
      "cell_type": "markdown",
      "source": [
        "Hey it could be worse. What's majority accuracy? Forgot to check."
      ],
      "metadata": {
        "id": "urEboJ9pTbHq"
      }
    },
    {
      "cell_type": "code",
      "source": [
        "df[\"Label\"].value_counts(normalize=True).iloc[0]"
      ],
      "metadata": {
        "colab": {
          "base_uri": "https://localhost:8080/"
        },
        "id": "Dto9TOw4Teo2",
        "outputId": "ee2e0aa5-3909-4466-c721-190c01ed2386"
      },
      "execution_count": null,
      "outputs": [
        {
          "output_type": "execute_result",
          "data": {
            "text/plain": [
              "0.06"
            ]
          },
          "metadata": {},
          "execution_count": 16
        }
      ]
    },
    {
      "cell_type": "code",
      "source": [
        "pd.Series(pred_probs.argmax(axis=1)).value_counts(normalize=True)"
      ],
      "metadata": {
        "colab": {
          "base_uri": "https://localhost:8080/"
        },
        "id": "kjGfEeuCTqf9",
        "outputId": "32f80d24-c324-4d6c-9127-4a430f2f6d88"
      },
      "execution_count": null,
      "outputs": [
        {
          "output_type": "execute_result",
          "data": {
            "text/plain": [
              "58    0.32\n",
              "7     0.26\n",
              "73    0.08\n",
              "46    0.04\n",
              "26    0.04\n",
              "68    0.04\n",
              "69    0.04\n",
              "76    0.04\n",
              "15    0.02\n",
              "6     0.02\n",
              "60    0.02\n",
              "66    0.02\n",
              "0     0.02\n",
              "70    0.02\n",
              "75    0.02\n",
              "dtype: float64"
            ]
          },
          "metadata": {},
          "execution_count": 17
        }
      ]
    },
    {
      "cell_type": "markdown",
      "source": [
        "That's not good."
      ],
      "metadata": {
        "id": "lb3gnPvNfoIR"
      }
    },
    {
      "cell_type": "code",
      "source": [
        "class_names[7]"
      ],
      "metadata": {
        "colab": {
          "base_uri": "https://localhost:8080/",
          "height": 36
        },
        "id": "nwkX6tNuTtND",
        "outputId": "1525b656-8201-46ea-cdfc-db1f327a21b2"
      },
      "execution_count": null,
      "outputs": [
        {
          "output_type": "execute_result",
          "data": {
            "text/plain": [
              "'Balance not updated after cheque or cash deposit'"
            ],
            "application/vnd.google.colaboratory.intrinsic+json": {
              "type": "string"
            }
          },
          "metadata": {},
          "execution_count": 18
        }
      ]
    },
    {
      "cell_type": "markdown",
      "source": [
        "# Text generation"
      ],
      "metadata": {
        "id": "WYo_hUj-dGci"
      }
    },
    {
      "cell_type": "code",
      "source": [
        "generator = pipeline(\"text-generation\", model=model, tokenizer=tokenizer)\n",
        "\n",
        "generation_config = GenerationConfig(\n",
        "    max_new_tokens=20,\n",
        "    num_return_sequences=1,\n",
        "    eos_token_id=tokenizer.eos_token_id,\n",
        "    batch_size=1,\n",
        ")"
      ],
      "metadata": {
        "colab": {
          "base_uri": "https://localhost:8080/"
        },
        "id": "6Gh0hs_QdIeh",
        "outputId": "3c1537fc-23dc-4b97-8928-ba327c73b2e5"
      },
      "execution_count": null,
      "outputs": [
        {
          "output_type": "stream",
          "name": "stderr",
          "text": [
            "The model 'GPTNeoXGPTQForCausalLM' is not supported for text-generation. Supported models are ['BartForCausalLM', 'BertLMHeadModel', 'BertGenerationDecoder', 'BigBirdForCausalLM', 'BigBirdPegasusForCausalLM', 'BioGptForCausalLM', 'BlenderbotForCausalLM', 'BlenderbotSmallForCausalLM', 'BloomForCausalLM', 'CamembertForCausalLM', 'LlamaForCausalLM', 'CodeGenForCausalLM', 'CpmAntForCausalLM', 'CTRLLMHeadModel', 'Data2VecTextForCausalLM', 'ElectraForCausalLM', 'ErnieForCausalLM', 'FalconForCausalLM', 'GitForCausalLM', 'GPT2LMHeadModel', 'GPT2LMHeadModel', 'GPTBigCodeForCausalLM', 'GPTNeoForCausalLM', 'GPTNeoXForCausalLM', 'GPTNeoXJapaneseForCausalLM', 'GPTJForCausalLM', 'LlamaForCausalLM', 'MarianForCausalLM', 'MBartForCausalLM', 'MegaForCausalLM', 'MegatronBertForCausalLM', 'MistralForCausalLM', 'MptForCausalLM', 'MusicgenForCausalLM', 'MvpForCausalLM', 'OpenLlamaForCausalLM', 'OpenAIGPTLMHeadModel', 'OPTForCausalLM', 'PegasusForCausalLM', 'PersimmonForCausalLM', 'PLBartForCausalLM', 'ProphetNetForCausalLM', 'QDQBertLMHeadModel', 'ReformerModelWithLMHead', 'RemBertForCausalLM', 'RobertaForCausalLM', 'RobertaPreLayerNormForCausalLM', 'RoCBertForCausalLM', 'RoFormerForCausalLM', 'RwkvForCausalLM', 'Speech2Text2ForCausalLM', 'TransfoXLLMHeadModel', 'TrOCRForCausalLM', 'XGLMForCausalLM', 'XLMWithLMHeadModel', 'XLMProphetNetForCausalLM', 'XLMRobertaForCausalLM', 'XLMRobertaXLForCausalLM', 'XLNetLMHeadModel', 'XmodForCausalLM'].\n"
          ]
        }
      ]
    },
    {
      "cell_type": "markdown",
      "source": [
        "Prompt stolen from: https://github.com/refuel-ai/autolabel/blob/main/examples/banking/config_banking.json"
      ],
      "metadata": {
        "id": "XC3T3e5CkC4E"
      }
    },
    {
      "cell_type": "code",
      "source": [
        "def prompt_text_gen(query: str):\n",
        "    class_names_str = \"\\n\".join(sorted(original_class_names))\n",
        "    system_prompt = (\n",
        "        \"You are an expert at understanding bank customers support complaints and \"\n",
        "        \"queries.\\n\"\n",
        "        \"Your job is to correctly categorize an inputted customer query or complaint \"\n",
        "        \"into one of the following categories.\\n\"\n",
        "        \"Categories:\\n\"\n",
        "        f\"{class_names_str}\\n\\n\"\n",
        "        \"You will answer with just the the correct category and nothing else.\"\n",
        "    )\n",
        "    user_message = f\"Categorize the following query:\\n{query}\"\n",
        "    return stablelm_chat_template.format(\n",
        "        system_prompt=system_prompt, user_message=user_message\n",
        "    )\n",
        "\n",
        "df[\"prompt_text_gen\"] = [prompt_text_gen(query) for query in df[\"Query\"]]\n",
        "print(df[\"prompt_text_gen\"].iloc[0])"
      ],
      "metadata": {
        "colab": {
          "base_uri": "https://localhost:8080/"
        },
        "id": "G3QRU3Bwfy0V",
        "outputId": "fe65413d-5f9d-4469-9fb8-bcf305aad040"
      },
      "execution_count": null,
      "outputs": [
        {
          "output_type": "stream",
          "name": "stdout",
          "text": [
            "<|SYSTEM|># You are an expert at understanding bank customers support complaints and queries.\n",
            "Your job is to correctly categorize an inputted customer query or complaint into one of the following categories.\n",
            "Categories:\n",
            "Refund_not_showing_up\n",
            "activate_my_card\n",
            "age_limit\n",
            "apple_pay_or_google_pay\n",
            "atm_support\n",
            "automatic_top_up\n",
            "balance_not_updated_after_bank_transfer\n",
            "balance_not_updated_after_cheque_or_cash_deposit\n",
            "beneficiary_not_allowed\n",
            "cancel_transfer\n",
            "card_about_to_expire\n",
            "card_acceptance\n",
            "card_arrival\n",
            "card_delivery_estimate\n",
            "card_linking\n",
            "card_not_working\n",
            "card_payment_fee_charged\n",
            "card_payment_not_recognised\n",
            "card_payment_wrong_exchange_rate\n",
            "card_swallowed\n",
            "cash_withdrawal_charge\n",
            "cash_withdrawal_not_recognised\n",
            "change_pin\n",
            "compromised_card\n",
            "contactless_not_working\n",
            "country_support\n",
            "declined_card_payment\n",
            "declined_cash_withdrawal\n",
            "declined_transfer\n",
            "direct_debit_payment_not_recognised\n",
            "disposable_card_limits\n",
            "edit_personal_details\n",
            "exchange_charge\n",
            "exchange_rate\n",
            "exchange_via_app\n",
            "extra_charge_on_statement\n",
            "failed_transfer\n",
            "fiat_currency_support\n",
            "get_disposable_virtual_card\n",
            "get_physical_card\n",
            "getting_spare_card\n",
            "getting_virtual_card\n",
            "lost_or_stolen_card\n",
            "lost_or_stolen_phone\n",
            "order_physical_card\n",
            "passcode_forgotten\n",
            "pending_card_payment\n",
            "pending_cash_withdrawal\n",
            "pending_top_up\n",
            "pending_transfer\n",
            "pin_blocked\n",
            "receiving_money\n",
            "request_refund\n",
            "reverted_card_payment?\n",
            "supported_cards_and_currencies\n",
            "terminate_account\n",
            "top_up_by_bank_transfer_charge\n",
            "top_up_by_card_charge\n",
            "top_up_by_cash_or_cheque\n",
            "top_up_failed\n",
            "top_up_limits\n",
            "top_up_reverted\n",
            "topping_up_by_card\n",
            "transaction_charged_twice\n",
            "transfer_fee_charged\n",
            "transfer_into_account\n",
            "transfer_not_received_by_recipient\n",
            "transfer_timing\n",
            "unable_to_verify_identity\n",
            "verify_my_identity\n",
            "verify_source_of_funds\n",
            "verify_top_up\n",
            "virtual_card_not_working\n",
            "visa_or_mastercard\n",
            "why_verify_identity\n",
            "wrong_amount_of_cash_received\n",
            "wrong_exchange_rate_for_cash_withdrawal\n",
            "\n",
            "You will answer with just the the correct category and nothing else.\n",
            "<|USER|>Categorize the following query:\n",
            "Is it possible for me to change my PIN number?<|ASSISTANT|>\n"
          ]
        }
      ]
    },
    {
      "cell_type": "code",
      "source": [
        "completions = []\n",
        "for _prompt in tqdm(df[\"prompt_text_gen\"], total=len(df), desc=\"Sampling\"):\n",
        "    sequences = generator(\n",
        "        _prompt,\n",
        "        generation_config=generation_config,\n",
        "        pad_token_id=generator.tokenizer.eos_token_id,  # suppress \"Setting ...\"\n",
        "    )\n",
        "    completions.append(sequences[0][\"generated_text\"].removeprefix(_prompt))"
      ],
      "metadata": {
        "colab": {
          "base_uri": "https://localhost:8080/",
          "height": 104,
          "referenced_widgets": [
            "2bbcd83a3212491da6e801ee69ea8ae4",
            "3bc90eb7bd5249e28e83cf777c0d84ee",
            "08a307b7a5c44eb384303f3c8889cc31",
            "b7bbfbc28014471480d10fc85d94cb35",
            "366db994d7984fa58086d4508fea5756",
            "191865ee7999421c883584e41331ca9f",
            "88b5c7b1dc5247229a001e340a6c5f43",
            "e2eadbd80a384037abd1e15b25bffe28",
            "f7bf3763d81043f0b5c5a55af3d88691",
            "320a6c7c45f940f8b32afbdf970a40c6",
            "4f93f3dcd77a44498a0201bd861a20ad"
          ]
        },
        "id": "D6LmDO5BiA4a",
        "outputId": "97bed8df-04a4-400d-9064-2fa9cdbceba1"
      },
      "execution_count": null,
      "outputs": [
        {
          "output_type": "display_data",
          "data": {
            "text/plain": [
              "Sampling:   0%|          | 0/50 [00:00<?, ?it/s]"
            ],
            "application/vnd.jupyter.widget-view+json": {
              "version_major": 2,
              "version_minor": 0,
              "model_id": "2bbcd83a3212491da6e801ee69ea8ae4"
            }
          },
          "metadata": {}
        },
        {
          "output_type": "stream",
          "name": "stderr",
          "text": [
            "/usr/local/lib/python3.10/dist-packages/transformers/pipelines/base.py:1101: UserWarning: You seem to be using the pipelines sequentially on GPU. In order to maximize efficiency please use a dataset\n",
            "  warnings.warn(\n"
          ]
        }
      ]
    },
    {
      "cell_type": "markdown",
      "source": [
        "Let's see if the model generated categories like we asked."
      ],
      "metadata": {
        "id": "bRVLYCgtlNo-"
      }
    },
    {
      "cell_type": "code",
      "source": [
        "pd.Series(completions).sample(20).tolist()"
      ],
      "metadata": {
        "colab": {
          "base_uri": "https://localhost:8080/"
        },
        "id": "ehUEDs_blETA",
        "outputId": "bd4bc8c3-cf54-45a7-f23a-07c3e7940cf1"
      },
      "execution_count": null,
      "outputs": [
        {
          "output_type": "execute_result",
          "data": {
            "text/plain": [
              "['The following countries are in the \"Cash or Debit\" category:\\n\\n1. United',\n",
              " 'Based on the provided query, it seems that the payment was charged a fee because the payment was made',\n",
              " 'Based on the given query, it is not possible to categorize it as a refund or not showing',\n",
              " 'Based on the given query, it is not clear what the $1 transaction refers to. Please provide',\n",
              " 'Based on the given query, it seems that the issue is related to the payment method or card type',\n",
              " 'The physical card will be delivered within 1-3 business days.',\n",
              " 'Based on the provided query, it seems that the customer is waiting for a transfer to be charged.',\n",
              " 'Category: Refund\\n\\nYou will answer with just the correct category and nothing else.C',\n",
              " 'Based on the provided query, it seems that the card payment was not processed because it was not recognized',\n",
              " 'Based on the provided query, it seems that the issue is with the card not working. Here are',\n",
              " 'Based on the provided query, it seems that the card has not been delivered. The card is still',\n",
              " 'Based on the given query, it seems that the customer is not able to find the cash they requested',\n",
              " 'Based on the provided query, it seems that the issue is with the payment method (ATM)',\n",
              " 'The currency you can use is:\\n\\n1. Euro\\n2. British Pound\\n3',\n",
              " 'Based on the given query, it is not clear what category the extra fee belongs to. Please provide',\n",
              " 'Yes, it is possible to change your PIN number. You can do this by logging in to your',\n",
              " \"Sure, here's the categorization for the query:\\n\\nCategory: Refund\\n\\nRef\",\n",
              " \"I'm sorry, but I cannot provide a response to this query as it is not clear what you\",\n",
              " 'Based on the given query, it seems that the user is being asked to verify their identity when they',\n",
              " 'Sure, I can explain the fee for ATM withdrawal.\\n\\nThe fee for ATM withdrawal is typically']"
            ]
          },
          "metadata": {},
          "execution_count": 23
        }
      ]
    },
    {
      "cell_type": "markdown",
      "source": [
        "Doesn't seem like it. It likes to answer the customer's query instead of categorizing it. Not gonna attempt to parse these completions."
      ],
      "metadata": {
        "id": "aTbPVi_FlVia"
      }
    }
  ],
  "metadata": {
    "kernelspec": {
      "display_name": "Python 3",
      "name": "python3"
    },
    "language_info": {
      "codemirror_mode": {
        "name": "ipython",
        "version": 3
      },
      "file_extension": ".py",
      "mimetype": "text/x-python",
      "name": "python",
      "nbconvert_exporter": "python",
      "pygments_lexer": "ipython3",
      "version": "3.11.5"
    },
    "colab": {
      "provenance": [],
      "toc_visible": true,
      "gpuType": "T4"
    },
    "accelerator": "GPU",
    "widgets": {
      "application/vnd.jupyter.widget-state+json": {
        "193a2c59a70845bbbd6293166124007d": {
          "model_module": "@jupyter-widgets/controls",
          "model_name": "HBoxModel",
          "model_module_version": "1.5.0",
          "state": {
            "_dom_classes": [],
            "_model_module": "@jupyter-widgets/controls",
            "_model_module_version": "1.5.0",
            "_model_name": "HBoxModel",
            "_view_count": null,
            "_view_module": "@jupyter-widgets/controls",
            "_view_module_version": "1.5.0",
            "_view_name": "HBoxView",
            "box_style": "",
            "children": [
              "IPY_MODEL_c71aa24e23cd47f0b15b5f8312424008",
              "IPY_MODEL_efef5cf3fab744ae97a695718461741d",
              "IPY_MODEL_65402db7d66b4c279348e13b49653774"
            ],
            "layout": "IPY_MODEL_8a1cbab1e39f443d8b7f6d61f69f334c"
          }
        },
        "c71aa24e23cd47f0b15b5f8312424008": {
          "model_module": "@jupyter-widgets/controls",
          "model_name": "HTMLModel",
          "model_module_version": "1.5.0",
          "state": {
            "_dom_classes": [],
            "_model_module": "@jupyter-widgets/controls",
            "_model_module_version": "1.5.0",
            "_model_name": "HTMLModel",
            "_view_count": null,
            "_view_module": "@jupyter-widgets/controls",
            "_view_module_version": "1.5.0",
            "_view_name": "HTMLView",
            "description": "",
            "description_tooltip": null,
            "layout": "IPY_MODEL_3459a4e25a0740fcadf4346cea9522f3",
            "placeholder": "​",
            "style": "IPY_MODEL_d1b38c24449d47f196c3507798fdd088",
            "value": "conditional log-probs: 100%"
          }
        },
        "efef5cf3fab744ae97a695718461741d": {
          "model_module": "@jupyter-widgets/controls",
          "model_name": "FloatProgressModel",
          "model_module_version": "1.5.0",
          "state": {
            "_dom_classes": [],
            "_model_module": "@jupyter-widgets/controls",
            "_model_module_version": "1.5.0",
            "_model_name": "FloatProgressModel",
            "_view_count": null,
            "_view_module": "@jupyter-widgets/controls",
            "_view_module_version": "1.5.0",
            "_view_name": "ProgressView",
            "bar_style": "success",
            "description": "",
            "description_tooltip": null,
            "layout": "IPY_MODEL_927e654636fb46b2b4d5ab1a0eb71c8b",
            "max": 50,
            "min": 0,
            "orientation": "horizontal",
            "style": "IPY_MODEL_400d3deb94004417be18bda3e60c188b",
            "value": 50
          }
        },
        "65402db7d66b4c279348e13b49653774": {
          "model_module": "@jupyter-widgets/controls",
          "model_name": "HTMLModel",
          "model_module_version": "1.5.0",
          "state": {
            "_dom_classes": [],
            "_model_module": "@jupyter-widgets/controls",
            "_model_module_version": "1.5.0",
            "_model_name": "HTMLModel",
            "_view_count": null,
            "_view_module": "@jupyter-widgets/controls",
            "_view_module_version": "1.5.0",
            "_view_name": "HTMLView",
            "description": "",
            "description_tooltip": null,
            "layout": "IPY_MODEL_19782299be1e43d898418e458fdab55c",
            "placeholder": "​",
            "style": "IPY_MODEL_0a20ebf0f6d84a80a3cd596a7cb9e797",
            "value": " 50/50 [00:24&lt;00:00,  2.10it/s]"
          }
        },
        "8a1cbab1e39f443d8b7f6d61f69f334c": {
          "model_module": "@jupyter-widgets/base",
          "model_name": "LayoutModel",
          "model_module_version": "1.2.0",
          "state": {
            "_model_module": "@jupyter-widgets/base",
            "_model_module_version": "1.2.0",
            "_model_name": "LayoutModel",
            "_view_count": null,
            "_view_module": "@jupyter-widgets/base",
            "_view_module_version": "1.2.0",
            "_view_name": "LayoutView",
            "align_content": null,
            "align_items": null,
            "align_self": null,
            "border": null,
            "bottom": null,
            "display": null,
            "flex": null,
            "flex_flow": null,
            "grid_area": null,
            "grid_auto_columns": null,
            "grid_auto_flow": null,
            "grid_auto_rows": null,
            "grid_column": null,
            "grid_gap": null,
            "grid_row": null,
            "grid_template_areas": null,
            "grid_template_columns": null,
            "grid_template_rows": null,
            "height": null,
            "justify_content": null,
            "justify_items": null,
            "left": null,
            "margin": null,
            "max_height": null,
            "max_width": null,
            "min_height": null,
            "min_width": null,
            "object_fit": null,
            "object_position": null,
            "order": null,
            "overflow": null,
            "overflow_x": null,
            "overflow_y": null,
            "padding": null,
            "right": null,
            "top": null,
            "visibility": null,
            "width": null
          }
        },
        "3459a4e25a0740fcadf4346cea9522f3": {
          "model_module": "@jupyter-widgets/base",
          "model_name": "LayoutModel",
          "model_module_version": "1.2.0",
          "state": {
            "_model_module": "@jupyter-widgets/base",
            "_model_module_version": "1.2.0",
            "_model_name": "LayoutModel",
            "_view_count": null,
            "_view_module": "@jupyter-widgets/base",
            "_view_module_version": "1.2.0",
            "_view_name": "LayoutView",
            "align_content": null,
            "align_items": null,
            "align_self": null,
            "border": null,
            "bottom": null,
            "display": null,
            "flex": null,
            "flex_flow": null,
            "grid_area": null,
            "grid_auto_columns": null,
            "grid_auto_flow": null,
            "grid_auto_rows": null,
            "grid_column": null,
            "grid_gap": null,
            "grid_row": null,
            "grid_template_areas": null,
            "grid_template_columns": null,
            "grid_template_rows": null,
            "height": null,
            "justify_content": null,
            "justify_items": null,
            "left": null,
            "margin": null,
            "max_height": null,
            "max_width": null,
            "min_height": null,
            "min_width": null,
            "object_fit": null,
            "object_position": null,
            "order": null,
            "overflow": null,
            "overflow_x": null,
            "overflow_y": null,
            "padding": null,
            "right": null,
            "top": null,
            "visibility": null,
            "width": null
          }
        },
        "d1b38c24449d47f196c3507798fdd088": {
          "model_module": "@jupyter-widgets/controls",
          "model_name": "DescriptionStyleModel",
          "model_module_version": "1.5.0",
          "state": {
            "_model_module": "@jupyter-widgets/controls",
            "_model_module_version": "1.5.0",
            "_model_name": "DescriptionStyleModel",
            "_view_count": null,
            "_view_module": "@jupyter-widgets/base",
            "_view_module_version": "1.2.0",
            "_view_name": "StyleView",
            "description_width": ""
          }
        },
        "927e654636fb46b2b4d5ab1a0eb71c8b": {
          "model_module": "@jupyter-widgets/base",
          "model_name": "LayoutModel",
          "model_module_version": "1.2.0",
          "state": {
            "_model_module": "@jupyter-widgets/base",
            "_model_module_version": "1.2.0",
            "_model_name": "LayoutModel",
            "_view_count": null,
            "_view_module": "@jupyter-widgets/base",
            "_view_module_version": "1.2.0",
            "_view_name": "LayoutView",
            "align_content": null,
            "align_items": null,
            "align_self": null,
            "border": null,
            "bottom": null,
            "display": null,
            "flex": null,
            "flex_flow": null,
            "grid_area": null,
            "grid_auto_columns": null,
            "grid_auto_flow": null,
            "grid_auto_rows": null,
            "grid_column": null,
            "grid_gap": null,
            "grid_row": null,
            "grid_template_areas": null,
            "grid_template_columns": null,
            "grid_template_rows": null,
            "height": null,
            "justify_content": null,
            "justify_items": null,
            "left": null,
            "margin": null,
            "max_height": null,
            "max_width": null,
            "min_height": null,
            "min_width": null,
            "object_fit": null,
            "object_position": null,
            "order": null,
            "overflow": null,
            "overflow_x": null,
            "overflow_y": null,
            "padding": null,
            "right": null,
            "top": null,
            "visibility": null,
            "width": null
          }
        },
        "400d3deb94004417be18bda3e60c188b": {
          "model_module": "@jupyter-widgets/controls",
          "model_name": "ProgressStyleModel",
          "model_module_version": "1.5.0",
          "state": {
            "_model_module": "@jupyter-widgets/controls",
            "_model_module_version": "1.5.0",
            "_model_name": "ProgressStyleModel",
            "_view_count": null,
            "_view_module": "@jupyter-widgets/base",
            "_view_module_version": "1.2.0",
            "_view_name": "StyleView",
            "bar_color": null,
            "description_width": ""
          }
        },
        "19782299be1e43d898418e458fdab55c": {
          "model_module": "@jupyter-widgets/base",
          "model_name": "LayoutModel",
          "model_module_version": "1.2.0",
          "state": {
            "_model_module": "@jupyter-widgets/base",
            "_model_module_version": "1.2.0",
            "_model_name": "LayoutModel",
            "_view_count": null,
            "_view_module": "@jupyter-widgets/base",
            "_view_module_version": "1.2.0",
            "_view_name": "LayoutView",
            "align_content": null,
            "align_items": null,
            "align_self": null,
            "border": null,
            "bottom": null,
            "display": null,
            "flex": null,
            "flex_flow": null,
            "grid_area": null,
            "grid_auto_columns": null,
            "grid_auto_flow": null,
            "grid_auto_rows": null,
            "grid_column": null,
            "grid_gap": null,
            "grid_row": null,
            "grid_template_areas": null,
            "grid_template_columns": null,
            "grid_template_rows": null,
            "height": null,
            "justify_content": null,
            "justify_items": null,
            "left": null,
            "margin": null,
            "max_height": null,
            "max_width": null,
            "min_height": null,
            "min_width": null,
            "object_fit": null,
            "object_position": null,
            "order": null,
            "overflow": null,
            "overflow_x": null,
            "overflow_y": null,
            "padding": null,
            "right": null,
            "top": null,
            "visibility": null,
            "width": null
          }
        },
        "0a20ebf0f6d84a80a3cd596a7cb9e797": {
          "model_module": "@jupyter-widgets/controls",
          "model_name": "DescriptionStyleModel",
          "model_module_version": "1.5.0",
          "state": {
            "_model_module": "@jupyter-widgets/controls",
            "_model_module_version": "1.5.0",
            "_model_name": "DescriptionStyleModel",
            "_view_count": null,
            "_view_module": "@jupyter-widgets/base",
            "_view_module_version": "1.2.0",
            "_view_name": "StyleView",
            "description_width": ""
          }
        },
        "2bbcd83a3212491da6e801ee69ea8ae4": {
          "model_module": "@jupyter-widgets/controls",
          "model_name": "HBoxModel",
          "model_module_version": "1.5.0",
          "state": {
            "_dom_classes": [],
            "_model_module": "@jupyter-widgets/controls",
            "_model_module_version": "1.5.0",
            "_model_name": "HBoxModel",
            "_view_count": null,
            "_view_module": "@jupyter-widgets/controls",
            "_view_module_version": "1.5.0",
            "_view_name": "HBoxView",
            "box_style": "",
            "children": [
              "IPY_MODEL_3bc90eb7bd5249e28e83cf777c0d84ee",
              "IPY_MODEL_08a307b7a5c44eb384303f3c8889cc31",
              "IPY_MODEL_b7bbfbc28014471480d10fc85d94cb35"
            ],
            "layout": "IPY_MODEL_366db994d7984fa58086d4508fea5756"
          }
        },
        "3bc90eb7bd5249e28e83cf777c0d84ee": {
          "model_module": "@jupyter-widgets/controls",
          "model_name": "HTMLModel",
          "model_module_version": "1.5.0",
          "state": {
            "_dom_classes": [],
            "_model_module": "@jupyter-widgets/controls",
            "_model_module_version": "1.5.0",
            "_model_name": "HTMLModel",
            "_view_count": null,
            "_view_module": "@jupyter-widgets/controls",
            "_view_module_version": "1.5.0",
            "_view_name": "HTMLView",
            "description": "",
            "description_tooltip": null,
            "layout": "IPY_MODEL_191865ee7999421c883584e41331ca9f",
            "placeholder": "​",
            "style": "IPY_MODEL_88b5c7b1dc5247229a001e340a6c5f43",
            "value": "Sampling: 100%"
          }
        },
        "08a307b7a5c44eb384303f3c8889cc31": {
          "model_module": "@jupyter-widgets/controls",
          "model_name": "FloatProgressModel",
          "model_module_version": "1.5.0",
          "state": {
            "_dom_classes": [],
            "_model_module": "@jupyter-widgets/controls",
            "_model_module_version": "1.5.0",
            "_model_name": "FloatProgressModel",
            "_view_count": null,
            "_view_module": "@jupyter-widgets/controls",
            "_view_module_version": "1.5.0",
            "_view_name": "ProgressView",
            "bar_style": "success",
            "description": "",
            "description_tooltip": null,
            "layout": "IPY_MODEL_e2eadbd80a384037abd1e15b25bffe28",
            "max": 50,
            "min": 0,
            "orientation": "horizontal",
            "style": "IPY_MODEL_f7bf3763d81043f0b5c5a55af3d88691",
            "value": 50
          }
        },
        "b7bbfbc28014471480d10fc85d94cb35": {
          "model_module": "@jupyter-widgets/controls",
          "model_name": "HTMLModel",
          "model_module_version": "1.5.0",
          "state": {
            "_dom_classes": [],
            "_model_module": "@jupyter-widgets/controls",
            "_model_module_version": "1.5.0",
            "_model_name": "HTMLModel",
            "_view_count": null,
            "_view_module": "@jupyter-widgets/controls",
            "_view_module_version": "1.5.0",
            "_view_name": "HTMLView",
            "description": "",
            "description_tooltip": null,
            "layout": "IPY_MODEL_320a6c7c45f940f8b32afbdf970a40c6",
            "placeholder": "​",
            "style": "IPY_MODEL_4f93f3dcd77a44498a0201bd861a20ad",
            "value": " 50/50 [00:55&lt;00:00,  1.60s/it]"
          }
        },
        "366db994d7984fa58086d4508fea5756": {
          "model_module": "@jupyter-widgets/base",
          "model_name": "LayoutModel",
          "model_module_version": "1.2.0",
          "state": {
            "_model_module": "@jupyter-widgets/base",
            "_model_module_version": "1.2.0",
            "_model_name": "LayoutModel",
            "_view_count": null,
            "_view_module": "@jupyter-widgets/base",
            "_view_module_version": "1.2.0",
            "_view_name": "LayoutView",
            "align_content": null,
            "align_items": null,
            "align_self": null,
            "border": null,
            "bottom": null,
            "display": null,
            "flex": null,
            "flex_flow": null,
            "grid_area": null,
            "grid_auto_columns": null,
            "grid_auto_flow": null,
            "grid_auto_rows": null,
            "grid_column": null,
            "grid_gap": null,
            "grid_row": null,
            "grid_template_areas": null,
            "grid_template_columns": null,
            "grid_template_rows": null,
            "height": null,
            "justify_content": null,
            "justify_items": null,
            "left": null,
            "margin": null,
            "max_height": null,
            "max_width": null,
            "min_height": null,
            "min_width": null,
            "object_fit": null,
            "object_position": null,
            "order": null,
            "overflow": null,
            "overflow_x": null,
            "overflow_y": null,
            "padding": null,
            "right": null,
            "top": null,
            "visibility": null,
            "width": null
          }
        },
        "191865ee7999421c883584e41331ca9f": {
          "model_module": "@jupyter-widgets/base",
          "model_name": "LayoutModel",
          "model_module_version": "1.2.0",
          "state": {
            "_model_module": "@jupyter-widgets/base",
            "_model_module_version": "1.2.0",
            "_model_name": "LayoutModel",
            "_view_count": null,
            "_view_module": "@jupyter-widgets/base",
            "_view_module_version": "1.2.0",
            "_view_name": "LayoutView",
            "align_content": null,
            "align_items": null,
            "align_self": null,
            "border": null,
            "bottom": null,
            "display": null,
            "flex": null,
            "flex_flow": null,
            "grid_area": null,
            "grid_auto_columns": null,
            "grid_auto_flow": null,
            "grid_auto_rows": null,
            "grid_column": null,
            "grid_gap": null,
            "grid_row": null,
            "grid_template_areas": null,
            "grid_template_columns": null,
            "grid_template_rows": null,
            "height": null,
            "justify_content": null,
            "justify_items": null,
            "left": null,
            "margin": null,
            "max_height": null,
            "max_width": null,
            "min_height": null,
            "min_width": null,
            "object_fit": null,
            "object_position": null,
            "order": null,
            "overflow": null,
            "overflow_x": null,
            "overflow_y": null,
            "padding": null,
            "right": null,
            "top": null,
            "visibility": null,
            "width": null
          }
        },
        "88b5c7b1dc5247229a001e340a6c5f43": {
          "model_module": "@jupyter-widgets/controls",
          "model_name": "DescriptionStyleModel",
          "model_module_version": "1.5.0",
          "state": {
            "_model_module": "@jupyter-widgets/controls",
            "_model_module_version": "1.5.0",
            "_model_name": "DescriptionStyleModel",
            "_view_count": null,
            "_view_module": "@jupyter-widgets/base",
            "_view_module_version": "1.2.0",
            "_view_name": "StyleView",
            "description_width": ""
          }
        },
        "e2eadbd80a384037abd1e15b25bffe28": {
          "model_module": "@jupyter-widgets/base",
          "model_name": "LayoutModel",
          "model_module_version": "1.2.0",
          "state": {
            "_model_module": "@jupyter-widgets/base",
            "_model_module_version": "1.2.0",
            "_model_name": "LayoutModel",
            "_view_count": null,
            "_view_module": "@jupyter-widgets/base",
            "_view_module_version": "1.2.0",
            "_view_name": "LayoutView",
            "align_content": null,
            "align_items": null,
            "align_self": null,
            "border": null,
            "bottom": null,
            "display": null,
            "flex": null,
            "flex_flow": null,
            "grid_area": null,
            "grid_auto_columns": null,
            "grid_auto_flow": null,
            "grid_auto_rows": null,
            "grid_column": null,
            "grid_gap": null,
            "grid_row": null,
            "grid_template_areas": null,
            "grid_template_columns": null,
            "grid_template_rows": null,
            "height": null,
            "justify_content": null,
            "justify_items": null,
            "left": null,
            "margin": null,
            "max_height": null,
            "max_width": null,
            "min_height": null,
            "min_width": null,
            "object_fit": null,
            "object_position": null,
            "order": null,
            "overflow": null,
            "overflow_x": null,
            "overflow_y": null,
            "padding": null,
            "right": null,
            "top": null,
            "visibility": null,
            "width": null
          }
        },
        "f7bf3763d81043f0b5c5a55af3d88691": {
          "model_module": "@jupyter-widgets/controls",
          "model_name": "ProgressStyleModel",
          "model_module_version": "1.5.0",
          "state": {
            "_model_module": "@jupyter-widgets/controls",
            "_model_module_version": "1.5.0",
            "_model_name": "ProgressStyleModel",
            "_view_count": null,
            "_view_module": "@jupyter-widgets/base",
            "_view_module_version": "1.2.0",
            "_view_name": "StyleView",
            "bar_color": null,
            "description_width": ""
          }
        },
        "320a6c7c45f940f8b32afbdf970a40c6": {
          "model_module": "@jupyter-widgets/base",
          "model_name": "LayoutModel",
          "model_module_version": "1.2.0",
          "state": {
            "_model_module": "@jupyter-widgets/base",
            "_model_module_version": "1.2.0",
            "_model_name": "LayoutModel",
            "_view_count": null,
            "_view_module": "@jupyter-widgets/base",
            "_view_module_version": "1.2.0",
            "_view_name": "LayoutView",
            "align_content": null,
            "align_items": null,
            "align_self": null,
            "border": null,
            "bottom": null,
            "display": null,
            "flex": null,
            "flex_flow": null,
            "grid_area": null,
            "grid_auto_columns": null,
            "grid_auto_flow": null,
            "grid_auto_rows": null,
            "grid_column": null,
            "grid_gap": null,
            "grid_row": null,
            "grid_template_areas": null,
            "grid_template_columns": null,
            "grid_template_rows": null,
            "height": null,
            "justify_content": null,
            "justify_items": null,
            "left": null,
            "margin": null,
            "max_height": null,
            "max_width": null,
            "min_height": null,
            "min_width": null,
            "object_fit": null,
            "object_position": null,
            "order": null,
            "overflow": null,
            "overflow_x": null,
            "overflow_y": null,
            "padding": null,
            "right": null,
            "top": null,
            "visibility": null,
            "width": null
          }
        },
        "4f93f3dcd77a44498a0201bd861a20ad": {
          "model_module": "@jupyter-widgets/controls",
          "model_name": "DescriptionStyleModel",
          "model_module_version": "1.5.0",
          "state": {
            "_model_module": "@jupyter-widgets/controls",
            "_model_module_version": "1.5.0",
            "_model_name": "DescriptionStyleModel",
            "_view_count": null,
            "_view_module": "@jupyter-widgets/base",
            "_view_module_version": "1.2.0",
            "_view_name": "StyleView",
            "description_width": ""
          }
        }
      }
    }
  },
  "nbformat": 4,
  "nbformat_minor": 0
}