{
  "cells": [
    {
      "cell_type": "markdown",
      "metadata": {
        "id": "onOeCT_HbGMC"
      },
      "source": [
        "In its current form, you must run this notebook on a GPU. A T4 is sufficient. It's free\n",
        "on [Google\n",
        "Colab](https://stackoverflow.com/questions/62596466/how-can-i-run-notebooks-of-a-github-project-in-google-colab/67344477#67344477).\n",
        "You can technically run this notebook on a CPU (with minor adjustments), but then it'll\n",
        "take hours. We'll be running the model 1,500 times!\n",
        "\n",
        "**Description**: for a [4 GB 4-bit Llama 2 chat\n",
        "model](https://huggingface.co/TheBloke/Llama-2-7b-Chat-GGUF/blob/main/llama-2-7b-chat.Q4_0.gguf)\n",
        "and the [AG news](https://huggingface.co/datasets/ag_news) classification task, this\n",
        "notebook demonstrates that CAPPr gets you +5% absolute accuracy, though at some cost in runtime. Note that this dataset is kind of a strawman b/c it's probably trivial to solve w/ a handful of labeled examples. Still, I think it's useful as a benchmark.\n",
        "\n",
        "**Contamination notice**: I don't know whether Llama 2 was trained on any AG news data. If\n",
        "it was, but there's no interaction between the method (CAPPr vs text generation) and\n",
        "training, then the difference between performances can be studied.\n",
        "\n",
        "**Estimated run time**: ~20 min."
      ]
    },
    {
      "cell_type": "markdown",
      "metadata": {
        "id": "5H2cqyOvbGMT"
      },
      "source": [
        "[Install packages](#install-packages)\n",
        "\n",
        "[Download model](#download-model)\n",
        "\n",
        "[Utils](#utils)\n",
        "\n",
        "[Load data](#load-data)\n",
        "\n",
        "[Text generation](#text-generation)\n",
        "\n",
        "[Text generation (Multiple Choice)](#text-generation-multiple-choice)\n",
        "\n",
        "[CAPPr](#cappr)"
      ]
    },
    {
      "cell_type": "markdown",
      "metadata": {
        "id": "3edTvevkoCCR"
      },
      "source": [
        "# Install packages"
      ]
    },
    {
      "cell_type": "markdown",
      "metadata": {
        "id": "3_-mtmZuccEf"
      },
      "source": [
        "For CPU, just do\n",
        "\n",
        "```\n",
        "!pip install llama-cpp-python\n",
        "```"
      ]
    },
    {
      "cell_type": "markdown",
      "metadata": {
        "id": "4Heya6HkdJyE"
      },
      "source": [
        "For GPU (ty [this comment](https://github.com/ggerganov/llama.cpp/issues/128#issuecomment-1604696753)):"
      ]
    },
    {
      "cell_type": "code",
      "execution_count": null,
      "metadata": {
        "id": "KuyxVtifKFeS"
      },
      "outputs": [],
      "source": [
        "!CMAKE_ARGS=\"-DLLAMA_CUBLAS=on\" FORCE_CMAKE=1 pip install llama-cpp-python"
      ]
    },
    {
      "cell_type": "markdown",
      "metadata": {
        "id": "6H2ukkr1cy6Z"
      },
      "source": [
        "I'm gonna install `cappr` from source b/c sometimes I use this notebook to statistically\n",
        "gut check code changes.\n",
        "\n",
        "I'll also install the `demos` extras for NLP datasets.\n",
        "\n",
        "In your local env, you'd just do:\n",
        "\n",
        "```\n",
        "pip install \"cappr[llama-cpp]\"\n",
        "```"
      ]
    },
    {
      "cell_type": "code",
      "execution_count": null,
      "metadata": {
        "id": "NicJ2-6Hcump"
      },
      "outputs": [],
      "source": [
        "!pip install \"cappr[demos] @ git+https://github.com/kddubey/cappr.git\""
      ]
    },
    {
      "cell_type": "markdown",
      "metadata": {
        "id": "A22iSuqGVtr7"
      },
      "source": [
        "# Download model"
      ]
    },
    {
      "cell_type": "markdown",
      "metadata": {
        "id": "RTx6xWlXfVWN"
      },
      "source": [
        "The model is a [4 GB 4-bit Llama 2 chat\n",
        "model](https://huggingface.co/TheBloke/Llama-2-7b-Chat-GGUF/blob/main/llama-2-7b-chat.Q4_0.gguf) with 7B parameters."
      ]
    },
    {
      "cell_type": "code",
      "execution_count": 3,
      "metadata": {
        "colab": {
          "base_uri": "https://localhost:8080/"
        },
        "id": "fkMaqHovEo_1",
        "outputId": "715e6d53-e70b-4504-c58a-33c19b35b868"
      },
      "outputs": [
        {
          "output_type": "stream",
          "name": "stdout",
          "text": [
            "downloading https://huggingface.co/TheBloke/Llama-2-7b-Chat-GGUF/resolve/main/llama-2-7b-chat.Q4_0.gguf to /root/.cache/huggingface/hub/tmp_nm_psm3\n",
            "Downloading (…)-2-7b-chat.Q4_0.gguf: 100% 3.83G/3.83G [00:21<00:00, 177MB/s]\n",
            "Storing https://huggingface.co/TheBloke/Llama-2-7b-Chat-GGUF/resolve/main/llama-2-7b-chat.Q4_0.gguf in local_dir at ./llama-2-7b-chat.Q4_0.gguf (not cached).\n",
            "./llama-2-7b-chat.Q4_0.gguf\n"
          ]
        }
      ],
      "source": [
        "!huggingface-cli download TheBloke/Llama-2-7b-Chat-GGUF llama-2-7b-chat.Q4_0.gguf --local-dir . --local-dir-use-symlinks False"
      ]
    },
    {
      "cell_type": "code",
      "execution_count": 1,
      "metadata": {
        "id": "UC6fONZlV1XF"
      },
      "outputs": [],
      "source": [
        "model_path = \"./llama-2-7b-chat.Q4_0.gguf\""
      ]
    },
    {
      "cell_type": "code",
      "execution_count": 2,
      "metadata": {
        "id": "WNW0Cz1sbGMX"
      },
      "outputs": [],
      "source": [
        "from __future__ import annotations\n",
        "from string import ascii_uppercase as alphabet\n",
        "from typing import Collection, Sequence\n",
        "\n",
        "import datasets\n",
        "import pandas as pd\n",
        "from tqdm.auto import tqdm\n",
        "\n",
        "from llama_cpp import Llama\n",
        "\n",
        "from cappr.llama_cpp import classify"
      ]
    },
    {
      "cell_type": "code",
      "execution_count": 3,
      "metadata": {
        "colab": {
          "base_uri": "https://localhost:8080/"
        },
        "id": "xegEtmskckgp",
        "outputId": "cc4568de-b259-4f88-fc16-7997f467aacb"
      },
      "outputs": [
        {
          "output_type": "execute_result",
          "data": {
            "text/plain": [
              "-1"
            ]
          },
          "metadata": {},
          "execution_count": 3
        }
      ],
      "source": [
        "import torch\n",
        "n_gpu_layers = -1 if torch.cuda.is_available() else 0\n",
        "n_gpu_layers"
      ]
    },
    {
      "cell_type": "code",
      "execution_count": 4,
      "metadata": {
        "colab": {
          "base_uri": "https://localhost:8080/"
        },
        "id": "q-JyALQPE-c1",
        "outputId": "d7d5c476-7dc0-4cff-adc2-dec3af4c14c0"
      },
      "outputs": [
        {
          "output_type": "stream",
          "name": "stderr",
          "text": [
            "AVX = 1 | AVX2 = 1 | AVX512 = 0 | AVX512_VBMI = 0 | AVX512_VNNI = 0 | FMA = 1 | NEON = 0 | ARM_FMA = 0 | F16C = 1 | FP16_VA = 0 | WASM_SIMD = 0 | BLAS = 1 | SSE3 = 1 | SSSE3 = 1 | VSX = 0 | \n"
          ]
        }
      ],
      "source": [
        "model = Llama(model_path=model_path, logits_all=True, n_gpu_layers=n_gpu_layers)"
      ]
    },
    {
      "cell_type": "markdown",
      "metadata": {
        "id": "OcCXl84vbGMd"
      },
      "source": [
        "# Load data"
      ]
    },
    {
      "cell_type": "code",
      "execution_count": 5,
      "metadata": {
        "id": "NDauFakI6E9n"
      },
      "outputs": [],
      "source": [
        "DATASET_NAME = \"ag_news\""
      ]
    },
    {
      "cell_type": "code",
      "execution_count": 6,
      "metadata": {
        "id": "0WayD0g5bGMj"
      },
      "outputs": [],
      "source": [
        "_df = pd.DataFrame(datasets.load_dataset(DATASET_NAME, split=\"train\"))"
      ]
    },
    {
      "cell_type": "code",
      "execution_count": 7,
      "metadata": {
        "colab": {
          "base_uri": "https://localhost:8080/",
          "height": 206
        },
        "id": "775AXSrh6E9o",
        "outputId": "9044170a-9545-48f6-da02-66a4f4bd007f"
      },
      "outputs": [
        {
          "output_type": "execute_result",
          "data": {
            "text/plain": [
              "                                                text  label\n",
              "0  Wall St. Bears Claw Back Into the Black (Reute...      2\n",
              "1  Carlyle Looks Toward Commercial Aerospace (Reu...      2\n",
              "2  Oil and Economy Cloud Stocks' Outlook (Reuters...      2\n",
              "3  Iraq Halts Oil Exports from Main Southern Pipe...      2\n",
              "4  Oil prices soar to all-time record, posing new...      2"
            ],
            "text/html": [
              "\n",
              "  <div id=\"df-8b8121a3-df94-4c88-b161-b8f1ae578598\" class=\"colab-df-container\">\n",
              "    <div>\n",
              "<style scoped>\n",
              "    .dataframe tbody tr th:only-of-type {\n",
              "        vertical-align: middle;\n",
              "    }\n",
              "\n",
              "    .dataframe tbody tr th {\n",
              "        vertical-align: top;\n",
              "    }\n",
              "\n",
              "    .dataframe thead th {\n",
              "        text-align: right;\n",
              "    }\n",
              "</style>\n",
              "<table border=\"1\" class=\"dataframe\">\n",
              "  <thead>\n",
              "    <tr style=\"text-align: right;\">\n",
              "      <th></th>\n",
              "      <th>text</th>\n",
              "      <th>label</th>\n",
              "    </tr>\n",
              "  </thead>\n",
              "  <tbody>\n",
              "    <tr>\n",
              "      <th>0</th>\n",
              "      <td>Wall St. Bears Claw Back Into the Black (Reute...</td>\n",
              "      <td>2</td>\n",
              "    </tr>\n",
              "    <tr>\n",
              "      <th>1</th>\n",
              "      <td>Carlyle Looks Toward Commercial Aerospace (Reu...</td>\n",
              "      <td>2</td>\n",
              "    </tr>\n",
              "    <tr>\n",
              "      <th>2</th>\n",
              "      <td>Oil and Economy Cloud Stocks' Outlook (Reuters...</td>\n",
              "      <td>2</td>\n",
              "    </tr>\n",
              "    <tr>\n",
              "      <th>3</th>\n",
              "      <td>Iraq Halts Oil Exports from Main Southern Pipe...</td>\n",
              "      <td>2</td>\n",
              "    </tr>\n",
              "    <tr>\n",
              "      <th>4</th>\n",
              "      <td>Oil prices soar to all-time record, posing new...</td>\n",
              "      <td>2</td>\n",
              "    </tr>\n",
              "  </tbody>\n",
              "</table>\n",
              "</div>\n",
              "    <div class=\"colab-df-buttons\">\n",
              "\n",
              "  <div class=\"colab-df-container\">\n",
              "    <button class=\"colab-df-convert\" onclick=\"convertToInteractive('df-8b8121a3-df94-4c88-b161-b8f1ae578598')\"\n",
              "            title=\"Convert this dataframe to an interactive table.\"\n",
              "            style=\"display:none;\">\n",
              "\n",
              "  <svg xmlns=\"http://www.w3.org/2000/svg\" height=\"24px\" viewBox=\"0 -960 960 960\">\n",
              "    <path d=\"M120-120v-720h720v720H120Zm60-500h600v-160H180v160Zm220 220h160v-160H400v160Zm0 220h160v-160H400v160ZM180-400h160v-160H180v160Zm440 0h160v-160H620v160ZM180-180h160v-160H180v160Zm440 0h160v-160H620v160Z\"/>\n",
              "  </svg>\n",
              "    </button>\n",
              "\n",
              "  <style>\n",
              "    .colab-df-container {\n",
              "      display:flex;\n",
              "      gap: 12px;\n",
              "    }\n",
              "\n",
              "    .colab-df-convert {\n",
              "      background-color: #E8F0FE;\n",
              "      border: none;\n",
              "      border-radius: 50%;\n",
              "      cursor: pointer;\n",
              "      display: none;\n",
              "      fill: #1967D2;\n",
              "      height: 32px;\n",
              "      padding: 0 0 0 0;\n",
              "      width: 32px;\n",
              "    }\n",
              "\n",
              "    .colab-df-convert:hover {\n",
              "      background-color: #E2EBFA;\n",
              "      box-shadow: 0px 1px 2px rgba(60, 64, 67, 0.3), 0px 1px 3px 1px rgba(60, 64, 67, 0.15);\n",
              "      fill: #174EA6;\n",
              "    }\n",
              "\n",
              "    .colab-df-buttons div {\n",
              "      margin-bottom: 4px;\n",
              "    }\n",
              "\n",
              "    [theme=dark] .colab-df-convert {\n",
              "      background-color: #3B4455;\n",
              "      fill: #D2E3FC;\n",
              "    }\n",
              "\n",
              "    [theme=dark] .colab-df-convert:hover {\n",
              "      background-color: #434B5C;\n",
              "      box-shadow: 0px 1px 3px 1px rgba(0, 0, 0, 0.15);\n",
              "      filter: drop-shadow(0px 1px 2px rgba(0, 0, 0, 0.3));\n",
              "      fill: #FFFFFF;\n",
              "    }\n",
              "  </style>\n",
              "\n",
              "    <script>\n",
              "      const buttonEl =\n",
              "        document.querySelector('#df-8b8121a3-df94-4c88-b161-b8f1ae578598 button.colab-df-convert');\n",
              "      buttonEl.style.display =\n",
              "        google.colab.kernel.accessAllowed ? 'block' : 'none';\n",
              "\n",
              "      async function convertToInteractive(key) {\n",
              "        const element = document.querySelector('#df-8b8121a3-df94-4c88-b161-b8f1ae578598');\n",
              "        const dataTable =\n",
              "          await google.colab.kernel.invokeFunction('convertToInteractive',\n",
              "                                                    [key], {});\n",
              "        if (!dataTable) return;\n",
              "\n",
              "        const docLinkHtml = 'Like what you see? Visit the ' +\n",
              "          '<a target=\"_blank\" href=https://colab.research.google.com/notebooks/data_table.ipynb>data table notebook</a>'\n",
              "          + ' to learn more about interactive tables.';\n",
              "        element.innerHTML = '';\n",
              "        dataTable['output_type'] = 'display_data';\n",
              "        await google.colab.output.renderOutput(dataTable, element);\n",
              "        const docLink = document.createElement('div');\n",
              "        docLink.innerHTML = docLinkHtml;\n",
              "        element.appendChild(docLink);\n",
              "      }\n",
              "    </script>\n",
              "  </div>\n",
              "\n",
              "\n",
              "<div id=\"df-c785e871-2953-40fb-87de-ba07adfc7162\">\n",
              "  <button class=\"colab-df-quickchart\" onclick=\"quickchart('df-c785e871-2953-40fb-87de-ba07adfc7162')\"\n",
              "            title=\"Suggest charts.\"\n",
              "            style=\"display:none;\">\n",
              "\n",
              "<svg xmlns=\"http://www.w3.org/2000/svg\" height=\"24px\"viewBox=\"0 0 24 24\"\n",
              "     width=\"24px\">\n",
              "    <g>\n",
              "        <path d=\"M19 3H5c-1.1 0-2 .9-2 2v14c0 1.1.9 2 2 2h14c1.1 0 2-.9 2-2V5c0-1.1-.9-2-2-2zM9 17H7v-7h2v7zm4 0h-2V7h2v10zm4 0h-2v-4h2v4z\"/>\n",
              "    </g>\n",
              "</svg>\n",
              "  </button>\n",
              "\n",
              "<style>\n",
              "  .colab-df-quickchart {\n",
              "      --bg-color: #E8F0FE;\n",
              "      --fill-color: #1967D2;\n",
              "      --hover-bg-color: #E2EBFA;\n",
              "      --hover-fill-color: #174EA6;\n",
              "      --disabled-fill-color: #AAA;\n",
              "      --disabled-bg-color: #DDD;\n",
              "  }\n",
              "\n",
              "  [theme=dark] .colab-df-quickchart {\n",
              "      --bg-color: #3B4455;\n",
              "      --fill-color: #D2E3FC;\n",
              "      --hover-bg-color: #434B5C;\n",
              "      --hover-fill-color: #FFFFFF;\n",
              "      --disabled-bg-color: #3B4455;\n",
              "      --disabled-fill-color: #666;\n",
              "  }\n",
              "\n",
              "  .colab-df-quickchart {\n",
              "    background-color: var(--bg-color);\n",
              "    border: none;\n",
              "    border-radius: 50%;\n",
              "    cursor: pointer;\n",
              "    display: none;\n",
              "    fill: var(--fill-color);\n",
              "    height: 32px;\n",
              "    padding: 0;\n",
              "    width: 32px;\n",
              "  }\n",
              "\n",
              "  .colab-df-quickchart:hover {\n",
              "    background-color: var(--hover-bg-color);\n",
              "    box-shadow: 0 1px 2px rgba(60, 64, 67, 0.3), 0 1px 3px 1px rgba(60, 64, 67, 0.15);\n",
              "    fill: var(--button-hover-fill-color);\n",
              "  }\n",
              "\n",
              "  .colab-df-quickchart-complete:disabled,\n",
              "  .colab-df-quickchart-complete:disabled:hover {\n",
              "    background-color: var(--disabled-bg-color);\n",
              "    fill: var(--disabled-fill-color);\n",
              "    box-shadow: none;\n",
              "  }\n",
              "\n",
              "  .colab-df-spinner {\n",
              "    border: 2px solid var(--fill-color);\n",
              "    border-color: transparent;\n",
              "    border-bottom-color: var(--fill-color);\n",
              "    animation:\n",
              "      spin 1s steps(1) infinite;\n",
              "  }\n",
              "\n",
              "  @keyframes spin {\n",
              "    0% {\n",
              "      border-color: transparent;\n",
              "      border-bottom-color: var(--fill-color);\n",
              "      border-left-color: var(--fill-color);\n",
              "    }\n",
              "    20% {\n",
              "      border-color: transparent;\n",
              "      border-left-color: var(--fill-color);\n",
              "      border-top-color: var(--fill-color);\n",
              "    }\n",
              "    30% {\n",
              "      border-color: transparent;\n",
              "      border-left-color: var(--fill-color);\n",
              "      border-top-color: var(--fill-color);\n",
              "      border-right-color: var(--fill-color);\n",
              "    }\n",
              "    40% {\n",
              "      border-color: transparent;\n",
              "      border-right-color: var(--fill-color);\n",
              "      border-top-color: var(--fill-color);\n",
              "    }\n",
              "    60% {\n",
              "      border-color: transparent;\n",
              "      border-right-color: var(--fill-color);\n",
              "    }\n",
              "    80% {\n",
              "      border-color: transparent;\n",
              "      border-right-color: var(--fill-color);\n",
              "      border-bottom-color: var(--fill-color);\n",
              "    }\n",
              "    90% {\n",
              "      border-color: transparent;\n",
              "      border-bottom-color: var(--fill-color);\n",
              "    }\n",
              "  }\n",
              "</style>\n",
              "\n",
              "  <script>\n",
              "    async function quickchart(key) {\n",
              "      const quickchartButtonEl =\n",
              "        document.querySelector('#' + key + ' button');\n",
              "      quickchartButtonEl.disabled = true;  // To prevent multiple clicks.\n",
              "      quickchartButtonEl.classList.add('colab-df-spinner');\n",
              "      try {\n",
              "        const charts = await google.colab.kernel.invokeFunction(\n",
              "            'suggestCharts', [key], {});\n",
              "      } catch (error) {\n",
              "        console.error('Error during call to suggestCharts:', error);\n",
              "      }\n",
              "      quickchartButtonEl.classList.remove('colab-df-spinner');\n",
              "      quickchartButtonEl.classList.add('colab-df-quickchart-complete');\n",
              "    }\n",
              "    (() => {\n",
              "      let quickchartButtonEl =\n",
              "        document.querySelector('#df-c785e871-2953-40fb-87de-ba07adfc7162 button');\n",
              "      quickchartButtonEl.style.display =\n",
              "        google.colab.kernel.accessAllowed ? 'block' : 'none';\n",
              "    })();\n",
              "  </script>\n",
              "</div>\n",
              "    </div>\n",
              "  </div>\n"
            ]
          },
          "metadata": {},
          "execution_count": 7
        }
      ],
      "source": [
        "_df.head()"
      ]
    },
    {
      "cell_type": "markdown",
      "metadata": {
        "id": "NAO-IYK46E9o"
      },
      "source": [
        "Ensure your dataframe passes these checks"
      ]
    },
    {
      "cell_type": "code",
      "execution_count": 8,
      "metadata": {
        "id": "WbqzhUx_6E9o"
      },
      "outputs": [],
      "source": [
        "assert len(set(_df.index)) == len(_df)\n",
        "assert \"text\" in _df.columns\n",
        "assert \"label\" in _df.columns"
      ]
    },
    {
      "cell_type": "code",
      "execution_count": 9,
      "metadata": {
        "id": "TuF8Wpf66E9p"
      },
      "outputs": [],
      "source": [
        "_df[\"text\"] = _df[\"text\"].astype(str)\n",
        "_df[\"label\"] = _df[\"label\"].astype(int)"
      ]
    },
    {
      "cell_type": "code",
      "execution_count": 10,
      "metadata": {
        "colab": {
          "base_uri": "https://localhost:8080/"
        },
        "id": "AlOIxn66bGMm",
        "outputId": "7122e5c1-f182-4b14-a74e-013461b507fe"
      },
      "outputs": [
        {
          "output_type": "execute_result",
          "data": {
            "text/plain": [
              "120000"
            ]
          },
          "metadata": {},
          "execution_count": 10
        }
      ],
      "source": [
        "len(_df)"
      ]
    },
    {
      "cell_type": "markdown",
      "source": [
        "We don't need that much data to compare methods. We'll (stratify) sample a couple hundred of them."
      ],
      "metadata": {
        "id": "V7-ldgr0EJQb"
      }
    },
    {
      "cell_type": "code",
      "execution_count": 11,
      "metadata": {
        "colab": {
          "base_uri": "https://localhost:8080/"
        },
        "id": "8UYnBCHtbGNH",
        "outputId": "4a589864-7d98-47dd-94ba-2d8e9bb9d720"
      },
      "outputs": [
        {
          "output_type": "execute_result",
          "data": {
            "text/plain": [
              "0    0.25\n",
              "1    0.25\n",
              "2    0.25\n",
              "3    0.25\n",
              "Name: label, dtype: float64"
            ]
          },
          "metadata": {},
          "execution_count": 11
        }
      ],
      "source": [
        "_df[\"label\"].value_counts(normalize=True).sort_index()"
      ]
    },
    {
      "cell_type": "markdown",
      "metadata": {
        "id": "d7YkpFoz6E9r"
      },
      "source": [
        "Is the default context, 512, sufficient? Let's see how many characters (not tokens)\n",
        "there are in this dataset."
      ]
    },
    {
      "cell_type": "code",
      "execution_count": 12,
      "metadata": {
        "colab": {
          "base_uri": "https://localhost:8080/"
        },
        "id": "LyMUcrlH6E9r",
        "outputId": "e119801f-d95b-4e6b-b57a-af59ecf88546"
      },
      "outputs": [
        {
          "output_type": "execute_result",
          "data": {
            "text/plain": [
              "count    120000.000000\n",
              "mean        236.477525\n",
              "std          66.509741\n",
              "min         100.000000\n",
              "25%         196.000000\n",
              "50%         232.000000\n",
              "75%         266.000000\n",
              "max        1012.000000\n",
              "Name: text, dtype: float64"
            ]
          },
          "metadata": {},
          "execution_count": 12
        }
      ],
      "source": [
        "_df[\"text\"].str.len().describe()"
      ]
    },
    {
      "cell_type": "code",
      "execution_count": 13,
      "metadata": {
        "id": "O0je-oIO6E9r"
      },
      "outputs": [],
      "source": [
        "def stratified_sample(\n",
        "    df: pd.DataFrame, sample_size: int, random_state: int = None\n",
        ") -> pd.DataFrame:\n",
        "    # let's not worry about not exactly returning a df w/ size sample_size for\n",
        "    # now. it's nbd for this experiment\n",
        "    num_labels = len(set(df[\"label\"]))\n",
        "    num_obs_per_label = int(sample_size / num_labels)\n",
        "\n",
        "    def label_sampler(df_label: pd.DataFrame) -> pd.DataFrame:\n",
        "        return df_label.sample(num_obs_per_label, random_state=random_state)\n",
        "\n",
        "    return df.groupby(\"label\", group_keys=False).apply(label_sampler)"
      ]
    },
    {
      "cell_type": "code",
      "source": [
        "sample_size = 500\n",
        "random_state = 3459"
      ],
      "metadata": {
        "id": "7sPJENiKBQVt"
      },
      "execution_count": 14,
      "outputs": []
    },
    {
      "cell_type": "code",
      "execution_count": 15,
      "metadata": {
        "id": "fE5MwarY6E9r"
      },
      "outputs": [],
      "source": [
        "df = stratified_sample(_df, sample_size=sample_size, random_state=random_state)"
      ]
    },
    {
      "cell_type": "code",
      "source": [
        "df[\"label\"].value_counts(normalize=True).sort_index()"
      ],
      "metadata": {
        "colab": {
          "base_uri": "https://localhost:8080/"
        },
        "id": "SZAyTEO_DsYB",
        "outputId": "1083b844-9871-46e7-e293-70cec96526a2"
      },
      "execution_count": 16,
      "outputs": [
        {
          "output_type": "execute_result",
          "data": {
            "text/plain": [
              "0    0.25\n",
              "1    0.25\n",
              "2    0.25\n",
              "3    0.25\n",
              "Name: label, dtype: float64"
            ]
          },
          "metadata": {},
          "execution_count": 16
        }
      ]
    },
    {
      "cell_type": "code",
      "source": [
        "news_categories = (\"world\", \"sports\", \"business\", \"science\")"
      ],
      "metadata": {
        "id": "jsnZuCft-XNH"
      },
      "execution_count": 17,
      "outputs": []
    },
    {
      "cell_type": "code",
      "source": [
        "llama_chat_template = \"\"\"\n",
        "<s>[INST] <<SYS>>\n",
        "{system_prompt}\n",
        "<</SYS>>\n",
        "\n",
        "{user_message} [/INST]\n",
        "\"\"\".lstrip(\n",
        "    \"\\n\"\n",
        ")"
      ],
      "metadata": {
        "id": "tPePXRDPBctp"
      },
      "execution_count": 18,
      "outputs": []
    },
    {
      "cell_type": "markdown",
      "metadata": {
        "id": "qgNUWO0ZbGNv"
      },
      "source": [
        "# Text generation"
      ]
    },
    {
      "cell_type": "code",
      "execution_count": 19,
      "metadata": {
        "colab": {
          "base_uri": "https://localhost:8080/"
        },
        "id": "7RUrWpZNbGN1",
        "outputId": "1fc7c4e5-825a-4b72-edc1-27b2d028b434"
      },
      "outputs": [
        {
          "output_type": "stream",
          "name": "stdout",
          "text": [
            "<s>[INST] <<SYS>>\n",
            "Identify the news topic which the text belongs to. The news topics are: world, sports, business, and science. Respond only with the correct topic.\n",
            "<</SYS>>\n",
            "\n",
            "The following text was taken from a news article:\n",
            "\"Strong Quake Hits Japan's Hokkaido, 11 Hurt (Reuters) Reuters - A strong earthquake with a preliminary\\magnitude of 7.1 hit a wide area of Japan's northernmost main\\island of Hokkaido early on Monday, the Japan Meteorological\\Agency said.\"\n",
            "\n",
            "Identify the topic which the text belongs to. [/INST]\n",
            "\n"
          ]
        }
      ],
      "source": [
        "def prompt_chat(text: str):\n",
        "    return (\n",
        "        f'The following text was taken from a news article:\\n\"{text}\"\\n\\n'\n",
        "        \"Identify the topic which the text belongs to.\"\n",
        "    )\n",
        "\n",
        "system_prompt_chat = (\n",
        "    \"Identify the news topic which the text belongs to. The news topics are: \"\n",
        "    \"world, sports, business, and science. \"\n",
        "    \"Respond only with the correct topic.\"\n",
        ")\n",
        "\n",
        "df[\"prompt_chat\"] = [\n",
        "    llama_chat_template.format(\n",
        "        system_prompt=system_prompt_chat,\n",
        "        user_message=prompt_chat(text)\n",
        "    )\n",
        "    for text in df[\"text\"]\n",
        "]\n",
        "\n",
        "print(df[\"prompt_chat\"].iloc[0])"
      ]
    },
    {
      "cell_type": "markdown",
      "metadata": {
        "id": "_OaEEYAbrVf7"
      },
      "source": [
        "Generate completions"
      ]
    },
    {
      "cell_type": "code",
      "execution_count": null,
      "metadata": {
        "id": "V1J5uu1wjGsH"
      },
      "outputs": [],
      "source": [
        "completions = []\n",
        "for _prompt in tqdm(df[\"prompt_chat\"], total=len(df), desc=\"Sampling\"):\n",
        "    response = model(_prompt, max_tokens=20, temperature=0)\n",
        "    completion = response['choices'][0]['text']\n",
        "    completions.append(completion)"
      ]
    },
    {
      "cell_type": "markdown",
      "source": [
        "Inspect completions"
      ],
      "metadata": {
        "id": "EUziWyvGISQj"
      }
    },
    {
      "cell_type": "code",
      "execution_count": 21,
      "metadata": {
        "colab": {
          "base_uri": "https://localhost:8080/"
        },
        "id": "oMtKqqdPlggb",
        "outputId": "76c7ba0c-a0e6-43a5-e394-aa1e991cf590"
      },
      "outputs": [
        {
          "output_type": "execute_result",
          "data": {
            "text/plain": [
              "17          The text belongs to the \"world\" topic.\n",
              "108                                          World\n",
              "273                                       Business\n",
              "215          The text belongs to the sports topic.\n",
              "32                                           World\n",
              "56     The text belongs to the \"world\" news topic.\n",
              "42     The text belongs to the \"world\" news topic.\n",
              "275                                       Business\n",
              "471                                       Business\n",
              "281                                       Business\n",
              "dtype: object"
            ]
          },
          "metadata": {},
          "execution_count": 21
        }
      ],
      "source": [
        "pd.Series(completions).sample(10)"
      ]
    },
    {
      "cell_type": "markdown",
      "metadata": {
        "id": "izyq3REq7w84"
      },
      "source": [
        "When you're doing text generation, you often have to write this sort of data-dependent and model-dependent function. For this prompt and the AG news task, it's pretty trivial."
      ]
    },
    {
      "cell_type": "code",
      "execution_count": 22,
      "metadata": {
        "id": "NR4DkFgm4KhJ"
      },
      "outputs": [],
      "source": [
        "def process_completion(\n",
        "    completion: str,\n",
        "    class_names: Sequence[str],\n",
        "    default=-1,\n",
        ") -> int:\n",
        "    for i, name in enumerate(class_names):\n",
        "        if name in completion.lower():\n",
        "            return i\n",
        "    return default"
      ]
    },
    {
      "cell_type": "code",
      "execution_count": 23,
      "metadata": {
        "id": "9UnausK74XjN"
      },
      "outputs": [],
      "source": [
        "pred_classes_text_gen = [\n",
        "    process_completion(completion, news_categories)\n",
        "    for completion in completions\n",
        "]"
      ]
    },
    {
      "cell_type": "markdown",
      "metadata": {
        "id": "SA-Mxvf841lv"
      },
      "source": [
        "How many of the completions could be mapped to a label?"
      ]
    },
    {
      "cell_type": "code",
      "execution_count": 24,
      "metadata": {
        "colab": {
          "base_uri": "https://localhost:8080/"
        },
        "id": "Sua4kuar4bAJ",
        "outputId": "25fc90c3-bf90-45fd-8df8-42172db28790"
      },
      "outputs": [
        {
          "output_type": "execute_result",
          "data": {
            "text/plain": [
              "0.982"
            ]
          },
          "metadata": {},
          "execution_count": 24
        }
      ],
      "source": [
        "(pd.Series(pred_classes_text_gen) != -1).mean()"
      ]
    },
    {
      "cell_type": "markdown",
      "source": [
        "What do invalid completions look like?"
      ],
      "metadata": {
        "id": "N9SYb7poB1xt"
      }
    },
    {
      "cell_type": "code",
      "source": [
        "pd.Series(completions)[(pd.Series(pred_classes_text_gen) == -1)]"
      ],
      "metadata": {
        "colab": {
          "base_uri": "https://localhost:8080/"
        },
        "id": "vBST78rwB3Mj",
        "outputId": "b67275a0-007d-4e49-b8a5-6fbee53720b2"
      },
      "execution_count": 25,
      "outputs": [
        {
          "output_type": "execute_result",
          "data": {
            "text/plain": [
              "29     The text belongs to the \"Politics\" or \"Governm...\n",
              "46     The text belongs to the \"Politics\" or \"Governm...\n",
              "86       The text belongs to the \"law\" or \"legal\" topic.\n",
              "92     The text belongs to the \"Politics\" or \"Governm...\n",
              "107    The text belongs to the \"Politics\" or \"Governm...\n",
              "270    The text belongs to the \"Politics\" or \"Governm...\n",
              "396    The text belongs to the \"health\" or \"medical\" ...\n",
              "467    The text belongs to the topic of \"Technology\" ...\n",
              "472              The text belongs to the \"Health\" topic.\n",
              "dtype: object"
            ]
          },
          "metadata": {},
          "execution_count": 25
        }
      ]
    },
    {
      "cell_type": "markdown",
      "source": [
        "Hmm methinks that it's not fair to figure out how to map these to an existing news category, because the mapping function is dependent on the *observed* mistakes."
      ],
      "metadata": {
        "id": "7oJHEEg2HT-K"
      }
    },
    {
      "cell_type": "markdown",
      "metadata": {
        "id": "HwBK97kYAuqi"
      },
      "source": [
        "How accurate are the predictions?"
      ]
    },
    {
      "cell_type": "code",
      "execution_count": 26,
      "metadata": {
        "colab": {
          "base_uri": "https://localhost:8080/"
        },
        "id": "zsMAayo04gWC",
        "outputId": "5e9361ed-cb41-4a9c-f37d-100514205885"
      },
      "outputs": [
        {
          "output_type": "execute_result",
          "data": {
            "text/plain": [
              "0.704"
            ]
          },
          "metadata": {},
          "execution_count": 26
        }
      ],
      "source": [
        "(pred_classes_text_gen == df['label']).mean()"
      ]
    },
    {
      "cell_type": "markdown",
      "source": [
        "# Text generation (Multiple Choice)"
      ],
      "metadata": {
        "id": "oBi3m4QnAIG0"
      }
    },
    {
      "cell_type": "markdown",
      "source": [
        "A strawman is to use multiple choice. This prompt is the best I could do, which is rather disappointing."
      ],
      "metadata": {
        "id": "7hl-KVY1Hneg"
      }
    },
    {
      "cell_type": "code",
      "source": [
        "def multiple_choice(*choices) -> str:\n",
        "    if len(choices) > len(alphabet):\n",
        "        raise ValueError(\"There are more choices than letters.\")\n",
        "    letters_and_choices = [\n",
        "        f\"{letter}. {choice}\" for letter, choice in zip(alphabet, choices)\n",
        "    ]\n",
        "    return \"\\n\".join(letters_and_choices)\n",
        "\n",
        "\n",
        "def prompt_mc(text: str):\n",
        "    mc = multiple_choice(*news_categories)\n",
        "    return (\n",
        "        f'The following text was taken from a news article:\\n\"{text}\"\\n\\n'\n",
        "        \"Identify the news topic which the text belongs to:\\n\"\n",
        "        f\"{mc}\\n\\n\"\n",
        "        \"Answer A, B, C, or D.\"\n",
        "    )\n",
        "\n",
        "system_prompt_mc = (\n",
        "    \"Identify the news topic which the text belongs to. The news categories are: \"\n",
        "    \"world, sports, business, and science. Each topic is identified by a letter: \"\n",
        "    \"A, B, C, or D, respectively.\\n\"\n",
        "    \"Respond only with the letter corresponding to the correct news topic.\"\n",
        ")\n",
        "\n",
        "df[\"prompt_chat_mc\"] = [\n",
        "    llama_chat_template.format(\n",
        "        system_prompt=system_prompt_mc,\n",
        "        user_message=prompt_mc(text),\n",
        "    )\n",
        "    for text in df[\"text\"]\n",
        "]\n",
        "\n",
        "print(df[\"prompt_chat_mc\"].iloc[0])"
      ],
      "metadata": {
        "colab": {
          "base_uri": "https://localhost:8080/"
        },
        "id": "y9bJ5KEeAJq6",
        "outputId": "22937b1e-f587-42a4-a22f-eb3064b7926b"
      },
      "execution_count": 27,
      "outputs": [
        {
          "output_type": "stream",
          "name": "stdout",
          "text": [
            "<s>[INST] <<SYS>>\n",
            "Identify the news topic which the text belongs to. The news categories are: world, sports, business, and science. Each topic is identified by a letter: A, B, C, or D, respectively.\n",
            "Respond only with the letter corresponding to the correct news topic.\n",
            "<</SYS>>\n",
            "\n",
            "The following text was taken from a news article:\n",
            "\"Strong Quake Hits Japan's Hokkaido, 11 Hurt (Reuters) Reuters - A strong earthquake with a preliminary\\magnitude of 7.1 hit a wide area of Japan's northernmost main\\island of Hokkaido early on Monday, the Japan Meteorological\\Agency said.\"\n",
            "\n",
            "Identify the news topic which the text belongs to:\n",
            "A. world\n",
            "B. sports\n",
            "C. business\n",
            "D. science\n",
            "\n",
            "Answer A, B, C, or D. [/INST]\n",
            "\n"
          ]
        }
      ]
    },
    {
      "cell_type": "code",
      "source": [
        "completions_mc = []\n",
        "for _prompt in tqdm(df[\"prompt_chat_mc\"], total=len(df), desc=\"Sampling\"):\n",
        "    response = model(_prompt, max_tokens=15, temperature=0)\n",
        "    completion_mc = response['choices'][0]['text']\n",
        "    completions_mc.append(completion_mc)"
      ],
      "metadata": {
        "id": "hhRduSRIBGLD"
      },
      "execution_count": null,
      "outputs": []
    },
    {
      "cell_type": "code",
      "source": [
        "pd.Series(completions_mc).sample(10)"
      ],
      "metadata": {
        "colab": {
          "base_uri": "https://localhost:8080/"
        },
        "id": "tX_tUWpVJuah",
        "outputId": "77258b5a-c5e2-42cc-e829-e99ef4b9f39d"
      },
      "execution_count": 29,
      "outputs": [
        {
          "output_type": "execute_result",
          "data": {
            "text/plain": [
              "448    The text belongs to the news topic of \"science...\n",
              "420    The text belongs to the news topic of \"D. scie...\n",
              "183    The text belongs to the news topic of \"sports\"...\n",
              "177    The text belongs to the news topic of \"sports\"...\n",
              "92     The text belongs to the news topic of \"D. scie...\n",
              "199    The text belongs to the news topic of \"world\",...\n",
              "163    The text belongs to the news topic of \"sports\"...\n",
              "340    The news topic that the text belongs to is:\\nA...\n",
              "357     The text belongs to the news topic \"B\" - sports.\n",
              "288    The text belongs to the news topic of:\\nD. sci...\n",
              "dtype: object"
            ]
          },
          "metadata": {},
          "execution_count": 29
        }
      ]
    },
    {
      "cell_type": "code",
      "source": [
        "def process_completion_mc(\n",
        "    completion: str,\n",
        "    class_chars: Sequence[str],\n",
        "    class_names: Sequence[str],\n",
        "    default=-1,\n",
        ") -> int:\n",
        "    for i, name in enumerate(class_names):\n",
        "        if name in completion.lower():\n",
        "            return i\n",
        "    for i, char in enumerate(class_chars):\n",
        "        if char in completion:  # need to retain uppercase\n",
        "            return i\n",
        "    return default"
      ],
      "metadata": {
        "id": "6HskBdr7A71w"
      },
      "execution_count": 30,
      "outputs": []
    },
    {
      "cell_type": "code",
      "source": [
        "pred_classes_text_gen_mc = [\n",
        "    process_completion_mc(\n",
        "        completion_mc,\n",
        "        class_chars=alphabet[:len(news_categories)],\n",
        "        class_names=news_categories\n",
        "    )\n",
        "    for completion_mc in completions_mc\n",
        "]"
      ],
      "metadata": {
        "id": "ztbXvVPvCa2F"
      },
      "execution_count": 31,
      "outputs": []
    },
    {
      "cell_type": "markdown",
      "source": [
        "How many of the sampled completions could be mapped to a label?"
      ],
      "metadata": {
        "id": "7X7UzcfsDMsG"
      }
    },
    {
      "cell_type": "code",
      "source": [
        "(pd.Series(pred_classes_text_gen_mc) != -1).mean()"
      ],
      "metadata": {
        "colab": {
          "base_uri": "https://localhost:8080/"
        },
        "id": "2HgujpcCDNAm",
        "outputId": "68d157f2-7f30-4270-b10a-cbf1ec17493c"
      },
      "execution_count": 32,
      "outputs": [
        {
          "output_type": "execute_result",
          "data": {
            "text/plain": [
              "0.998"
            ]
          },
          "metadata": {},
          "execution_count": 32
        }
      ]
    },
    {
      "cell_type": "markdown",
      "source": [
        "Accuracy:"
      ],
      "metadata": {
        "id": "43zUjdH5LK-y"
      }
    },
    {
      "cell_type": "code",
      "source": [
        "(pred_classes_text_gen_mc == df['label']).mean()"
      ],
      "metadata": {
        "colab": {
          "base_uri": "https://localhost:8080/"
        },
        "id": "JqjrTdh5C3RQ",
        "outputId": "7021835e-e91d-4e35-caaa-37b3edbaa73b"
      },
      "execution_count": 34,
      "outputs": [
        {
          "output_type": "execute_result",
          "data": {
            "text/plain": [
              "0.622"
            ]
          },
          "metadata": {},
          "execution_count": 34
        }
      ]
    },
    {
      "cell_type": "markdown",
      "metadata": {
        "id": "wHgGqHrKbGNe"
      },
      "source": [
        "# CAPPr"
      ]
    },
    {
      "cell_type": "code",
      "execution_count": 35,
      "metadata": {
        "id": "yI3VoPvq6E90"
      },
      "outputs": [],
      "source": [
        "def prompt(text: str):\n",
        "    return (\n",
        "        \"Every news article can be categorized as either world, sports, business, or \"\n",
        "        \"science.\\n\"\n",
        "        f'The following text was taken from a news article:\\n\"{text}\"\\n\\n'\n",
        "        \"The topic which the text belongs to is\"\n",
        "    )"
      ]
    },
    {
      "cell_type": "code",
      "execution_count": 36,
      "metadata": {
        "id": "CMDfwSnx6E90"
      },
      "outputs": [],
      "source": [
        "df[\"prompt\"] = [prompt(text) for text in df[\"text\"]]"
      ]
    },
    {
      "cell_type": "code",
      "source": [
        "print(df[\"prompt\"].iloc[0])"
      ],
      "metadata": {
        "colab": {
          "base_uri": "https://localhost:8080/"
        },
        "id": "RR2N_ISeCFVY",
        "outputId": "fdbaea72-ca38-4e0d-8749-508ba4cd754a"
      },
      "execution_count": 37,
      "outputs": [
        {
          "output_type": "stream",
          "name": "stdout",
          "text": [
            "Every news article can be categorized as either world, sports, business, or science.\n",
            "The following text was taken from a news article:\n",
            "\"Strong Quake Hits Japan's Hokkaido, 11 Hurt (Reuters) Reuters - A strong earthquake with a preliminary\\magnitude of 7.1 hit a wide area of Japan's northernmost main\\island of Hokkaido early on Monday, the Japan Meteorological\\Agency said.\"\n",
            "\n",
            "The topic which the text belongs to is\n"
          ]
        }
      ]
    },
    {
      "cell_type": "markdown",
      "source": [
        "Unfortunately, CAPPr is almost 2x slower than text generation for this dataset and `llama_cpp`, as batch inference currently isn't possible."
      ],
      "metadata": {
        "id": "03ZXYb36H4x1"
      }
    },
    {
      "cell_type": "code",
      "execution_count": 38,
      "metadata": {
        "colab": {
          "base_uri": "https://localhost:8080/",
          "height": 49,
          "referenced_widgets": [
            "6ee17e58238e4f209e5aad21abf76915",
            "d64f6b0c6e14449983f1492ba9fc9a27",
            "d605610c1e1f4111bdab3834518530b7",
            "208e2ef5d74b4d23968029979d966304",
            "94bc7fa936404cfebde2895566f29127",
            "c17731d0159e45a1a7535cac0f224155",
            "bab10df3df2749ecac81bdbfc7287b6f",
            "f82a1fa9079e47dbbe6a9dc66939a03d",
            "2093441a3ac04bfca10451c2f757bef4",
            "8537be68dc84497cb820575753a90389",
            "d4490c1163d7427885bd10cdc9cc178c"
          ]
        },
        "id": "2mMYomd06E91",
        "outputId": "3843b8d0-13be-4de4-c40b-07c44fd3d9f0"
      },
      "outputs": [
        {
          "output_type": "display_data",
          "data": {
            "text/plain": [
              "conditional log-probs:   0%|          | 0/500 [00:00<?, ?it/s]"
            ],
            "application/vnd.jupyter.widget-view+json": {
              "version_major": 2,
              "version_minor": 0,
              "model_id": "6ee17e58238e4f209e5aad21abf76915"
            }
          },
          "metadata": {}
        }
      ],
      "source": [
        "pred_probs = classify.predict_proba(\n",
        "    prompts=df[\"prompt\"], completions=news_categories, model=model\n",
        ")"
      ]
    },
    {
      "cell_type": "code",
      "execution_count": 39,
      "metadata": {
        "colab": {
          "base_uri": "https://localhost:8080/"
        },
        "id": "QVxgmQkwbGNr",
        "outputId": "42145c87-9a76-4b5c-e6d6-b4e1e23ce973"
      },
      "outputs": [
        {
          "output_type": "execute_result",
          "data": {
            "text/plain": [
              "0.752"
            ]
          },
          "metadata": {},
          "execution_count": 39
        }
      ],
      "source": [
        "(pred_probs.argmax(axis=1) == df[\"label\"]).mean()"
      ]
    }
  ],
  "metadata": {
    "accelerator": "GPU",
    "colab": {
      "gpuType": "T4",
      "provenance": [],
      "toc_visible": true
    },
    "kernelspec": {
      "display_name": "Python 3",
      "name": "python3"
    },
    "language_info": {
      "codemirror_mode": {
        "name": "ipython",
        "version": 3
      },
      "file_extension": ".py",
      "mimetype": "text/x-python",
      "name": "python",
      "nbconvert_exporter": "python",
      "pygments_lexer": "ipython3",
      "version": "3.11.5"
    },
    "orig_nbformat": 4,
    "vscode": {
      "interpreter": {
        "hash": "68daa88f78f5c448099edb3a6d3dee27486a6add8824ae1cbe4c903ef8faec70"
      }
    },
    "widgets": {
      "application/vnd.jupyter.widget-state+json": {
        "6ee17e58238e4f209e5aad21abf76915": {
          "model_module": "@jupyter-widgets/controls",
          "model_name": "HBoxModel",
          "model_module_version": "1.5.0",
          "state": {
            "_dom_classes": [],
            "_model_module": "@jupyter-widgets/controls",
            "_model_module_version": "1.5.0",
            "_model_name": "HBoxModel",
            "_view_count": null,
            "_view_module": "@jupyter-widgets/controls",
            "_view_module_version": "1.5.0",
            "_view_name": "HBoxView",
            "box_style": "",
            "children": [
              "IPY_MODEL_d64f6b0c6e14449983f1492ba9fc9a27",
              "IPY_MODEL_d605610c1e1f4111bdab3834518530b7",
              "IPY_MODEL_208e2ef5d74b4d23968029979d966304"
            ],
            "layout": "IPY_MODEL_94bc7fa936404cfebde2895566f29127"
          }
        },
        "d64f6b0c6e14449983f1492ba9fc9a27": {
          "model_module": "@jupyter-widgets/controls",
          "model_name": "HTMLModel",
          "model_module_version": "1.5.0",
          "state": {
            "_dom_classes": [],
            "_model_module": "@jupyter-widgets/controls",
            "_model_module_version": "1.5.0",
            "_model_name": "HTMLModel",
            "_view_count": null,
            "_view_module": "@jupyter-widgets/controls",
            "_view_module_version": "1.5.0",
            "_view_name": "HTMLView",
            "description": "",
            "description_tooltip": null,
            "layout": "IPY_MODEL_c17731d0159e45a1a7535cac0f224155",
            "placeholder": "​",
            "style": "IPY_MODEL_bab10df3df2749ecac81bdbfc7287b6f",
            "value": "conditional log-probs: 100%"
          }
        },
        "d605610c1e1f4111bdab3834518530b7": {
          "model_module": "@jupyter-widgets/controls",
          "model_name": "FloatProgressModel",
          "model_module_version": "1.5.0",
          "state": {
            "_dom_classes": [],
            "_model_module": "@jupyter-widgets/controls",
            "_model_module_version": "1.5.0",
            "_model_name": "FloatProgressModel",
            "_view_count": null,
            "_view_module": "@jupyter-widgets/controls",
            "_view_module_version": "1.5.0",
            "_view_name": "ProgressView",
            "bar_style": "success",
            "description": "",
            "description_tooltip": null,
            "layout": "IPY_MODEL_f82a1fa9079e47dbbe6a9dc66939a03d",
            "max": 500,
            "min": 0,
            "orientation": "horizontal",
            "style": "IPY_MODEL_2093441a3ac04bfca10451c2f757bef4",
            "value": 500
          }
        },
        "208e2ef5d74b4d23968029979d966304": {
          "model_module": "@jupyter-widgets/controls",
          "model_name": "HTMLModel",
          "model_module_version": "1.5.0",
          "state": {
            "_dom_classes": [],
            "_model_module": "@jupyter-widgets/controls",
            "_model_module_version": "1.5.0",
            "_model_name": "HTMLModel",
            "_view_count": null,
            "_view_module": "@jupyter-widgets/controls",
            "_view_module_version": "1.5.0",
            "_view_name": "HTMLView",
            "description": "",
            "description_tooltip": null,
            "layout": "IPY_MODEL_8537be68dc84497cb820575753a90389",
            "placeholder": "​",
            "style": "IPY_MODEL_d4490c1163d7427885bd10cdc9cc178c",
            "value": " 500/500 [09:16&lt;00:00,  1.21s/it]"
          }
        },
        "94bc7fa936404cfebde2895566f29127": {
          "model_module": "@jupyter-widgets/base",
          "model_name": "LayoutModel",
          "model_module_version": "1.2.0",
          "state": {
            "_model_module": "@jupyter-widgets/base",
            "_model_module_version": "1.2.0",
            "_model_name": "LayoutModel",
            "_view_count": null,
            "_view_module": "@jupyter-widgets/base",
            "_view_module_version": "1.2.0",
            "_view_name": "LayoutView",
            "align_content": null,
            "align_items": null,
            "align_self": null,
            "border": null,
            "bottom": null,
            "display": null,
            "flex": null,
            "flex_flow": null,
            "grid_area": null,
            "grid_auto_columns": null,
            "grid_auto_flow": null,
            "grid_auto_rows": null,
            "grid_column": null,
            "grid_gap": null,
            "grid_row": null,
            "grid_template_areas": null,
            "grid_template_columns": null,
            "grid_template_rows": null,
            "height": null,
            "justify_content": null,
            "justify_items": null,
            "left": null,
            "margin": null,
            "max_height": null,
            "max_width": null,
            "min_height": null,
            "min_width": null,
            "object_fit": null,
            "object_position": null,
            "order": null,
            "overflow": null,
            "overflow_x": null,
            "overflow_y": null,
            "padding": null,
            "right": null,
            "top": null,
            "visibility": null,
            "width": null
          }
        },
        "c17731d0159e45a1a7535cac0f224155": {
          "model_module": "@jupyter-widgets/base",
          "model_name": "LayoutModel",
          "model_module_version": "1.2.0",
          "state": {
            "_model_module": "@jupyter-widgets/base",
            "_model_module_version": "1.2.0",
            "_model_name": "LayoutModel",
            "_view_count": null,
            "_view_module": "@jupyter-widgets/base",
            "_view_module_version": "1.2.0",
            "_view_name": "LayoutView",
            "align_content": null,
            "align_items": null,
            "align_self": null,
            "border": null,
            "bottom": null,
            "display": null,
            "flex": null,
            "flex_flow": null,
            "grid_area": null,
            "grid_auto_columns": null,
            "grid_auto_flow": null,
            "grid_auto_rows": null,
            "grid_column": null,
            "grid_gap": null,
            "grid_row": null,
            "grid_template_areas": null,
            "grid_template_columns": null,
            "grid_template_rows": null,
            "height": null,
            "justify_content": null,
            "justify_items": null,
            "left": null,
            "margin": null,
            "max_height": null,
            "max_width": null,
            "min_height": null,
            "min_width": null,
            "object_fit": null,
            "object_position": null,
            "order": null,
            "overflow": null,
            "overflow_x": null,
            "overflow_y": null,
            "padding": null,
            "right": null,
            "top": null,
            "visibility": null,
            "width": null
          }
        },
        "bab10df3df2749ecac81bdbfc7287b6f": {
          "model_module": "@jupyter-widgets/controls",
          "model_name": "DescriptionStyleModel",
          "model_module_version": "1.5.0",
          "state": {
            "_model_module": "@jupyter-widgets/controls",
            "_model_module_version": "1.5.0",
            "_model_name": "DescriptionStyleModel",
            "_view_count": null,
            "_view_module": "@jupyter-widgets/base",
            "_view_module_version": "1.2.0",
            "_view_name": "StyleView",
            "description_width": ""
          }
        },
        "f82a1fa9079e47dbbe6a9dc66939a03d": {
          "model_module": "@jupyter-widgets/base",
          "model_name": "LayoutModel",
          "model_module_version": "1.2.0",
          "state": {
            "_model_module": "@jupyter-widgets/base",
            "_model_module_version": "1.2.0",
            "_model_name": "LayoutModel",
            "_view_count": null,
            "_view_module": "@jupyter-widgets/base",
            "_view_module_version": "1.2.0",
            "_view_name": "LayoutView",
            "align_content": null,
            "align_items": null,
            "align_self": null,
            "border": null,
            "bottom": null,
            "display": null,
            "flex": null,
            "flex_flow": null,
            "grid_area": null,
            "grid_auto_columns": null,
            "grid_auto_flow": null,
            "grid_auto_rows": null,
            "grid_column": null,
            "grid_gap": null,
            "grid_row": null,
            "grid_template_areas": null,
            "grid_template_columns": null,
            "grid_template_rows": null,
            "height": null,
            "justify_content": null,
            "justify_items": null,
            "left": null,
            "margin": null,
            "max_height": null,
            "max_width": null,
            "min_height": null,
            "min_width": null,
            "object_fit": null,
            "object_position": null,
            "order": null,
            "overflow": null,
            "overflow_x": null,
            "overflow_y": null,
            "padding": null,
            "right": null,
            "top": null,
            "visibility": null,
            "width": null
          }
        },
        "2093441a3ac04bfca10451c2f757bef4": {
          "model_module": "@jupyter-widgets/controls",
          "model_name": "ProgressStyleModel",
          "model_module_version": "1.5.0",
          "state": {
            "_model_module": "@jupyter-widgets/controls",
            "_model_module_version": "1.5.0",
            "_model_name": "ProgressStyleModel",
            "_view_count": null,
            "_view_module": "@jupyter-widgets/base",
            "_view_module_version": "1.2.0",
            "_view_name": "StyleView",
            "bar_color": null,
            "description_width": ""
          }
        },
        "8537be68dc84497cb820575753a90389": {
          "model_module": "@jupyter-widgets/base",
          "model_name": "LayoutModel",
          "model_module_version": "1.2.0",
          "state": {
            "_model_module": "@jupyter-widgets/base",
            "_model_module_version": "1.2.0",
            "_model_name": "LayoutModel",
            "_view_count": null,
            "_view_module": "@jupyter-widgets/base",
            "_view_module_version": "1.2.0",
            "_view_name": "LayoutView",
            "align_content": null,
            "align_items": null,
            "align_self": null,
            "border": null,
            "bottom": null,
            "display": null,
            "flex": null,
            "flex_flow": null,
            "grid_area": null,
            "grid_auto_columns": null,
            "grid_auto_flow": null,
            "grid_auto_rows": null,
            "grid_column": null,
            "grid_gap": null,
            "grid_row": null,
            "grid_template_areas": null,
            "grid_template_columns": null,
            "grid_template_rows": null,
            "height": null,
            "justify_content": null,
            "justify_items": null,
            "left": null,
            "margin": null,
            "max_height": null,
            "max_width": null,
            "min_height": null,
            "min_width": null,
            "object_fit": null,
            "object_position": null,
            "order": null,
            "overflow": null,
            "overflow_x": null,
            "overflow_y": null,
            "padding": null,
            "right": null,
            "top": null,
            "visibility": null,
            "width": null
          }
        },
        "d4490c1163d7427885bd10cdc9cc178c": {
          "model_module": "@jupyter-widgets/controls",
          "model_name": "DescriptionStyleModel",
          "model_module_version": "1.5.0",
          "state": {
            "_model_module": "@jupyter-widgets/controls",
            "_model_module_version": "1.5.0",
            "_model_name": "DescriptionStyleModel",
            "_view_count": null,
            "_view_module": "@jupyter-widgets/base",
            "_view_module_version": "1.2.0",
            "_view_name": "StyleView",
            "description_width": ""
          }
        }
      }
    }
  },
  "nbformat": 4,
  "nbformat_minor": 0
}