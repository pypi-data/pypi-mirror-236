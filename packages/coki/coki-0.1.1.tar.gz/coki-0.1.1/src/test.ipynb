{
 "cells": [
  {
   "cell_type": "code",
   "execution_count": 1,
   "metadata": {},
   "outputs": [],
   "source": [
    "import requests\n",
    "import json\n",
    "from tabulate import tabulate"
   ]
  },
  {
   "cell_type": "code",
   "execution_count": 2,
   "metadata": {},
   "outputs": [],
   "source": [
    "def get_access_token(user='abbatelucas@gmail.com', password='Futbol !0') -> str:\n",
    "    headers = {\n",
    "        \"authority\":\"api.cocos.capital\",\n",
    "        \"apikey\":\"eyJhbGciOiJIUzI1NiIsInR5cCI6IkpXVCJ9.eyAgCiAgICAicm9sZSI6ICJhbm9uIiwKICAgICJhdWRpZW5jZSI6ICJjb2NvcyIsCiAgICAiaXNzIjogInN1cGFiYXNlIiwKICAgICJpYXQiOiAxNjQxOTU2NDAwLAogICAgImV4cCI6IDM5NDgzNDE1MzEKfQ.Q5ZiL7KCUKP7iSM_LHWd3gffZ0k5Ce6CemOX9CUfEdM\",\n",
    "        \"origin\":\"https://app.cocos.capital\",\n",
    "        \"referer\":\"https://app.cocos.capital/\",\n",
    "        \"sec-ch-ua-mobile\":\"?0\",\n",
    "        \"sec-ch-ua-platform\":\"Windows\",\n",
    "        \"sec-fetch-dest\":\"empty\",\n",
    "        \"sec-fetch-mode\":\"cors\",\n",
    "        \"sec-fetch-site\":\"same-site\",\n",
    "        }\n",
    "    data = json.dumps({'email': user, 'password': password})\n",
    "    r = requests.post('https://api.cocos.capital/auth/v1/token?grant_type=password', headers=headers, data=data)\n",
    "    s = r.content.decode('utf-8')\n",
    "    return json.loads(s)['access_token']\n",
    "\n",
    "# Pasar autentificacion como archivo\n"
   ]
  },
  {
   "cell_type": "code",
   "execution_count": 3,
   "metadata": {},
   "outputs": [],
   "source": [
    "token = get_access_token()"
   ]
  },
  {
   "cell_type": "code",
   "execution_count": 24,
   "metadata": {},
   "outputs": [],
   "source": [
    "def get_ticker_data(ticker: str, currency: str = 'auto', token: str = get_access_token(), plazo = 48):\n",
    "    plazo_conversion = {'48': '0003',\n",
    "                        '24': '0002', \n",
    "                        'CI': '0001',\n",
    "                        'C.I.': '0001'}\n",
    "    liquidacion_str = plazo_conversion[str(plazo).upper()]\n",
    "    \n",
    "    if currency == 'auto': # Si currency es auto, pasa a usd si termina en D o C (para casos como AMD, no va a andar auto, hay que poner currency ARS)\n",
    "        if ticker[-1] in ['D', 'C']:\n",
    "            currency = 'USD'\n",
    "            ticker = ticker[:-1]\n",
    "        else:\n",
    "            currency = 'ARS'\n",
    "            \n",
    "        \n",
    "    currency = 'USD' if currency == 'D' else currency\n",
    "    species = 'D' if currency == 'USD' else ''\n",
    "    \n",
    "    \n",
    "    headers = {\n",
    "        \"accept\": \"application/json, text/plain, */*\",\n",
    "        \"accept-language\": \"es-ES,es;q=0.9\",\n",
    "        \"authorization\": f\"Bearer {token}\",\n",
    "        \"if-none-match\": \"W/\\\"42-WJmuy/h7CrOCewTOtVPh5zV6UTY\\\"\",\n",
    "        \"recaptcha-token\": \"undefined\",\n",
    "        \"sec-ch-ua\": \"\\\"Chromium\\\";v=\\\"118\\\", \\\"Google Chrome\\\";v=\\\"118\\\", \\\"Not=A?Brand\\\";v=\\\"99\\\"\",\n",
    "        \"sec-ch-ua-mobile\": \"?0\",\n",
    "        \"sec-ch-ua-platform\": \"\\\"Windows\\\"\",\n",
    "        \"sec-fetch-dest\": \"empty\",\n",
    "        \"sec-fetch-mode\": \"cors\",\n",
    "        \"sec-fetch-site\": \"same-site\",\n",
    "        \"x-account-id\": \"54107\"\n",
    "    }\n",
    "    \n",
    "    link = f\"https://api.cocos.capital/api/v1/markets/ticker/{ticker}{species}-{liquidacion_str}-C-CT-{currency}\"\n",
    "    r = requests.get(link, headers=headers)\n",
    "    if r.status_code == 200:\n",
    "        return r.json()\n",
    "    else:\n",
    "        print(r.content)\n",
    "        raise Exception('Error en la consulta')\n",
    "    \n",
    "    \n",
    "def gen_table(ticker: str, currency: str = 'auto', token: str = get_access_token(), plazo = 48):\n",
    "    data = get_ticker_data(ticker, currency, token, plazo)\n",
    "    \n",
    "    compra_size = []\n",
    "    compra_price = []\n",
    "    for row in data['bids']:\n",
    "        compra_size.append(row['size'])\n",
    "        compra_price.append(row['price'])\n",
    "        \n",
    "    venta_size = []\n",
    "    venta_price = []\n",
    "    for row in data['asks']:\n",
    "        venta_size.append(row['size'])\n",
    "        venta_price.append(row['price'])\n",
    "\n",
    "    \n",
    "    table = {'Cant. compra': compra_size, 'Precio compra': compra_price, '': '', 'Precio venta': venta_price, 'Cant. venta': venta_size}\n",
    "    \n",
    "    print('\\t', data['short_ticker'], '-', data['instrument_name'], '-', data['currency'])\n",
    "    print('\\t', f'Last: {data[\"last\"]:,} - High: {data[\"high\"]:,} - Low: {data[\"low\"]:,} - Volume: {data[\"volume\"]:,}')\n",
    "\n",
    "    print(tabulate(table, headers='keys', tablefmt='rounded_outline', floatfmt='.2f', stralign='center'))"
   ]
  },
  {
   "cell_type": "code",
   "execution_count": 63,
   "metadata": {},
   "outputs": [],
   "source": [
    "import requests\n",
    "import json\n",
    "import codecs\n",
    "import sys, os\n",
    "from tabulate import tabulate\n",
    "from cryptography.hazmat.primitives.ciphers import Cipher, algorithms, modes\n",
    "from cryptography.hazmat.backends import default_backend\n",
    "from cryptography.hazmat.primitives import padding\n",
    "from cryptography.fernet import Fernet\n",
    "\n",
    "def encrypt(data, key):\n",
    "    fernet = Fernet(key)\n",
    "    return fernet.encrypt(data)\n",
    "\n",
    "def decrypt(data, key):\n",
    "    fernet = Fernet(key)\n",
    "    return fernet.decrypt(data)\n",
    "\n",
    "def gen_credentials(user, password, key=b'DJ4hV8Bzq_UVRqtKvHbVwwlr9zJDFAhVxro0S3tE4QM=', path=\"coki_credentials.txt\"):\n",
    "    with open(path, \"wb\") as f:\n",
    "        user = encrypt(str(user).encode(), key)\n",
    "        password = encrypt(str(password).encode(), key)\n",
    "        f.writelines([user, b'\\n', password])"
   ]
  },
  {
   "cell_type": "code",
   "execution_count": 62,
   "metadata": {},
   "outputs": [],
   "source": [
    "gen_credentials('abbatelucas@gmail.com', 'Futbol !0')"
   ]
  },
  {
   "cell_type": "code",
   "execution_count": 68,
   "metadata": {},
   "outputs": [],
   "source": [
    "def read_credentials(key=b'DJ4hV8Bzq_UVRqtKvHbVwwlr9zJDFAhVxro0S3tE4QM=', path=\"coki_credentials.txt\") -> (str, str):\n",
    "    with open(path, \"r\", encoding='utf8') as f:\n",
    "        user, password = f.readlines()\n",
    "        user = user.strip()\n",
    "\n",
    "    return decrypt(user, key).decode(), decrypt(password, key).decode()\n"
   ]
  },
  {
   "cell_type": "code",
   "execution_count": 69,
   "metadata": {},
   "outputs": [
    {
     "data": {
      "text/plain": [
       "('abbatelucas@gmail.com', 'Futbol !0')"
      ]
     },
     "execution_count": 69,
     "metadata": {},
     "output_type": "execute_result"
    }
   ],
   "source": [
    "read_credentials()"
   ]
  },
  {
   "cell_type": "code",
   "execution_count": 25,
   "metadata": {},
   "outputs": [
    {
     "name": "stdout",
     "output_type": "stream",
     "text": [
      "\t QQQD - Cedear Invesco QQQ Trust ETF - USD\n",
      "\t Last: 21.2 - High: 21.4 - Low: 19.3 - Volume: 1,401\n",
      "╭────────────────┬─────────────────┬────┬────────────────┬───────────────╮\n",
      "│   Cant. compra │   Precio compra │    │   Precio venta │   Cant. venta │\n",
      "├────────────────┼─────────────────┼────┼────────────────┼───────────────┤\n",
      "│             50 │           19.00 │    │          21.50 │            95 │\n",
      "│              3 │           16.00 │    │                │               │\n",
      "│              5 │           15.40 │    │                │               │\n",
      "╰────────────────┴─────────────────┴────┴────────────────┴───────────────╯\n"
     ]
    }
   ],
   "source": [
    "gen_table('QQQD')"
   ]
  },
  {
   "cell_type": "code",
   "execution_count": null,
   "metadata": {},
   "outputs": [],
   "source": []
  }
 ],
 "metadata": {
  "kernelspec": {
   "display_name": "Python 3",
   "language": "python",
   "name": "python3"
  },
  "language_info": {
   "codemirror_mode": {
    "name": "ipython",
    "version": 3
   },
   "file_extension": ".py",
   "mimetype": "text/x-python",
   "name": "python",
   "nbconvert_exporter": "python",
   "pygments_lexer": "ipython3",
   "version": "3.9.13"
  }
 },
 "nbformat": 4,
 "nbformat_minor": 2
}
