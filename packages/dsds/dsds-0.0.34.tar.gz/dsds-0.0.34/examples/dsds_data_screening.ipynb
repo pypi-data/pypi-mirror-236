{
 "cells": [
  {
   "cell_type": "code",
   "execution_count": 1,
   "metadata": {},
   "outputs": [],
   "source": [
    "import polars as pl"
   ]
  },
  {
   "cell_type": "markdown",
   "metadata": {},
   "source": [
    "# Dependency Detection + Violations"
   ]
  },
  {
   "cell_type": "code",
   "execution_count": 2,
   "metadata": {},
   "outputs": [
    {
     "data": {
      "text/html": [
       "<div><style>\n",
       ".dataframe > thead > tr > th,\n",
       ".dataframe > tbody > tr > td {\n",
       "  text-align: right;\n",
       "  white-space: pre-wrap;\n",
       "}\n",
       "</style>\n",
       "<small>shape: (5, 12)</small><table border=\"1\" class=\"dataframe\"><thead><tr><th>household_key</th><th>BASKET_ID</th><th>DAY</th><th>PRODUCT_ID</th><th>QUANTITY</th><th>SALES_VALUE</th><th>STORE_ID</th><th>RETAIL_DISC</th><th>TRANS_TIME</th><th>WEEK_NO</th><th>COUPON_DISC</th><th>COUPON_MATCH_DISC</th></tr><tr><td>i16</td><td>i64</td><td>i16</td><td>i32</td><td>i32</td><td>f32</td><td>i32</td><td>f32</td><td>i16</td><td>i8</td><td>i8</td><td>i8</td></tr></thead><tbody><tr><td>2375</td><td>26984851472</td><td>1</td><td>1004906</td><td>1</td><td>1.39</td><td>364</td><td>-0.6</td><td>1631</td><td>1</td><td>0</td><td>0</td></tr><tr><td>2375</td><td>26984851472</td><td>1</td><td>1033142</td><td>1</td><td>0.82</td><td>364</td><td>0.0</td><td>1631</td><td>1</td><td>0</td><td>0</td></tr><tr><td>2375</td><td>26984851472</td><td>1</td><td>1036325</td><td>1</td><td>0.99</td><td>364</td><td>-0.3</td><td>1631</td><td>1</td><td>0</td><td>0</td></tr><tr><td>2375</td><td>26984851472</td><td>1</td><td>1082185</td><td>1</td><td>1.21</td><td>364</td><td>0.0</td><td>1631</td><td>1</td><td>0</td><td>0</td></tr><tr><td>2375</td><td>26984851472</td><td>1</td><td>8160430</td><td>1</td><td>1.5</td><td>364</td><td>-0.39</td><td>1631</td><td>1</td><td>0</td><td>0</td></tr></tbody></table></div>"
      ],
      "text/plain": [
       "shape: (5, 12)\n",
       "┌─────────────┬────────────┬─────┬────────────┬───┬────────────┬─────────┬────────────┬────────────┐\n",
       "│ household_k ┆ BASKET_ID  ┆ DAY ┆ PRODUCT_ID ┆ … ┆ TRANS_TIME ┆ WEEK_NO ┆ COUPON_DIS ┆ COUPON_MAT │\n",
       "│ ey          ┆ ---        ┆ --- ┆ ---        ┆   ┆ ---        ┆ ---     ┆ C          ┆ CH_DISC    │\n",
       "│ ---         ┆ i64        ┆ i16 ┆ i32        ┆   ┆ i16        ┆ i8      ┆ ---        ┆ ---        │\n",
       "│ i16         ┆            ┆     ┆            ┆   ┆            ┆         ┆ i8         ┆ i8         │\n",
       "╞═════════════╪════════════╪═════╪════════════╪═══╪════════════╪═════════╪════════════╪════════════╡\n",
       "│ 2375        ┆ 2698485147 ┆ 1   ┆ 1004906    ┆ … ┆ 1631       ┆ 1       ┆ 0          ┆ 0          │\n",
       "│             ┆ 2          ┆     ┆            ┆   ┆            ┆         ┆            ┆            │\n",
       "│ 2375        ┆ 2698485147 ┆ 1   ┆ 1033142    ┆ … ┆ 1631       ┆ 1       ┆ 0          ┆ 0          │\n",
       "│             ┆ 2          ┆     ┆            ┆   ┆            ┆         ┆            ┆            │\n",
       "│ 2375        ┆ 2698485147 ┆ 1   ┆ 1036325    ┆ … ┆ 1631       ┆ 1       ┆ 0          ┆ 0          │\n",
       "│             ┆ 2          ┆     ┆            ┆   ┆            ┆         ┆            ┆            │\n",
       "│ 2375        ┆ 2698485147 ┆ 1   ┆ 1082185    ┆ … ┆ 1631       ┆ 1       ┆ 0          ┆ 0          │\n",
       "│             ┆ 2          ┆     ┆            ┆   ┆            ┆         ┆            ┆            │\n",
       "│ 2375        ┆ 2698485147 ┆ 1   ┆ 8160430    ┆ … ┆ 1631       ┆ 1       ┆ 0          ┆ 0          │\n",
       "│             ┆ 2          ┆     ┆            ┆   ┆            ┆         ┆            ┆            │\n",
       "└─────────────┴────────────┴─────┴────────────┴───┴────────────┴─────────┴────────────┴────────────┘"
      ]
     },
     "execution_count": 2,
     "metadata": {},
     "output_type": "execute_result"
    }
   ],
   "source": [
    "# This is the same dataset as used in \n",
    "# the demo by Microsoft: https://learn.microsoft.com/en-us/fabric/data-science/semantic-link-validate-data\n",
    "# However, dsds will be an open source package based on Polars, not\n",
    "# FabricDataFrame, which is a Microsoft product.\n",
    "import dsds.diagnosis as dia\n",
    "\n",
    "df = pl.read_parquet(\"../data/dunnhumby.parquet\")\n",
    "df.head()"
   ]
  },
  {
   "cell_type": "code",
   "execution_count": 3,
   "metadata": {},
   "outputs": [
    {
     "name": "stderr",
     "output_type": "stream",
     "text": [
      "INFO:dsds.diagnosis:Detecting dependency for all columns in dataframe. A total of 66 comparisons will be done.\n"
     ]
    },
    {
     "name": "stdout",
     "output_type": "stream",
     "text": [
      "(2595732, 12)\n"
     ]
    }
   ],
   "source": [
    "import dsds.diagnosis as dia\n",
    "print(df.shape)\n",
    "entropy, tree = dia.dependency_detection(df, threshold=0.015)"
   ]
  },
  {
   "cell_type": "code",
   "execution_count": 4,
   "metadata": {},
   "outputs": [
    {
     "data": {
      "image/svg+xml": [
       "<?xml version=\"1.0\" encoding=\"UTF-8\" standalone=\"no\"?>\n",
       "<!DOCTYPE svg PUBLIC \"-//W3C//DTD SVG 1.1//EN\"\n",
       " \"http://www.w3.org/Graphics/SVG/1.1/DTD/svg11.dtd\">\n",
       "<!-- Generated by graphviz version 2.50.0 (0)\n",
       " -->\n",
       "<!-- Title: Dependency Plot Pages: 1 -->\n",
       "<svg width=\"739pt\" height=\"188pt\"\n",
       " viewBox=\"0.00 0.00 738.54 188.00\" xmlns=\"http://www.w3.org/2000/svg\" xmlns:xlink=\"http://www.w3.org/1999/xlink\">\n",
       "<g id=\"graph0\" class=\"graph\" transform=\"scale(1 1) rotate(0) translate(4 184)\">\n",
       "<title>Dependency Plot</title>\n",
       "<polygon fill=\"white\" stroke=\"transparent\" points=\"-4,4 -4,-184 734.54,-184 734.54,4 -4,4\"/>\n",
       "<!-- WEEK_NO -->\n",
       "<g id=\"node1\" class=\"node\">\n",
       "<title>WEEK_NO</title>\n",
       "<ellipse fill=\"none\" stroke=\"black\" cx=\"53.95\" cy=\"-18\" rx=\"53.89\" ry=\"18\"/>\n",
       "<text text-anchor=\"middle\" x=\"53.95\" y=\"-14.3\" font-family=\"Times New Roman,serif\" font-size=\"14.00\">WEEK_NO</text>\n",
       "</g>\n",
       "<!-- DAY -->\n",
       "<g id=\"node2\" class=\"node\">\n",
       "<title>DAY</title>\n",
       "<ellipse fill=\"none\" stroke=\"black\" cx=\"53.95\" cy=\"-90\" rx=\"29.5\" ry=\"18\"/>\n",
       "<text text-anchor=\"middle\" x=\"53.95\" y=\"-86.3\" font-family=\"Times New Roman,serif\" font-size=\"14.00\">DAY</text>\n",
       "</g>\n",
       "<!-- DAY&#45;&gt;WEEK_NO -->\n",
       "<g id=\"edge1\" class=\"edge\">\n",
       "<title>DAY&#45;&gt;WEEK_NO</title>\n",
       "<path fill=\"none\" stroke=\"black\" d=\"M53.95,-71.7C53.95,-63.98 53.95,-54.71 53.95,-46.11\"/>\n",
       "<polygon fill=\"black\" stroke=\"black\" points=\"57.45,-46.1 53.95,-36.1 50.45,-46.1 57.45,-46.1\"/>\n",
       "</g>\n",
       "<!-- BASKET_ID -->\n",
       "<g id=\"node3\" class=\"node\">\n",
       "<title>BASKET_ID</title>\n",
       "<ellipse fill=\"none\" stroke=\"black\" cx=\"219.95\" cy=\"-162\" rx=\"58.49\" ry=\"18\"/>\n",
       "<text text-anchor=\"middle\" x=\"219.95\" y=\"-158.3\" font-family=\"Times New Roman,serif\" font-size=\"14.00\">BASKET_ID</text>\n",
       "</g>\n",
       "<!-- BASKET_ID&#45;&gt;DAY -->\n",
       "<g id=\"edge2\" class=\"edge\">\n",
       "<title>BASKET_ID&#45;&gt;DAY</title>\n",
       "<path fill=\"none\" stroke=\"black\" d=\"M185.88,-147.2C160.03,-136.65 123.65,-121.65 91.95,-108 90.1,-107.21 88.21,-106.39 86.31,-105.55\"/>\n",
       "<polygon fill=\"black\" stroke=\"black\" points=\"87.37,-102.19 76.81,-101.35 84.54,-108.6 87.37,-102.19\"/>\n",
       "</g>\n",
       "<!-- STORE_ID -->\n",
       "<g id=\"node4\" class=\"node\">\n",
       "<title>STORE_ID</title>\n",
       "<ellipse fill=\"none\" stroke=\"black\" cx=\"152.95\" cy=\"-90\" rx=\"51.99\" ry=\"18\"/>\n",
       "<text text-anchor=\"middle\" x=\"152.95\" y=\"-86.3\" font-family=\"Times New Roman,serif\" font-size=\"14.00\">STORE_ID</text>\n",
       "</g>\n",
       "<!-- BASKET_ID&#45;&gt;STORE_ID -->\n",
       "<g id=\"edge3\" class=\"edge\">\n",
       "<title>BASKET_ID&#45;&gt;STORE_ID</title>\n",
       "<path fill=\"none\" stroke=\"black\" d=\"M204.07,-144.41C195.64,-135.61 185.13,-124.63 175.84,-114.92\"/>\n",
       "<polygon fill=\"black\" stroke=\"black\" points=\"178.15,-112.27 168.71,-107.47 173.1,-117.11 178.15,-112.27\"/>\n",
       "</g>\n",
       "<!-- household_key -->\n",
       "<g id=\"node7\" class=\"node\">\n",
       "<title>household_key</title>\n",
       "<ellipse fill=\"none\" stroke=\"black\" cx=\"286.95\" cy=\"-90\" rx=\"63.89\" ry=\"18\"/>\n",
       "<text text-anchor=\"middle\" x=\"286.95\" y=\"-86.3\" font-family=\"Times New Roman,serif\" font-size=\"14.00\">household_key</text>\n",
       "</g>\n",
       "<!-- BASKET_ID&#45;&gt;household_key -->\n",
       "<g id=\"edge5\" class=\"edge\">\n",
       "<title>BASKET_ID&#45;&gt;household_key</title>\n",
       "<path fill=\"none\" stroke=\"black\" d=\"M235.82,-144.41C244.25,-135.61 254.76,-124.63 264.05,-114.92\"/>\n",
       "<polygon fill=\"black\" stroke=\"black\" points=\"266.79,-117.11 271.18,-107.47 261.74,-112.27 266.79,-117.11\"/>\n",
       "</g>\n",
       "<!-- TRANS_TIME -->\n",
       "<g id=\"node8\" class=\"node\">\n",
       "<title>TRANS_TIME</title>\n",
       "<ellipse fill=\"none\" stroke=\"black\" cx=\"433.95\" cy=\"-90\" rx=\"65.79\" ry=\"18\"/>\n",
       "<text text-anchor=\"middle\" x=\"433.95\" y=\"-86.3\" font-family=\"Times New Roman,serif\" font-size=\"14.00\">TRANS_TIME</text>\n",
       "</g>\n",
       "<!-- BASKET_ID&#45;&gt;TRANS_TIME -->\n",
       "<g id=\"edge6\" class=\"edge\">\n",
       "<title>BASKET_ID&#45;&gt;TRANS_TIME</title>\n",
       "<path fill=\"none\" stroke=\"black\" d=\"M258.7,-148.32C293.64,-136.89 345.24,-120.02 383.41,-107.53\"/>\n",
       "<polygon fill=\"black\" stroke=\"black\" points=\"384.88,-110.73 393.3,-104.3 382.7,-104.08 384.88,-110.73\"/>\n",
       "</g>\n",
       "<!-- COUPON_MATCH_DISC -->\n",
       "<g id=\"node5\" class=\"node\">\n",
       "<title>COUPON_MATCH_DISC</title>\n",
       "<ellipse fill=\"none\" stroke=\"black\" cx=\"623.95\" cy=\"-90\" rx=\"106.68\" ry=\"18\"/>\n",
       "<text text-anchor=\"middle\" x=\"623.95\" y=\"-86.3\" font-family=\"Times New Roman,serif\" font-size=\"14.00\">COUPON_MATCH_DISC</text>\n",
       "</g>\n",
       "<!-- COUPON_DISC -->\n",
       "<g id=\"node6\" class=\"node\">\n",
       "<title>COUPON_DISC</title>\n",
       "<ellipse fill=\"none\" stroke=\"black\" cx=\"623.95\" cy=\"-162\" rx=\"71.49\" ry=\"18\"/>\n",
       "<text text-anchor=\"middle\" x=\"623.95\" y=\"-158.3\" font-family=\"Times New Roman,serif\" font-size=\"14.00\">COUPON_DISC</text>\n",
       "</g>\n",
       "<!-- COUPON_DISC&#45;&gt;COUPON_MATCH_DISC -->\n",
       "<g id=\"edge4\" class=\"edge\">\n",
       "<title>COUPON_DISC&#45;&gt;COUPON_MATCH_DISC</title>\n",
       "<path fill=\"none\" stroke=\"black\" d=\"M623.95,-143.7C623.95,-135.98 623.95,-126.71 623.95,-118.11\"/>\n",
       "<polygon fill=\"black\" stroke=\"black\" points=\"627.45,-118.1 623.95,-108.1 620.45,-118.1 627.45,-118.1\"/>\n",
       "</g>\n",
       "</g>\n",
       "</svg>\n"
      ],
      "text/plain": [
       "<graphviz.graphs.Digraph at 0x1fbb4ffb7d0>"
      ]
     },
     "execution_count": 4,
     "metadata": {},
     "output_type": "execute_result"
    }
   ],
   "source": [
    "tree "
   ]
  },
  {
   "cell_type": "code",
   "execution_count": 5,
   "metadata": {},
   "outputs": [],
   "source": [
    "violations = dia.dependency_violation(df, entropy, threshold=0.05)"
   ]
  },
  {
   "cell_type": "code",
   "execution_count": 6,
   "metadata": {},
   "outputs": [
    {
     "name": "stdout",
     "output_type": "stream",
     "text": [
      "COUPON_MATCH_DISC-COUPON_DISC\n",
      "shape: (6, 4)\n",
      "┌──────────────────────────┬───────┬───────────────────────────────┬───────────────────────────────┐\n",
      "│ Column Name: COUPON_DISC ┆ count ┆ Col COUPON_MATCH_DISC: Value  ┆ Reason                        │\n",
      "│ ---                      ┆ ---   ┆ & Count                       ┆ ---                           │\n",
      "│ i8                       ┆ u32   ┆ ---                           ┆ str                           │\n",
      "│                          ┆       ┆ list[struct[2]]               ┆                               │\n",
      "╞══════════════════════════╪═══════╪═══════════════════════════════╪═══════════════════════════════╡\n",
      "│ -5                       ┆ 180   ┆ [{0,179}, {-5,1}]             ┆ `COUPON_DISC` should uniquely │\n",
      "│                          ┆       ┆                               ┆ determine `COUPON_MA…         │\n",
      "│ -4                       ┆ 332   ┆ [{-2,1}, {0,331}]             ┆ `COUPON_DISC` should uniquely │\n",
      "│                          ┆       ┆                               ┆ determine `COUPON_MA…         │\n",
      "│ -3                       ┆ 679   ┆ [{-1,4}, {-3,1}, … {-2,1}]    ┆ `COUPON_DISC` should uniquely │\n",
      "│                          ┆       ┆                               ┆ determine `COUPON_MA…         │\n",
      "│ -2                       ┆ 1868  ┆ [{-2,14}, {0,1851}, {-1,3}]   ┆ `COUPON_DISC` should uniquely │\n",
      "│                          ┆       ┆                               ┆ determine `COUPON_MA…         │\n",
      "│ -1                       ┆ 10602 ┆ [{null,7}, {0,10332},         ┆ `COUPON_DISC` should uniquely │\n",
      "│                          ┆       ┆ {-1,263}]                     ┆ determine `COUPON_MA…         │\n",
      "│ null                     ┆ 22566 ┆ [{0,5412}, {-1,2},            ┆ `COUPON_DISC` should uniquely │\n",
      "│                          ┆       ┆ {null,17152}]                 ┆ determine `COUPON_MA…         │\n",
      "└──────────────────────────┴───────┴───────────────────────────────┴───────────────────────────────┘\n"
     ]
    }
   ],
   "source": [
    "with pl.Config(fmt_str_lengths=50):\n",
    "    for k, v in violations.items():\n",
    "        print(k)\n",
    "        print(v)"
   ]
  },
  {
   "cell_type": "code",
   "execution_count": null,
   "metadata": {},
   "outputs": [],
   "source": []
  },
  {
   "cell_type": "markdown",
   "metadata": {},
   "source": [
    "# General Data Prescreen"
   ]
  },
  {
   "cell_type": "code",
   "execution_count": 7,
   "metadata": {},
   "outputs": [],
   "source": [
    "import dsds.prescreen as ps"
   ]
  },
  {
   "cell_type": "code",
   "execution_count": 8,
   "metadata": {},
   "outputs": [
    {
     "data": {
      "text/html": [
       "<div><style>\n",
       ".dataframe > thead > tr > th,\n",
       ".dataframe > tbody > tr > td {\n",
       "  text-align: right;\n",
       "  white-space: pre-wrap;\n",
       "}\n",
       "</style>\n",
       "<small>shape: (5, 22)</small><table border=\"1\" class=\"dataframe\"><thead><tr><th>ID</th><th>Gender</th><th>DOB</th><th>Lead_Creation_Date</th><th>City_Code</th><th>City_Category</th><th>Employer_Code</th><th>Employer_Category1</th><th>Employer_Category2</th><th>Monthly_Income</th><th>Customer_Existing_Primary_Bank_Code</th><th>Primary_Bank_Type</th><th>Contacted</th><th>Source</th><th>Source_Category</th><th>Existing_EMI</th><th>Loan_Amount</th><th>Loan_Period</th><th>Interest_Rate</th><th>EMI</th><th>Var1</th><th>Approved</th></tr><tr><td>str</td><td>str</td><td>str</td><td>date</td><td>str</td><td>str</td><td>str</td><td>str</td><td>i64</td><td>f64</td><td>str</td><td>str</td><td>str</td><td>str</td><td>str</td><td>f64</td><td>i64</td><td>i64</td><td>f64</td><td>i64</td><td>i64</td><td>i64</td></tr></thead><tbody><tr><td>&quot;APPC9049317122…</td><td>&quot;Female&quot;</td><td>&quot;23/07/79&quot;</td><td>2016-07-15</td><td>&quot;C10001&quot;</td><td>&quot;A&quot;</td><td>&quot;COM0044082&quot;</td><td>&quot;A&quot;</td><td>4</td><td>2000.0</td><td>&quot;B001&quot;</td><td>&quot;P&quot;</td><td>&quot;N&quot;</td><td>&quot;S122&quot;</td><td>&quot;G&quot;</td><td>0.0</td><td>null</td><td>null</td><td>null</td><td>null</td><td>0</td><td>0</td></tr><tr><td>&quot;APPD4061126334…</td><td>&quot;Male&quot;</td><td>&quot;07/12/86&quot;</td><td>2016-07-04</td><td>&quot;C10003&quot;</td><td>&quot;A&quot;</td><td>&quot;COM0000002&quot;</td><td>&quot;C&quot;</td><td>1</td><td>3500.0</td><td>&quot;B002&quot;</td><td>&quot;P&quot;</td><td>&quot;Y&quot;</td><td>&quot;S122&quot;</td><td>&quot;G&quot;</td><td>0.0</td><td>20000</td><td>2</td><td>13.25</td><td>953</td><td>10</td><td>0</td></tr><tr><td>&quot;APPE7028924942…</td><td>&quot;Male&quot;</td><td>&quot;10/12/82&quot;</td><td>2016-07-19</td><td>&quot;C10125&quot;</td><td>&quot;C&quot;</td><td>&quot;COM0005267&quot;</td><td>&quot;C&quot;</td><td>4</td><td>2250.0</td><td>&quot;B003&quot;</td><td>&quot;G&quot;</td><td>&quot;Y&quot;</td><td>&quot;S143&quot;</td><td>&quot;B&quot;</td><td>0.0</td><td>45000</td><td>4</td><td>null</td><td>null</td><td>0</td><td>0</td></tr><tr><td>&quot;APPF8027386553…</td><td>&quot;Male&quot;</td><td>&quot;30/01/89&quot;</td><td>2016-07-09</td><td>&quot;C10477&quot;</td><td>&quot;C&quot;</td><td>&quot;COM0004143&quot;</td><td>&quot;A&quot;</td><td>4</td><td>3500.0</td><td>&quot;B003&quot;</td><td>&quot;G&quot;</td><td>&quot;Y&quot;</td><td>&quot;S143&quot;</td><td>&quot;B&quot;</td><td>0.0</td><td>92000</td><td>5</td><td>null</td><td>null</td><td>7</td><td>0</td></tr><tr><td>&quot;APPG6099443664…</td><td>&quot;Male&quot;</td><td>&quot;19/04/85&quot;</td><td>2016-07-20</td><td>&quot;C10002&quot;</td><td>&quot;A&quot;</td><td>&quot;COM0001781&quot;</td><td>&quot;A&quot;</td><td>4</td><td>10000.0</td><td>&quot;B001&quot;</td><td>&quot;P&quot;</td><td>&quot;Y&quot;</td><td>&quot;S134&quot;</td><td>&quot;B&quot;</td><td>2500.0</td><td>50000</td><td>2</td><td>null</td><td>null</td><td>10</td><td>0</td></tr></tbody></table></div>"
      ],
      "text/plain": [
       "shape: (5, 22)\n",
       "┌────────────────┬────────┬──────────┬────────────────┬───┬───────────────┬──────┬──────┬──────────┐\n",
       "│ ID             ┆ Gender ┆ DOB      ┆ Lead_Creation_ ┆ … ┆ Interest_Rate ┆ EMI  ┆ Var1 ┆ Approved │\n",
       "│ ---            ┆ ---    ┆ ---      ┆ Date           ┆   ┆ ---           ┆ ---  ┆ ---  ┆ ---      │\n",
       "│ str            ┆ str    ┆ str      ┆ ---            ┆   ┆ f64           ┆ i64  ┆ i64  ┆ i64      │\n",
       "│                ┆        ┆          ┆ date           ┆   ┆               ┆      ┆      ┆          │\n",
       "╞════════════════╪════════╪══════════╪════════════════╪═══╪═══════════════╪══════╪══════╪══════════╡\n",
       "│ APPC9049317122 ┆ Female ┆ 23/07/79 ┆ 2016-07-15     ┆ … ┆ null          ┆ null ┆ 0    ┆ 0        │\n",
       "│ 5              ┆        ┆          ┆                ┆   ┆               ┆      ┆      ┆          │\n",
       "│ APPD4061126334 ┆ Male   ┆ 07/12/86 ┆ 2016-07-04     ┆ … ┆ 13.25         ┆ 953  ┆ 10   ┆ 0        │\n",
       "│ 4              ┆        ┆          ┆                ┆   ┆               ┆      ┆      ┆          │\n",
       "│ APPE7028924942 ┆ Male   ┆ 10/12/82 ┆ 2016-07-19     ┆ … ┆ null          ┆ null ┆ 0    ┆ 0        │\n",
       "│ 3              ┆        ┆          ┆                ┆   ┆               ┆      ┆      ┆          │\n",
       "│ APPF8027386553 ┆ Male   ┆ 30/01/89 ┆ 2016-07-09     ┆ … ┆ null          ┆ null ┆ 7    ┆ 0        │\n",
       "│ 7              ┆        ┆          ┆                ┆   ┆               ┆      ┆      ┆          │\n",
       "│ APPG6099443664 ┆ Male   ┆ 19/04/85 ┆ 2016-07-20     ┆ … ┆ null          ┆ null ┆ 10   ┆ 0        │\n",
       "│ 1              ┆        ┆          ┆                ┆   ┆               ┆      ┆      ┆          │\n",
       "└────────────────┴────────┴──────────┴────────────────┴───┴───────────────┴──────┴──────┴──────────┘"
      ]
     },
     "execution_count": 8,
     "metadata": {},
     "output_type": "execute_result"
    }
   ],
   "source": [
    "df = pl.read_csv(\"../data/train2.csv\").with_columns(\n",
    "    pl.col(\"Lead_Creation_Date\").str.to_date(format=r\"%d/%m/%y\")\n",
    ")\n",
    "df.head()"
   ]
  },
  {
   "cell_type": "code",
   "execution_count": 9,
   "metadata": {},
   "outputs": [
    {
     "data": {
      "text/html": [
       "<div><style>\n",
       ".dataframe > thead > tr > th,\n",
       ".dataframe > tbody > tr > td {\n",
       "  text-align: right;\n",
       "  white-space: pre-wrap;\n",
       "}\n",
       "</style>\n",
       "<small>shape: (21, 12)</small><table border=\"1\" class=\"dataframe\"><thead><tr><th>feature</th><th>year</th><th>month</th><th>count</th><th>5%_quantile</th><th>95%_quantile</th><th>null%</th><th>mean</th><th>null_PoP_%chg</th><th>mean_PoP_%diff</th><th>null_%chg_overall</th><th>mean_%diff_overall</th></tr><tr><td>str</td><td>i32</td><td>u32</td><td>u32</td><td>f64</td><td>f64</td><td>f64</td><td>f64</td><td>f64</td><td>f64</td><td>f64</td><td>f64</td></tr></thead><tbody><tr><td>&quot;Approved&quot;</td><td>2016</td><td>7</td><td>21576</td><td>0.0</td><td>0.0</td><td>0.0</td><td>0.014368</td><td>NaN</td><td>null</td><td>0.0</td><td>-0.018016</td></tr><tr><td>&quot;Approved&quot;</td><td>2016</td><td>8</td><td>22404</td><td>0.0</td><td>0.0</td><td>0.0</td><td>0.016247</td><td>0.0</td><td>0.130798</td><td>0.0</td><td>0.110425</td></tr><tr><td>&quot;Approved&quot;</td><td>2016</td><td>9</td><td>25733</td><td>0.0</td><td>0.0</td><td>0.0</td><td>0.013446</td><td>0.0</td><td>-0.17242</td><td>0.0</td><td>-0.081034</td></tr><tr><td>&quot;EMI&quot;</td><td>2016</td><td>7</td><td>21576</td><td>349.0</td><td>2457.0</td><td>0.645578</td><td>1072.715706</td><td>null</td><td>null</td><td>-0.051264</td><td>-0.026102</td></tr><tr><td>&quot;EMI&quot;</td><td>2016</td><td>8</td><td>22404</td><td>318.0</td><td>2594.0</td><td>0.666756</td><td>1101.787168</td><td>0.032804</td><td>0.027101</td><td>-0.020141</td><td>0.000291</td></tr><tr><td>&quot;EMI&quot;</td><td>2016</td><td>9</td><td>25733</td><td>346.0</td><td>2693.0</td><td>0.721641</td><td>1131.824934</td><td>0.082317</td><td>0.027263</td><td>0.060518</td><td>0.027562</td></tr><tr><td>&quot;Existing_EMI&quot;</td><td>2016</td><td>7</td><td>21576</td><td>0.0</td><td>1940.0</td><td>0.0</td><td>399.605358</td><td>NaN</td><td>null</td><td>-1.0</td><td>0.107159</td></tr><tr><td>&quot;Existing_EMI&quot;</td><td>2016</td><td>8</td><td>22404</td><td>0.0</td><td>1830.0</td><td>0.000089</td><td>376.982564</td><td>inf</td><td>-0.056613</td><td>-0.877975</td><td>0.044479</td></tr><tr><td>&quot;Existing_EMI&quot;</td><td>2016</td><td>9</td><td>25733</td><td>0.0</td><td>1650.0</td><td>0.001904</td><td>314.435838</td><td>20.330509</td><td>-0.165914</td><td>1.602851</td><td>-0.128815</td></tr><tr><td>&quot;Interest_Rate&quot;</td><td>2016</td><td>7</td><td>21576</td><td>13.49</td><td>24.0</td><td>0.645578</td><td>17.934755</td><td>null</td><td>null</td><td>-0.051264</td><td>-0.066558</td></tr><tr><td>&quot;Interest_Rate&quot;</td><td>2016</td><td>8</td><td>22404</td><td>13.5</td><td>31.5</td><td>0.666756</td><td>19.258886</td><td>0.032804</td><td>0.07383</td><td>-0.020141</td><td>0.002359</td></tr><tr><td>&quot;Interest_Rate&quot;</td><td>2016</td><td>9</td><td>25733</td><td>13.5</td><td>35.5</td><td>0.721641</td><td>20.531561</td><td>0.082317</td><td>0.066082</td><td>0.060518</td><td>0.068597</td></tr><tr><td>&quot;Loan_Amount&quot;</td><td>2016</td><td>7</td><td>21576</td><td>10000.0</td><td>100000.0</td><td>0.360632</td><td>39891.772381</td><td>null</td><td>null</td><td>-0.092686</td><td>0.011712</td></tr><tr><td>&quot;Loan_Amount&quot;</td><td>2016</td><td>8</td><td>22404</td><td>10000.0</td><td>100000.0</td><td>0.355115</td><td>39695.736434</td><td>-0.015298</td><td>-0.004914</td><td>-0.106567</td><td>0.00674</td></tr><tr><td>&quot;Loan_Amount&quot;</td><td>2016</td><td>9</td><td>25733</td><td>10000.0</td><td>100000.0</td><td>0.465239</td><td>38688.031393</td><td>0.310108</td><td>-0.025386</td><td>0.170494</td><td>-0.018817</td></tr><tr><td>&quot;Loan_Period&quot;</td><td>2016</td><td>7</td><td>21576</td><td>2.0</td><td>5.0</td><td>0.360632</td><td>4.073505</td><td>null</td><td>null</td><td>-0.092686</td><td>0.047004</td></tr><tr><td>&quot;Loan_Period&quot;</td><td>2016</td><td>8</td><td>22404</td><td>2.0</td><td>5.0</td><td>0.355115</td><td>3.893549</td><td>-0.015298</td><td>-0.044177</td><td>-0.106567</td><td>0.00075</td></tr><tr><td>&quot;Loan_Period&quot;</td><td>2016</td><td>9</td><td>25733</td><td>2.0</td><td>5.0</td><td>0.465239</td><td>3.704237</td><td>0.310108</td><td>-0.048622</td><td>0.170494</td><td>-0.047908</td></tr><tr><td>&quot;Var1&quot;</td><td>2016</td><td>7</td><td>21576</td><td>0.0</td><td>10.0</td><td>0.0</td><td>4.526187</td><td>NaN</td><td>null</td><td>0.0</td><td>0.146321</td></tr><tr><td>&quot;Var1&quot;</td><td>2016</td><td>8</td><td>22404</td><td>0.0</td><td>10.0</td><td>0.0</td><td>4.153767</td><td>0.0</td><td>-0.082281</td><td>0.0</td><td>0.052001</td></tr><tr><td>&quot;Var1&quot;</td><td>2016</td><td>9</td><td>25733</td><td>0.0</td><td>10.0</td><td>0.0</td><td>3.285276</td><td>0.0</td><td>-0.209085</td><td>0.0</td><td>-0.167957</td></tr></tbody></table></div>"
      ],
      "text/plain": [
       "shape: (21, 12)\n",
       "┌─────────────┬──────┬───────┬───────┬───┬──────────────┬──────────────┬─────────────┬─────────────┐\n",
       "│ feature     ┆ year ┆ month ┆ count ┆ … ┆ null_PoP_%ch ┆ mean_PoP_%di ┆ null_%chg_o ┆ mean_%diff_ │\n",
       "│ ---         ┆ ---  ┆ ---   ┆ ---   ┆   ┆ g            ┆ ff           ┆ verall      ┆ overall     │\n",
       "│ str         ┆ i32  ┆ u32   ┆ u32   ┆   ┆ ---          ┆ ---          ┆ ---         ┆ ---         │\n",
       "│             ┆      ┆       ┆       ┆   ┆ f64          ┆ f64          ┆ f64         ┆ f64         │\n",
       "╞═════════════╪══════╪═══════╪═══════╪═══╪══════════════╪══════════════╪═════════════╪═════════════╡\n",
       "│ Approved    ┆ 2016 ┆ 7     ┆ 21576 ┆ … ┆ NaN          ┆ null         ┆ 0.0         ┆ -0.018016   │\n",
       "│ Approved    ┆ 2016 ┆ 8     ┆ 22404 ┆ … ┆ 0.0          ┆ 0.130798     ┆ 0.0         ┆ 0.110425    │\n",
       "│ Approved    ┆ 2016 ┆ 9     ┆ 25733 ┆ … ┆ 0.0          ┆ -0.17242     ┆ 0.0         ┆ -0.081034   │\n",
       "│ EMI         ┆ 2016 ┆ 7     ┆ 21576 ┆ … ┆ null         ┆ null         ┆ -0.051264   ┆ -0.026102   │\n",
       "│ …           ┆ …    ┆ …     ┆ …     ┆ … ┆ …            ┆ …            ┆ …           ┆ …           │\n",
       "│ Loan_Period ┆ 2016 ┆ 9     ┆ 25733 ┆ … ┆ 0.310108     ┆ -0.048622    ┆ 0.170494    ┆ -0.047908   │\n",
       "│ Var1        ┆ 2016 ┆ 7     ┆ 21576 ┆ … ┆ NaN          ┆ null         ┆ 0.0         ┆ 0.146321    │\n",
       "│ Var1        ┆ 2016 ┆ 8     ┆ 22404 ┆ … ┆ 0.0          ┆ -0.082281    ┆ 0.0         ┆ 0.052001    │\n",
       "│ Var1        ┆ 2016 ┆ 9     ┆ 25733 ┆ … ┆ 0.0          ┆ -0.209085    ┆ 0.0         ┆ -0.167957   │\n",
       "└─────────────┴──────┴───────┴───────┴───┴──────────────┴──────────────┴─────────────┴─────────────┘"
      ]
     },
     "execution_count": 9,
     "metadata": {},
     "output_type": "execute_result"
    }
   ],
   "source": [
    "ps.over_time_report_num(\n",
    "    df,\n",
    "    time_col = \"Lead_Creation_Date\",\n",
    "    cols = [\"Interest_Rate\", \"Loan_Period\", \"Loan_Amount\", \"Existing_EMI\", \"EMI\", \"Var1\", \"Approved\"],\n",
    "    interval = \"monthly\"\n",
    ")"
   ]
  },
  {
   "cell_type": "code",
   "execution_count": 10,
   "metadata": {},
   "outputs": [
    {
     "data": {
      "text/html": [
       "<div><style>\n",
       ".dataframe > thead > tr > th,\n",
       ".dataframe > tbody > tr > td {\n",
       "  text-align: right;\n",
       "  white-space: pre-wrap;\n",
       "}\n",
       "</style>\n",
       "<small>shape: (6, 3)</small><table border=\"1\" class=\"dataframe\"><thead><tr><th>features</th><th>Approved</th><th>Var1</th></tr><tr><td>str</td><td>f64</td><td>f64</td></tr></thead><tbody><tr><td>&quot;Interest_Rate&quot;</td><td>-0.094387</td><td>-0.554138</td></tr><tr><td>&quot;Loan_Period&quot;</td><td>-0.000375</td><td>-0.065702</td></tr><tr><td>&quot;Loan_Amount&quot;</td><td>0.046502</td><td>0.307945</td></tr><tr><td>&quot;Existing_EMI&quot;</td><td>0.027821</td><td>0.00662</td></tr><tr><td>&quot;EMI&quot;</td><td>0.050129</td><td>0.293474</td></tr><tr><td>&quot;Approved&quot;</td><td>1.0</td><td>0.11244</td></tr></tbody></table></div>"
      ],
      "text/plain": [
       "shape: (6, 3)\n",
       "┌───────────────┬───────────┬───────────┐\n",
       "│ features      ┆ Approved  ┆ Var1      │\n",
       "│ ---           ┆ ---       ┆ ---       │\n",
       "│ str           ┆ f64       ┆ f64       │\n",
       "╞═══════════════╪═══════════╪═══════════╡\n",
       "│ Interest_Rate ┆ -0.094387 ┆ -0.554138 │\n",
       "│ Loan_Period   ┆ -0.000375 ┆ -0.065702 │\n",
       "│ Loan_Amount   ┆ 0.046502  ┆ 0.307945  │\n",
       "│ Existing_EMI  ┆ 0.027821  ┆ 0.00662   │\n",
       "│ EMI           ┆ 0.050129  ┆ 0.293474  │\n",
       "│ Approved      ┆ 1.0       ┆ 0.11244   │\n",
       "└───────────────┴───────────┴───────────┘"
      ]
     },
     "execution_count": 10,
     "metadata": {},
     "output_type": "execute_result"
    }
   ],
   "source": [
    "ps.corr_report(\n",
    "    df\n",
    "    , features = [\"Interest_Rate\", \"Loan_Period\", \"Loan_Amount\", \"Existing_EMI\", \"EMI\", \"Approved\"]\n",
    "    , targets = [\"Approved\", \"Var1\"]\n",
    ")"
   ]
  },
  {
   "cell_type": "code",
   "execution_count": 11,
   "metadata": {},
   "outputs": [
    {
     "data": {
      "text/html": [
       "<div><style>\n",
       ".dataframe > thead > tr > th,\n",
       ".dataframe > tbody > tr > td {\n",
       "  text-align: right;\n",
       "  white-space: pre-wrap;\n",
       "}\n",
       "</style>\n",
       "<small>shape: (0, 3)</small><table border=\"1\" class=\"dataframe\"><thead><tr><th>features</th><th>corr &gt; 0.50</th><th>corr &lt; -0.50</th></tr><tr><td>str</td><td>list[null]</td><td>list[null]</td></tr></thead><tbody></tbody></table></div>"
      ],
      "text/plain": [
       "shape: (0, 3)\n",
       "┌──────────┬─────────────┬──────────────┐\n",
       "│ features ┆ corr > 0.50 ┆ corr < -0.50 │\n",
       "│ ---      ┆ ---         ┆ ---          │\n",
       "│ str      ┆ list[null]  ┆ list[null]   │\n",
       "╞══════════╪═════════════╪══════════════╡\n",
       "└──────────┴─────────────┴──────────────┘"
      ]
     },
     "execution_count": 11,
     "metadata": {},
     "output_type": "execute_result"
    }
   ],
   "source": [
    "ps.infer_highly_correlated(\n",
    "    df, threshold=0.5\n",
    ")"
   ]
  },
  {
   "cell_type": "code",
   "execution_count": 12,
   "metadata": {},
   "outputs": [
    {
     "data": {
      "text/html": [
       "<div><style>\n",
       ".dataframe > thead > tr > th,\n",
       ".dataframe > tbody > tr > td {\n",
       "  text-align: right;\n",
       "  white-space: pre-wrap;\n",
       "}\n",
       "</style>\n",
       "<small>shape: (12, 11)</small><table border=\"1\" class=\"dataframe\"><thead><tr><th>feature</th><th>n_unique</th><th>has_null</th><th>category_w_min_count</th><th>min_count</th><th>category_w_max_count</th><th>max_count</th><th>avg_count</th><th>min_successive_diff</th><th>avg_successive_diff</th><th>max_successive_diff</th></tr><tr><td>str</td><td>u32</td><td>bool</td><td>str</td><td>u32</td><td>str</td><td>u32</td><td>f64</td><td>i64</td><td>f64</td><td>i64</td></tr></thead><tbody><tr><td>&quot;ID&quot;</td><td>69713</td><td>false</td><td>&quot;APPA1000090502…</td><td>1</td><td>&quot;APPZ9099717294…</td><td>1</td><td>1.0</td><td>0</td><td>0.0</td><td>0</td></tr><tr><td>&quot;Gender&quot;</td><td>2</td><td>false</td><td>&quot;Female&quot;</td><td>29764</td><td>&quot;Male&quot;</td><td>39949</td><td>34856.5</td><td>10185</td><td>10185.0</td><td>10185</td></tr><tr><td>&quot;DOB&quot;</td><td>10760</td><td>true</td><td>&quot;01/01/53&quot;</td><td>1</td><td>&quot;11/01/82&quot;</td><td>253</td><td>6.478903</td><td>0</td><td>0.023422</td><td>70</td></tr><tr><td>&quot;City_Code&quot;</td><td>679</td><td>true</td><td>&quot;C10435&quot;</td><td>1</td><td>&quot;C10001&quot;</td><td>10007</td><td>102.670103</td><td>0</td><td>14.758112</td><td>2823</td></tr><tr><td>&quot;City_Category&quot;</td><td>4</td><td>true</td><td>null</td><td>814</td><td>&quot;A&quot;</td><td>49885</td><td>17428.25</td><td>4374</td><td>16357.0</td><td>38191</td></tr><tr><td>&quot;Employer_Code&quot;</td><td>36618</td><td>true</td><td>&quot;COM0001195&quot;</td><td>1</td><td>null</td><td>4018</td><td>1.90379</td><td>0</td><td>0.109703</td><td>3561</td></tr><tr><td>&quot;Employer_Categ…</td><td>4</td><td>true</td><td>null</td><td>4018</td><td>&quot;A&quot;</td><td>33336</td><td>17428.25</td><td>3753</td><td>9772.666667</td><td>15280</td></tr><tr><td>&quot;Customer_Exist…</td><td>58</td><td>true</td><td>&quot;B057&quot;</td><td>1</td><td>&quot;B001&quot;</td><td>14197</td><td>1201.948276</td><td>0</td><td>249.052632</td><td>5150</td></tr><tr><td>&quot;Primary_Bank_T…</td><td>3</td><td>true</td><td>null</td><td>9391</td><td>&quot;P&quot;</td><td>39619</td><td>23237.666667</td><td>11312</td><td>15114.0</td><td>18916</td></tr><tr><td>&quot;Contacted&quot;</td><td>2</td><td>false</td><td>&quot;N&quot;</td><td>24438</td><td>&quot;Y&quot;</td><td>45275</td><td>34856.5</td><td>20837</td><td>20837.0</td><td>20837</td></tr><tr><td>&quot;Source&quot;</td><td>29</td><td>false</td><td>&quot;S130&quot;</td><td>1</td><td>&quot;S122&quot;</td><td>30941</td><td>2403.896552</td><td>0</td><td>1105.0</td><td>19403</td></tr><tr><td>&quot;Source_Categor…</td><td>7</td><td>false</td><td>&quot;A&quot;</td><td>3</td><td>&quot;B&quot;</td><td>29812</td><td>9959.0</td><td>38</td><td>4968.166667</td><td>15144</td></tr></tbody></table></div>"
      ],
      "text/plain": [
       "shape: (12, 11)\n",
       "┌────────────┬──────────┬──────────┬───────────┬───┬───────────┬───────────┬───────────┬───────────┐\n",
       "│ feature    ┆ n_unique ┆ has_null ┆ category_ ┆ … ┆ avg_count ┆ min_succe ┆ avg_succe ┆ max_succe │\n",
       "│ ---        ┆ ---      ┆ ---      ┆ w_min_cou ┆   ┆ ---       ┆ ssive_dif ┆ ssive_dif ┆ ssive_dif │\n",
       "│ str        ┆ u32      ┆ bool     ┆ nt        ┆   ┆ f64       ┆ f         ┆ f         ┆ f         │\n",
       "│            ┆          ┆          ┆ ---       ┆   ┆           ┆ ---       ┆ ---       ┆ ---       │\n",
       "│            ┆          ┆          ┆ str       ┆   ┆           ┆ i64       ┆ f64       ┆ i64       │\n",
       "╞════════════╪══════════╪══════════╪═══════════╪═══╪═══════════╪═══════════╪═══════════╪═══════════╡\n",
       "│ ID         ┆ 69713    ┆ false    ┆ APPA10000 ┆ … ┆ 1.0       ┆ 0         ┆ 0.0       ┆ 0         │\n",
       "│            ┆          ┆          ┆ 905029    ┆   ┆           ┆           ┆           ┆           │\n",
       "│ Gender     ┆ 2        ┆ false    ┆ Female    ┆ … ┆ 34856.5   ┆ 10185     ┆ 10185.0   ┆ 10185     │\n",
       "│ DOB        ┆ 10760    ┆ true     ┆ 01/01/53  ┆ … ┆ 6.478903  ┆ 0         ┆ 0.023422  ┆ 70        │\n",
       "│ City_Code  ┆ 679      ┆ true     ┆ C10435    ┆ … ┆ 102.67010 ┆ 0         ┆ 14.758112 ┆ 2823      │\n",
       "│            ┆          ┆          ┆           ┆   ┆ 3         ┆           ┆           ┆           │\n",
       "│ …          ┆ …        ┆ …        ┆ …         ┆ … ┆ …         ┆ …         ┆ …         ┆ …         │\n",
       "│ Primary_Ba ┆ 3        ┆ true     ┆ null      ┆ … ┆ 23237.666 ┆ 11312     ┆ 15114.0   ┆ 18916     │\n",
       "│ nk_Type    ┆          ┆          ┆           ┆   ┆ 667       ┆           ┆           ┆           │\n",
       "│ Contacted  ┆ 2        ┆ false    ┆ N         ┆ … ┆ 34856.5   ┆ 20837     ┆ 20837.0   ┆ 20837     │\n",
       "│ Source     ┆ 29       ┆ false    ┆ S130      ┆ … ┆ 2403.8965 ┆ 0         ┆ 1105.0    ┆ 19403     │\n",
       "│            ┆          ┆          ┆           ┆   ┆ 52        ┆           ┆           ┆           │\n",
       "│ Source_Cat ┆ 7        ┆ false    ┆ A         ┆ … ┆ 9959.0    ┆ 38        ┆ 4968.1666 ┆ 15144     │\n",
       "│ egory      ┆          ┆          ┆           ┆   ┆           ┆           ┆ 67        ┆           │\n",
       "└────────────┴──────────┴──────────┴───────────┴───┴───────────┴───────────┴───────────┴───────────┘"
      ]
     },
     "execution_count": 12,
     "metadata": {},
     "output_type": "execute_result"
    }
   ],
   "source": [
    "ps.str_cats_report(df)"
   ]
  },
  {
   "cell_type": "code",
   "execution_count": 13,
   "metadata": {},
   "outputs": [
    {
     "data": {
      "text/plain": [
       "['Lead_Creation_Date']"
      ]
     },
     "execution_count": 13,
     "metadata": {},
     "output_type": "execute_result"
    }
   ],
   "source": [
    "ps.get_datetime_cols(df)"
   ]
  },
  {
   "cell_type": "code",
   "execution_count": 14,
   "metadata": {},
   "outputs": [
    {
     "data": {
      "text/plain": [
       "True"
      ]
     },
     "execution_count": 14,
     "metadata": {},
     "output_type": "execute_result"
    }
   ],
   "source": [
    "ps.check_binary_target(df, \"Approved\")"
   ]
  },
  {
   "cell_type": "code",
   "execution_count": 15,
   "metadata": {},
   "outputs": [
    {
     "data": {
      "text/plain": [
       "['Interest_Rate', 'EMI']"
      ]
     },
     "execution_count": 15,
     "metadata": {},
     "output_type": "execute_result"
    }
   ],
   "source": [
    "ps.infer_nulls(df)"
   ]
  },
  {
   "cell_type": "code",
   "execution_count": 16,
   "metadata": {},
   "outputs": [
    {
     "data": {
      "text/plain": [
       "['ID']"
      ]
     },
     "execution_count": 16,
     "metadata": {},
     "output_type": "execute_result"
    }
   ],
   "source": [
    "ps.infer_highly_unique(df)"
   ]
  },
  {
   "cell_type": "code",
   "execution_count": 17,
   "metadata": {},
   "outputs": [
    {
     "data": {
      "text/plain": [
       "[]"
      ]
     },
     "execution_count": 17,
     "metadata": {},
     "output_type": "execute_result"
    }
   ],
   "source": [
    "ps.infer_constants(df)"
   ]
  },
  {
   "cell_type": "code",
   "execution_count": null,
   "metadata": {},
   "outputs": [],
   "source": []
  },
  {
   "cell_type": "code",
   "execution_count": null,
   "metadata": {},
   "outputs": [],
   "source": []
  }
 ],
 "metadata": {
  "kernelspec": {
   "display_name": ".venv",
   "language": "python",
   "name": "python3"
  },
  "language_info": {
   "codemirror_mode": {
    "name": "ipython",
    "version": 3
   },
   "file_extension": ".py",
   "mimetype": "text/x-python",
   "name": "python",
   "nbconvert_exporter": "python",
   "pygments_lexer": "ipython3",
   "version": "3.11.3"
  }
 },
 "nbformat": 4,
 "nbformat_minor": 2
}
