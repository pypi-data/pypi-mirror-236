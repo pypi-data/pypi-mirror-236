{
 "cells": [
  {
   "cell_type": "code",
   "execution_count": 1,
   "metadata": {},
   "outputs": [],
   "source": [
    "import polars as pl\n",
    "import pandas as pd\n",
    "import numpy as np\n",
    "from sklearn.datasets import make_classification\n",
    "import dsds.fs as fs"
   ]
  },
  {
   "cell_type": "code",
   "execution_count": 2,
   "metadata": {},
   "outputs": [],
   "source": [
    "orig_x, orig_y = make_classification(n_samples = 10_000, n_features = 500, n_informative = 60, n_redundant = 440)\n",
    "# This is a Polars dataframe. This is dsds package's favored dataframe. dsds relies on Polars heavily.\n",
    "# You must turn other dataframe formats into Polars for dsds to work.\n",
    "df = pl.from_numpy(orig_x).insert_at_idx(0, pl.Series(\"target\", orig_y)) \n",
    "# Turn it into Pandas.\n",
    "df_pd = df.to_pandas()\n",
    "target = \"target\"\n",
    "features = df.columns\n",
    "features.remove(target)"
   ]
  },
  {
   "cell_type": "code",
   "execution_count": 3,
   "metadata": {},
   "outputs": [
    {
     "name": "stderr",
     "output_type": "stream",
     "text": [
      "INFO:dsds.fs:Running lgbm to determine feature relevance...\n",
      "c:\\Users\\qtren\\Desktop\\MY\\PythonProjects\\dsds\\.venv\\Lib\\site-packages\\tqdm\\auto.py:21: TqdmWarning: IProgress not found. Please update jupyter and ipywidgets. See https://ipywidgets.readthedocs.io/en/stable/user_install.html\n",
      "  from .autonotebook import tqdm as notebook_tqdm\n",
      "[I 2023-10-21 00:20:14,110] A new study created in memory with name: no-name-1ecf01dd-02f3-4e09-bc11-6c2de5567e2a\n",
      "c:\\Users\\qtren\\Desktop\\MY\\PythonProjects\\dsds\\.venv\\Lib\\site-packages\\lightgbm\\engine.py:172: UserWarning: Found `num_iterations` in params. Will use it instead of argument\n",
      "  _log_warning(f\"Found `{alias}` in params. Will use it instead of argument\")\n",
      "[I 2023-10-21 00:20:20,643] Trial 2 finished with value: 0.24256363556586613 and parameters: {'max_depth': 2, 'num_iterations': 195, 'lambda_l1': 1.3600475714287871e-05, 'lambda_l2': 0.00032717347594624427, 'num_leaves': 139, 'feature_fraction': 0.904125420888508, 'bagging_fraction': 0.8592441425687889, 'bagging_freq': 4, 'min_child_samples': 34}. Best is trial 2 with value: 0.24256363556586613.\n",
      "[I 2023-10-21 00:20:22,783] Trial 8 finished with value: 0.20988267740835415 and parameters: {'max_depth': 14, 'num_iterations': 51, 'lambda_l1': 5.979213539481126e-06, 'lambda_l2': 9.782081714286334e-05, 'num_leaves': 153, 'feature_fraction': 0.4298206152096491, 'bagging_fraction': 0.5193584586856116, 'bagging_freq': 7, 'min_child_samples': 82}. Best is trial 8 with value: 0.20988267740835415.\n",
      "[I 2023-10-21 00:20:24,215] Trial 3 finished with value: 0.15816514224549033 and parameters: {'max_depth': 4, 'num_iterations': 140, 'lambda_l1': 4.8262499518463615, 'lambda_l2': 2.98631370472402e-07, 'num_leaves': 84, 'feature_fraction': 0.9640572874520305, 'bagging_fraction': 0.805237531370729, 'bagging_freq': 6, 'min_child_samples': 67}. Best is trial 3 with value: 0.15816514224549033.\n",
      "[I 2023-10-21 00:20:24,902] Trial 9 finished with value: 0.16336181606351202 and parameters: {'max_depth': 5, 'num_iterations': 89, 'lambda_l1': 0.9851429898501799, 'lambda_l2': 0.9066309742603993, 'num_leaves': 132, 'feature_fraction': 0.8427979187248085, 'bagging_fraction': 0.5329416318753946, 'bagging_freq': 2, 'min_child_samples': 21}. Best is trial 3 with value: 0.15816514224549033.\n",
      "[I 2023-10-21 00:20:25,339] Trial 11 finished with value: 0.21621361906588038 and parameters: {'max_depth': 5, 'num_iterations': 63, 'lambda_l1': 1.0577323798439448e-07, 'lambda_l2': 0.01636180871216914, 'num_leaves': 29, 'feature_fraction': 0.6591935002979334, 'bagging_fraction': 0.4667797115752475, 'bagging_freq': 6, 'min_child_samples': 85}. Best is trial 3 with value: 0.15816514224549033.\n",
      "[I 2023-10-21 00:20:25,451] Trial 12 pruned. Trial was pruned at iteration 76.\n",
      "[I 2023-10-21 00:20:26,098] Trial 7 finished with value: 0.13609281514763402 and parameters: {'max_depth': 16, 'num_iterations': 128, 'lambda_l1': 6.910633372296977e-07, 'lambda_l2': 0.08194866601294581, 'num_leaves': 16, 'feature_fraction': 0.8588806209945352, 'bagging_fraction': 0.47404887532803164, 'bagging_freq': 6, 'min_child_samples': 59}. Best is trial 7 with value: 0.13609281514763402.\n",
      "[I 2023-10-21 00:20:26,950] Trial 4 finished with value: 0.13476704082111246 and parameters: {'max_depth': 7, 'num_iterations': 177, 'lambda_l1': 1.3255555634796856e-07, 'lambda_l2': 1.2807155515357315e-08, 'num_leaves': 12, 'feature_fraction': 0.46620601698727593, 'bagging_fraction': 0.7176714025604516, 'bagging_freq': 3, 'min_child_samples': 5}. Best is trial 4 with value: 0.13476704082111246.\n",
      "[I 2023-10-21 00:20:29,329] Trial 13 finished with value: 0.21775152568296507 and parameters: {'max_depth': 5, 'num_iterations': 61, 'lambda_l1': 3.3878370463780722e-06, 'lambda_l2': 0.47033620627701017, 'num_leaves': 58, 'feature_fraction': 0.710516158105317, 'bagging_fraction': 0.47210795512252207, 'bagging_freq': 5, 'min_child_samples': 78}. Best is trial 4 with value: 0.13476704082111246.\n",
      "[I 2023-10-21 00:20:31,150] Trial 1 finished with value: 0.11619602435134066 and parameters: {'max_depth': 6, 'num_iterations': 137, 'lambda_l1': 0.01570414954158174, 'lambda_l2': 0.00027156859141783303, 'num_leaves': 253, 'feature_fraction': 0.9932775116650705, 'bagging_fraction': 0.9322779402634298, 'bagging_freq': 5, 'min_child_samples': 77}. Best is trial 1 with value: 0.11619602435134066.\n",
      "[I 2023-10-21 00:20:31,357] Trial 17 finished with value: 0.19887181547347219 and parameters: {'max_depth': 8, 'num_iterations': 57, 'lambda_l1': 9.481647868240607e-06, 'lambda_l2': 1.3085195192711097e-08, 'num_leaves': 22, 'feature_fraction': 0.7559559409352046, 'bagging_fraction': 0.6711800263606422, 'bagging_freq': 1, 'min_child_samples': 89}. Best is trial 1 with value: 0.11619602435134066.\n",
      "[I 2023-10-21 00:20:32,473] Trial 16 finished with value: 0.1850938625584194 and parameters: {'max_depth': 5, 'num_iterations': 73, 'lambda_l1': 1.416153643922164e-06, 'lambda_l2': 0.08138866175297123, 'num_leaves': 150, 'feature_fraction': 0.4931579988801729, 'bagging_fraction': 0.8181194125129494, 'bagging_freq': 5, 'min_child_samples': 41}. Best is trial 1 with value: 0.11619602435134066.\n",
      "[I 2023-10-21 00:20:37,471] Trial 14 finished with value: 0.16545592179727386 and parameters: {'max_depth': 9, 'num_iterations': 58, 'lambda_l1': 0.0009489955535616017, 'lambda_l2': 0.021419874579179248, 'num_leaves': 70, 'feature_fraction': 0.7264650101900956, 'bagging_fraction': 0.6693296018057964, 'bagging_freq': 2, 'min_child_samples': 47}. Best is trial 1 with value: 0.11619602435134066.\n",
      "[I 2023-10-21 00:20:40,021] Trial 15 finished with value: 0.12218798301840503 and parameters: {'max_depth': 7, 'num_iterations': 127, 'lambda_l1': 1.1614644826398877, 'lambda_l2': 0.0011832104624297584, 'num_leaves': 33, 'feature_fraction': 0.6353613066681791, 'bagging_fraction': 0.723813417199944, 'bagging_freq': 6, 'min_child_samples': 44}. Best is trial 1 with value: 0.11619602435134066.\n",
      "[I 2023-10-21 00:20:40,476] Trial 10 finished with value: 0.12153785950271143 and parameters: {'max_depth': 13, 'num_iterations': 155, 'lambda_l1': 4.57261336270542, 'lambda_l2': 0.0003052387815287909, 'num_leaves': 155, 'feature_fraction': 0.8093712474742907, 'bagging_fraction': 0.6454301947836724, 'bagging_freq': 2, 'min_child_samples': 40}. Best is trial 1 with value: 0.11619602435134066.\n",
      "[I 2023-10-21 00:20:42,342] Trial 0 finished with value: 0.11436275364963745 and parameters: {'max_depth': 8, 'num_iterations': 93, 'lambda_l1': 4.091777905066448e-08, 'lambda_l2': 1.2902397422051778e-06, 'num_leaves': 228, 'feature_fraction': 0.709848573158784, 'bagging_fraction': 0.8753440868140073, 'bagging_freq': 5, 'min_child_samples': 23}. Best is trial 0 with value: 0.11436275364963745.\n",
      "[I 2023-10-21 00:20:43,162] Trial 19 finished with value: 0.14230502070757153 and parameters: {'max_depth': 11, 'num_iterations': 98, 'lambda_l1': 3.280864857960135e-07, 'lambda_l2': 6.963031307670101, 'num_leaves': 222, 'feature_fraction': 0.9947330873080256, 'bagging_fraction': 0.8362483146805317, 'bagging_freq': 1, 'min_child_samples': 92}. Best is trial 0 with value: 0.11436275364963745.\n",
      "[I 2023-10-21 00:20:52,289] Trial 18 pruned. Trial was pruned at iteration 89.\n",
      "[I 2023-10-21 00:20:53,124] Trial 28 pruned. Trial was pruned at iteration 10.\n",
      "[I 2023-10-21 00:20:58,837] Trial 6 finished with value: 0.10113546889646736 and parameters: {'max_depth': 11, 'num_iterations': 113, 'lambda_l1': 4.122391348156611e-06, 'lambda_l2': 3.365767089597301e-08, 'num_leaves': 125, 'feature_fraction': 0.42029990156752406, 'bagging_fraction': 0.40585064173218477, 'bagging_freq': 3, 'min_child_samples': 8}. Best is trial 6 with value: 0.10113546889646736.\n",
      "[I 2023-10-21 00:21:00,019] Trial 20 finished with value: 0.09569955690379507 and parameters: {'max_depth': 11, 'num_iterations': 157, 'lambda_l1': 0.007598877099693428, 'lambda_l2': 5.966927018706765e-05, 'num_leaves': 253, 'feature_fraction': 0.9922378774186121, 'bagging_fraction': 0.9820279373838862, 'bagging_freq': 1, 'min_child_samples': 99}. Best is trial 20 with value: 0.09569955690379507.\n",
      "[I 2023-10-21 00:21:02,841] Trial 26 finished with value: 0.1179682009111488 and parameters: {'max_depth': 12, 'num_iterations': 103, 'lambda_l1': 1.038389381323093e-08, 'lambda_l2': 1.0949541448121063e-05, 'num_leaves': 254, 'feature_fraction': 0.96554638770622, 'bagging_fraction': 0.9980115227163495, 'bagging_freq': 5, 'min_child_samples': 98}. Best is trial 20 with value: 0.09569955690379507.\n",
      "[I 2023-10-21 00:21:06,364] Trial 24 finished with value: 0.09886969622293293 and parameters: {'max_depth': 11, 'num_iterations': 154, 'lambda_l1': 0.06073162797157673, 'lambda_l2': 0.000493406895191718, 'num_leaves': 229, 'feature_fraction': 0.6108347411915489, 'bagging_fraction': 0.9977941044140115, 'bagging_freq': 7, 'min_child_samples': 100}. Best is trial 20 with value: 0.09569955690379507.\n",
      "[I 2023-10-21 00:21:08,472] Trial 5 finished with value: 0.09349232646447607 and parameters: {'max_depth': 14, 'num_iterations': 196, 'lambda_l1': 0.01352000512035825, 'lambda_l2': 0.3382668616206128, 'num_leaves': 80, 'feature_fraction': 0.40583610958684113, 'bagging_fraction': 0.5473642558860334, 'bagging_freq': 2, 'min_child_samples': 10}. Best is trial 5 with value: 0.09349232646447607.\n",
      "[I 2023-10-21 00:21:09,305] Trial 25 finished with value: 0.09613894177621994 and parameters: {'max_depth': 12, 'num_iterations': 160, 'lambda_l1': 0.021504071993032284, 'lambda_l2': 3.4866499198854164e-05, 'num_leaves': 245, 'feature_fraction': 0.994044563308334, 'bagging_fraction': 0.9627652215512199, 'bagging_freq': 3, 'min_child_samples': 97}. Best is trial 5 with value: 0.09349232646447607.\n",
      "[I 2023-10-21 00:21:10,111] Trial 29 finished with value: 0.12640484100022878 and parameters: {'max_depth': 10, 'num_iterations': 83, 'lambda_l1': 1.1337438134000175e-08, 'lambda_l2': 4.2884797721272925e-06, 'num_leaves': 193, 'feature_fraction': 0.9471010044866027, 'bagging_fraction': 0.9761206924654251, 'bagging_freq': 4, 'min_child_samples': 71}. Best is trial 5 with value: 0.09349232646447607.\n",
      "[I 2023-10-21 00:21:13,019] Trial 21 finished with value: 0.09334083278252783 and parameters: {'max_depth': 9, 'num_iterations': 169, 'lambda_l1': 1.9963240803139397e-08, 'lambda_l2': 2.425838935769425e-06, 'num_leaves': 245, 'feature_fraction': 0.45655145286808796, 'bagging_fraction': 0.9979459248838979, 'bagging_freq': 3, 'min_child_samples': 41}. Best is trial 21 with value: 0.09334083278252783.\n",
      "[I 2023-10-21 00:21:23,640] Trial 27 pruned. Trial was pruned at iteration 155.\n",
      "[I 2023-10-21 00:21:23,900] Trial 22 pruned. Trial was pruned at iteration 127.\n",
      "[I 2023-10-21 00:21:25,519] Trial 23 pruned. Trial was pruned at iteration 130.\n",
      "INFO:dsds.fs:LightGBM tuning is not deterministic by default. Results may vary.\n",
      "INFO:dsds.fs:Recommended hyperparameters: {'max_depth': 9, 'num_iterations': 169, 'lambda_l1': 1.9963240803139397e-08, 'lambda_l2': 2.425838935769425e-06, 'num_leaves': 245, 'feature_fraction': 0.45655145286808796, 'bagging_fraction': 0.9979459248838979, 'bagging_freq': 3, 'min_child_samples': 41, 'verbosity': -1}\n"
     ]
    },
    {
     "name": "stdout",
     "output_type": "stream",
     "text": [
      "Best params: {'max_depth': 9, 'num_iterations': 169, 'lambda_l1': 1.9963240803139397e-08, 'lambda_l2': 2.425838935769425e-06, 'num_leaves': 245, 'feature_fraction': 0.45655145286808796, 'bagging_fraction': 0.9979459248838979, 'bagging_freq': 3, 'min_child_samples': 41}.\n",
      "Found at trial: 21.\n",
      "Time took: 41s.\n"
     ]
    },
    {
     "name": "stderr",
     "output_type": "stream",
     "text": [
      "INFO:dsds.fs:Found 500 total features to select from. Proceeding to select top 50 features.\n",
      "MRMR: 100%|██████████| 50/50 [00:01<00:00, 39.19it/s]\n"
     ]
    }
   ],
   "source": [
    "# Model Based Feature Importance.\n",
    "# LGBM hyperparameters is automatically suggested by Optuna with 30-trial tuning.\n",
    "# More user control on this tuning process will be added in the future.\n",
    "\n",
    "f1 = fs.mrmr(\n",
    "    df,\n",
    "    \"target\",\n",
    "    50,\n",
    "    relevance=\"lgbm\",\n",
    "    mrmr_strategy=\"accum_corr\"\n",
    ")"
   ]
  },
  {
   "cell_type": "code",
   "execution_count": 4,
   "metadata": {},
   "outputs": [
    {
     "name": "stderr",
     "output_type": "stream",
     "text": [
      "INFO:dsds.fs:Running f to determine feature relevance...\n",
      "INFO:dsds.fs:Found 500 total features to select from. Proceeding to select top 50 features.\n",
      "MRMR: 100%|██████████| 50/50 [00:01<00:00, 40.41it/s]\n"
     ]
    }
   ],
   "source": [
    "f2 = fs.mrmr(\n",
    "    df,\n",
    "    \"target\",\n",
    "    50,\n",
    "    relevance=\"f\",\n",
    "    mrmr_strategy= \"accum_corr\"\n",
    ")"
   ]
  },
  {
   "cell_type": "code",
   "execution_count": 8,
   "metadata": {},
   "outputs": [
    {
     "data": {
      "text/plain": [
       "0.2345679012345679"
      ]
     },
     "execution_count": 8,
     "metadata": {},
     "output_type": "execute_result"
    }
   ],
   "source": [
    "import dsds.metrics as me\n",
    "\n",
    "\n",
    "me.jaccard_similarity(f1, f2)"
   ]
  },
  {
   "cell_type": "code",
   "execution_count": null,
   "metadata": {},
   "outputs": [],
   "source": []
  }
 ],
 "metadata": {
  "kernelspec": {
   "display_name": ".venv",
   "language": "python",
   "name": "python3"
  },
  "language_info": {
   "codemirror_mode": {
    "name": "ipython",
    "version": 3
   },
   "file_extension": ".py",
   "mimetype": "text/x-python",
   "name": "python",
   "nbconvert_exporter": "python",
   "pygments_lexer": "ipython3",
   "version": "3.11.3"
  }
 },
 "nbformat": 4,
 "nbformat_minor": 2
}
