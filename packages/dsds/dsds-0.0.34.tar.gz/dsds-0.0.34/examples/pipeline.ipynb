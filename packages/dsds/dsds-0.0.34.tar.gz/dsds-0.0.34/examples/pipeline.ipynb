{
 "cells": [
  {
   "cell_type": "code",
   "execution_count": 1,
   "metadata": {},
   "outputs": [],
   "source": [
    "import dsds.prescreen as ps\n",
    "import dsds.utils as u\n",
    "import dsds.transform as t\n",
    "import dsds.encoders as enc\n",
    "import dsds.sample as sa\n",
    "import dsds.fs as fs\n",
    "import polars as pl"
   ]
  },
  {
   "attachments": {},
   "cell_type": "markdown",
   "metadata": {},
   "source": [
    "# More Complicated Pipelines that are Beyond Sklearn\n",
    "\n",
    "This is a more advanced pipeline. It contains filter, upsample steps, which are compatible with the pipeline. Note however, the pipeline\n",
    "does not persist the upsample step. Filter step is persisted.\n",
    "You can also append a model score to the dataframe. That means this model score append can be an intermediate step, which enables pipelines in which the final model depends on previous model scores. Simple passthroughs like logistic passthrough is built in for you.\n",
    "\n",
    "More functionalities will be added."
   ]
  },
  {
   "cell_type": "code",
   "execution_count": 2,
   "metadata": {},
   "outputs": [
    {
     "name": "stderr",
     "output_type": "stream",
     "text": [
      "INFO:dsds.prescreen:The following columns are dropped because they have lower than 0.5 variance. ['Male', 'Test_Constant', 'Test_BadColumn'].\n",
      "Removed a total of 3 columns.\n",
      "INFO:dsds.prescreen:The following columns are dropped because they are constants. ['Test_Str_Constant'].\n",
      "Removed a total of 1 columns.\n",
      "INFO:dsds.fs:Running fscore to determine feature relevance...\n",
      "INFO:dsds.fs:Found 13 total features to select from. Proceeding to select top 12 features.\n",
      "MRMR, fscore: 100%|██████████| 12/12 [00:00<00:00, 11995.15it/s]\n",
      "INFO:dsds.fs:Selected 12 features. There are 6 columns the algorithm cannot process. They are also returned.\n"
     ]
    },
    {
     "name": "stdout",
     "output_type": "stream",
     "text": [
      "Output is sorted in order of selection (max relevance min redundancy).\n"
     ]
    },
    {
     "name": "stderr",
     "output_type": "stream",
     "text": [
      "Mutual Info:   0%|          | 0/12 [00:00<?, ?it/s]WARNING:dsds.fs:Found column Area Income Band has null values. It is filled with the mean of the column. It is highly recommended that you impute the column beforehand.\n",
      "Mutual Info: 100%|██████████| 12/12 [00:00<00:00, 155.39it/s]\n",
      "INFO:dsds.fs:Selected 3 features. There are 5 columns the algorithm cannot process. They are also returned.\n",
      "INFO:dsds.prescreen:The following columns are dropped. ['City', 'Country', 'Timestamp', 'Ad Topic Line'].\n",
      "Removed a total of 4 columns.\n"
     ]
    }
   ],
   "source": [
    "# `data` is Lazy because input is Lazy. All pipe functions work with LazyFrames\n",
    "data:pl.LazyFrame = (\n",
    "    pl.scan_csv(\"../data/advertising.csv\").sort(by=\"id\")\n",
    "    .pipe(ps.drop_by_var, threshold = 0.5, target = \"Clicked on Ad\")\n",
    "    .pipe(ps.filter, condition = pl.col(\"Age\") > 30, persist=True)\n",
    "    .pipe(ps.drop_constants)\n",
    "    .pipe(enc.force_binary)\n",
    "    .pipe(sa.simple_upsample, subgroup = pl.col(\"One_Hot_Test\") != 'A', count = 200)\n",
    "    .pipe(enc.one_hot_encode, cols= [\"One_Hot_Test\"])\n",
    "    .pipe(t.impute, cols=[\"Area Income\", \"Daily Internet Usage\", \"Daily Internet Usage Band\"], strategy=\"median\")\n",
    "    .pipe(t.impute, cols=[\"Daily Internet Usage\"], strategy = \"mean\")\n",
    "    .pipe(u.logistic_passthrough, col = \"Daily Internet Usage\", coeff=0.5, const=-100.)\n",
    "    .pipe(fs.mrmr_selector, target = \"Clicked on Ad\", top_k = 12, strategy=\"fscore\")\n",
    "    .pipe(fs.mutual_info_selector, target = \"Clicked on Ad\", top_k = 3)\n",
    "    .pipe(ps.drop_if_exists, [\"Ad Topic Line\", \"City\", \"Country\", \"Timestamp\"])\n",
    "    .pipe(ps.rename, rename_dict={\"Daily Internet Usage_logistic\":\"Daily Internet Usage Logistic Score\"})\n",
    ")\n"
   ]
  },
  {
   "cell_type": "code",
   "execution_count": 3,
   "metadata": {},
   "outputs": [
    {
     "data": {
      "image/svg+xml": [
       "<svg xmlns=\"http://www.w3.org/2000/svg\" xmlns:xlink=\"http://www.w3.org/1999/xlink\" width=\"974pt\" height=\"870pt\" viewBox=\"0.00 0.00 974.00 870.00\">\n",
       "<g id=\"graph0\" class=\"graph\" transform=\"scale(1 1) rotate(0) translate(4 866)\">\n",
       "<title>polars_query</title>\n",
       "<polygon fill=\"white\" stroke=\"transparent\" points=\"-4,4 -4,-866 970,-866 970,4 -4,4\"/>\n",
       "<!-- π 4/4 [(0, 0)] -->\n",
       "<g id=\"node1\" class=\"node\">\n",
       "<title>π 4/4 [(0, 0)]</title>\n",
       "<polygon fill=\"none\" stroke=\"black\" points=\"510,-862 456,-862 456,-826 510,-826 510,-862\"/>\n",
       "<text text-anchor=\"middle\" x=\"483\" y=\"-840.3\" font-family=\"Times New Roman,serif\" font-size=\"14.00\">π 4/4</text>\n",
       "</g>\n",
       "<!-- FAST_PROJECT: [Daily Internet Usage, Daily Internet Usage_logistic, Daily Time Spent on Site, Clicked on Ad] [(0, 1)] -->\n",
       "<g id=\"node2\" class=\"node\">\n",
       "<title>FAST_PROJECT: [Daily Internet Usage, Daily Internet Usage_logistic, Daily Time Spent on Site, Clicked on Ad] [(0, 1)]</title>\n",
       "<polygon fill=\"none\" stroke=\"black\" points=\"803.5,-790 162.5,-790 162.5,-754 803.5,-754 803.5,-790\"/>\n",
       "<text text-anchor=\"middle\" x=\"483\" y=\"-768.3\" font-family=\"Times New Roman,serif\" font-size=\"14.00\">FAST_PROJECT: [Daily Internet Usage, Daily Internet Usage_logistic, Daily Time Spent on Site, Clicked on Ad]</text>\n",
       "</g>\n",
       "<!-- π 4/4 [(0, 0)]&#45;&#45;FAST_PROJECT: [Daily Internet Usage, Daily Internet Usage_logistic, Daily Time Spent on Site, Clicked on Ad] [(0, 1)] -->\n",
       "<g id=\"edge1\" class=\"edge\">\n",
       "<title>π 4/4 [(0, 0)]--FAST_PROJECT: [Daily Internet Usage, Daily Internet Usage_logistic, Daily Time Spent on Site, Clicked on Ad] [(0, 1)]</title>\n",
       "<path fill=\"none\" stroke=\"black\" d=\"M483,-825.7C483,-814.85 483,-800.92 483,-790.1\"/>\n",
       "</g>\n",
       "<!-- WITH COLUMNS [&quot;Daily Internet Usage_logistic&quot;] [(0, 2)] -->\n",
       "<g id=\"node3\" class=\"node\">\n",
       "<title>WITH COLUMNS [&quot;Daily Internet Usage_logistic&quot;] [(0, 2)]</title>\n",
       "<polygon fill=\"none\" stroke=\"black\" points=\"637,-718 329,-718 329,-682 637,-682 637,-718\"/>\n",
       "<text text-anchor=\"middle\" x=\"483\" y=\"-696.3\" font-family=\"Times New Roman,serif\" font-size=\"14.00\">WITH COLUMNS [&quot;Daily Internet Usage_logistic&quot;]</text>\n",
       "</g>\n",
       "<!-- FAST_PROJECT: [Daily Internet Usage, Daily Internet Usage_logistic, Daily Time Spent on Site, Clicked on Ad] [(0, 1)]&#45;&#45;WITH COLUMNS [&quot;Daily Internet Usage_logistic&quot;] [(0, 2)] -->\n",
       "<g id=\"edge2\" class=\"edge\">\n",
       "<title>FAST_PROJECT: [Daily Internet Usage, Daily Internet Usage_logistic, Daily Time Spent on Site, Clicked on Ad] [(0, 1)]--WITH COLUMNS [&quot;Daily Internet Usage_logistic&quot;] [(0, 2)]</title>\n",
       "<path fill=\"none\" stroke=\"black\" d=\"M483,-753.7C483,-742.85 483,-728.92 483,-718.1\"/>\n",
       "</g>\n",
       "<!-- WITH COLUMNS [&quot;Daily Internet Usage&quot;] [(0, 3)] -->\n",
       "<g id=\"node4\" class=\"node\">\n",
       "<title>WITH COLUMNS [&quot;Daily Internet Usage&quot;] [(0, 3)]</title>\n",
       "<polygon fill=\"none\" stroke=\"black\" points=\"613.5,-646 352.5,-646 352.5,-610 613.5,-610 613.5,-646\"/>\n",
       "<text text-anchor=\"middle\" x=\"483\" y=\"-624.3\" font-family=\"Times New Roman,serif\" font-size=\"14.00\">WITH COLUMNS [&quot;Daily Internet Usage&quot;]</text>\n",
       "</g>\n",
       "<!-- WITH COLUMNS [&quot;Daily Internet Usage_logistic&quot;] [(0, 2)]&#45;&#45;WITH COLUMNS [&quot;Daily Internet Usage&quot;] [(0, 3)] -->\n",
       "<g id=\"edge3\" class=\"edge\">\n",
       "<title>WITH COLUMNS [&quot;Daily Internet Usage_logistic&quot;] [(0, 2)]--WITH COLUMNS [&quot;Daily Internet Usage&quot;] [(0, 3)]</title>\n",
       "<path fill=\"none\" stroke=\"black\" d=\"M483,-681.7C483,-670.85 483,-656.92 483,-646.1\"/>\n",
       "</g>\n",
       "<!-- WITH COLUMNS [&quot;Daily Internet Usage&quot;] [(0, 4)] -->\n",
       "<g id=\"node5\" class=\"node\">\n",
       "<title>WITH COLUMNS [&quot;Daily Internet Usage&quot;] [(0, 4)]</title>\n",
       "<polygon fill=\"none\" stroke=\"black\" points=\"613.5,-574 352.5,-574 352.5,-538 613.5,-538 613.5,-574\"/>\n",
       "<text text-anchor=\"middle\" x=\"483\" y=\"-552.3\" font-family=\"Times New Roman,serif\" font-size=\"14.00\">WITH COLUMNS [&quot;Daily Internet Usage&quot;]</text>\n",
       "</g>\n",
       "<!-- WITH COLUMNS [&quot;Daily Internet Usage&quot;] [(0, 3)]&#45;&#45;WITH COLUMNS [&quot;Daily Internet Usage&quot;] [(0, 4)] -->\n",
       "<g id=\"edge4\" class=\"edge\">\n",
       "<title>WITH COLUMNS [&quot;Daily Internet Usage&quot;] [(0, 3)]--WITH COLUMNS [&quot;Daily Internet Usage&quot;] [(0, 4)]</title>\n",
       "<path fill=\"none\" stroke=\"black\" d=\"M483,-609.7C483,-598.85 483,-584.92 483,-574.1\"/>\n",
       "</g>\n",
       "<!-- FAST_PROJECT: [Daily Time Spent on Site, Daily Internet Usage, Clicked on Ad] [(0, 5)] -->\n",
       "<g id=\"node6\" class=\"node\">\n",
       "<title>FAST_PROJECT: [Daily Time Spent on Site, Daily Internet Usage, Clicked on Ad] [(0, 5)]</title>\n",
       "<polygon fill=\"none\" stroke=\"black\" points=\"720,-502 246,-502 246,-466 720,-466 720,-502\"/>\n",
       "<text text-anchor=\"middle\" x=\"483\" y=\"-480.3\" font-family=\"Times New Roman,serif\" font-size=\"14.00\">FAST_PROJECT: [Daily Time Spent on Site, Daily Internet Usage, Clicked on Ad]</text>\n",
       "</g>\n",
       "<!-- WITH COLUMNS [&quot;Daily Internet Usage&quot;] [(0, 4)]&#45;&#45;FAST_PROJECT: [Daily Time Spent on Site, Daily Internet Usage, Clicked on Ad] [(0, 5)] -->\n",
       "<g id=\"edge5\" class=\"edge\">\n",
       "<title>WITH COLUMNS [&quot;Daily Internet Usage&quot;] [(0, 4)]--FAST_PROJECT: [Daily Time Spent on Site, Daily Internet Usage, Clicked on Ad] [(0, 5)]</title>\n",
       "<path fill=\"none\" stroke=\"black\" d=\"M483,-537.7C483,-526.85 483,-512.92 483,-502.1\"/>\n",
       "</g>\n",
       "<!-- UNION [(0, 6)] -->\n",
       "<g id=\"node7\" class=\"node\">\n",
       "<title>UNION [(0, 6)]</title>\n",
       "<polygon fill=\"none\" stroke=\"black\" points=\"513,-430 453,-430 453,-394 513,-394 513,-430\"/>\n",
       "<text text-anchor=\"middle\" x=\"483\" y=\"-408.3\" font-family=\"Times New Roman,serif\" font-size=\"14.00\">UNION</text>\n",
       "</g>\n",
       "<!-- FAST_PROJECT: [Daily Time Spent on Site, Daily Internet Usage, Clicked on Ad] [(0, 5)]&#45;&#45;UNION [(0, 6)] -->\n",
       "<g id=\"edge6\" class=\"edge\">\n",
       "<title>FAST_PROJECT: [Daily Time Spent on Site, Daily Internet Usage, Clicked on Ad] [(0, 5)]--UNION [(0, 6)]</title>\n",
       "<path fill=\"none\" stroke=\"black\" d=\"M483,-465.7C483,-454.85 483,-440.92 483,-430.1\"/>\n",
       "</g>\n",
       "<!-- FAST_PROJECT: [Daily Internet Usage, Daily Time Spent on Site, Clicked on Ad] [(0, 7)] -->\n",
       "<g id=\"node8\" class=\"node\">\n",
       "<title>FAST_PROJECT: [Daily Internet Usage, Daily Time Spent on Site, Clicked on Ad] [(0, 7)]</title>\n",
       "<polygon fill=\"none\" stroke=\"black\" points=\"474,-358 0,-358 0,-322 474,-322 474,-358\"/>\n",
       "<text text-anchor=\"middle\" x=\"237\" y=\"-336.3\" font-family=\"Times New Roman,serif\" font-size=\"14.00\">FAST_PROJECT: [Daily Internet Usage, Daily Time Spent on Site, Clicked on Ad]</text>\n",
       "</g>\n",
       "<!-- UNION [(0, 6)]&#45;&#45;FAST_PROJECT: [Daily Internet Usage, Daily Time Spent on Site, Clicked on Ad] [(0, 7)] -->\n",
       "<g id=\"edge7\" class=\"edge\">\n",
       "<title>UNION [(0, 6)]--FAST_PROJECT: [Daily Internet Usage, Daily Time Spent on Site, Clicked on Ad] [(0, 7)]</title>\n",
       "<path fill=\"none\" stroke=\"black\" d=\"M452.84,-402.42C414.22,-391.43 346.41,-372.13 297.08,-358.1\"/>\n",
       "</g>\n",
       "<!-- FAST_PROJECT: [Daily Internet Usage, Daily Time Spent on Site, Clicked on Ad] [(1, 7)] -->\n",
       "<g id=\"node13\" class=\"node\">\n",
       "<title>FAST_PROJECT: [Daily Internet Usage, Daily Time Spent on Site, Clicked on Ad] [(1, 7)]</title>\n",
       "<polygon fill=\"none\" stroke=\"black\" points=\"966,-358 492,-358 492,-322 966,-322 966,-358\"/>\n",
       "<text text-anchor=\"middle\" x=\"729\" y=\"-336.3\" font-family=\"Times New Roman,serif\" font-size=\"14.00\">FAST_PROJECT: [Daily Internet Usage, Daily Time Spent on Site, Clicked on Ad]</text>\n",
       "</g>\n",
       "<!-- UNION [(0, 6)]&#45;&#45;FAST_PROJECT: [Daily Internet Usage, Daily Time Spent on Site, Clicked on Ad] [(1, 7)] -->\n",
       "<g id=\"edge12\" class=\"edge\">\n",
       "<title>UNION [(0, 6)]--FAST_PROJECT: [Daily Internet Usage, Daily Time Spent on Site, Clicked on Ad] [(1, 7)]</title>\n",
       "<path fill=\"none\" stroke=\"black\" d=\"M513.16,-402.42C551.78,-391.43 619.59,-372.13 668.92,-358.1\"/>\n",
       "</g>\n",
       "<!-- WITH COLUMNS [&quot;Clicked on Ad&quot;] [(0, 8)] -->\n",
       "<g id=\"node9\" class=\"node\">\n",
       "<title>WITH COLUMNS [&quot;Clicked on Ad&quot;] [(0, 8)]</title>\n",
       "<polygon fill=\"none\" stroke=\"black\" points=\"350.5,-277.5 123.5,-277.5 123.5,-241.5 350.5,-241.5 350.5,-277.5\"/>\n",
       "<text text-anchor=\"middle\" x=\"237\" y=\"-255.8\" font-family=\"Times New Roman,serif\" font-size=\"14.00\">WITH COLUMNS [&quot;Clicked on Ad&quot;]</text>\n",
       "</g>\n",
       "<!-- FAST_PROJECT: [Daily Internet Usage, Daily Time Spent on Site, Clicked on Ad] [(0, 7)]&#45;&#45;WITH COLUMNS [&quot;Clicked on Ad&quot;] [(0, 8)] -->\n",
       "<g id=\"edge8\" class=\"edge\">\n",
       "<title>FAST_PROJECT: [Daily Internet Usage, Daily Time Spent on Site, Clicked on Ad] [(0, 7)]--WITH COLUMNS [&quot;Clicked on Ad&quot;] [(0, 8)]</title>\n",
       "<path fill=\"none\" stroke=\"black\" d=\"M237,-321.97C237,-308.8 237,-290.66 237,-277.5\"/>\n",
       "</g>\n",
       "<!-- FAST_PROJECT: [Daily Time Spent on Site, Daily Internet Usage, Clicked on Ad] [(0, 9)] -->\n",
       "<g id=\"node10\" class=\"node\">\n",
       "<title>FAST_PROJECT: [Daily Time Spent on Site, Daily Internet Usage, Clicked on Ad] [(0, 9)]</title>\n",
       "<polygon fill=\"none\" stroke=\"black\" points=\"474,-197 0,-197 0,-161 474,-161 474,-197\"/>\n",
       "<text text-anchor=\"middle\" x=\"237\" y=\"-175.3\" font-family=\"Times New Roman,serif\" font-size=\"14.00\">FAST_PROJECT: [Daily Time Spent on Site, Daily Internet Usage, Clicked on Ad]</text>\n",
       "</g>\n",
       "<!-- WITH COLUMNS [&quot;Clicked on Ad&quot;] [(0, 8)]&#45;&#45;FAST_PROJECT: [Daily Time Spent on Site, Daily Internet Usage, Clicked on Ad] [(0, 9)] -->\n",
       "<g id=\"edge9\" class=\"edge\">\n",
       "<title>WITH COLUMNS [&quot;Clicked on Ad&quot;] [(0, 8)]--FAST_PROJECT: [Daily Time Spent on Site, Daily Internet Usage, Clicked on Ad] [(0, 9)]</title>\n",
       "<path fill=\"none\" stroke=\"black\" d=\"M237,-241.47C237,-228.3 237,-210.16 237,-197\"/>\n",
       "</g>\n",
       "<!-- SORT BY [col(&quot;id&quot;)] [(0, 10)] -->\n",
       "<g id=\"node11\" class=\"node\">\n",
       "<title>SORT BY [col(&quot;id&quot;)] [(0, 10)]</title>\n",
       "<polygon fill=\"none\" stroke=\"black\" points=\"304,-125 170,-125 170,-89 304,-89 304,-125\"/>\n",
       "<text text-anchor=\"middle\" x=\"237\" y=\"-103.3\" font-family=\"Times New Roman,serif\" font-size=\"14.00\">SORT BY [col(&quot;id&quot;)]</text>\n",
       "</g>\n",
       "<!-- FAST_PROJECT: [Daily Time Spent on Site, Daily Internet Usage, Clicked on Ad] [(0, 9)]&#45;&#45;SORT BY [col(&quot;id&quot;)] [(0, 10)] -->\n",
       "<g id=\"edge10\" class=\"edge\">\n",
       "<title>FAST_PROJECT: [Daily Time Spent on Site, Daily Internet Usage, Clicked on Ad] [(0, 9)]--SORT BY [col(&quot;id&quot;)] [(0, 10)]</title>\n",
       "<path fill=\"none\" stroke=\"black\" d=\"M237,-160.7C237,-149.85 237,-135.92 237,-125.1\"/>\n",
       "</g>\n",
       "<!-- Csv SCAN ../data/advertising.csv;\n",
       "π 5/19;\n",
       "σ (col(&quot;Age&quot;)) &gt; (30) [(0, 11)] -->\n",
       "<g id=\"node12\" class=\"node\">\n",
       "<title>Csv SCAN ../data/advertising.csv;\n",
       "π 5/19;\n",
       "σ (col(&quot;Age&quot;)) &gt; (30) [(0, 11)]</title>\n",
       "<polygon fill=\"none\" stroke=\"black\" points=\"339,-53 135,-53 135,0 339,0 339,-53\"/>\n",
       "<text text-anchor=\"middle\" x=\"237\" y=\"-37.8\" font-family=\"Times New Roman,serif\" font-size=\"14.00\">Csv SCAN ../data/advertising.csv;</text>\n",
       "<text text-anchor=\"middle\" x=\"237\" y=\"-22.8\" font-family=\"Times New Roman,serif\" font-size=\"14.00\">π 5/19;</text>\n",
       "<text text-anchor=\"middle\" x=\"237\" y=\"-7.8\" font-family=\"Times New Roman,serif\" font-size=\"14.00\">σ (col(&quot;Age&quot;)) &gt; (30)</text>\n",
       "</g>\n",
       "<!-- SORT BY [col(&quot;id&quot;)] [(0, 10)]&#45;&#45;Csv SCAN ../data/advertising.csv;\n",
       "π 5/19;\n",
       "σ (col(&quot;Age&quot;)) &gt; (30) [(0, 11)] -->\n",
       "<g id=\"edge11\" class=\"edge\">\n",
       "<title>SORT BY [col(&quot;id&quot;)] [(0, 10)]--Csv SCAN ../data/advertising.csv;\n",
       "π 5/19;\n",
       "σ (col(&quot;Age&quot;)) &gt; (30) [(0, 11)]</title>\n",
       "<path fill=\"none\" stroke=\"black\" d=\"M237,-88.97C237,-78.51 237,-64.9 237,-53.16\"/>\n",
       "</g>\n",
       "<!-- TABLE\n",
       "π 3/15;\n",
       "σ &#45;; [(1, 8)] -->\n",
       "<g id=\"node14\" class=\"node\">\n",
       "<title>TABLE\n",
       "π 3/15;\n",
       "σ -; [(1, 8)]</title>\n",
       "<polygon fill=\"none\" stroke=\"black\" points=\"758.5,-286 699.5,-286 699.5,-233 758.5,-233 758.5,-286\"/>\n",
       "<text text-anchor=\"middle\" x=\"729\" y=\"-270.8\" font-family=\"Times New Roman,serif\" font-size=\"14.00\">TABLE</text>\n",
       "<text text-anchor=\"middle\" x=\"729\" y=\"-255.8\" font-family=\"Times New Roman,serif\" font-size=\"14.00\">π 3/15;</text>\n",
       "<text text-anchor=\"middle\" x=\"729\" y=\"-240.8\" font-family=\"Times New Roman,serif\" font-size=\"14.00\">σ -;</text>\n",
       "</g>\n",
       "<!-- FAST_PROJECT: [Daily Internet Usage, Daily Time Spent on Site, Clicked on Ad] [(1, 7)]&#45;&#45;TABLE\n",
       "π 3/15;\n",
       "σ &#45;; [(1, 8)] -->\n",
       "<g id=\"edge13\" class=\"edge\">\n",
       "<title>FAST_PROJECT: [Daily Internet Usage, Daily Time Spent on Site, Clicked on Ad] [(1, 7)]--TABLE\n",
       "π 3/15;\n",
       "σ -; [(1, 8)]</title>\n",
       "<path fill=\"none\" stroke=\"black\" d=\"M729,-321.97C729,-311.51 729,-297.9 729,-286.16\"/>\n",
       "</g>\n",
       "</g>\n",
       "</svg>"
      ],
      "text/plain": [
       "<IPython.core.display.SVG object>"
      ]
     },
     "metadata": {},
     "output_type": "display_data"
    }
   ],
   "source": [
    "data.show_graph() # Polars magic! Requires graphviz package to be installed"
   ]
  },
  {
   "cell_type": "code",
   "execution_count": 4,
   "metadata": {},
   "outputs": [
    {
     "name": "stdout",
     "output_type": "stream",
     "text": [
      " SELECT [col(\"Daily Internet Usage\"), col(\"Daily Internet Usage_logistic\").alias(\"Daily Internet Usage Logistic Score\"), col(\"Daily Time Spent on Site\"), col(\"Clicked on Ad\")] FROM\n",
      "  FAST_PROJECT: [Daily Internet Usage, Daily Internet Usage_logistic, Daily Time Spent on Site, Clicked on Ad]\n",
      "     WITH_COLUMNS:\n",
      "     [[(1.0) / ([(1.0) + ([(-1.0) * ([([(col(\"Daily Internet Usage\")) * (0.5)]) + (-100.0)])].exp())])].alias(\"Daily Internet Usage_logistic\")]\n",
      "       WITH_COLUMNS:\n",
      "       [col(\"Daily Internet Usage\").fill_null([171.166689])]\n",
      "         WITH_COLUMNS:\n",
      "         [col(\"Daily Internet Usage\").fill_null([162.255])]\n",
      "          FAST_PROJECT: [Daily Time Spent on Site, Daily Internet Usage, Clicked on Ad]\n",
      "            UNION\n",
      "              PLAN 0:\n",
      "                FAST_PROJECT: [Daily Internet Usage, Daily Time Spent on Site, Clicked on Ad]\n",
      "                   WITH_COLUMNS:\n",
      "                   [.when([(col(\"Clicked on Ad\")) == (0)]).then(0).otherwise(1).alias(\"Clicked on Ad\")]\n",
      "                    FAST_PROJECT: [Daily Time Spent on Site, Daily Internet Usage, Clicked on Ad]\n",
      "                      SORT BY [col(\"id\")]\n",
      "\n",
      "                          Csv SCAN ../data/advertising.csv\n",
      "                          PROJECT 5/19 COLUMNS\n",
      "                          SELECTION: [(col(\"Age\")) > (30)]\n",
      "              PLAN 1:\n",
      "                FAST_PROJECT: [Daily Internet Usage, Daily Time Spent on Site, Clicked on Ad]\n",
      "                  DF [\"id\", \"Daily Time Spent on Site\", \"Age\", \"Area Income\"]; PROJECT 3/15 COLUMNS; SELECTION: \"None\"\n",
      "            END UNION\n"
     ]
    }
   ],
   "source": [
    "print(data.explain()) # Comes for free from Polars"
   ]
  },
  {
   "cell_type": "code",
   "execution_count": 5,
   "metadata": {},
   "outputs": [
    {
     "data": {
      "text/plain": [
       "[Step(action='with_columns', with_columns=[<polars.expr.expr.Expr object at 0x000002D53641B650>, <polars.expr.expr.Expr object at 0x000002D5368EC050>, <polars.expr.expr.Expr object at 0x000002D5372F74D0>], map_dict=None, filter=None, select=None, drop=None, model_step=None),\n",
       " Step(action='with_columns', with_columns=[<polars.expr.expr.Expr object at 0x000002D538455C50>], map_dict=None, filter=None, select=None, drop=None, model_step=None),\n",
       " Step(action='with_columns', with_columns=[<polars.expr.expr.Expr object at 0x000002D538455E90>], map_dict=None, filter=None, select=None, drop=None, model_step=None),\n",
       " Step(action='select', with_columns=None, map_dict=None, filter=None, select=['Daily Internet Usage', 'Daily Time Spent on Site', 'Daily Internet Usage Band', 'Daily Internet Usage_logistic', 'Area Income', 'Age', 'Area Income Band', 'Age Band', 'One_Hot_Test_B', 'One_Hot_Test_A', 'Test_Binary', 'id', 'Ad Topic Line', 'City', 'Country', 'Timestamp', 'Clicked on Ad'], drop=None, model_step=None),\n",
       " Step(action='select', with_columns=None, map_dict=None, filter=None, select=['Daily Internet Usage', 'Daily Internet Usage_logistic', 'Daily Time Spent on Site', 'Ad Topic Line', 'City', 'Country', 'Timestamp', 'Clicked on Ad'], drop=None, model_step=None),\n",
       " Step(action='select', with_columns=None, map_dict=None, filter=None, select=[<polars.expr.expr.Expr object at 0x000002D5384A2010>, <polars.expr.expr.Expr object at 0x000002D5384A2350>, <polars.expr.expr.Expr object at 0x000002D5384A3110>, <polars.expr.expr.Expr object at 0x000002D5384A27D0>], drop=None, model_step=None)]"
      ]
     },
     "execution_count": 5,
     "metadata": {},
     "output_type": "execute_result"
    }
   ],
   "source": [
    "# get all steps in the pipeline that involves \"Daily Internet Usage\" in order\n",
    "all_mentions = data.blueprint.get_by_mention(\"Daily Internet Usage\")\n",
    "all_mentions"
   ]
  },
  {
   "cell_type": "code",
   "execution_count": 6,
   "metadata": {},
   "outputs": [
    {
     "name": "stdout",
     "output_type": "stream",
     "text": [
      "with_columns\n",
      "Details: \n",
      "(1) col(\"Area Income\").fill_null([56180.932791])\n",
      "(2) col(\"Daily Internet Usage\").fill_null([162.255])\n",
      "(3) col(\"Daily Internet Usage Band\").fill_null([8.0])\n",
      "\n",
      "with_columns\n",
      "Details: \n",
      "(1) col(\"Daily Internet Usage\").fill_null([171.166689])\n",
      "\n",
      "with_columns\n",
      "Details: \n",
      "(1) [(1.0) / ([(1.0) + ([(-1.0) * ([([(col(\"Daily Internet Usage\")) * (0.5)]) + (-100.0)])].exp())])].alias(\"Daily Internet Usage_logistic\")\n",
      "\n",
      "select\n",
      "['Daily Internet Usage', 'Daily Time Spent on Site', 'Daily Internet Usage Band', 'Daily Internet Usage_logistic', 'Area Income', 'Age', 'Area Income Band', 'Age Band', 'One_Hot_Test_B', 'One_Hot_Test_A', 'Test_Binary', 'id', 'Ad Topic Line', 'City', 'Country', 'Timestamp', 'Clicked on Ad']\n",
      "select\n",
      "['Daily Internet Usage', 'Daily Internet Usage_logistic', 'Daily Time Spent on Site', 'Ad Topic Line', 'City', 'Country', 'Timestamp', 'Clicked on Ad']\n",
      "select\n",
      "col(\"Daily Internet Usage\")\n",
      "col(\"Daily Internet Usage_logistic\").alias(\"Daily Internet Usage Logistic Score\")\n",
      "col(\"Daily Time Spent on Site\")\n",
      "col(\"Clicked on Ad\")\n",
      "\n",
      "\n"
     ]
    }
   ],
   "source": [
    "# if you want detailed expression, you can do\n",
    "for s in all_mentions:\n",
    "    print(s.action)\n",
    "    print(s)"
   ]
  },
  {
   "cell_type": "code",
   "execution_count": 7,
   "metadata": {},
   "outputs": [
    {
     "data": {
      "text/html": [
       "<div><style>\n",
       ".dataframe > thead > tr > th,\n",
       ".dataframe > tbody > tr > td {\n",
       "  text-align: right;\n",
       "  white-space: pre-wrap;\n",
       "}\n",
       "</style>\n",
       "<small>shape: (5, 4)</small><table border=\"1\" class=\"dataframe\"><thead><tr><th>Daily Internet Usage</th><th>Daily Internet Usage Logistic Score</th><th>Daily Time Spent on Site</th><th>Clicked on Ad</th></tr><tr><td>f64</td><td>f64</td><td>f64</td><td>u8</td></tr></thead><tbody><tr><td>256.09</td><td>1.0</td><td>68.95</td><td>0</td></tr><tr><td>193.77</td><td>0.042493</td><td>80.23</td><td>0</td></tr><tr><td>225.58</td><td>0.999997</td><td>68.37</td><td>0</td></tr><tr><td>208.36</td><td>0.984932</td><td>88.91</td><td>0</td></tr><tr><td>131.76</td><td>1.5201e-15</td><td>66.0</td><td>1</td></tr></tbody></table></div>"
      ],
      "text/plain": [
       "shape: (5, 4)\n",
       "┌──────────────────────┬────────────────────────────────┬──────────────────────────┬───────────────┐\n",
       "│ Daily Internet Usage ┆ Daily Internet Usage Logistic  ┆ Daily Time Spent on Site ┆ Clicked on Ad │\n",
       "│ ---                  ┆ Sc…                            ┆ ---                      ┆ ---           │\n",
       "│ f64                  ┆ ---                            ┆ f64                      ┆ u8            │\n",
       "│                      ┆ f64                            ┆                          ┆               │\n",
       "╞══════════════════════╪════════════════════════════════╪══════════════════════════╪═══════════════╡\n",
       "│ 256.09               ┆ 1.0                            ┆ 68.95                    ┆ 0             │\n",
       "│ 193.77               ┆ 0.042493                       ┆ 80.23                    ┆ 0             │\n",
       "│ 225.58               ┆ 0.999997                       ┆ 68.37                    ┆ 0             │\n",
       "│ 208.36               ┆ 0.984932                       ┆ 88.91                    ┆ 0             │\n",
       "│ 131.76               ┆ 1.5201e-15                     ┆ 66.0                     ┆ 1             │\n",
       "└──────────────────────┴────────────────────────────────┴──────────────────────────┴───────────────┘"
      ]
     },
     "execution_count": 7,
     "metadata": {},
     "output_type": "execute_result"
    }
   ],
   "source": [
    "data.limit(5).collect()"
   ]
  },
  {
   "cell_type": "code",
   "execution_count": 8,
   "metadata": {},
   "outputs": [],
   "source": [
    "features = [c for c in data.columns if c != \"Clicked on Ad\"]"
   ]
  },
  {
   "cell_type": "code",
   "execution_count": 9,
   "metadata": {},
   "outputs": [
    {
     "name": "stdout",
     "output_type": "stream",
     "text": [
      "Step 0 | Action: with_columns\n",
      "Details: \n",
      "(1) .when([(col(\"One_Hot_Test\")) == (Utf8(A))]).then(1.strict_cast(UInt8)).otherwise(0.strict_cast(UInt8)).alias(\"One_Hot_Test_A\")\n",
      "(2) .when([(col(\"One_Hot_Test\")) == (Utf8(B))]).then(1.strict_cast(UInt8)).otherwise(0.strict_cast(UInt8)).alias(\"One_Hot_Test_B\")\n",
      "(3) .when([(col(\"One_Hot_Test\")) == (Utf8(C))]).then(1.strict_cast(UInt8)).otherwise(0.strict_cast(UInt8)).alias(\"One_Hot_Test_C\")\n",
      "\n",
      "\n",
      "Step 1 | Action: drop\n",
      "['One_Hot_Test']\n",
      "\n",
      "Step 2 | Action: with_columns\n",
      "Details: \n",
      "(1) col(\"Area Income\").fill_null([56180.932791])\n",
      "(2) col(\"Daily Internet Usage\").fill_null([162.255])\n",
      "(3) col(\"Daily Internet Usage Band\").fill_null([8.0])\n",
      "\n",
      "\n",
      "Step 3 | Action: with_columns\n",
      "Details: \n",
      "(1) col(\"Daily Internet Usage\").fill_null([171.166689])\n",
      "\n",
      "\n",
      "Step 4 | Action: with_columns\n",
      "Details: \n",
      "(1) [(1.0) / ([(1.0) + ([(-1.0) * ([([(col(\"Daily Internet Usage\")) * (0.5)]) + (-100.0)])].exp())])].alias(\"Daily Internet Usage_logistic\")\n",
      "\n",
      "\n",
      "Step 5 | Action: select\n",
      "['Daily Internet Usage', 'Daily Time Spent on Site', 'Daily Internet Usage Band', 'Daily Internet Usage_logistic', 'Area Income', 'Age', 'Area Income Band', 'Age Band', 'One_Hot_Test_B', 'One_Hot_Test_A', 'Test_Binary', 'id', 'Ad Topic Line', 'City', 'Country', 'Timestamp', 'Clicked on Ad']\n",
      "\n",
      "Step 6 | Action: select\n",
      "['Daily Internet Usage', 'Daily Internet Usage_logistic', 'Daily Time Spent on Site', 'Ad Topic Line', 'City', 'Country', 'Timestamp', 'Clicked on Ad']\n",
      "\n",
      "Step 7 | Action: drop\n",
      "['City', 'Country', 'Timestamp', 'Ad Topic Line']\n",
      "\n",
      "Step 8 | Action: select\n",
      "col(\"Daily Internet Usage\")\n",
      "col(\"Daily Internet Usage_logistic\").alias(\"Daily Internet Usage Logistic Score\")\n",
      "col(\"Daily Time Spent on Site\")\n",
      "col(\"Clicked on Ad\")\n",
      "\n",
      "\n",
      "\n",
      "\n"
     ]
    }
   ],
   "source": [
    "data.blueprint"
   ]
  },
  {
   "cell_type": "code",
   "execution_count": 10,
   "metadata": {},
   "outputs": [],
   "source": [
    "x = data.collect()\n",
    "y = x.drop_in_place(\"Clicked on Ad\")"
   ]
  },
  {
   "cell_type": "code",
   "execution_count": 11,
   "metadata": {},
   "outputs": [
    {
     "data": {
      "text/html": [
       "<style>#sk-container-id-1 {color: black;background-color: white;}#sk-container-id-1 pre{padding: 0;}#sk-container-id-1 div.sk-toggleable {background-color: white;}#sk-container-id-1 label.sk-toggleable__label {cursor: pointer;display: block;width: 100%;margin-bottom: 0;padding: 0.3em;box-sizing: border-box;text-align: center;}#sk-container-id-1 label.sk-toggleable__label-arrow:before {content: \"▸\";float: left;margin-right: 0.25em;color: #696969;}#sk-container-id-1 label.sk-toggleable__label-arrow:hover:before {color: black;}#sk-container-id-1 div.sk-estimator:hover label.sk-toggleable__label-arrow:before {color: black;}#sk-container-id-1 div.sk-toggleable__content {max-height: 0;max-width: 0;overflow: hidden;text-align: left;background-color: #f0f8ff;}#sk-container-id-1 div.sk-toggleable__content pre {margin: 0.2em;color: black;border-radius: 0.25em;background-color: #f0f8ff;}#sk-container-id-1 input.sk-toggleable__control:checked~div.sk-toggleable__content {max-height: 200px;max-width: 100%;overflow: auto;}#sk-container-id-1 input.sk-toggleable__control:checked~label.sk-toggleable__label-arrow:before {content: \"▾\";}#sk-container-id-1 div.sk-estimator input.sk-toggleable__control:checked~label.sk-toggleable__label {background-color: #d4ebff;}#sk-container-id-1 div.sk-label input.sk-toggleable__control:checked~label.sk-toggleable__label {background-color: #d4ebff;}#sk-container-id-1 input.sk-hidden--visually {border: 0;clip: rect(1px 1px 1px 1px);clip: rect(1px, 1px, 1px, 1px);height: 1px;margin: -1px;overflow: hidden;padding: 0;position: absolute;width: 1px;}#sk-container-id-1 div.sk-estimator {font-family: monospace;background-color: #f0f8ff;border: 1px dotted black;border-radius: 0.25em;box-sizing: border-box;margin-bottom: 0.5em;}#sk-container-id-1 div.sk-estimator:hover {background-color: #d4ebff;}#sk-container-id-1 div.sk-parallel-item::after {content: \"\";width: 100%;border-bottom: 1px solid gray;flex-grow: 1;}#sk-container-id-1 div.sk-label:hover label.sk-toggleable__label {background-color: #d4ebff;}#sk-container-id-1 div.sk-serial::before {content: \"\";position: absolute;border-left: 1px solid gray;box-sizing: border-box;top: 0;bottom: 0;left: 50%;z-index: 0;}#sk-container-id-1 div.sk-serial {display: flex;flex-direction: column;align-items: center;background-color: white;padding-right: 0.2em;padding-left: 0.2em;position: relative;}#sk-container-id-1 div.sk-item {position: relative;z-index: 1;}#sk-container-id-1 div.sk-parallel {display: flex;align-items: stretch;justify-content: center;background-color: white;position: relative;}#sk-container-id-1 div.sk-item::before, #sk-container-id-1 div.sk-parallel-item::before {content: \"\";position: absolute;border-left: 1px solid gray;box-sizing: border-box;top: 0;bottom: 0;left: 50%;z-index: -1;}#sk-container-id-1 div.sk-parallel-item {display: flex;flex-direction: column;z-index: 1;position: relative;background-color: white;}#sk-container-id-1 div.sk-parallel-item:first-child::after {align-self: flex-end;width: 50%;}#sk-container-id-1 div.sk-parallel-item:last-child::after {align-self: flex-start;width: 50%;}#sk-container-id-1 div.sk-parallel-item:only-child::after {width: 0;}#sk-container-id-1 div.sk-dashed-wrapped {border: 1px dashed gray;margin: 0 0.4em 0.5em 0.4em;box-sizing: border-box;padding-bottom: 0.4em;background-color: white;}#sk-container-id-1 div.sk-label label {font-family: monospace;font-weight: bold;display: inline-block;line-height: 1.2em;}#sk-container-id-1 div.sk-label-container {text-align: center;}#sk-container-id-1 div.sk-container {/* jupyter's `normalize.less` sets `[hidden] { display: none; }` but bootstrap.min.css set `[hidden] { display: none !important; }` so we also need the `!important` here to be able to override the default hidden behavior on the sphinx rendered scikit-learn.org. See: https://github.com/scikit-learn/scikit-learn/issues/21755 */display: inline-block !important;position: relative;}#sk-container-id-1 div.sk-text-repr-fallback {display: none;}</style><div id=\"sk-container-id-1\" class=\"sk-top-container\"><div class=\"sk-text-repr-fallback\"><pre>RandomForestClassifier(max_depth=4, n_estimators=30, n_jobs=-1)</pre><b>In a Jupyter environment, please rerun this cell to show the HTML representation or trust the notebook. <br />On GitHub, the HTML representation is unable to render, please try loading this page with nbviewer.org.</b></div><div class=\"sk-container\" hidden><div class=\"sk-item\"><div class=\"sk-estimator sk-toggleable\"><input class=\"sk-toggleable__control sk-hidden--visually\" id=\"sk-estimator-id-1\" type=\"checkbox\" checked><label for=\"sk-estimator-id-1\" class=\"sk-toggleable__label sk-toggleable__label-arrow\">RandomForestClassifier</label><div class=\"sk-toggleable__content\"><pre>RandomForestClassifier(max_depth=4, n_estimators=30, n_jobs=-1)</pre></div></div></div></div></div>"
      ],
      "text/plain": [
       "RandomForestClassifier(max_depth=4, n_estimators=30, n_jobs=-1)"
      ]
     },
     "execution_count": 11,
     "metadata": {},
     "output_type": "execute_result"
    }
   ],
   "source": [
    "# Train and tune a model outside the data pipeline\n",
    "from sklearn.ensemble import RandomForestClassifier\n",
    "rf = RandomForestClassifier(max_depth=4, n_estimators=30, n_jobs= -1)\n",
    "rf.fit(x.select(features), y)\n"
   ]
  },
  {
   "cell_type": "code",
   "execution_count": 12,
   "metadata": {},
   "outputs": [],
   "source": [
    "# add the TRAINED model to the end of the data pipeline\n",
    "\n",
    "final_df = data.pipe(\n",
    "    u.append_classif_score, \n",
    "    model = rf, \n",
    "    features = features,\n",
    "    target = \"Clicked on Ad\", \n",
    ")"
   ]
  },
  {
   "cell_type": "code",
   "execution_count": 13,
   "metadata": {},
   "outputs": [
    {
     "name": "stdout",
     "output_type": "stream",
     "text": [
      "Step 7 | Action: drop\n",
      "['City', 'Country', 'Timestamp', 'Ad Topic Line']\n",
      "\n",
      "Step 8 | Action: select\n",
      "col(\"Daily Internet Usage\")\n",
      "col(\"Daily Internet Usage_logistic\").alias(\"Daily Internet Usage Logistic Score\")\n",
      "col(\"Daily Time Spent on Site\")\n",
      "col(\"Clicked on Ad\")\n",
      "\n",
      "\n",
      "\n",
      "Step 9 | Action: classif\n",
      "Model: <class 'sklearn.ensemble._forest.RandomForestClassifier'>\n",
      "Using the features ['Daily Internet Usage', 'Daily Internet Usage Logistic Score', 'Daily Time Spent on Site']\n",
      "Appends model_score to dataframe.\n",
      "\n",
      "\n"
     ]
    }
   ],
   "source": [
    "# Show last 3 steps.\n",
    "final_df.blueprint.show(-3)"
   ]
  },
  {
   "cell_type": "code",
   "execution_count": 14,
   "metadata": {},
   "outputs": [
    {
     "data": {
      "text/html": [
       "<div><style>\n",
       ".dataframe > thead > tr > th,\n",
       ".dataframe > tbody > tr > td {\n",
       "  text-align: right;\n",
       "  white-space: pre-wrap;\n",
       "}\n",
       "</style>\n",
       "<small>shape: (5, 5)</small><table border=\"1\" class=\"dataframe\"><thead><tr><th>Daily Internet Usage</th><th>Daily Internet Usage Logistic Score</th><th>Daily Time Spent on Site</th><th>Clicked on Ad</th><th>model_score</th></tr><tr><td>f64</td><td>f64</td><td>f64</td><td>u8</td><td>f64</td></tr></thead><tbody><tr><td>256.09</td><td>1.0</td><td>68.95</td><td>0</td><td>0.110405</td></tr><tr><td>193.77</td><td>0.042493</td><td>80.23</td><td>0</td><td>0.140211</td></tr><tr><td>225.58</td><td>0.999997</td><td>68.37</td><td>0</td><td>0.019329</td></tr><tr><td>208.36</td><td>0.984932</td><td>88.91</td><td>0</td><td>0.053447</td></tr><tr><td>131.76</td><td>1.5201e-15</td><td>66.0</td><td>1</td><td>0.971847</td></tr></tbody></table></div>"
      ],
      "text/plain": [
       "shape: (5, 5)\n",
       "┌──────────────────────┬──────────────────────┬──────────────────────┬───────────────┬─────────────┐\n",
       "│ Daily Internet Usage ┆ Daily Internet Usage ┆ Daily Time Spent on  ┆ Clicked on Ad ┆ model_score │\n",
       "│ ---                  ┆ Logistic Sc…         ┆ Site                 ┆ ---           ┆ ---         │\n",
       "│ f64                  ┆ ---                  ┆ ---                  ┆ u8            ┆ f64         │\n",
       "│                      ┆ f64                  ┆ f64                  ┆               ┆             │\n",
       "╞══════════════════════╪══════════════════════╪══════════════════════╪═══════════════╪═════════════╡\n",
       "│ 256.09               ┆ 1.0                  ┆ 68.95                ┆ 0             ┆ 0.110405    │\n",
       "│ 193.77               ┆ 0.042493             ┆ 80.23                ┆ 0             ┆ 0.140211    │\n",
       "│ 225.58               ┆ 0.999997             ┆ 68.37                ┆ 0             ┆ 0.019329    │\n",
       "│ 208.36               ┆ 0.984932             ┆ 88.91                ┆ 0             ┆ 0.053447    │\n",
       "│ 131.76               ┆ 1.5201e-15           ┆ 66.0                 ┆ 1             ┆ 0.971847    │\n",
       "└──────────────────────┴──────────────────────┴──────────────────────┴───────────────┴─────────────┘"
      ]
     },
     "execution_count": 14,
     "metadata": {},
     "output_type": "execute_result"
    }
   ],
   "source": [
    "final_df.limit(5).collect()"
   ]
  },
  {
   "cell_type": "code",
   "execution_count": 15,
   "metadata": {},
   "outputs": [],
   "source": [
    "# The modelled pipeline can be pickled as long as the \n",
    "# model can be pickled\n",
    "# Temporarily has a pickle problem\n",
    "final_df.blueprint.preserve(\"modelled_pipe.pkl\")"
   ]
  },
  {
   "cell_type": "code",
   "execution_count": 16,
   "metadata": {},
   "outputs": [
    {
     "data": {
      "text/plain": [
       "dsds.blueprint.Blueprint"
      ]
     },
     "execution_count": 16,
     "metadata": {},
     "output_type": "execute_result"
    }
   ],
   "source": [
    "import dsds.blueprint as bp\n",
    "pipe = bp.from_pkl(\"modelled_pipe.pkl\")\n",
    "type(pipe)"
   ]
  },
  {
   "cell_type": "code",
   "execution_count": 17,
   "metadata": {},
   "outputs": [],
   "source": [
    "processed_df = pipe.apply(\n",
    "    pl.scan_csv(\"../data/advertising.csv\")\n",
    "    , collect = True\n",
    ")"
   ]
  },
  {
   "cell_type": "code",
   "execution_count": 18,
   "metadata": {},
   "outputs": [
    {
     "data": {
      "text/html": [
       "<div><style>\n",
       ".dataframe > thead > tr > th,\n",
       ".dataframe > tbody > tr > td {\n",
       "  text-align: right;\n",
       "  white-space: pre-wrap;\n",
       "}\n",
       "</style>\n",
       "<small>shape: (1_000, 5)</small><table border=\"1\" class=\"dataframe\"><thead><tr><th>Daily Internet Usage</th><th>Daily Internet Usage Logistic Score</th><th>Daily Time Spent on Site</th><th>Clicked on Ad</th><th>model_score</th></tr><tr><td>f64</td><td>f64</td><td>f64</td><td>i64</td><td>f64</td></tr></thead><tbody><tr><td>256.09</td><td>1.0</td><td>68.95</td><td>0</td><td>0.110405</td></tr><tr><td>193.77</td><td>0.042493</td><td>80.23</td><td>0</td><td>0.140211</td></tr><tr><td>236.5</td><td>1.0</td><td>69.47</td><td>0</td><td>0.027154</td></tr><tr><td>245.89</td><td>1.0</td><td>74.15</td><td>0</td><td>0.04042</td></tr><tr><td>225.58</td><td>0.999997</td><td>68.37</td><td>0</td><td>0.019329</td></tr><tr><td>226.74</td><td>0.999998</td><td>59.99</td><td>0</td><td>0.350208</td></tr><tr><td>208.36</td><td>0.984932</td><td>88.91</td><td>0</td><td>0.053447</td></tr><tr><td>131.76</td><td>1.5201e-15</td><td>66.0</td><td>1</td><td>0.971847</td></tr><tr><td>221.51</td><td>0.999979</td><td>74.53</td><td>0</td><td>0.045178</td></tr><tr><td>183.82</td><td>0.000306</td><td>69.88</td><td>0</td><td>0.15786</td></tr><tr><td>122.02</td><td>1.1664e-17</td><td>47.64</td><td>1</td><td>0.995181</td></tr><tr><td>230.87</td><td>1.0</td><td>83.07</td><td>0</td><td>0.018033</td></tr><tr><td>&hellip;</td><td>&hellip;</td><td>&hellip;</td><td>&hellip;</td><td>&hellip;</td></tr><tr><td>204.4</td><td>0.90025</td><td>89.71</td><td>0</td><td>0.142935</td></tr><tr><td>256.4</td><td>1.0</td><td>70.96</td><td>0</td><td>0.118738</td></tr><tr><td>165.62</td><td>3.4236e-8</td><td>35.79</td><td>1</td><td>0.90455</td></tr><tr><td>140.67</td><td>1.3081e-13</td><td>38.96</td><td>1</td><td>0.995181</td></tr><tr><td>123.62</td><td>2.5959e-17</td><td>69.17</td><td>1</td><td>0.989563</td></tr><tr><td>227.63</td><td>0.999999</td><td>64.2</td><td>0</td><td>0.085298</td></tr><tr><td>173.01</td><td>0.000001</td><td>43.7</td><td>1</td><td>0.971821</td></tr><tr><td>208.58</td><td>0.98648</td><td>72.97</td><td>1</td><td>0.026694</td></tr><tr><td>134.42</td><td>5.7476e-15</td><td>51.3</td><td>1</td><td>0.994969</td></tr><tr><td>120.37</td><td>5.1117e-18</td><td>51.63</td><td>1</td><td>0.961636</td></tr><tr><td>187.95</td><td>0.002412</td><td>55.55</td><td>0</td><td>0.845065</td></tr><tr><td>178.35</td><td>0.00002</td><td>45.01</td><td>1</td><td>0.792631</td></tr></tbody></table></div>"
      ],
      "text/plain": [
       "shape: (1_000, 5)\n",
       "┌──────────────────────┬──────────────────────┬──────────────────────┬───────────────┬─────────────┐\n",
       "│ Daily Internet Usage ┆ Daily Internet Usage ┆ Daily Time Spent on  ┆ Clicked on Ad ┆ model_score │\n",
       "│ ---                  ┆ Logistic Sc…         ┆ Site                 ┆ ---           ┆ ---         │\n",
       "│ f64                  ┆ ---                  ┆ ---                  ┆ i64           ┆ f64         │\n",
       "│                      ┆ f64                  ┆ f64                  ┆               ┆             │\n",
       "╞══════════════════════╪══════════════════════╪══════════════════════╪═══════════════╪═════════════╡\n",
       "│ 256.09               ┆ 1.0                  ┆ 68.95                ┆ 0             ┆ 0.110405    │\n",
       "│ 193.77               ┆ 0.042493             ┆ 80.23                ┆ 0             ┆ 0.140211    │\n",
       "│ 236.5                ┆ 1.0                  ┆ 69.47                ┆ 0             ┆ 0.027154    │\n",
       "│ 245.89               ┆ 1.0                  ┆ 74.15                ┆ 0             ┆ 0.04042     │\n",
       "│ …                    ┆ …                    ┆ …                    ┆ …             ┆ …           │\n",
       "│ 134.42               ┆ 5.7476e-15           ┆ 51.3                 ┆ 1             ┆ 0.994969    │\n",
       "│ 120.37               ┆ 5.1117e-18           ┆ 51.63                ┆ 1             ┆ 0.961636    │\n",
       "│ 187.95               ┆ 0.002412             ┆ 55.55                ┆ 0             ┆ 0.845065    │\n",
       "│ 178.35               ┆ 0.00002              ┆ 45.01                ┆ 1             ┆ 0.792631    │\n",
       "└──────────────────────┴──────────────────────┴──────────────────────┴───────────────┴─────────────┘"
      ]
     },
     "execution_count": 18,
     "metadata": {},
     "output_type": "execute_result"
    }
   ],
   "source": [
    "processed_df"
   ]
  },
  {
   "cell_type": "code",
   "execution_count": null,
   "metadata": {},
   "outputs": [],
   "source": []
  }
 ],
 "metadata": {
  "kernelspec": {
   "display_name": "my_py11",
   "language": "python",
   "name": "python3"
  },
  "language_info": {
   "codemirror_mode": {
    "name": "ipython",
    "version": 3
   },
   "file_extension": ".py",
   "mimetype": "text/x-python",
   "name": "python",
   "nbconvert_exporter": "python",
   "pygments_lexer": "ipython3",
   "version": "3.11.3"
  },
  "orig_nbformat": 4
 },
 "nbformat": 4,
 "nbformat_minor": 2
}
