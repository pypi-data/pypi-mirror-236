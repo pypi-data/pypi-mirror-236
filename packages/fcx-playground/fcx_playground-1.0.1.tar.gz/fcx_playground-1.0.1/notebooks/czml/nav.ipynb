{
 "cells": [
  {
   "cell_type": "code",
   "execution_count": null,
   "metadata": {},
   "outputs": [],
   "source": [
    "# for abstract modules exposure\n",
    "import sys\n",
    "\n",
    "sys.path.append(\"../../src/\")\n",
    "\n",
    "for line in sys.path:\n",
    "     print(line)"
   ]
  },
  {
   "cell_type": "markdown",
   "metadata": {},
   "source": [
    "CZML DATA PROCESSER FOR NAV DATA"
   ]
  },
  {
   "cell_type": "code",
   "execution_count": null,
   "metadata": {},
   "outputs": [],
   "source": [
    "from fcx_playground.fcx_dataprocess.czml_nav import NavCZMLDataProcess"
   ]
  },
  {
   "cell_type": "markdown",
   "metadata": {},
   "source": [
    "Testings:"
   ]
  },
  {
   "cell_type": "code",
   "execution_count": null,
   "metadata": {},
   "outputs": [],
   "source": [
    "obj = NavCZMLDataProcess()"
   ]
  },
  {
   "cell_type": "code",
   "execution_count": null,
   "metadata": {},
   "outputs": [],
   "source": [
    "# ingest\n",
    "data = obj.ingest(\"./temp/goesrplt_naver2_IWG1_20170322-0136.txt\")\n",
    "data"
   ]
  },
  {
   "cell_type": "code",
   "execution_count": null,
   "metadata": {},
   "outputs": [],
   "source": [
    "pre_processed_data = obj.preprocess(data)\n",
    "pre_processed_data"
   ]
  },
  {
   "cell_type": "code",
   "execution_count": null,
   "metadata": {},
   "outputs": [],
   "source": [
    "czml_str = obj.prep_visualization(pre_processed_data)\n",
    "czml_str"
   ]
  },
  {
   "cell_type": "markdown",
   "metadata": {},
   "source": [
    "Save the string to a new file"
   ]
  },
  {
   "cell_type": "code",
   "execution_count": null,
   "metadata": {},
   "outputs": [],
   "source": [
    "import os\n",
    "\n",
    "tempdir = 'temp' \n",
    "if not os.path.exists(tempdir):\n",
    "    os.makedirs(tempdir)\n",
    "    \n",
    "with open(\"temp/nav_czml.czml\", \"w\") as czml_file:\n",
    "    czml_file.write(czml_str)"
   ]
  },
  {
   "cell_type": "markdown",
   "metadata": {},
   "source": [
    "Display in Cesium\n"
   ]
  },
  {
   "cell_type": "code",
   "execution_count": null,
   "metadata": {},
   "outputs": [],
   "source": [
    "from fcx_playground.fcx_cesium_viz.czml_viz import CZMLViz"
   ]
  },
  {
   "cell_type": "code",
   "execution_count": null,
   "metadata": {},
   "outputs": [],
   "source": [
    "czml_viz_obj = CZMLViz()\n",
    "nav_czml_cesium_html = czml_viz_obj.generate_html(\"./temp/nav_czml.czml\")"
   ]
  },
  {
   "cell_type": "code",
   "execution_count": null,
   "metadata": {},
   "outputs": [],
   "source": [
    "print(nav_czml_cesium_html)"
   ]
  },
  {
   "cell_type": "code",
   "execution_count": null,
   "metadata": {},
   "outputs": [],
   "source": [
    "import IPython.display\n",
    "\n",
    "IPython.display.HTML(data = nav_czml_cesium_html)"
   ]
  },
  {
   "cell_type": "code",
   "execution_count": null,
   "metadata": {},
   "outputs": [],
   "source": [
    "# remove at the end of the notebook; needed for module exposure\n",
    "sys.path.remove(\"../../src/\")"
   ]
  }
 ],
 "metadata": {
  "kernelspec": {
   "display_name": "itsc-fcx",
   "language": "python",
   "name": "python3"
  },
  "language_info": {
   "codemirror_mode": {
    "name": "ipython",
    "version": 3
   },
   "file_extension": ".py",
   "mimetype": "text/x-python",
   "name": "python",
   "nbconvert_exporter": "python",
   "pygments_lexer": "ipython3",
   "version": "3.10.6"
  },
  "orig_nbformat": 4
 },
 "nbformat": 4,
 "nbformat_minor": 2
}
