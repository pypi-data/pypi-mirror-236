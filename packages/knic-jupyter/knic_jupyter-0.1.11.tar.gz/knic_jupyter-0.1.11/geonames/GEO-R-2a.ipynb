{
 "cells": [
  {
   "cell_type": "markdown",
   "id": "76957f8d-4580-4631-880b-73481c6a0880",
   "metadata": {},
   "source": [
    "Initialize geonames notebook"
   ]
  },
  {
   "cell_type": "code",
   "execution_count": null,
   "id": "d072f855-1a3d-4881-a082-b2171205e7a5",
   "metadata": {},
   "outputs": [],
   "source": [
    "from kgtk.functions import kgtk\n",
    "edges_path = 'data/geonames_sample.tsv.gz'"
   ]
  },
  {
   "cell_type": "markdown",
   "id": "7e17940b-650a-4987-9a26-61652ad0304d",
   "metadata": {},
   "source": [
    "Find all cities"
   ]
  },
  {
   "cell_type": "code",
   "execution_count": null,
   "id": "d7d77827-8bdd-4ce3-b935-5dbf6a23edd4",
   "metadata": {},
   "outputs": [],
   "source": [
    "# INSTRUCTION: Change to find all mountains\n",
    "# CODE GEO-R-2a.1\n",
    "df = kgtk(f\"\"\"\n",
    "  query -i {edges_path}\n",
    "  --match '(loc)-[:name]->(name), (loc)-[:featurecode]->(fc)'\n",
    "  --return 'name as name'\n",
    "  --where 'fc = \"PPL\"'\n",
    "\"\"\")"
   ]
  },
  {
   "cell_type": "markdown",
   "id": "577408ed-eddb-44e7-9985-71f24b7054c6",
   "metadata": {},
   "source": [
    "Print results of the geonames query"
   ]
  },
  {
   "cell_type": "code",
   "execution_count": null,
   "id": "b3f9ab3b-2f34-43a2-8c6e-d1412c2b1c55",
   "metadata": {},
   "outputs": [],
   "source": [
    "print(df)"
   ]
  }
 ],
 "metadata": {
  "kernelspec": {
   "display_name": "m12-evaluation",
   "language": "python",
   "name": "m12-evaluation"
  },
  "language_info": {
   "codemirror_mode": {
    "name": "ipython",
    "version": 3
   },
   "file_extension": ".py",
   "mimetype": "text/x-python",
   "name": "python",
   "nbconvert_exporter": "python",
   "pygments_lexer": "ipython3",
   "version": "3.9.16"
  }
 },
 "nbformat": 4,
 "nbformat_minor": 5
}
