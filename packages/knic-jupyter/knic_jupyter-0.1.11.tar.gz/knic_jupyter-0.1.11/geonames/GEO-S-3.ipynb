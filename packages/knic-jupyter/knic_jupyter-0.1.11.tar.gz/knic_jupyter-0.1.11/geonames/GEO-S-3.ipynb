{
 "cells": [
  {
   "cell_type": "markdown",
   "id": "e572ba88-a18f-443d-9aca-7ad967f98da6",
   "metadata": {},
   "source": [
    "Initialize geonames notebook"
   ]
  },
  {
   "cell_type": "code",
   "execution_count": null,
   "id": "2a160037-1b8b-4dd5-98b4-fbc1558beda4",
   "metadata": {},
   "outputs": [],
   "source": [
    "from kgtk.functions import kgtk\n",
    "edges_path = 'data/geonames_sample.tsv.gz'"
   ]
  },
  {
   "cell_type": "markdown",
   "id": "873a42fd-1ea7-4cc7-9763-dba6486706fe",
   "metadata": {},
   "source": [
    "Find feature code for lake"
   ]
  },
  {
   "cell_type": "code",
   "execution_count": null,
   "id": "8b4f24c6-9f8b-498b-8a46-111893ed7608",
   "metadata": {},
   "outputs": [],
   "source": [
    "# INSTRUCTION: Find feature code for lake\n",
    "# CODE GEO-S-3.1"
   ]
  },
  {
   "cell_type": "markdown",
   "id": "ec7b87c7-6756-4d2b-80fa-7fbd29945a34",
   "metadata": {},
   "source": [
    "Find all lakes and return their names"
   ]
  },
  {
   "cell_type": "code",
   "execution_count": null,
   "id": "d7d77827-8bdd-4ce3-b935-5dbf6a23edd4",
   "metadata": {},
   "outputs": [],
   "source": [
    "# INSTRUCTION: Find all lakes and return their names\n",
    "# CODE GEO-S-3.2"
   ]
  },
  {
   "cell_type": "markdown",
   "id": "4ccb90ef-a809-40fd-b650-7f637033cb27",
   "metadata": {},
   "source": [
    "Print results of the geonames query"
   ]
  },
  {
   "cell_type": "code",
   "execution_count": null,
   "id": "0252fb33-11fa-4058-bbf3-94a17d2d58cf",
   "metadata": {},
   "outputs": [],
   "source": [
    "print(df)"
   ]
  }
 ],
 "metadata": {
  "kernelspec": {
   "display_name": "m12-evaluation",
   "language": "python",
   "name": "m12-evaluation"
  },
  "language_info": {
   "codemirror_mode": {
    "name": "ipython",
    "version": 3
   },
   "file_extension": ".py",
   "mimetype": "text/x-python",
   "name": "python",
   "nbconvert_exporter": "python",
   "pygments_lexer": "ipython3",
   "version": "3.9.16"
  }
 },
 "nbformat": 4,
 "nbformat_minor": 5
}
