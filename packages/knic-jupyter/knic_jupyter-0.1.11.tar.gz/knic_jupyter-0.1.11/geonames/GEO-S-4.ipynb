{
 "cells": [
  {
   "cell_type": "markdown",
   "id": "d2825f67-4376-4824-89af-00c73d519caf",
   "metadata": {},
   "source": [
    "Initialize geonames notebook"
   ]
  },
  {
   "cell_type": "code",
   "execution_count": null,
   "id": "d072f855-1a3d-4881-a082-b2171205e7a5",
   "metadata": {},
   "outputs": [],
   "source": [
    "from kgtk.functions import kgtk\n",
    "edges_path = 'data/geonames_sample.tsv.gz'"
   ]
  },
  {
   "cell_type": "markdown",
   "id": "1a865729-bb60-4895-9bc3-f81e44df1cbd",
   "metadata": {},
   "source": [
    "Find country code for Zimbabwe"
   ]
  },
  {
   "cell_type": "code",
   "execution_count": null,
   "id": "9ceaffd6-6461-4df6-8d16-be0a587afe33",
   "metadata": {},
   "outputs": [],
   "source": [
    "# INSTRUCTION: Find country code for Zimbabwe\n",
    "# CODE GEO-S-4.1"
   ]
  },
  {
   "cell_type": "markdown",
   "id": "4216ac79-d438-47a9-817e-63bd16c58315",
   "metadata": {},
   "source": [
    "Find all locations in Zimbabwe and return their names"
   ]
  },
  {
   "cell_type": "code",
   "execution_count": null,
   "id": "d7d77827-8bdd-4ce3-b935-5dbf6a23edd4",
   "metadata": {},
   "outputs": [],
   "source": [
    "# INSTRUCTION: Find all locations in Zimbabwe and return their names\n",
    "# CODE GEO-S-4.2"
   ]
  },
  {
   "cell_type": "markdown",
   "id": "e870647f-070f-4233-8c00-e82c4d0fb859",
   "metadata": {},
   "source": [
    "Print results of the geonames query"
   ]
  },
  {
   "cell_type": "code",
   "execution_count": null,
   "id": "ab247fb4-9871-4c43-8c77-05a8875b9546",
   "metadata": {},
   "outputs": [],
   "source": [
    "print(df)"
   ]
  }
 ],
 "metadata": {
  "kernelspec": {
   "display_name": "m12-evaluation",
   "language": "python",
   "name": "m12-evaluation"
  },
  "language_info": {
   "codemirror_mode": {
    "name": "ipython",
    "version": 3
   },
   "file_extension": ".py",
   "mimetype": "text/x-python",
   "name": "python",
   "nbconvert_exporter": "python",
   "pygments_lexer": "ipython3",
   "version": "3.9.16"
  }
 },
 "nbformat": 4,
 "nbformat_minor": 5
}
