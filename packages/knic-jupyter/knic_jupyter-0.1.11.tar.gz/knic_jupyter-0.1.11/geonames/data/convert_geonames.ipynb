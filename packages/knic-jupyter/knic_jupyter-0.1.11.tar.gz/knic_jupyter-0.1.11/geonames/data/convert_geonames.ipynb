{
 "cells": [
  {
   "cell_type": "markdown",
   "id": "1eced333-6dd5-41e9-8eb4-bc548faa7b38",
   "metadata": {},
   "source": [
    "**This notebook is purely for convenience in importing geonames data. It is not meant to be part of the actual TA-D evaluation.**"
   ]
  },
  {
   "cell_type": "code",
   "execution_count": null,
   "id": "c7dfdb62-872a-49dc-948c-e5935fc3200c",
   "metadata": {},
   "outputs": [],
   "source": [
    "![ -e MZ.txt ] || (wget https://download.geonames.org/export/dump/MZ.zip && unzip -o MZ.zip)\n",
    "![ -e ZW.txt ] || (wget https://download.geonames.org/export/dump/ZW.zip && unzip -o ZW.zip)\n",
    "![ -e TZ.txt ] || (wget https://download.geonames.org/export/dump/TZ.zip && unzip -o TZ.zip)"
   ]
  },
  {
   "cell_type": "code",
   "execution_count": null,
   "id": "9cb89711-13dc-476a-ac49-7ce62ee6a743",
   "metadata": {},
   "outputs": [],
   "source": [
    "import csv\n",
    "import pandas as pd\n",
    "from kgtk.configure_kgtk_notebooks import ConfigureKGTK\n",
    "from kgtk.functions import kgtk, kypher\n",
    "\n",
    "\n",
    "def read_geonames(inputfile):\n",
    "    # column names found here: http://download.geonames.org/export/dump/readme.txt\n",
    "    column_names = [\n",
    "        'geonameid', 'name', 'asciiname', 'alternatenames', 'latitude',\n",
    "        'longitude', 'feature class', 'feature code', 'country code', 'cc2',\n",
    "        'admin1 code', 'admin2 code', 'admin3 code', 'admin4 code',\n",
    "        'population', 'elevation', 'dem', 'timezone', 'modification date'\n",
    "    ]\n",
    "    column_types = {'admin1 code': str, 'admin2 code': str, 'admin3 code': str, 'admin4 code': str}\n",
    "    data = pd.read_csv(inputfile,sep='\\t', names=column_names, dtype=column_types)\n",
    "    data = data.drop(columns={'modification date', 'dem'})\n",
    "    data = data.rename(columns={'geonameid':'id', \n",
    "                                'country code':'countrycode', \n",
    "                                'admin1 code':'admin1', \n",
    "                                'admin2 code':'admin2', \n",
    "                                'admin3 code':'admin3', \n",
    "                                'admin4 code':'admin4',                             \n",
    "                                'feature class': 'featureclass', \n",
    "                                'feature code': 'featurecode'})\n",
    "    return data\n",
    "\n",
    "\n",
    "mz_data = read_geonames('MZ.txt')\n",
    "zw_data = read_geonames('ZW.txt')\n",
    "tz_data = read_geonames('TZ.txt')\n",
    "data = pd.concat([zw_data, mz_data, tz_data])\n",
    "normalized_kg = kgtk(data, \"\"\"\n",
    "    normalize-nodes\n",
    "\"\"\")\n",
    "normalized_kg.to_csv('geonames_sample.tsv.gz', sep='\\t', index=False)"
   ]
  },
  {
   "cell_type": "code",
   "execution_count": null,
   "id": "af97d080-5cc0-48f9-8e74-77210fec68df",
   "metadata": {},
   "outputs": [],
   "source": []
  }
 ],
 "metadata": {
  "kernelspec": {
   "display_name": "Python 3 (ipykernel)",
   "language": "python",
   "name": "python3"
  },
  "language_info": {
   "codemirror_mode": {
    "name": "ipython",
    "version": 3
   },
   "file_extension": ".py",
   "mimetype": "text/x-python",
   "name": "python",
   "nbconvert_exporter": "python",
   "pygments_lexer": "ipython3",
   "version": "3.8.15"
  }
 },
 "nbformat": 4,
 "nbformat_minor": 5
}
