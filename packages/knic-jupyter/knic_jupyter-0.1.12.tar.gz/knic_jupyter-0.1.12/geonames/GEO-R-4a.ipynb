{
 "cells": [
  {
   "cell_type": "markdown",
   "id": "27e2329d-795d-442c-a4f4-e5e45d27e098",
   "metadata": {},
   "source": [
    "Initialize geonames notebook"
   ]
  },
  {
   "cell_type": "code",
   "execution_count": null,
   "id": "d072f855-1a3d-4881-a082-b2171205e7a5",
   "metadata": {},
   "outputs": [],
   "source": [
    "from kgtk.functions import kgtk\n",
    "edges_path = 'data/geonames_sample.tsv.gz'"
   ]
  },
  {
   "cell_type": "markdown",
   "id": "de1af01b-5efa-473b-87d6-0d578cf69910",
   "metadata": {},
   "source": [
    "Find all locations in Zimbabwe"
   ]
  },
  {
   "cell_type": "code",
   "execution_count": null,
   "id": "b3bfa57d-44de-430f-8b04-0f2edcdeb364",
   "metadata": {},
   "outputs": [],
   "source": [
    "# INSTRUCTION: Change to find all locations in Tanzania\n",
    "# CODE GEO-R-4a.1\n",
    "df = kgtk(f\"\"\"\n",
    "  query -i {edges_path}\n",
    "  --match '(loc)-[:name]->(name), (loc)-[:countrycode]->(cc)'\n",
    "  --return 'name as name'\n",
    "  --where 'cc = \"ZW\"'\n",
    "\"\"\")\n",
    "print(df)"
   ]
  }
 ],
 "metadata": {
  "kernelspec": {
   "display_name": "m12-evaluation",
   "language": "python",
   "name": "m12-evaluation"
  },
  "language_info": {
   "codemirror_mode": {
    "name": "ipython",
    "version": 3
   },
   "file_extension": ".py",
   "mimetype": "text/x-python",
   "name": "python",
   "nbconvert_exporter": "python",
   "pygments_lexer": "ipython3",
   "version": "3.9.16"
  }
 },
 "nbformat": 4,
 "nbformat_minor": 5
}
