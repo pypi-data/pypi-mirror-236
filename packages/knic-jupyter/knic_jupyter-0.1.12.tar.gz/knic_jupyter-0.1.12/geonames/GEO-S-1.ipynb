{
 "cells": [
  {
   "cell_type": "markdown",
   "id": "77633dfd-5b41-4956-81c0-2adce11906ea",
   "metadata": {},
   "source": [
    "Initialize geonames notebook"
   ]
  },
  {
   "cell_type": "code",
   "execution_count": null,
   "id": "d072f855-1a3d-4881-a082-b2171205e7a5",
   "metadata": {},
   "outputs": [],
   "source": [
    "from kgtk.functions import kgtk\n",
    "edges_path = 'data/geonames_sample.tsv.gz'"
   ]
  },
  {
   "cell_type": "markdown",
   "id": "776ba6ea-6506-4ccf-8c4c-c6960043aa78",
   "metadata": {},
   "source": [
    "Find all locations with non-zero population and return their names"
   ]
  },
  {
   "cell_type": "code",
   "execution_count": null,
   "id": "d7d77827-8bdd-4ce3-b935-5dbf6a23edd4",
   "metadata": {},
   "outputs": [],
   "source": [
    "# INSTRUCTION: Find all locations with non-zero population and return their names\n",
    "# CODE GEO-S-1.1"
   ]
  },
  {
   "cell_type": "markdown",
   "id": "09b08441-1255-4f45-baad-1ee79686de63",
   "metadata": {},
   "source": [
    "Print results of the geonames query"
   ]
  },
  {
   "cell_type": "code",
   "execution_count": null,
   "id": "54d4d4bb-83f7-4794-832b-afeb3d17ca60",
   "metadata": {},
   "outputs": [],
   "source": [
    "print(df)"
   ]
  }
 ],
 "metadata": {
  "kernelspec": {
   "display_name": "m12-evaluation",
   "language": "python",
   "name": "m12-evaluation"
  },
  "language_info": {
   "codemirror_mode": {
    "name": "ipython",
    "version": 3
   },
   "file_extension": ".py",
   "mimetype": "text/x-python",
   "name": "python",
   "nbconvert_exporter": "python",
   "pygments_lexer": "ipython3",
   "version": "3.9.16"
  }
 },
 "nbformat": 4,
 "nbformat_minor": 5
}
