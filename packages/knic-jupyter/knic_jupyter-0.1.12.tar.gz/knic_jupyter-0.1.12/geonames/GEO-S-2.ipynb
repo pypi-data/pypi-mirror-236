{
 "cells": [
  {
   "cell_type": "markdown",
   "id": "2a97b530-5444-41c0-8571-865503a06520",
   "metadata": {},
   "source": [
    "Initialize geonames notebook"
   ]
  },
  {
   "cell_type": "code",
   "execution_count": null,
   "id": "d072f855-1a3d-4881-a082-b2171205e7a5",
   "metadata": {},
   "outputs": [],
   "source": [
    "from kgtk.functions import kgtk\n",
    "edges_path = 'data/geonames_sample.tsv.gz'"
   ]
  },
  {
   "cell_type": "markdown",
   "id": "95cc253a-89db-416d-97ff-baad8854f16c",
   "metadata": {},
   "source": [
    "Find feature code for city"
   ]
  },
  {
   "cell_type": "code",
   "execution_count": null,
   "id": "6182dd45-290e-4266-94a4-feda4d648452",
   "metadata": {},
   "outputs": [],
   "source": [
    "# INSTRUCTION: Find feature code for city\n",
    "# CODE GEO-S-2.1"
   ]
  },
  {
   "cell_type": "markdown",
   "id": "73eec66f-a372-49f0-a7e0-91631004cdd9",
   "metadata": {},
   "source": [
    "Find all cities and return their names"
   ]
  },
  {
   "cell_type": "code",
   "execution_count": null,
   "id": "d7d77827-8bdd-4ce3-b935-5dbf6a23edd4",
   "metadata": {},
   "outputs": [],
   "source": [
    "# INSTRUCTION: Find all cities and return their names\n",
    "# CODE GEO-S-2.2"
   ]
  },
  {
   "cell_type": "markdown",
   "id": "63bf3668-673f-4ba1-bba0-e924995b4b2a",
   "metadata": {},
   "source": [
    "Print results of the geonames query"
   ]
  },
  {
   "cell_type": "code",
   "execution_count": null,
   "id": "7bfda885-8b2e-42c3-a851-91902be17097",
   "metadata": {},
   "outputs": [],
   "source": [
    "print(df)"
   ]
  }
 ],
 "metadata": {
  "kernelspec": {
   "display_name": "m12-evaluation",
   "language": "python",
   "name": "m12-evaluation"
  },
  "language_info": {
   "codemirror_mode": {
    "name": "ipython",
    "version": 3
   },
   "file_extension": ".py",
   "mimetype": "text/x-python",
   "name": "python",
   "nbconvert_exporter": "python",
   "pygments_lexer": "ipython3",
   "version": "3.9.16"
  }
 },
 "nbformat": 4,
 "nbformat_minor": 5
}
