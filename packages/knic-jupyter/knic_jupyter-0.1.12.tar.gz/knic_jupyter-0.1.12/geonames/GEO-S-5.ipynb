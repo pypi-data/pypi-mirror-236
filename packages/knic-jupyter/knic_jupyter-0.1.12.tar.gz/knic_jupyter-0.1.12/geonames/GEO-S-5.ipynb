{
 "cells": [
  {
   "cell_type": "markdown",
   "id": "fdcefff8-1bc1-496c-bb2f-61e11bb28b74",
   "metadata": {},
   "source": [
    "Initialize geonames notebook"
   ]
  },
  {
   "cell_type": "code",
   "execution_count": null,
   "id": "d072f855-1a3d-4881-a082-b2171205e7a5",
   "metadata": {},
   "outputs": [],
   "source": [
    "from kgtk.functions import kgtk\n",
    "edges_path = 'data/geonames_sample.tsv.gz'"
   ]
  },
  {
   "cell_type": "markdown",
   "id": "2885a0c9-1239-4bd5-9dbf-15c47ff1d91d",
   "metadata": {},
   "source": [
    "Find all location names"
   ]
  },
  {
   "cell_type": "code",
   "execution_count": null,
   "id": "d7d77827-8bdd-4ce3-b935-5dbf6a23edd4",
   "metadata": {},
   "outputs": [],
   "source": [
    "# INSTRUCTION: Sort query results by name\n",
    "# CODE GEO-S-5.1\n",
    "df = kgtk(f\"\"\"\n",
    "  query -i {edges_path}\n",
    "  --match '(loc)-[:name]->(name)'\n",
    "  --return 'name as name'\n",
    "\"\"\")\n",
    "print(df)"
   ]
  }
 ],
 "metadata": {
  "kernelspec": {
   "display_name": "m12-evaluation",
   "language": "python",
   "name": "m12-evaluation"
  },
  "language_info": {
   "codemirror_mode": {
    "name": "ipython",
    "version": 3
   },
   "file_extension": ".py",
   "mimetype": "text/x-python",
   "name": "python",
   "nbconvert_exporter": "python",
   "pygments_lexer": "ipython3",
   "version": "3.9.16"
  }
 },
 "nbformat": 4,
 "nbformat_minor": 5
}
