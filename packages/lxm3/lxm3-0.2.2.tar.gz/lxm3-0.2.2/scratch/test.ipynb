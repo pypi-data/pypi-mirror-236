{
 "cells": [
  {
   "cell_type": "code",
   "execution_count": 38,
   "metadata": {},
   "outputs": [],
   "source": [
    "import sqlite3\n",
    "import os\n",
    "import json\n",
    "\n",
    "# os.remove(\"/home/yicheng/remote-mount/experiments.db\")\n",
    "# con = sqlite3.connect(\"/home/yicheng/remote-mount/experiments.db\")\n",
    "con = sqlite3.connect(\":memory:\")"
   ]
  },
  {
   "cell_type": "code",
   "execution_count": 39,
   "metadata": {},
   "outputs": [],
   "source": [
    "cur = con.cursor()"
   ]
  },
  {
   "cell_type": "code",
   "execution_count": 40,
   "metadata": {},
   "outputs": [
    {
     "data": {
      "text/plain": [
       "<sqlite3.Cursor at 0x7f89c02baac0>"
      ]
     },
     "execution_count": 40,
     "metadata": {},
     "output_type": "execute_result"
    }
   ],
   "source": [
    "cur.execute(\"\"\"\\\n",
    "    CREATE TABLE IF NOT EXISTS experiment(experiment_id INTEGER PRIMARY KEY, experiment_title TEXT NOT NULL)\n",
    "\"\"\")\n",
    "\n",
    "cur.execute(\"\"\"\\\n",
    "    CREATE TABLE IF NOT EXISTS work_unit (\n",
    "        experiment_id INTEGER, \n",
    "        work_unit_id INTEGER,\n",
    "        PRIMARY KEY (experiment_id, work_unit_id)\n",
    "    );\n",
    "\"\"\")\n",
    "\n",
    "cur.execute(\"\"\"\\\n",
    "    CREATE TABLE IF NOT EXISTS job (\n",
    "        experiment_id INTEGER,\n",
    "        work_unit_id INTEGER,\n",
    "        job_name TEXT,\n",
    "        job_data TEXT,\n",
    "        PRIMARY KEY (experiment_id, work_unit_id)\n",
    "    )\n",
    "\"\"\")"
   ]
  },
  {
   "cell_type": "code",
   "execution_count": 41,
   "metadata": {},
   "outputs": [
    {
     "name": "stdout",
     "output_type": "stream",
     "text": [
      "[]\n"
     ]
    },
    {
     "data": {
      "text/plain": [
       "{}"
      ]
     },
     "execution_count": 41,
     "metadata": {},
     "output_type": "execute_result"
    }
   ],
   "source": [
    "def insert_experiment(connection, experiment_id, experiment_title):\n",
    "    cursor = connection.cursor()\n",
    "    data = [\n",
    "        (experiment_id, experiment_title)\n",
    "    ]\n",
    "    cursor.executemany(\"\"\"\n",
    "        INSERT INTO experiment VALUES\n",
    "            (?, ?)\n",
    "    \"\"\", data)\n",
    "    connection.commit()\n",
    "\n",
    "def insert_work_unit(connection, experiment_id, work_unit_id):\n",
    "    cursor = connection.cursor()\n",
    "    data = [\n",
    "        (experiment_id, work_unit_id)\n",
    "    ]\n",
    "    cursor.executemany(\"\"\"\n",
    "        INSERT INTO work_unit VALUES\n",
    "            (?, ?)\n",
    "    \"\"\", data)\n",
    "    connection.commit()\n",
    "\n",
    "def insert_job(connection, experiment_id, work_unit_id, job_name, job_data):\n",
    "    cursor = connection.cursor()\n",
    "    data = [\n",
    "        (experiment_id, work_unit_id, job_name, job_data)\n",
    "    ]\n",
    "    cursor.executemany(\"\"\"\n",
    "        INSERT INTO job VALUES\n",
    "            (?, ?, ?, ?)\n",
    "    \"\"\", data)\n",
    "    connection.commit()\n",
    "\n",
    "def list_experiment_ids(connection):\n",
    "    cursor = connection.cursor()\n",
    "    rows = cursor.execute(\"\"\"\n",
    "        SELECT experiment_id from experiment\n",
    "    \"\"\")\n",
    "    return rows.fetchall()\n",
    "\n",
    "def list_work_units(connection, experiment_id):\n",
    "    cursor = connection.cursor()\n",
    "    rows = cursor.execute(\"\"\"\n",
    "        SELECT work_unit_id FROM work_unit WHERE experiment_id = ?\n",
    "    \"\"\", (experiment_id, ))\n",
    "    work_unit_ids = [row[0] for row in rows]\n",
    "    return work_unit_ids\n",
    "\n",
    "def get_experiment(connection, experiment_id):\n",
    "    work_unit_ids = list_work_units(connection, experiment_id)\n",
    "    print(work_unit_ids)\n",
    "    results = {}\n",
    "    for wid in work_unit_ids:\n",
    "        results[wid] = get_work_unit(connection, experiment_id, wid)\n",
    "    return results\n",
    "\n",
    "def get_work_unit(connection, experiment_id, work_unit_id):\n",
    "    cursor = connection.cursor()\n",
    "    rows = cursor.execute(\"\"\"\n",
    "        SELECT job_name, job_data FROM job\n",
    "        WHERE experiment_id = ?\n",
    "        AND work_unit_id = ?\n",
    "    \"\"\", (experiment_id, work_unit_id))\n",
    "    jobs = []\n",
    "    for job_name, job_data in rows:\n",
    "        jobs.append({\"name\": job_name, **json.loads(job_data)})\n",
    "    return jobs\n",
    "\n",
    "xid = 2\n",
    "wid = 1\n",
    "insert_experiment(con, xid, \"Hello\")\n",
    "insert_work_unit(con, xid, wid)\n",
    "job_data = json.dumps({\"data\": \"foo\"})\n",
    "insert_job(con, xid, wid, \"job_name\", job_data)\n",
    "list_experiment_ids(con)\n",
    "list_work_units(con, 1)\n",
    "get_work_unit(con, 1, 1)\n",
    "get_experiment(con, 1)\n"
   ]
  },
  {
   "cell_type": "code",
   "execution_count": 42,
   "metadata": {},
   "outputs": [
    {
     "data": {
      "text/plain": [
       "[(2,)]"
      ]
     },
     "execution_count": 42,
     "metadata": {},
     "output_type": "execute_result"
    }
   ],
   "source": [
    "res = cur.execute(\"SELECT experiment_id FROM experiment\")\n",
    "res.fetchall()"
   ]
  },
  {
   "cell_type": "code",
   "execution_count": 17,
   "metadata": {},
   "outputs": [],
   "source": [
    "cur.execute(\"\"\"\n",
    "    INSERT INTO experiments (experiment_title) VALUES\n",
    "        ('Test experiment')\n",
    "\"\"\")\n",
    "con.commit()"
   ]
  },
  {
   "cell_type": "code",
   "execution_count": 20,
   "metadata": {},
   "outputs": [
    {
     "data": {
      "text/plain": [
       "[('Test experiment', 1)]"
      ]
     },
     "execution_count": 20,
     "metadata": {},
     "output_type": "execute_result"
    }
   ],
   "source": [
    "res = cur.execute(\"SELECT experiment_title, experiment_id FROM experiments\")\n",
    "res.fetchall()"
   ]
  }
 ],
 "metadata": {
  "kernelspec": {
   "display_name": "lxm3",
   "language": "python",
   "name": "python3"
  },
  "language_info": {
   "codemirror_mode": {
    "name": "ipython",
    "version": 3
   },
   "file_extension": ".py",
   "mimetype": "text/x-python",
   "name": "python",
   "nbconvert_exporter": "python",
   "pygments_lexer": "ipython3",
   "version": "3.10.5"
  }
 },
 "nbformat": 4,
 "nbformat_minor": 2
}
