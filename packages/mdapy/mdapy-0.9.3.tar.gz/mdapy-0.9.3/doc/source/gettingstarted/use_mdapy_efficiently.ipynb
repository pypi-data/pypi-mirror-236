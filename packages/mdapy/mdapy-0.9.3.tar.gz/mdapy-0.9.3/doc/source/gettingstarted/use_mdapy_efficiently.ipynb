{
 "cells": [
  {
   "cell_type": "markdown",
   "id": "909cd1e2",
   "metadata": {},
   "source": [
    "# Use mdapy efficiently"
   ]
  },
  {
   "cell_type": "markdown",
   "id": "bcaee006",
   "metadata": {},
   "source": [
    "## The key point is re-using the neighborlist information."
   ]
  },
  {
   "cell_type": "code",
   "execution_count": 1,
   "id": "c12f2890",
   "metadata": {},
   "outputs": [
    {
     "name": "stdout",
     "output_type": "stream",
     "text": [
      "[Taichi] version 1.4.0, llvm 15.0.1, commit fbe92fd8, win, python 3.8.15\n",
      "[Taichi] Starting on arch=x64\n"
     ]
    }
   ],
   "source": [
    "import mdapy as mp\n",
    "mp.init()"
   ]
  },
  {
   "cell_type": "markdown",
   "id": "22d00857",
   "metadata": {},
   "source": [
    "## Build a FCC lattice with 4,000,000 atoms."
   ]
  },
  {
   "cell_type": "code",
   "execution_count": 2,
   "id": "fc775eec",
   "metadata": {},
   "outputs": [],
   "source": [
    "FCC = mp.LatticeMaker(3.615, 'FCC', 100, 100, 100)\n",
    "FCC.compute()"
   ]
  },
  {
   "cell_type": "markdown",
   "id": "210f5d7d",
   "metadata": {},
   "source": [
    "## Generate a system class."
   ]
  },
  {
   "cell_type": "code",
   "execution_count": 3,
   "id": "538324d5",
   "metadata": {},
   "outputs": [],
   "source": [
    "system = mp.System(pos=FCC.pos, box=FCC.box, boundary=[1, 1, 1])"
   ]
  },
  {
   "cell_type": "markdown",
   "id": "a7b67b89",
   "metadata": {},
   "source": [
    "## Check the system information."
   ]
  },
  {
   "cell_type": "code",
   "execution_count": 4,
   "id": "8ca9c22e",
   "metadata": {},
   "outputs": [
    {
     "data": {
      "text/html": [
       "<div>\n",
       "<style scoped>\n",
       "    .dataframe tbody tr th:only-of-type {\n",
       "        vertical-align: middle;\n",
       "    }\n",
       "\n",
       "    .dataframe tbody tr th {\n",
       "        vertical-align: top;\n",
       "    }\n",
       "\n",
       "    .dataframe thead th {\n",
       "        text-align: right;\n",
       "    }\n",
       "</style>\n",
       "<table border=\"1\" class=\"dataframe\">\n",
       "  <thead>\n",
       "    <tr style=\"text-align: right;\">\n",
       "      <th></th>\n",
       "      <th>id</th>\n",
       "      <th>type</th>\n",
       "      <th>x</th>\n",
       "      <th>y</th>\n",
       "      <th>z</th>\n",
       "    </tr>\n",
       "  </thead>\n",
       "  <tbody>\n",
       "    <tr>\n",
       "      <th>0</th>\n",
       "      <td>1</td>\n",
       "      <td>1</td>\n",
       "      <td>0.0000</td>\n",
       "      <td>0.0000</td>\n",
       "      <td>0.0000</td>\n",
       "    </tr>\n",
       "    <tr>\n",
       "      <th>1</th>\n",
       "      <td>2</td>\n",
       "      <td>1</td>\n",
       "      <td>1.8075</td>\n",
       "      <td>1.8075</td>\n",
       "      <td>0.0000</td>\n",
       "    </tr>\n",
       "    <tr>\n",
       "      <th>2</th>\n",
       "      <td>3</td>\n",
       "      <td>1</td>\n",
       "      <td>1.8075</td>\n",
       "      <td>0.0000</td>\n",
       "      <td>1.8075</td>\n",
       "    </tr>\n",
       "    <tr>\n",
       "      <th>3</th>\n",
       "      <td>4</td>\n",
       "      <td>1</td>\n",
       "      <td>0.0000</td>\n",
       "      <td>1.8075</td>\n",
       "      <td>1.8075</td>\n",
       "    </tr>\n",
       "    <tr>\n",
       "      <th>4</th>\n",
       "      <td>5</td>\n",
       "      <td>1</td>\n",
       "      <td>0.0000</td>\n",
       "      <td>0.0000</td>\n",
       "      <td>3.6150</td>\n",
       "    </tr>\n",
       "  </tbody>\n",
       "</table>\n",
       "</div>"
      ],
      "text/plain": [
       "   id  type       x       y       z\n",
       "0   1     1  0.0000  0.0000  0.0000\n",
       "1   2     1  1.8075  1.8075  0.0000\n",
       "2   3     1  1.8075  0.0000  1.8075\n",
       "3   4     1  0.0000  1.8075  1.8075\n",
       "4   5     1  0.0000  0.0000  3.6150"
      ]
     },
     "execution_count": 4,
     "metadata": {},
     "output_type": "execute_result"
    }
   ],
   "source": [
    "system.data.head()"
   ]
  },
  {
   "cell_type": "markdown",
   "id": "2d77a526",
   "metadata": {},
   "source": [
    "If we want to do a series of analysis, we can re-use the neighbor to save time."
   ]
  },
  {
   "cell_type": "markdown",
   "id": "fece836f",
   "metadata": {},
   "source": [
    "## Direct calculation."
   ]
  },
  {
   "cell_type": "code",
   "execution_count": 5,
   "id": "c07b1fa1",
   "metadata": {},
   "outputs": [
    {
     "name": "stdout",
     "output_type": "stream",
     "text": [
      "CPU times: total: 6min 50s\n",
      "Wall time: 21.6 s\n"
     ]
    }
   ],
   "source": [
    "%%time\n",
    "system.cal_centro_symmetry_parameter(12)\n",
    "system.cal_ackland_jones_analysis()\n",
    "system.cal_atomic_entropy()"
   ]
  },
  {
   "cell_type": "code",
   "execution_count": 6,
   "id": "5020e204",
   "metadata": {},
   "outputs": [
    {
     "data": {
      "text/html": [
       "<div>\n",
       "<style scoped>\n",
       "    .dataframe tbody tr th:only-of-type {\n",
       "        vertical-align: middle;\n",
       "    }\n",
       "\n",
       "    .dataframe tbody tr th {\n",
       "        vertical-align: top;\n",
       "    }\n",
       "\n",
       "    .dataframe thead th {\n",
       "        text-align: right;\n",
       "    }\n",
       "</style>\n",
       "<table border=\"1\" class=\"dataframe\">\n",
       "  <thead>\n",
       "    <tr style=\"text-align: right;\">\n",
       "      <th></th>\n",
       "      <th>id</th>\n",
       "      <th>type</th>\n",
       "      <th>x</th>\n",
       "      <th>y</th>\n",
       "      <th>z</th>\n",
       "      <th>csp</th>\n",
       "      <th>aja</th>\n",
       "      <th>atomic_entropy</th>\n",
       "    </tr>\n",
       "  </thead>\n",
       "  <tbody>\n",
       "    <tr>\n",
       "      <th>0</th>\n",
       "      <td>1</td>\n",
       "      <td>1</td>\n",
       "      <td>0.0000</td>\n",
       "      <td>0.0000</td>\n",
       "      <td>0.0000</td>\n",
       "      <td>3.295230e-26</td>\n",
       "      <td>1</td>\n",
       "      <td>-8.645166</td>\n",
       "    </tr>\n",
       "    <tr>\n",
       "      <th>1</th>\n",
       "      <td>2</td>\n",
       "      <td>1</td>\n",
       "      <td>1.8075</td>\n",
       "      <td>1.8075</td>\n",
       "      <td>0.0000</td>\n",
       "      <td>1.098410e-26</td>\n",
       "      <td>1</td>\n",
       "      <td>-8.645166</td>\n",
       "    </tr>\n",
       "    <tr>\n",
       "      <th>2</th>\n",
       "      <td>3</td>\n",
       "      <td>1</td>\n",
       "      <td>1.8075</td>\n",
       "      <td>0.0000</td>\n",
       "      <td>1.8075</td>\n",
       "      <td>1.098410e-26</td>\n",
       "      <td>1</td>\n",
       "      <td>-8.645166</td>\n",
       "    </tr>\n",
       "    <tr>\n",
       "      <th>3</th>\n",
       "      <td>4</td>\n",
       "      <td>1</td>\n",
       "      <td>0.0000</td>\n",
       "      <td>1.8075</td>\n",
       "      <td>1.8075</td>\n",
       "      <td>1.098410e-26</td>\n",
       "      <td>1</td>\n",
       "      <td>-8.645166</td>\n",
       "    </tr>\n",
       "    <tr>\n",
       "      <th>4</th>\n",
       "      <td>5</td>\n",
       "      <td>1</td>\n",
       "      <td>0.0000</td>\n",
       "      <td>0.0000</td>\n",
       "      <td>3.6150</td>\n",
       "      <td>2.196820e-26</td>\n",
       "      <td>1</td>\n",
       "      <td>-8.645166</td>\n",
       "    </tr>\n",
       "  </tbody>\n",
       "</table>\n",
       "</div>"
      ],
      "text/plain": [
       "   id  type       x       y       z           csp  aja  atomic_entropy\n",
       "0   1     1  0.0000  0.0000  0.0000  3.295230e-26    1       -8.645166\n",
       "1   2     1  1.8075  1.8075  0.0000  1.098410e-26    1       -8.645166\n",
       "2   3     1  1.8075  0.0000  1.8075  1.098410e-26    1       -8.645166\n",
       "3   4     1  0.0000  1.8075  1.8075  1.098410e-26    1       -8.645166\n",
       "4   5     1  0.0000  0.0000  3.6150  2.196820e-26    1       -8.645166"
      ]
     },
     "execution_count": 6,
     "metadata": {},
     "output_type": "execute_result"
    }
   ],
   "source": [
    "system.data.head()"
   ]
  },
  {
   "cell_type": "markdown",
   "id": "b90a344b",
   "metadata": {},
   "source": [
    "## Re-use neighborlist information."
   ]
  },
  {
   "cell_type": "code",
   "execution_count": 7,
   "id": "7e7bdecf",
   "metadata": {},
   "outputs": [
    {
     "name": "stdout",
     "output_type": "stream",
     "text": [
      "CPU times: total: 5min 25s\n",
      "Wall time: 12.9 s\n"
     ]
    }
   ],
   "source": [
    "%%time\n",
    "system.build_neighbor(rc=5.0, max_neigh=50) # Obtain the neighbor first, the following calculation can use it.\n",
    "system.cal_atomic_entropy()\n",
    "system.cal_ackland_jones_analysis()\n",
    "system.cal_centro_symmetry_parameter(12)"
   ]
  },
  {
   "cell_type": "code",
   "execution_count": 8,
   "id": "ecefac5e",
   "metadata": {},
   "outputs": [
    {
     "data": {
      "text/html": [
       "<div>\n",
       "<style scoped>\n",
       "    .dataframe tbody tr th:only-of-type {\n",
       "        vertical-align: middle;\n",
       "    }\n",
       "\n",
       "    .dataframe tbody tr th {\n",
       "        vertical-align: top;\n",
       "    }\n",
       "\n",
       "    .dataframe thead th {\n",
       "        text-align: right;\n",
       "    }\n",
       "</style>\n",
       "<table border=\"1\" class=\"dataframe\">\n",
       "  <thead>\n",
       "    <tr style=\"text-align: right;\">\n",
       "      <th></th>\n",
       "      <th>id</th>\n",
       "      <th>type</th>\n",
       "      <th>x</th>\n",
       "      <th>y</th>\n",
       "      <th>z</th>\n",
       "      <th>csp</th>\n",
       "      <th>aja</th>\n",
       "      <th>atomic_entropy</th>\n",
       "    </tr>\n",
       "  </thead>\n",
       "  <tbody>\n",
       "    <tr>\n",
       "      <th>0</th>\n",
       "      <td>1</td>\n",
       "      <td>1</td>\n",
       "      <td>0.0000</td>\n",
       "      <td>0.0000</td>\n",
       "      <td>0.0000</td>\n",
       "      <td>3.295230e-26</td>\n",
       "      <td>1</td>\n",
       "      <td>-8.645166</td>\n",
       "    </tr>\n",
       "    <tr>\n",
       "      <th>1</th>\n",
       "      <td>2</td>\n",
       "      <td>1</td>\n",
       "      <td>1.8075</td>\n",
       "      <td>1.8075</td>\n",
       "      <td>0.0000</td>\n",
       "      <td>1.098410e-26</td>\n",
       "      <td>1</td>\n",
       "      <td>-8.645166</td>\n",
       "    </tr>\n",
       "    <tr>\n",
       "      <th>2</th>\n",
       "      <td>3</td>\n",
       "      <td>1</td>\n",
       "      <td>1.8075</td>\n",
       "      <td>0.0000</td>\n",
       "      <td>1.8075</td>\n",
       "      <td>1.098410e-26</td>\n",
       "      <td>1</td>\n",
       "      <td>-8.645166</td>\n",
       "    </tr>\n",
       "    <tr>\n",
       "      <th>3</th>\n",
       "      <td>4</td>\n",
       "      <td>1</td>\n",
       "      <td>0.0000</td>\n",
       "      <td>1.8075</td>\n",
       "      <td>1.8075</td>\n",
       "      <td>1.098410e-26</td>\n",
       "      <td>1</td>\n",
       "      <td>-8.645166</td>\n",
       "    </tr>\n",
       "    <tr>\n",
       "      <th>4</th>\n",
       "      <td>5</td>\n",
       "      <td>1</td>\n",
       "      <td>0.0000</td>\n",
       "      <td>0.0000</td>\n",
       "      <td>3.6150</td>\n",
       "      <td>2.196820e-26</td>\n",
       "      <td>1</td>\n",
       "      <td>-8.645166</td>\n",
       "    </tr>\n",
       "  </tbody>\n",
       "</table>\n",
       "</div>"
      ],
      "text/plain": [
       "   id  type       x       y       z           csp  aja  atomic_entropy\n",
       "0   1     1  0.0000  0.0000  0.0000  3.295230e-26    1       -8.645166\n",
       "1   2     1  1.8075  1.8075  0.0000  1.098410e-26    1       -8.645166\n",
       "2   3     1  1.8075  0.0000  1.8075  1.098410e-26    1       -8.645166\n",
       "3   4     1  0.0000  1.8075  1.8075  1.098410e-26    1       -8.645166\n",
       "4   5     1  0.0000  0.0000  3.6150  2.196820e-26    1       -8.645166"
      ]
     },
     "execution_count": 8,
     "metadata": {},
     "output_type": "execute_result"
    }
   ],
   "source": [
    "system.data.head()"
   ]
  }
 ],
 "metadata": {
  "kernelspec": {
   "display_name": "mda",
   "language": "python",
   "name": "mda"
  },
  "language_info": {
   "codemirror_mode": {
    "name": "ipython",
    "version": 3
   },
   "file_extension": ".py",
   "mimetype": "text/x-python",
   "name": "python",
   "nbconvert_exporter": "python",
   "pygments_lexer": "ipython3",
   "version": "3.8.15"
  }
 },
 "nbformat": 4,
 "nbformat_minor": 5
}
