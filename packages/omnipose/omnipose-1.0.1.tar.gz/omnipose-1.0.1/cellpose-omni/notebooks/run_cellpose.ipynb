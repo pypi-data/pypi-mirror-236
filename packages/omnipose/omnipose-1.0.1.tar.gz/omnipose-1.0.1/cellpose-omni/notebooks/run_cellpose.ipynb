{
 "cells": [
  {
   "cell_type": "code",
   "execution_count": null,
   "metadata": {},
   "outputs": [],
   "source": [
    "import numpy as np\n",
    "import time, os, sys\n",
    "from urllib.parse import urlparse\n",
    "import matplotlib.pyplot as plt\n",
    "import matplotlib as mpl\n",
    "%matplotlib inline\n",
    "mpl.rcParams['figure.dpi'] = 300\n",
    "from cellpose_omni import utils, io\n",
    "\n",
    "# I will download images from website\n",
    "urls = ['http://www.cellpose.org/static/images/img02.png',\n",
    "        'http://www.cellpose.org/static/images/img03.png',\n",
    "        'http://www.cellpose.org/static/images/img05.png']\n",
    "files = []\n",
    "for url in urls:\n",
    "    parts = urlparse(url)\n",
    "    filename = os.path.basename(parts.path)\n",
    "    if not os.path.exists(filename):\n",
    "        sys.stderr.write('Downloading: \"{}\" to {}\\n'.format(url, filename))\n",
    "        utils.download_url_to_file(url, filename)\n",
    "    files.append(filename)\n",
    "\n",
    "# REPLACE FILES WITH YOUR IMAGE PATHS\n",
    "# files = ['img0.tif', 'img1.tif']\n",
    "\n",
    "# view 1 image\n",
    "img = io.imread(files[-1])\n",
    "plt.figure(figsize=(2,2))\n",
    "plt.imshow(img)\n",
    "plt.axis('off')\n",
    "plt.show()"
   ]
  },
  {
   "cell_type": "code",
   "execution_count": null,
   "metadata": {},
   "outputs": [],
   "source": [
    "# RUN CELLPOSE\n",
    "\n",
    "from cellpose_omni import models, io\n",
    "\n",
    "# DEFINE CELLPOSE MODEL\n",
    "# model_type='cyto' or model_type='nuclei'\n",
    "model = models.Cellpose(gpu=False, model_type='cyto')\n",
    "\n",
    "# define CHANNELS to run segementation on\n",
    "# grayscale=0, R=1, G=2, B=3\n",
    "# channels = [cytoplasm, nucleus]\n",
    "# if NUCLEUS channel does not exist, set the second channel to 0\n",
    "# channels = [0,0]\n",
    "# IF ALL YOUR IMAGES ARE THE SAME TYPE, you can give a list with 2 elements\n",
    "# channels = [0,0] # IF YOU HAVE GRAYSCALE\n",
    "# channels = [2,3] # IF YOU HAVE G=cytoplasm and B=nucleus\n",
    "# channels = [2,1] # IF YOU HAVE G=cytoplasm and R=nucleus\n",
    "\n",
    "# or if you have different types of channels in each image\n",
    "channels = [[2,3], [0,0], [0,0]]\n",
    "\n",
    "# if diameter is set to None, the size of the cells is estimated on a per image basis\n",
    "# you can set the average cell `diameter` in pixels yourself (recommended) \n",
    "# diameter can be a list or a single number for all images\n",
    "\n",
    "# you can run all in a list e.g.\n",
    "# >>> imgs = [io.imread(filename) in for filename in files]\n",
    "# >>> masks, flows, styles, diams = model.eval(imgs, diameter=None, channels=channels)\n",
    "# >>> io.masks_flows_to_seg(imgs, masks, flows, diams, files, channels)\n",
    "# >>> io.save_to_png(imgs, masks, flows, files)\n",
    "\n",
    "# or in a loop\n",
    "for chan, filename in zip(channels, files):\n",
    "    img = io.imread(filename)\n",
    "    masks, flows, styles, diams = model.eval(img, diameter=None, channels=chan)\n",
    "\n",
    "    # save results so you can load in gui\n",
    "    io.masks_flows_to_seg(img, masks, flows, diams, filename, chan)\n",
    "\n",
    "    # save results as png\n",
    "    io.save_to_png(img, masks, flows, filename)"
   ]
  },
  {
   "cell_type": "code",
   "execution_count": null,
   "metadata": {},
   "outputs": [],
   "source": [
    "# DISPLAY RESULTS\n",
    "from cellpose_omni import plot\n",
    "\n",
    "fig = plt.figure(figsize=(12,5))\n",
    "plot.show_segmentation(fig, img, masks, flows[0], channels=chan)\n",
    "plt.tight_layout()\n",
    "plt.show()"
   ]
  }
 ],
 "metadata": {
  "kernelspec": {
   "display_name": "Python 3 (ipykernel)",
   "language": "python",
   "name": "python3"
  },
  "language_info": {
   "codemirror_mode": {
    "name": "ipython",
    "version": 3
   },
   "file_extension": ".py",
   "mimetype": "text/x-python",
   "name": "python",
   "nbconvert_exporter": "python",
   "pygments_lexer": "ipython3",
   "version": "3.7.11"
  },
  "varInspector": {
   "cols": {
    "lenName": 16,
    "lenType": 16,
    "lenVar": 40
   },
   "kernels_config": {
    "python": {
     "delete_cmd_postfix": "",
     "delete_cmd_prefix": "del ",
     "library": "var_list.py",
     "varRefreshCmd": "print(var_dic_list())"
    },
    "r": {
     "delete_cmd_postfix": ") ",
     "delete_cmd_prefix": "rm(",
     "library": "var_list.r",
     "varRefreshCmd": "cat(var_dic_list()) "
    }
   },
   "types_to_exclude": [
    "module",
    "function",
    "builtin_function_or_method",
    "instance",
    "_Feature"
   ],
   "window_display": false
  }
 },
 "nbformat": 4,
 "nbformat_minor": 4
}
