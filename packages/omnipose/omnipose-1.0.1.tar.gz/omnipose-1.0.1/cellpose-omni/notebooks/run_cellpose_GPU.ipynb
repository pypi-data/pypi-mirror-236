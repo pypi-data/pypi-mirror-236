{
 "cells": [
  {
   "cell_type": "markdown",
   "metadata": {
    "colab_type": "text",
    "id": "view-in-github"
   },
   "source": [
    "<a href=\"https://colab.research.google.com/github/MouseLand/cellpose/blob/master/notebooks/run_cellpose_GPU.ipynb\" target=\"_parent\"><img src=\"https://colab.research.google.com/assets/colab-badge.svg\" alt=\"Open In Colab\"/></a>"
   ]
  },
  {
   "cell_type": "markdown",
   "metadata": {
    "id": "Q7c7V4yEqDc_"
   },
   "source": [
    "# Running cellpose in colab with a GPU\n",
    "\n",
    "(thanks to Matteo Carandini for setting this up)\n",
    "\n",
    "UPDATED DEC 2020 for TORCH VERSION cellpose v0.6\n",
    "\n",
    "UPDATED NOV 2021 for cellpose / omnipose v0.7"
   ]
  },
  {
   "cell_type": "markdown",
   "metadata": {
    "id": "VbqFni8kuFar"
   },
   "source": [
    "## installation"
   ]
  },
  {
   "cell_type": "markdown",
   "metadata": {
    "id": "QUfSFlZgp1aV"
   },
   "source": [
    "Install cellpose -- by default the torch GPU version is installed in COLAB notebook.\n",
    "\n",
    "Note that cellpose uses the latest version of numpy, so please click the \"Restart runtime\" button once the install completes."
   ]
  },
  {
   "cell_type": "code",
   "execution_count": null,
   "metadata": {
    "colab": {
     "base_uri": "https://localhost:8080/",
     "height": 711
    },
    "id": "jlMnqge-lQ9s",
    "outputId": "c28e20b2-847a-481f-fa1c-e048e53269e2"
   },
   "outputs": [],
   "source": [
    "!pip install \"opencv-python-headless<4.3\"\n",
    "!pip install cellpose"
   ]
  },
  {
   "cell_type": "markdown",
   "metadata": {
    "id": "e2cBEO1PLuO7"
   },
   "source": [
    "Check CUDA version and GPU"
   ]
  },
  {
   "cell_type": "code",
   "execution_count": null,
   "metadata": {
    "colab": {
     "base_uri": "https://localhost:8080/"
    },
    "id": "Tt8hgC7rniP8",
    "outputId": "eda4c87d-497d-489e-854a-3f7cac1ca697"
   },
   "outputs": [],
   "source": [
    "!nvcc --version\n",
    "!nvidia-smi"
   ]
  },
  {
   "cell_type": "markdown",
   "metadata": {
    "id": "h_iAN7cAthma"
   },
   "source": [
    "import libraries and check GPU (the first time you import cellpose the models will download)."
   ]
  },
  {
   "cell_type": "code",
   "execution_count": null,
   "metadata": {
    "colab": {
     "base_uri": "https://localhost:8080/"
    },
    "id": "hG3LSmJmLylT",
    "outputId": "44491854-c45f-40e2-ea8c-4c77b67d369b"
   },
   "outputs": [],
   "source": [
    "import numpy as np\n",
    "import time, os, sys\n",
    "from urllib.parse import urlparse\n",
    "import skimage.io\n",
    "import matplotlib.pyplot as plt\n",
    "import matplotlib as mpl\n",
    "%matplotlib inline\n",
    "mpl.rcParams['figure.dpi'] = 300\n",
    "\n",
    "from urllib.parse import urlparse\n",
    "from cellpose_omni import models, core\n",
    "\n",
    "use_GPU = core.use_gpu()\n",
    "print('>>> GPU activated? %d'%use_GPU)\n",
    "\n",
    "# call logger_setup to have output of cellpose written\n",
    "from cellpose_omni.io import logger_setup\n",
    "logger_setup();\n"
   ]
  },
  {
   "cell_type": "markdown",
   "metadata": {
    "id": "d1Ta76yatmjH"
   },
   "source": [
    "Download sample images"
   ]
  },
  {
   "cell_type": "code",
   "execution_count": null,
   "metadata": {
    "colab": {
     "base_uri": "https://localhost:8080/",
     "height": 771
    },
    "id": "ldNwr_zxMVha",
    "outputId": "3fb501f6-d38d-4036-aa95-4046eeaf52d9"
   },
   "outputs": [],
   "source": [
    "from cellpose_omni import utils\n",
    "# I will download images from website\n",
    "urls = ['http://www.cellpose.org/static/images/img02.png',\n",
    "        'http://www.cellpose.org/static/images/img03.png',\n",
    "        'http://www.cellpose.org/static/images/img05.png',\n",
    "        'http://www.cellpose.org/static/data/rgb_3D.tif']\n",
    "files = []\n",
    "for url in urls:\n",
    "    parts = urlparse(url)\n",
    "    filename = os.path.basename(parts.path)\n",
    "    if not os.path.exists(filename):\n",
    "        sys.stderr.write('Downloading: \"{}\" to {}\\n'.format(url, filename))\n",
    "        utils.download_url_to_file(url, filename)\n",
    "    files.append(filename)\n",
    "\n",
    "# REPLACE FILES WITH YOUR IMAGE PATHS\n",
    "# files = ['img0.tif', 'img1.tif']\n",
    "    \n",
    "imgs = [skimage.io.imread(f) for f in files]\n",
    "nimg = len(imgs)\n",
    "\n",
    "plt.figure(figsize=(8,4))\n",
    "for k,img in enumerate(imgs[:-1]):\n",
    "  plt.subplot(1,3,k+1)\n",
    "  plt.imshow(img)"
   ]
  },
  {
   "cell_type": "markdown",
   "metadata": {
    "id": "3JRxBPmatrK7"
   },
   "source": [
    "\n",
    "## run cellpose on 2D sample images\n",
    "\n",
    "(exclude last download, it's a 3D tiff)"
   ]
  },
  {
   "cell_type": "code",
   "execution_count": null,
   "metadata": {
    "colab": {
     "base_uri": "https://localhost:8080/"
    },
    "id": "XcYskYudMajM",
    "outputId": "568d949a-487e-45ab-db08-2e1a917d533b"
   },
   "outputs": [],
   "source": [
    "# RUN CELLPOSE\n",
    "\n",
    "imgs_2D = imgs[:-1]\n",
    "\n",
    "from cellpose_omni import models\n",
    "\n",
    "# DEFINE CELLPOSE MODEL\n",
    "# model_type='cyto' or model_type='nuclei'\n",
    "model = models.Cellpose(gpu=use_GPU, model_type='cyto')\n",
    "\n",
    "# define CHANNELS to run segementation on\n",
    "# grayscale=0, R=1, G=2, B=3\n",
    "# channels = [cytoplasm, nucleus]\n",
    "# if NUCLEUS channel does not exist, set the second channel to 0\n",
    "# channels = [0,0]\n",
    "# IF ALL YOUR IMAGES ARE THE SAME TYPE, you can give a list with 2 elements\n",
    "# channels = [0,0] # IF YOU HAVE GRAYSCALE\n",
    "# channels = [2,3] # IF YOU HAVE G=cytoplasm and B=nucleus\n",
    "# channels = [2,1] # IF YOU HAVE G=cytoplasm and R=nucleus\n",
    "\n",
    "# or if you have different types of channels in each image\n",
    "channels = [[2,3], [0,0], [0,0]]\n",
    "# channels = [1,1]\n",
    "\n",
    "# if diameter is set to None, the size of the cells is estimated on a per image basis\n",
    "# you can set the average cell `diameter` in pixels yourself (recommended) \n",
    "# diameter can be a list or a single number for all images\n",
    "\n",
    "masks, flows, styles, diams = model.eval(imgs_2D, diameter=None, flow_threshold=None, channels=channels)"
   ]
  },
  {
   "cell_type": "code",
   "execution_count": null,
   "metadata": {
    "colab": {
     "base_uri": "https://localhost:8080/",
     "height": 1000
    },
    "id": "8P5voZOVM-H9",
    "outputId": "14f3f6f8-f49b-48da-93ed-6559f0abf375"
   },
   "outputs": [],
   "source": [
    "# DISPLAY RESULTS\n",
    "from cellpose_omni import plot\n",
    "\n",
    "nimg = len(imgs_2D)\n",
    "for idx in range(nimg):\n",
    "    maski = masks[idx]\n",
    "    flowi = flows[idx][0]\n",
    "\n",
    "    fig = plt.figure(figsize=(12,5))\n",
    "    plot.show_segmentation(fig, imgs[idx], maski, flowi, channels=channels[idx])\n",
    "    plt.tight_layout()\n",
    "    plt.show()"
   ]
  },
  {
   "cell_type": "markdown",
   "metadata": {
    "id": "qj5AIZ825o7P"
   },
   "source": [
    "## save output to *_seg.npy\n",
    "\n",
    "you will see the files save in the Files tab and you can download them from there"
   ]
  },
  {
   "cell_type": "code",
   "execution_count": null,
   "metadata": {
    "id": "qc7EWe_f5oEH"
   },
   "outputs": [],
   "source": [
    "from cellpose_omni import io\n",
    "\n",
    "io.masks_flows_to_seg(imgs_2D, masks, flows, diams, files, channels)"
   ]
  },
  {
   "cell_type": "markdown",
   "metadata": {
    "id": "acPatqlKt7EI"
   },
   "source": [
    "## run cellpose 3D\n",
    "\n",
    "There are two ways to run cellpose in 3D, this cell shows both, choose which one works best for you.\n",
    "\n",
    "First way: computes flows from 2D slices and combines into 3D flows to create masks\n",
    "\n"
   ]
  },
  {
   "cell_type": "code",
   "execution_count": null,
   "metadata": {
    "colab": {
     "base_uri": "https://localhost:8080/"
    },
    "id": "92RStllFN2Ek",
    "outputId": "7c164c5e-a427-4dfc-bba0-a274b660b49b"
   },
   "outputs": [],
   "source": [
    "# test 3D stack\n",
    "\n",
    "img_3D = imgs[-1]\n",
    "\n",
    "# * with 3D you have to set the diameter manually (no auto detect) *\n",
    "\n",
    "### TWO WAYS TO RUN CELLPOSE IN 3D\n",
    "\n",
    "# 1. computes flows from 2D slices and combines into 3D flows to create masks\n",
    "print('running cellpose 2D slice flows => masks')\n",
    "masks, flows, styles, _ = model.eval(img_3D, channels=[2,1], diameter=25, do_3D=True)\n"
   ]
  },
  {
   "cell_type": "markdown",
   "metadata": {
    "id": "e2x9eU3pYAY2"
   },
   "source": [
    "Second way: computes masks in 2D slices and stitches masks in 3D based on mask overlap\n",
    "\n",
    "Note stitching (with stitch_threshold > 0) can also be used to track cells over time."
   ]
  },
  {
   "cell_type": "code",
   "execution_count": null,
   "metadata": {
    "colab": {
     "base_uri": "https://localhost:8080/"
    },
    "id": "jgn-P610YDnW",
    "outputId": "6c94e8f7-a76a-4df1-d7ea-0b12efda1ea1"
   },
   "outputs": [],
   "source": [
    "# 2. computes masks in 2D slices and stitches masks in 3D based on mask overlap\n",
    "print('running cellpose 2D + stitching masks')\n",
    "masks_stitched, flows_stitched, styles_stitched, _ = model.eval(img_3D, channels=[2,1], diameter=25, do_3D=False, stitch_threshold=0.5)"
   ]
  },
  {
   "cell_type": "markdown",
   "metadata": {
    "id": "MTrkz5oKYNuH"
   },
   "source": [
    "Results from 3D flows => masks computation"
   ]
  },
  {
   "cell_type": "code",
   "execution_count": null,
   "metadata": {
    "colab": {
     "base_uri": "https://localhost:8080/",
     "height": 297
    },
    "id": "UkT6lmyzBeT_",
    "outputId": "35bd23bc-7603-421a-b58a-5e741e24960f"
   },
   "outputs": [],
   "source": [
    "# DISPLAY RESULTS 3D flows => masks\n",
    "plt.figure(figsize=(15,3))\n",
    "for i,iplane in enumerate(np.arange(0,75,10,int)):\n",
    "  img0 = plot.image_to_rgb(img_3D[iplane, [1,0]].copy(), channels=[2,3])\n",
    "  plt.subplot(1,8,i+1)\n",
    "  outlines = utils.masks_to_outlines(masks[iplane])\n",
    "  outX, outY = np.nonzero(outlines)\n",
    "  imgout= img0.copy()\n",
    "  imgout[outX, outY] = np.array([255,75,75])\n",
    "  plt.imshow(imgout)\n",
    "  plt.title('iplane = %d'%iplane)"
   ]
  },
  {
   "cell_type": "markdown",
   "metadata": {
    "id": "Xar-dZPKYQfi"
   },
   "source": [
    "Results from stitching"
   ]
  },
  {
   "cell_type": "code",
   "execution_count": null,
   "metadata": {
    "colab": {
     "base_uri": "https://localhost:8080/",
     "height": 297
    },
    "id": "c2byhW0IWqs_",
    "outputId": "37504822-f0d3-4653-f976-a97f30ede3fb"
   },
   "outputs": [],
   "source": [
    "# DISPLAY RESULTS stitching\n",
    "plt.figure(figsize=(15,3))\n",
    "for i,iplane in enumerate(np.arange(0,75,10,int)):\n",
    "  img0 = plot.image_to_rgb(img_3D[iplane, [1,0]].copy(), channels=[2,3])\n",
    "  plt.subplot(1,8,i+1)\n",
    "  outlines = utils.masks_to_outlines(masks_stitched[iplane])\n",
    "  outX, outY = np.nonzero(outlines)\n",
    "  imgout= img0.copy()\n",
    "  imgout[outX, outY] = np.array([255,75,75])\n",
    "  plt.imshow(imgout)\n",
    "  plt.title('iplane = %d'%iplane)"
   ]
  },
  {
   "cell_type": "markdown",
   "metadata": {
    "id": "Q_5v_G5ItwMa"
   },
   "source": [
    "## connect to your google drive\n",
    "\n",
    "so that you can run your own files (alternatively, upload them directly to the Files tab)"
   ]
  },
  {
   "cell_type": "code",
   "execution_count": null,
   "metadata": {
    "id": "xhTMmyj9pD4V"
   },
   "outputs": [],
   "source": [
    "## RUN THIS CELL TO ACCESS GOOGLE DRIVE\n",
    "\n",
    "# mount your google drive here if you want to access your own files\n",
    "from google.colab import drive\n",
    "drive.mount('/content/drive')\n",
    "\n",
    "# files will be in\n",
    "# file_root = '/content/drive/My Drive/'"
   ]
  }
 ],
 "metadata": {
  "accelerator": "GPU",
  "colab": {
   "collapsed_sections": [],
   "include_colab_link": true,
   "name": "run_cellpose_GPU.ipynb",
   "provenance": []
  },
  "kernelspec": {
   "display_name": "Python 3",
   "language": "python",
   "name": "python3"
  },
  "language_info": {
   "codemirror_mode": {
    "name": "ipython",
    "version": 3
   },
   "file_extension": ".py",
   "mimetype": "text/x-python",
   "name": "python",
   "nbconvert_exporter": "python",
   "pygments_lexer": "ipython3",
   "version": "3.8.10"
  }
 },
 "nbformat": 4,
 "nbformat_minor": 0
}
