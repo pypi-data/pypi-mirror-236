{
 "cells": [
  {
   "cell_type": "code",
   "execution_count": null,
   "id": "346a3019-0ec9-4ced-9bdf-f54eb5e9dcf5",
   "metadata": {
    "collapsed": true,
    "jupyter": {
     "outputs_hidden": true
    },
    "tags": []
   },
   "outputs": [],
   "source": [
    "#"
   ]
  },
  {
   "cell_type": "code",
   "execution_count": null,
   "id": "848f5aeb-289b-49f5-b5a8-a319ac1dd160",
   "metadata": {
    "collapsed": true,
    "jupyter": {
     "outputs_hidden": true
    },
    "tags": []
   },
   "outputs": [],
   "source": [
    "# Set up document and import dependencies. \n",
    "%load_ext autoreload\n",
    "%autoreload 2\n",
    "\n",
    "from pathlib import Path\n",
    "from cellpose_omni import plot, models, core, io, dynamics\n",
    "import omnipose, ncolor\n",
    "import skimage.io\n",
    "import numpy as np\n",
    "import matplotlib.pyplot as plt\n",
    "plt.style.use('dark_background')\n",
    "import matplotlib as mpl\n",
    "%matplotlib inline\n",
    "mpl.rcParams['figure.dpi'] = 300\n",
    "import time, os, sys\n",
    "from tifffile import imread\n",
    "use_GPU = core.use_gpu()\n",
    "print('>>> GPU activated? %d'%use_GPU)\n",
    "\n",
    "from stardist import fill_label_holes\n",
    "from cellpose_omni.models import CellposeModel\n",
    "\n",
    "# path = r\"/home/kcutler/DataDrive/omnipose_all/phase/train_sorted\"\n",
    "# 5I_crop data\n",
    "path = '/home/kcutler/DataDrive/5I_crop/xy5/phase'\n",
    "imgs_files = [str(p) for p in Path(path).glob(\"*.tif\")]\n",
    "path = '/home/kcutler/DataDrive/5I_crop/xy5/masks'\n",
    "lbls_files  = [str(p) for p in Path(path).glob(\"*.png\")]\n",
    "# imgs_files = glob(os.path.join(path, \"Image*.tiff\"))\n",
    "# lbls_files = [f.replace(\"Image\", \"segm\").replace(\"tiff\", \"tif\") for f in imgs_files]\n",
    "\n",
    "\n",
    "basedir = '/home/kcutler/DataDrive/omnipose_all/phase/train_sorted' # replace this with wherever you put your data \n",
    "mask_filter = '_masks'\n",
    "img_names = io.get_image_files(basedir,mask_filter,look_one_level_down=True)\n",
    "mask_names = io.get_label_files(img_names, mask_filter)\n",
    "\n",
    "# Obviously sorting the masks by corresponding base name is critical. The different suffixes mess this up, but sorted()\n",
    "# can take a function like the one below as a key. Modifying the default suffix requires the lambda syntax (e.g. cellpose). \n",
    "def getname(path,suffix='_masks'):\n",
    "    return os.path.splitext(Path(path).name)[0].replace(suffix,'')\n",
    "\n",
    "mask_names = sorted(mask_names,key=getname)\n",
    "img_names = sorted(img_names,key=getname)\n",
    "imgs = [skimage.io.imread(f) for f in img_names]\n",
    "lbls = [ncolor.format_labels(omnipose.utils.clean_boundary(skimage.io.imread(f))) for f in mask_names]\n",
    "\n",
    "# imgs = [skimage.io.imread(f)[np.newaxis, ...] for f in imgs_files]\n",
    "# lbls = [fill_label_holes(skimage.io.imread(f)) for f in lbls_files]\n",
    "print(\"imgs: \", [i.shape for i in imgs])\n",
    "print(\"lbls: \", [i.shape for i in lbls])\n",
    "\n",
    "model = CellposeModel(\n",
    "    gpu=True, omni=True, nclasses=4, nchan=1, diam_mean=0,\n",
    ")"
   ]
  },
  {
   "cell_type": "code",
   "execution_count": null,
   "id": "8cfaf773-a324-4345-a0b2-3f70258d1298",
   "metadata": {},
   "outputs": [],
   "source": [
    "n = [0,1]\n",
    "model.train(\n",
    "    [imgs[i]  for i in n], [lbls[i] for i in n], save_every=1, n_epochs=100, batch_size=8, save_path=os.path.join(basedir, \"model\"),\n",
    "    channels=[0,0], min_train_masks=1, rescale = 0\n",
    ")"
   ]
  },
  {
   "cell_type": "code",
   "execution_count": null,
   "id": "cd0ccd29-ec6c-4db2-86a1-b948e4ea91e4",
   "metadata": {},
   "outputs": [],
   "source": [
    "k = 4\n",
    "plt.imshow(plot.outline_view(imgs[k],lbls[k]))"
   ]
  },
  {
   "cell_type": "code",
   "execution_count": null,
   "id": "19cf0988-43c3-40ee-986d-159dc11cd4a0",
   "metadata": {},
   "outputs": [],
   "source": []
  }
 ],
 "metadata": {
  "kernelspec": {
   "display_name": "Python 3 (ipykernel)",
   "language": "python",
   "name": "python3"
  },
  "language_info": {
   "codemirror_mode": {
    "name": "ipython",
    "version": 3
   },
   "file_extension": ".py",
   "mimetype": "text/x-python",
   "name": "python",
   "nbconvert_exporter": "python",
   "pygments_lexer": "ipython3",
   "version": "3.10.9"
  }
 },
 "nbformat": 4,
 "nbformat_minor": 5
}
