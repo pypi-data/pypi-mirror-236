{
 "cells": [
  {
   "cell_type": "code",
   "execution_count": 1,
   "id": "2594b5d1-f285-46e7-bb20-55c0d04f9037",
   "metadata": {
    "trrack_graph": "໢尭䲠 "
   },
   "outputs": [],
   "source": [
    "from vega_datasets import data\n",
    "import persist_ext as PR\n",
    "import altair as alt"
   ]
  },
  {
   "cell_type": "code",
   "execution_count": 2,
   "id": "b7eb00ef-ddc2-4848-a747-97049cfac0f8",
   "metadata": {
    "__GENERATED_DATAFRAMES__": "ᯡࡀ䈔຀✧堵性Ŭő|净㌨ϐࢀᛥᜃ➹㩀ǁڠ侂␩〸旎∡堬煠漮+䈻٬အಈXǸŘƸ¹⨢梆珨Ƃ濻䣀࣫㦞媅⸋爡娗杏彸嫉㺨ܤᡐ⠩戤㡔ਤ䩶⃂僶欈ಬ✆䮋ⶣ䧥朁瑲秒ɰつ๱ᬼ¿䖠۵ɨ⨍㢈唹Kര滋䀠㉉ค⤖୼㪭佥ು楕惪咩夬兆⨥ο摪ᝀ̘Ɣ೐䑄⦳ʭ૑墀ĩ⤗㓸䚜⭙ᩢ篓⃠㍒奙岜䆁᰸层䎱ᒊ⚧⏲೦ᦢ拐沖⎹斓岾̧搐ɡ࡬ᇋ①瑴ந↩㑅Ꭷ动噧Ꮸ੥६哋⨱ᵡ嚊嫖❻劑稣ძℹ䘳ᓦ㌓暫㒹ㅠ乀ᛧ㛃皧㒩ࠐ㢌ር䔲囔品䌠ê(坷噼⽌ܧ㪰ྐὸ㜻⡷冢抱Ὤޠᄨ‱ᱭ䙥䂸䰿੢䤸㕏҄䣹寫琙ŢጰԂ儰㙎ф億嘶䡃ᦄ␫䧍唂哎⪀啼熿⩔ⵖ嶳榓䩡墋氓੩媁ಫᜑ㉽ᒡ余⊦墰䠨Ҥ†Ṻ䠬犚旷᧐䃔⣳淖䎚Ḍᜥ漛嶾粇毧ጡ兝᤭䧹䒕ຬ㇁἗੯綤媘ᵅ㐁敟᱊ஔ䦁䷈⭌疅榋㽯ⲙ὎᡻⃎氶➂壶ᓍ妛Ⳁ㠧ਤᱧ㤉᱘Ύ恷ᒯḎዣ䌐垮碽✊璞߇磝ѧ㴝Ŋ䲣ॉ䳣Ղ䓃㩋ಏ㟊做፪ᣬچ䂺ᆮ槴ᚪ㈄㪦䃔ܯᅬḬ儴ܨ傺㲪凿㹩綉ㆊⷝፉ⵹㭤͙࠰涙ᎁͻჇᢀ勧ͮ」ᆴڷႦඣᄊತエᵥ刄፯凬⸢䇆⪦䈘䜯傼ハ㏄₫恰ᅥ瀠ᮿ`ཉァ愤ۣ㰢ŀжհ㷁ັ㥈⌼၂⹪德䠁∼ࠑ璨נ氪؀ᄮⲰ祼J䕷䄀%䢠ဤᏈ傧໭ੀ%৅೅ȉ唳ㆌ疮䍙夯䓨฾恘ᴦ⏈क़捬䥆ᔰଦ⊸ᐿ⍬ີ↬⸦㙺嫅ᑐ瓀喅倧嗀㻀㜵䰴嚍့砝䋐ဈ㋑㡵Ȫ哵从嚊ر坕濍咕⻂䆣糂ഭ凜㙭椺㒠໢䁍࿉㓍㗄࿕仛圅岐㓂ʂ㜐⧎᛭઄ʝ䳏⠈㗆䶍∥Ŕ⟄█∠挀⌹⏉桩僫尭ₐᐱℰി䝡姝圐糴䗐╾坨䐴↊ⷔ႔ᐴ愰຿傐尺ᔸ⚩厔ᦩ吔唿㘔符↥熴抓埑࿝ẉ㛕Ჟ嘃䰽⍣㈢䉵ᐺ嗝竅ൕᛇ碃窛๓⤙侘嚈䲠ኌ佨溗位䪽∫෋㟈情8㽋⃀ヅ̙笲睈⏟凢匥潘⽊┧▤煠曍䀠⾒ʩ䠆彋㰼ᅗ碞Ġ硂䳵㱘ңධߠ恖ԣۓ㏹笴ᙉ᠅嫟堔畋噀  ",
    "trrack_graph": "ᯡ࠽䈌ʀ匦㢠⹰ࣥXހᎠ昡ᦐୢ䁓㨠墨媆¬䞁⪌䠎䁖؋ㄟ⛘墲䀤奢Ω䖯Ⴉ㥊ᬕය寒爇恈‭Рච↽ౝठ䨰ဠ屢瓠Α䌣㢤̕涰æ6ᆚ倠❇ሠ᭤ঢ䀥モッ兤̣ᑣʪᔯ䒇↙⇉沉⢣حἤ+嗳桘䲰,嵏ち䫦Ԡ޳ŀ偙塘⣮㩚੗ū倥壡Ⱝ䉀͐␴櫤℩汥Ѵ䄉ᘠ歑䇀㮌ᙰؕ氍ᝨپ⬤᫦渱㌣᫐ʘ<俎弸៖渂Ɇ㥜笡䪆⁠ㄤ䇥Ⴠ屔┢刐前⦦凰ᠧࣥሐ噙̦憊婉ʥ怬䱇䬐籄䚬ೲ㶮ڎ䤱䔂Ҳ⊶凲䳖ඵ摈粴⡶ᗑᧄᬆ㎂碴⢶╲⹶⎳效䅱⥡୊⌭⬃ᤆY䘠1恆࿩ㅸര⎰အ榍何␭㤡ᛀ▓᭚ڿ䀶ն烄❡爤峖ϯ⇈ቬࢰ烎∬ť惜㸷䁃ᇆර濒㡼䤦Πᆨ㉅൥倸☫ۤ燘幟ࡇሺ⚫⻵ⷚ廏୷成媡ੑF⦬材ⶺ族凒汀州梓嵮姀↓㮎痎䜣ࢀH咪⊻㝰ਡĽ㨠ᗬ߽໓䏮些庿ࠣ᫒糠桌ᔠ₏Ҹ᎚౾᏷⟜簲'割忤¢㴨竾捪卼ဴ狞矵択濴ࠞ⁒ଈ灒ѨṮࢄფ䍢ᐺ䀸桨䄬ਡ䎎剷Š媪ᆘ਻䇡洡Ѩ⊼∞暠ۘ䁋ڡ繅碠?ⱅ䒁ᘀ ᙒ噼ಐ乶ሡ徖ᔢ㣛淥Ð♇愦潠⬠/ソͭं拸殡捜ᨻ戾Ьঔ瘶奠⤢ၬ㢪煤碹Ꮔ䟍炜℅呠௡⒏Ү岼簦ঐ১ଢ଼࿧砡㎦む⤡Ⴤẋᄫʢⶴ㦆僋⚫ⱸ纭⣡ਫḝ₋⌸⢎ඐ⒊⊃ᲀ䲳ઉ㥥➱ࡰ䆊䢈ᠺ卽೜ⲏള㸬䴁❱喬ᡆ焕⇊㏎ँ㓍ⷍ㘍⎨瑁㎣Ž⫲奜⾯炢ࡦ塠㨧⁘ⵅࡘㄽј⩥᭑㨢䁩⌯⏎縪楐ⵡ恘㥥抝㚁ᕹ㓎攅٠唙Äᓵ⥯ⶉ⎁棚ལ䁘㮉沘྇淆㡈᷌ㄌ㬎⺮ᵇǮ㳮㴂ᅎ㗤帎ᬉ巗͓ᣯᥒoݞ塏⏭㳉⮯㴿☼籼劸䎆⪳㉔嶵〼䰨ɰᑳ᣼䞱ᇜ吡ዄ刃ቮ恿ᦢ桻偠䑵ષԢ㨀䓒勴液Ę桉ʵ䫞Օ盗犰Ԩ敌䠬䋎⨻ᘽ䘶ʽ渂▊ਨ䵘ढ䁛ㆊ⒨ᴤ戬⌫歺䆥氩ឧɖ㟫稞㏊䯲殩䪄Əᆫኦ⵴▁傋Ⴋ᳊⎦ؐⴍ㮎牠窨Ᏺ笳㤱箨ŏ椈⿵Ȟ恕橄ޗ㯛澗䨛篹箧俷稡偗ᮢ䀦᠐⺱兕坋⁔∫⌸࠽䇻姓做滙䴔杯匨⁏↠き⋡⨀ᦠ憥̐克̫۠ი୰〮䆐ف梣ீし⥰グ櫏櫡佴ᐢᣃ׈⛛⣭㓦⍚⊌璊汸懹儿処ኀৈĳ⋧᥮テ㶥♓䍬஭䵙喒怫ᤎ㭐Ṯ㜆渻晋俭悴沥姀䗈㦢⡥简䌸䭨๶Ϥ໾攼嫻ᒲ࣠ಬ㠹㞱䵍匔䣅⩏淴㙥㑢䙛Ằ夻㍱⿠ๆᐥ⛴ⷬ㗡岾䃚֨᤟㈜嬻扁桄噦ȟ囀牄᧊㔦悞䙰⢪⁤੠砧祐à࡝லબ䮋ጂ活扰Ɂ䄨瘜埥ᒱ烸㲰┢癪⬬⸹⮹旮₫ᅢ䬪䁶㪦噍٩䪮⩨݅㨥糿䐘篍椟‐Àเံİ᫱瑫悀㰱䕓窀Ⱇ㾘䰉瀍₣ᣡ䍈䅦㰦₄擠朐ⴽ⌠絯幐⼉歠畖安㌤䍿⇷㪝ゞ௎ࡀጱ㴠ᡋਣ╟ᎂኗₜר⦷⁰̳ᠹᨚᜢ恦㏠殡低璚刬稫朕ϫ瑧䲘➦箘΅㑔㑠ᛩ䛸桐ᶬ䐛Ⴛ晑᯼洩沚ຼ縷ᳬ᎑ޤø⎑㝇ޢཐ汾ໆ晸ᇀృ橡砠䇥ӛ䔸暯⓳૩Ჿ㥉መ〺捜㉵沘⡘玶㊣牉紹ᘾᝃ♇拣䉢恈װ⚔扏Հ䙉摱ન撾畖⎣兀ᣀడòπ㜺䧲泋㱰⓵㐂⑨䦩ᛕ祽㕸㜀勞暳˔拔䝫絭暾దᤵ喵浻㙾ᣃ狱搳㱹喠₋よ筐濶⃀嫦戠˒ᘝ⦓瀼⬴䁴╢煪㓉⧲ྸ㕗ᗋ䇆૝㣔楶㝍✖崢稘佡㗳猒ࠅ栿搢痶˾䌥琡Փ᷵⏍片Ⰵᅆ⃮翪ၠ⡽偷࣫威ؾ㑄\"Ԁᖒ甸:ឣ剽ₒឯ㶶߀怾Āᡫ槖㕼滵峻癚簍瑯ẹᦷ㗚ㆆ㿟⛌耗ⴀॕ熵ųን壟̑⌹孁ਦ怲⣁妮◴ᩭ䮳㇉⪐禙懳⌂㊶⤁ᘷ岜ᗫ➩䜙䬑Ҙ⢨働楱⧵煷啠Ⓜ穊␘獖¼㜩斬᢭࠳彸㖒喂⡬⠌㱧啣瓔ᐌб ⽩ᬵ䕻Ꮱ曅祟ň尘⡉૦⯌䘫Ậ㔏䂸䛀琰⢘ᯀ枇咆俈㮕ᦠ䵑⸙᥄剣篏㰕崣䢙営窸樢㟯㧙子稫➕ߡ੾㤘ᎋᒪ䵎⪱浙╽畀唋姄䪳㯔戢䑦␖䬭䲅殷ᗮ吒囙᪑⤈㞢Ṡ䚥ီ布划寚㮇㾗杨ᕎ䑎᱀  "
   },
   "outputs": [
    {
     "data": {
      "application/vnd.jupyter.widget-view+json": {
       "model_id": "2f2f3a31ec474dc084d84b8fc9cb9cd1",
       "version_major": 2,
       "version_minor": 0
      },
      "text/plain": [
       "OutputWithTrrackWidget(body_widget=InteractiveTableWidget(df_columns=['date', 'precipitation', 'temp_max', 'te…"
      ]
     },
     "execution_count": 2,
     "metadata": {},
     "output_type": "execute_result"
    }
   ],
   "source": [
    "source = data.seattle_weather()\n",
    "# brush = alt.selection_interval(name=\"selector\", encodings=['x'])\n",
    "\n",
    "# bars = alt.Chart().mark_bar().encode(\n",
    "#     x='month(date):O',\n",
    "#     y='mean(precipitation):Q',\n",
    "#     opacity=alt.condition(brush, alt.OpacityValue(1), alt.OpacityValue(0.7)),\n",
    "# ).add_params(\n",
    "#     brush\n",
    "# )\n",
    "\n",
    "# line = alt.Chart().mark_rule(color='firebrick').encode(\n",
    "#     y='mean(precipitation):Q',\n",
    "#     size=alt.SizeValue(3)\n",
    "# ).transform_filter(\n",
    "#     brush\n",
    "# )\n",
    "\n",
    "# vis = PR.vis.TrrackableChart(alt.layer(bars, line, data=source))\n",
    "# vis\n",
    "\n",
    "vis = PR.vis.interactive_table(source)\n",
    "vis"
   ]
  },
  {
   "cell_type": "code",
   "execution_count": 3,
   "id": "dc59b7af-0b74-4f97-be5b-d593db5d1ae9",
   "metadata": {
    "trrack_graph": "ᯡ࠽䈌ʀ匦㢠⹰恓ĭ栣Lːʀ୥fæ抔偛ࢠ䙳潨䄧槆<筰ۭ怳䒴E䨲ࡔ䳙Ѩ⥵傄拭䏗⼡⻢†淳棧沰ӁĠפཬW౐ᮨ⁏⻹݀ƊῊ)攄䀦栢甕種ፄᘾ岨ấㆢ䀣擠䣄㹡ീ伯ာ揨ሩ琡㙐⮔ࢨᴬथ⫕ࡠ㌱憚穫U䳝5洫Т純絭ಒᖢෂሧ҉䃵ⰡḠݥ殯䘼䗺墥୚㸍棆搰㣄侵Ԡⵃ慠煹⡸㨼ᜬྨ䡊䅊ዃ弤ⱊͥⅨ˚ͤ硶痄䂱䂲䖰撩ౠÅ䌂䡐汞ౣᅈ≕c儸晋໤炘縰䨇ဠ圠䡈㫙劌⹧䙈䔅ᒶ偳᪊⢄  "
   },
   "outputs": [
    {
     "data": {
      "text/html": [
       "\n",
       "                        <div style=\"padding:1em;background-color:rgba(250,176,5,0.3);border:1px solid rgb(250,176,5)\">\n",
       "                            <strong>Error!</strong> No dataframe named <strong>'cool_grouped'</strong>. Run the cell where the dataframe was generated to create it!\n",
       "                        </div>\n",
       "                    "
      ],
      "text/plain": [
       "<IPython.core.display.HTML object>"
      ]
     },
     "metadata": {},
     "output_type": "display_data"
    }
   ],
   "source": [
    "cool_grouped = PR.df.get(\"cool_grouped\", groupby=\"coolness_factor\", aggregate={\"precipitation\": \"mean\", \"temp_max\": \"mean\", \"temp_min\": \"mean\", \"wind\": \"mean\"})\n",
    "cool_grouped"
   ]
  },
  {
   "cell_type": "code",
   "execution_count": 4,
   "id": "4bad6f96-60a4-4a27-9c15-1fdad2109d72",
   "metadata": {
    "__GENERATED_DATAFRAMES__": "ᯡࡓ䁼ࢁӐㆠ≒䂆ř⁻Ŭ愠⺀̘ǁ)䁯氶⴦洔፠圠㚿ਠ ",
    "trrack_graph": "ᯡ࠽䈌ʀ匦㢠⹰໣Ÿ栻,͐׀ಀ֤䂼ɨ࣯䂡ء䱨Ҁ㪸坼侙ୱ㉪2攩к☸岥⑉⫴ኊ滫䞿㨡⅀†済壤ᲰӁĠ׿␬W౐㮨⃎濺အ㔸㔠ʑ㥀ǔ₼F㴶Ꮃ䆬⒪ᅡ⨃栤ᚊ㕝«ޮ䒬䓂㧩ᇐ稰N䃰攆㉡怹ণ瑖ᡈ\\䰩൥䐂恳獘夈ሣM䘦慼䄧冢⇆㛂ࢎ扈㫄˭〦宯椢㮁䪠⾡䄙㣯≁塃坖火ᠱ࠭䀳怠皟㬘您㬿д▓沮㴼斻䒲ḥ䇢ᡐܥऍᔫۂ∬㤾䇢牄⑤䅠炱ଫʢㄖ㯫璳ᩐ⭹煚ᤦᑦᎨቤብᅁ刹ᙧᏨ੥६叄幰箥䶨礼牵ၪ㋹⹿ᑋૅ㥾晒䰰䞾〣䲀!ฦ㈝䭵䃱͙Ġຶ濑橀箸ஊ˷᧛劉簡ね㜪㡰㤵䉀傌फ͡⡥♜䝠悸朰䦃䢬㔳䝣冼ᕠ愘๎᮪⃣ゔʲ䇁棊ᬣ䜂礜₸⊈媍❭㘋窣⸧۰♳೴޺ᛍ૷泻㘰Ỡ牛溇ᳰᓙ嶗۠掣䑐4⣧䊎㯈Ԡ䆮̠ଆ̏䞉爏ⓜ唏䐣䳹㹰㰶ઠု剬࢝䘴㻫㴙ሠẪ硞䌠签捶僼ာ獞埽揞俹玆嚷篘㿪࠸へݾ∯ΰ⠧İ∲䊖๪䏰ᐨ䀰擱䏄㰲ᏆⰦ̲硥䂰䡏⍡䤾䅠ऱӸ摄Ȟౄԡ慖〠न࠳ൠ‣岀⁦ৈⴹ堠ⳟ䞠^䰄к‧஢䌵ㆤ婚检䶱戸!␪ᶇ惇噰ŅⒸେ撾䭤ౕ᭱恍ὅ璣ᒆဳአ乳䓨㤗פ碻撧罐ར☱ᨤ䴻䥅墨坓㤏欴僧䥄Ⴐч㹰䨡ཱྺᱱ̠播ᤳ汦մȥ樠᫓Ń屇ᵄ⁙჆㶞潳尠ȉ╞㘊已䠪樢⒥獔皿猬↱瑠⾯毕ᯢᯉ㮮᭢稾Ѡ䌄卂Ậ୮᧹甞C㊌֣ĸ⒭Ⴋ㲦Ⅻ㊠憸▁傋㚧⳸冧⡁㔭ḝ₂憣⢎ಀ⒂䇃ⲏള㊊䷳⪆ᗺ䑠ಣࢆ䑃㹃݈屐″࢈䛳ځ呬ó哠㻄㑲篁㓍ⷍ㘍㎨瑠㏏ዽᄍ烝ၢ৶᛬ᡨ⌣恲㔢䁅唨揃⸾䧥䨫䁸ভ⃀⌧⭖຃瘓Ⓠ旲೅撙ˏ斵჆啥·Ⓕᝣ椚˞沐ᅂ䇛㓢稛ⶨᴢ挅妖㻨㥯㧫ᵤᗥ帗ࠬ嶀㬉嶎௢㸎∌㴗ᔄ岾☊᭄⸏㴖䑂⩠ఉ拒漿挟Ṽट㔤䩾ᥱ⫊䵷⨬ᓵƺ擸櫱杲珚宷樶╜ᨬ‽婆䎓᯴便ᰔ拴㋛堩♖徖丧滸Ⱆ簨又㨧儈塾掓䰹䯂倏粪悵㏎怉ያ䖞ፄ坳檚ᬙ牧澳叧勴䄈硳怓缓䨤创᭧徱㽵䃞ⴊጏ淜秲ᐫ䙉磁筏 㝷ᐨဴ庸➝株՟嘨峜அⰩ⅔ᕡ兂ÔຠѯôŹ′Ⴐᐦ慢㟀㈸♘ס䰩ᅂ༣੄ઌ⿧籠⚔寏㬎क㈸塾䥣䬧毈㖂栽ذ槫⣮ĩᄺ㡸ࡸ䗚ƫӑ儉㓂妎怲棍䫵ⴊ刱冺䐬ڪ棩ㅀ崾ℚὌ䙓ၬ㲹㕅䈊⇃ų∼ڏቬ括禲⁙嗰湗᪚㾣玁摢ⶉ၀榬ყೃἹ捁ᡃઅጴブ穬汖曹搯Ǳቂ穓嬖᳠ⲗ㞔儊ᴃ䠌䧦㤇љ掸㣎⒕᪍愠夅癧䧳✹ᱏᚃ箬ڇ⨪㹌௾㰴⹅挠羮岨㰂䪸ε⒤喊嗊竂湭摜ᵺ緻圙➯㪍ᣴ༶瘾潄縫⬝筝㔮㉠盙䭏̇ၦ䉉⸁䩱⅒灓֯嫫ᴹ筀泪ᔷ䑡༏㉯ᄜ杌㰢䶁੧穠磬ᝯ䤢㿯缇ᐢ怦㍏䘴₎篜䉉⅃瘥ề䗀Ḑ体́⸫⸡⠿Į䕠⾐╅拃ऱఠ䅛༡㥉ጂ०屢ㅤƮ桃Ǩᔱ㶘⬈ѽ桝ↅइ呰㋢偲ᕹᨶ妔ŤƲȀፁ`䛐糢ᆒౡ扞⯾䵡ᖗ槨瞠Ṡ䆩眡㇢橌ن挌⇦౮ŋ㎫⭨ሠ  "
   },
   "outputs": [],
   "source": [
    "# source = data.cars()\n",
    "\n",
    "# brush = alt.selection_point(name=\"selector\", encodings=[\"x\", \"y\"])\n",
    "\n",
    "# points = alt.Chart(source).mark_point().encode(\n",
    "#     x='Horsepower:Q',\n",
    "#     y='Miles_per_Gallon:Q',\n",
    "#     opacity=alt.condition(brush, alt.value(1), alt.value(0.3))\n",
    "# ).add_params(\n",
    "#     brush\n",
    "# )\n",
    "\n",
    "# bars = alt.Chart(source).mark_bar().encode(\n",
    "#     y='Origin:N',\n",
    "#     color='Origin:N',\n",
    "#     x='count(Origin):Q'\n",
    "# ).transform_filter(\n",
    "#     brush\n",
    "# )\n",
    "\n",
    "# vis2 = PR.vis.TrrackableChart(points & bars)\n",
    "# vis2"
   ]
  },
  {
   "cell_type": "code",
   "execution_count": 5,
   "id": "cde89602-e6a6-497f-b042-82e1fcaffc75",
   "metadata": {
    "trrack_graph": "ᯡ࠽䈌ʀ匦㢠⹰ڀ⬠䱰怼͑‶䆠ᘡ䘡യ၃પP΁桠䍕榳✲㣥䒴E䨲࢔Ⳙ֫䥵埌櫣䮯ἡㄠ㑀汈意ࠤ傡%戻☠ᮬᡫ䑁♍ⲣအ㘳唠৾椠ව׶椊洬䠬浒㾻᳦Ԡ޳ŀ梸¼ᙩƦ䳪⍦栢沁暌ℰᬸሢ庌Ⴅ♀䏔ᒆॻ៣吼ࠥ箈稺⢌㊓ȫ㑄ܯ⦢垸Ŝ.ׇ➬ಣ勑ذ㧘泸䛨ၱ㢦✫ư⏤ሀ惰䳴సځ܄䕠惣ゅℒ㉅ԓ㦶㗘䬱䈂֠欪ౠ弹䤀䥐汞ѥᅈ橗ࣁㇸ为෥爘䄬‥㬙縣䧩ᇂ㉬㹣䘱౜╨◈ⓑ  "
   },
   "outputs": [],
   "source": [
    "# import sys\n",
    "# from sys import getsizeof\n",
    "# import pandas as pd\n",
    "# from vega_datasets import data\n",
    "\n",
    "# source = data.cars()\n",
    "\n",
    "# def mul_and_compare_size(df, n=1, c=1):\n",
    "#     compression = [\"snappy\", \"gzip\", \"brotli\", \"lz4\", \"zstd\", None]\n",
    "\n",
    "#     df = df.copy(deep=True)\n",
    "#     ddf = pd.concat([df]*c, axis=1)\n",
    "#     ddf.columns = [f\"{x}_{i}\" for i, x in enumerate(ddf.columns)]\n",
    "#     ddf = pd.concat([ddf.sample(frac=1)]*n)\n",
    "#     orig_size = getsizeof(ddf)\n",
    "        \n",
    "#     print(f\"---- size for shape{ddf.shape} = {round(orig_size/1000000)}mb ({orig_size} bytes) ------\")\n",
    "#     for c in compression:\n",
    "#         s = ddf.to_parquet(compression=c)\n",
    "#         s = getsizeof(s)\n",
    "#         print()\n",
    "#         print(\"Compression style:\", \"None\" if c is None else c)\n",
    "#         print(f\"Size: {s}b\")\n",
    "#         print(f\"Size: {round(s/1000)}kb\")\n",
    "#         print(f\"Size: {round(s/1000000)}mb\")\n",
    "#         print(\"% compressed:\", f\"{round(((orig_size-s)/ orig_size)*100, 2)}% \") \n",
    "#         print()\n",
    "#         print(\"####\")\n",
    "   \n",
    "\n",
    "# mul_and_compare_size(source, 50, 2)"
   ]
  },
  {
   "cell_type": "code",
   "execution_count": null,
   "id": "1d32218c-9f53-4386-83ef-06520c7da8b6",
   "metadata": {
    "trrack_graph": "ᯡ࠽䈌ʀ匦㢠⹲恮ƬʀჳP׀˥ੵ䐬憠ᆡ氣ㄳÈƺ廠⌠຋囔⫻䥈kᑄႈ妒ࢳᓃ❱妻ܾ㸢䉠ð䀡宆冯奀ॢȠ௎䠸ᢀ㜰䁾州䀢機⨠Ꮃ䤠ව׳氈ᱬ䢘㶔ₖ૦Ԡ޳ł㨉⠠皎ᅞᮢ佯┃栢沀囸ᄰ㘸ሪ喊Ⴇ♁䌕咶ᦖΎ刺ࠥ稉窺ᴈ⬤ᮘ␮ࣳǊ堢㰠ຫ垏ౚ௕ㄪᚕ寻ㅭ䡀煩㙋ጣය攀ኑ瀡⳹扈ጡ᮹羠⛩䁱Ⲍ䢡⅝伦ᛢ寍ኘ䘨䩌䍤⒂Йᘷ੣㡿幮₢䨦ᐆ冑㲞ၬᇤw㾰ᑚ峲㙎╁煴ⴰ䵳塄暼䤡٠  "
   },
   "outputs": [],
   "source": []
  },
  {
   "cell_type": "code",
   "execution_count": 6,
   "id": "d493cf03-6c94-45a6-a45b-866515d04e68",
   "metadata": {
    "trrack_graph": "ᯡ࠽䈌ʀ匦㢠⹰ૠጬҀƠ捬ڀ୩䔠ⳙୀ䄌Ĭ䐤㍛ᩤ栳䀹䙦ǒ玁哠Ǩ撴E䨲࢔ⲙѫ䩶埄拭厯㽡憂†桠ù橑䅛ဩ™+䣨ఠ㜸クࡢ汚㷠Ɖᅒ䀡᷼䠠洠⻑䓵榄䛦ᬁ䌉癐⠠㲸ळߡ懁঳䢈ш亃M䘾条ᄣ冢↋皲࠼扔㣱䞀۔嗰䎛ᅱ㇀痋䝫䟐⊔扠灍ᢚ綠ᏠĊ嬐Ӣ熛ᬰ䤯Ꭻ亪沢ڵ䣲㤈Ჸ尸ᄪᜣ䔥⍃ኁࡤ墿㘤⛡桔ᜮ煡灂Ꭳ㛺摉భᕺ䙈磤ĩ沾Უǣ烤⤢䋂栬㌵䞃㣜¨┳䓩5戳ծ⽜䮪⠩啑ᇃᏔ䩾䍩Ŧ† "
   },
   "outputs": [],
   "source": [
    "# import sys\n",
    "# from sys import getsizeof\n",
    "# import string\n",
    "# import random\n",
    "\n",
    "\n",
    "# def gen_and_compare_size(n=1):\n",
    "#     compression = [\"snappy\", \"gzip\", \"brotli\", \"lz4\", \"zstd\", None]\n",
    "\n",
    "#     # using random.choices()\n",
    "#     # generating random strings\n",
    "#     res = ''.join(random.choices(string.ascii_uppercase +\n",
    "#                                  string.digits, k=n))\n",
    "#     orig_size = getsizeof(res)\n",
    "        \n",
    "#     print(f\"---- size of string with length {len(res)} = {round(orig_size/1000000)}mb ({orig_size} bytes) ------\")\n",
    "#     for c in compression:\n",
    "#         s = compress(res)\n",
    "#         s = getsizeof(s)\n",
    "#         print()\n",
    "#         print(\"Compression style:\", \"None\" if c is None else c)\n",
    "#         print(f\"Size: {s}b\")\n",
    "#         print(f\"Size: {round(s/1000)}kb\")\n",
    "#         print(f\"Size: {round(s/1000000)}mb\")\n",
    "#         print(\"% compressed:\", f\"{round(((orig_size-s)/ orig_size)*100, 2)}% \") \n",
    "#         print()\n",
    "#         print(\"####\")\n",
    "   \n",
    "\n",
    "# gen_and_compare_size(source, 5)"
   ]
  },
  {
   "cell_type": "code",
   "execution_count": 7,
   "id": "bb068791-889b-4a0b-856b-867c6092d059",
   "metadata": {
    "trrack_graph": "ᯡ࠽䈌ʀ匦㢠⹰ೠ⬠氢〸恮ᘠ㠥包Sㄠ壗Ⱡ⌡آᣖၛሒᨈ⍦嗹瀠ㅅ)㊤䈽᭞ᅲᰵ喉偑㎉混忀䢰Tဠ㚭璃ཨɰ䂠̈㈦;䘸Ϥၗ眼瀠宫ೀn㝄V䀷⒌㆐奃Ҭ㣁䙛ఴ>☤䚁珒ࣈᠸ瘾ᨪ࣠ஃϔㆨ䄸悰᫛㢤᭑Դ㟅堣ⱋೡẨ摠៨恒潄㄁氰ᷱၘ㍬໎怩瀠㣎㸜じậ䑘己洈擖₢◅汢䙜㌮ظ䚯䊦共⦹䒤ᢆ㰐䡦स癙ஓ↤᱁इⳖ楒⌥⑶ᆪᙑƢ嬧䍄憐ȩ٤傈㨳ૠ烘ḿB।⒠ଌત❯ᙫ䑈ҵᢱ决婪⽪Ⴌ䀠 "
   },
   "outputs": [],
   "source": [
    "# import random\n",
    "\n",
    "# source[\"A\"] = [True if random.random() > 0.5 else False for _ in range(0, source.shape[0])]\n",
    "# source[\"B\"] = [True if random.random() > 0.5 else False for _ in range(0, source.shape[0])]\n",
    "\n",
    "# source"
   ]
  },
  {
   "cell_type": "code",
   "execution_count": 8,
   "id": "f537cc24-65f8-4575-a9df-4c35b006116f",
   "metadata": {
    "trrack_graph": "ᯡ࠽䈌ʀ匦㢠⹰怦⪃ƸƂ惔吣〬ㇿมಀ໯䁣ഢ㡯怹䁆Ì勔圓ፎⓀŌ傰䇀曧䡴岵⴦曍Ი䨐઄ሠڤ-廕⇩j࠰}竄ǘ憥屢আ滩+⣣⠠乮␠㚠ᝠ梃ғᩂ倬⒡窋ఴ>☤䀤ㄱᢈ<ᱜ暎ᢣ䂀ב䍻桤℔と㖕呢Ƹ䌨ᩱⰡ圅窟㝨㑀ఀ㠎㗓桩嘨眐䠼৆୽〤砠ᶷ⻾ᠲ㞚戴ⴇ㟗僥䑅⹔暚ፆ⒦ྥ慂ㅠ⢐㢹籜䱆⸕޵ℸĭץ⁨㲽䛔浄ҬҶⶦ⒈戧磌᜴交憐ɑ٠凈㩃˧㇘幟ࡆਂK忨ଽ⺉ᬷሃ੢╢⟉攍ᝬᤠ "
   },
   "outputs": [],
   "source": [
    "# list(source[source[\"A\"] | source[\"B\"]][\"A\"])"
   ]
  },
  {
   "cell_type": "code",
   "execution_count": null,
   "id": "7c4b8140-7b35-4944-960c-5dfe81c456cf",
   "metadata": {
    "trrack_graph": "ᯡ࠽䈌ʀ匦㢠⹰໣ŸҀრ☣ᠤ瀫‭䔠ᚍ䕰΢燖灘䃦尢᪂䀦ⷸ掀͗≪2攩кᙜ⊅ᗉ桒ㆎ旷忀䢰Tဠ㛸ᲂཨɰ䂠̏刦;䘸ᷤၷ㠎堠宬᪠Ř岰ú}ǁ䧬撣恕㌧ればᠲጴ䡢䑂慐祐㰴̠ⶬۻقۣɡ⪍戰䳤ѡ䎺怭㍎戥㫣愠弣έ⡻ૣっ㙤䄁൐᪻G䀡擞瘑䋑㫶ᄂ垛⏖᳹ȩᚱ␂楩砢ฺ㩁ᒩ甫䒅兠䦏ᐤ䰮ѡ抱癵䎍ቅȴ䐤᫢⌰၍㇘㈬ܠ₱摊ڭ䏱ಆἦ抑属lከठᗰᘩ༎ⲭࡲ㇪๕⟦঺े┱٠  "
   },
   "outputs": [],
   "source": []
  },
  {
   "cell_type": "code",
   "execution_count": 9,
   "id": "d755e0c6-7182-4f27-aa55-684da8371d9c",
   "metadata": {
    "trrack_graph": "ᯡ࠽䈌ʀ匦㢠⹰àଠ昦〰恆آᠥ倡怽䖴拴ᡬ戢ᥢ䂃ㅺඐ祘旹䀻ैkᑄᄉ娑঴囋⽩䗛➎弜㢤䀡傠ǖ榠㥀ॢȠா䠸ᢀ㜰䁾巚怢橀樠Ꮃ䤠ව׷核ᱬ䡈絶⁮૦Ԡ޳łत¼牌䁋Ჴ䚦䋢昫琡㙐⬼ࢨܬण⫕ࡣ匰戚䙫U䋇ဃ椭Т縔఼͍⬵䄣帲Φ㓡櫌¾'ଋ實ૣ棸䊫ᶍ癘厄ࡘ剰↥ԃ敡冨ш爺⤬ၸ䖱䏢朰ᡯ䭂䂁摂ᜮ⋹歍副࣡व䒌䖬₟ዢ煩᡼¢⁰吺ຠ捐氮ண成Ɉᡧࠡ⼞⁤疓⑘岿౱ॊ⥝⃅㑚ࣨ  "
   },
   "outputs": [
    {
     "data": {
      "text/html": [
       "<div>\n",
       "<style scoped>\n",
       "    .dataframe tbody tr th:only-of-type {\n",
       "        vertical-align: middle;\n",
       "    }\n",
       "\n",
       "    .dataframe tbody tr th {\n",
       "        vertical-align: top;\n",
       "    }\n",
       "\n",
       "    .dataframe thead th {\n",
       "        text-align: right;\n",
       "    }\n",
       "</style>\n",
       "<table border=\"1\" class=\"dataframe\">\n",
       "  <thead>\n",
       "    <tr style=\"text-align: right;\">\n",
       "      <th></th>\n",
       "      <th>date</th>\n",
       "      <th>precipitation</th>\n",
       "      <th>temp_max</th>\n",
       "      <th>temp_min</th>\n",
       "      <th>wind</th>\n",
       "      <th>weather</th>\n",
       "    </tr>\n",
       "  </thead>\n",
       "  <tbody>\n",
       "    <tr>\n",
       "      <th>0</th>\n",
       "      <td>2012-01-01</td>\n",
       "      <td>0.0</td>\n",
       "      <td>12.8</td>\n",
       "      <td>5.0</td>\n",
       "      <td>4.7</td>\n",
       "      <td>drizzle</td>\n",
       "    </tr>\n",
       "    <tr>\n",
       "      <th>1</th>\n",
       "      <td>2012-01-02</td>\n",
       "      <td>10.9</td>\n",
       "      <td>10.6</td>\n",
       "      <td>2.8</td>\n",
       "      <td>4.5</td>\n",
       "      <td>rain</td>\n",
       "    </tr>\n",
       "    <tr>\n",
       "      <th>2</th>\n",
       "      <td>2012-01-03</td>\n",
       "      <td>0.8</td>\n",
       "      <td>11.7</td>\n",
       "      <td>7.2</td>\n",
       "      <td>2.3</td>\n",
       "      <td>rain</td>\n",
       "    </tr>\n",
       "    <tr>\n",
       "      <th>3</th>\n",
       "      <td>2012-01-04</td>\n",
       "      <td>20.3</td>\n",
       "      <td>12.2</td>\n",
       "      <td>5.6</td>\n",
       "      <td>4.7</td>\n",
       "      <td>rain</td>\n",
       "    </tr>\n",
       "    <tr>\n",
       "      <th>4</th>\n",
       "      <td>2012-01-05</td>\n",
       "      <td>1.3</td>\n",
       "      <td>8.9</td>\n",
       "      <td>2.8</td>\n",
       "      <td>6.1</td>\n",
       "      <td>rain</td>\n",
       "    </tr>\n",
       "    <tr>\n",
       "      <th>...</th>\n",
       "      <td>...</td>\n",
       "      <td>...</td>\n",
       "      <td>...</td>\n",
       "      <td>...</td>\n",
       "      <td>...</td>\n",
       "      <td>...</td>\n",
       "    </tr>\n",
       "    <tr>\n",
       "      <th>1456</th>\n",
       "      <td>2015-12-27</td>\n",
       "      <td>8.6</td>\n",
       "      <td>4.4</td>\n",
       "      <td>1.7</td>\n",
       "      <td>2.9</td>\n",
       "      <td>fog</td>\n",
       "    </tr>\n",
       "    <tr>\n",
       "      <th>1457</th>\n",
       "      <td>2015-12-28</td>\n",
       "      <td>1.5</td>\n",
       "      <td>5.0</td>\n",
       "      <td>1.7</td>\n",
       "      <td>1.3</td>\n",
       "      <td>fog</td>\n",
       "    </tr>\n",
       "    <tr>\n",
       "      <th>1458</th>\n",
       "      <td>2015-12-29</td>\n",
       "      <td>0.0</td>\n",
       "      <td>7.2</td>\n",
       "      <td>0.6</td>\n",
       "      <td>2.6</td>\n",
       "      <td>fog</td>\n",
       "    </tr>\n",
       "    <tr>\n",
       "      <th>1459</th>\n",
       "      <td>2015-12-30</td>\n",
       "      <td>0.0</td>\n",
       "      <td>5.6</td>\n",
       "      <td>-1.0</td>\n",
       "      <td>3.4</td>\n",
       "      <td>sun</td>\n",
       "    </tr>\n",
       "    <tr>\n",
       "      <th>1460</th>\n",
       "      <td>2015-12-31</td>\n",
       "      <td>0.0</td>\n",
       "      <td>5.6</td>\n",
       "      <td>-2.1</td>\n",
       "      <td>3.5</td>\n",
       "      <td>sun</td>\n",
       "    </tr>\n",
       "  </tbody>\n",
       "</table>\n",
       "<p>1461 rows × 6 columns</p>\n",
       "</div>"
      ],
      "text/plain": [
       "           date  precipitation  temp_max  temp_min  wind  weather\n",
       "0    2012-01-01            0.0      12.8       5.0   4.7  drizzle\n",
       "1    2012-01-02           10.9      10.6       2.8   4.5     rain\n",
       "2    2012-01-03            0.8      11.7       7.2   2.3     rain\n",
       "3    2012-01-04           20.3      12.2       5.6   4.7     rain\n",
       "4    2012-01-05            1.3       8.9       2.8   6.1     rain\n",
       "...         ...            ...       ...       ...   ...      ...\n",
       "1456 2015-12-27            8.6       4.4       1.7   2.9      fog\n",
       "1457 2015-12-28            1.5       5.0       1.7   1.3      fog\n",
       "1458 2015-12-29            0.0       7.2       0.6   2.6      fog\n",
       "1459 2015-12-30            0.0       5.6      -1.0   3.4      sun\n",
       "1460 2015-12-31            0.0       5.6      -2.1   3.5      sun\n",
       "\n",
       "[1461 rows x 6 columns]"
      ]
     },
     "execution_count": 9,
     "metadata": {},
     "output_type": "execute_result"
    }
   ],
   "source": [
    "source"
   ]
  },
  {
   "cell_type": "code",
   "execution_count": 10,
   "id": "c7853726-dc71-4fb0-a220-b05d9f2ebf70",
   "metadata": {
    "trrack_graph": "ᯡ࠽䈌ʀ匦㢠⹰ৠᦡي䀬ϑ倶䀫ܸ䜶墵ӀদẤ〸杽戣モ䀮❌ᢲ䀤奢℮䖷©ᤪ⩕画᧐眇恈‭РඦCౝठ䨰ဠ屢瓠Α䌣㢤̕涰ᘠᙂ竀¼乨N坯ℂ㉡挈墢ᡶᡈ\\䰩(攁∀倡Ⳝ籞㹎䀶挥㈶₠メၵ⬱Цㄼᯈ㓐͹䩐Ž僐䁏坯哹䆂塁婂ₐ䚸エૠ਀⻘粀ⱽ㖨࣓叾憪㇋ࡪ㣰倠晬繴ᢰ䝦䟡ጐ慙㒈㨺ᨧ攣䇀Ѭ䜁䈁ṵ䎁၄い冄ᩂ⌰Iベቬᬯ䁱爲ᅫ⁐䱶ᶥ愑籡Ꮲ怡⸡ၨ疑⑸沴䝁燴Ņ♇咄嚤ȹ  "
   },
   "outputs": [
    {
     "data": {
      "text/html": [
       "<div>\n",
       "<style scoped>\n",
       "    .dataframe tbody tr th:only-of-type {\n",
       "        vertical-align: middle;\n",
       "    }\n",
       "\n",
       "    .dataframe tbody tr th {\n",
       "        vertical-align: top;\n",
       "    }\n",
       "\n",
       "    .dataframe thead th {\n",
       "        text-align: right;\n",
       "    }\n",
       "</style>\n",
       "<table border=\"1\" class=\"dataframe\">\n",
       "  <thead>\n",
       "    <tr style=\"text-align: right;\">\n",
       "      <th></th>\n",
       "      <th>date</th>\n",
       "      <th>precipitation</th>\n",
       "      <th>temp_min</th>\n",
       "      <th>wind</th>\n",
       "    </tr>\n",
       "    <tr>\n",
       "      <th>temp_max</th>\n",
       "      <th></th>\n",
       "      <th></th>\n",
       "      <th></th>\n",
       "      <th></th>\n",
       "    </tr>\n",
       "  </thead>\n",
       "  <tbody>\n",
       "    <tr>\n",
       "      <th>-1.6</th>\n",
       "      <td>2014-02-06 00:00:00</td>\n",
       "      <td>0.00</td>\n",
       "      <td>-6.000</td>\n",
       "      <td>4.50</td>\n",
       "    </tr>\n",
       "    <tr>\n",
       "      <th>-1.1</th>\n",
       "      <td>2012-01-19 00:00:00</td>\n",
       "      <td>15.20</td>\n",
       "      <td>-2.800</td>\n",
       "      <td>1.60</td>\n",
       "    </tr>\n",
       "    <tr>\n",
       "      <th>-0.5</th>\n",
       "      <td>2014-02-05 00:00:00</td>\n",
       "      <td>0.00</td>\n",
       "      <td>-5.500</td>\n",
       "      <td>6.60</td>\n",
       "    </tr>\n",
       "    <tr>\n",
       "      <th>0.0</th>\n",
       "      <td>2012-12-27 12:00:00</td>\n",
       "      <td>9.90</td>\n",
       "      <td>-4.950</td>\n",
       "      <td>4.05</td>\n",
       "    </tr>\n",
       "    <tr>\n",
       "      <th>1.1</th>\n",
       "      <td>2013-05-18 00:00:00</td>\n",
       "      <td>1.06</td>\n",
       "      <td>-3.600</td>\n",
       "      <td>2.74</td>\n",
       "    </tr>\n",
       "    <tr>\n",
       "      <th>...</th>\n",
       "      <td>...</td>\n",
       "      <td>...</td>\n",
       "      <td>...</td>\n",
       "      <td>...</td>\n",
       "    </tr>\n",
       "    <tr>\n",
       "      <th>33.3</th>\n",
       "      <td>2015-07-10 19:12:00</td>\n",
       "      <td>0.00</td>\n",
       "      <td>16.680</td>\n",
       "      <td>3.18</td>\n",
       "    </tr>\n",
       "    <tr>\n",
       "      <th>33.9</th>\n",
       "      <td>2013-07-29 04:48:00</td>\n",
       "      <td>0.00</td>\n",
       "      <td>17.120</td>\n",
       "      <td>2.78</td>\n",
       "    </tr>\n",
       "    <tr>\n",
       "      <th>34.4</th>\n",
       "      <td>2014-07-27 06:00:00</td>\n",
       "      <td>0.00</td>\n",
       "      <td>17.225</td>\n",
       "      <td>3.10</td>\n",
       "    </tr>\n",
       "    <tr>\n",
       "      <th>35.0</th>\n",
       "      <td>2015-07-19 00:00:00</td>\n",
       "      <td>0.00</td>\n",
       "      <td>17.200</td>\n",
       "      <td>3.30</td>\n",
       "    </tr>\n",
       "    <tr>\n",
       "      <th>35.6</th>\n",
       "      <td>2014-08-11 00:00:00</td>\n",
       "      <td>0.50</td>\n",
       "      <td>17.800</td>\n",
       "      <td>2.60</td>\n",
       "    </tr>\n",
       "  </tbody>\n",
       "</table>\n",
       "<p>67 rows × 4 columns</p>\n",
       "</div>"
      ],
      "text/plain": [
       "                        date  precipitation  temp_min  wind\n",
       "temp_max                                                   \n",
       "-1.6     2014-02-06 00:00:00           0.00    -6.000  4.50\n",
       "-1.1     2012-01-19 00:00:00          15.20    -2.800  1.60\n",
       "-0.5     2014-02-05 00:00:00           0.00    -5.500  6.60\n",
       " 0.0     2012-12-27 12:00:00           9.90    -4.950  4.05\n",
       " 1.1     2013-05-18 00:00:00           1.06    -3.600  2.74\n",
       "...                      ...            ...       ...   ...\n",
       " 33.3    2015-07-10 19:12:00           0.00    16.680  3.18\n",
       " 33.9    2013-07-29 04:48:00           0.00    17.120  2.78\n",
       " 34.4    2014-07-27 06:00:00           0.00    17.225  3.10\n",
       " 35.0    2015-07-19 00:00:00           0.00    17.200  3.30\n",
       " 35.6    2014-08-11 00:00:00           0.50    17.800  2.60\n",
       "\n",
       "[67 rows x 4 columns]"
      ]
     },
     "execution_count": 10,
     "metadata": {},
     "output_type": "execute_result"
    }
   ],
   "source": [
    "s = source.drop(columns=['weather'])\n",
    "s.groupby(\"temp_max\").agg(\"mean\")"
   ]
  },
  {
   "cell_type": "code",
   "execution_count": null,
   "id": "7030ea34-56b9-498a-b223-1614e019d8db",
   "metadata": {
    "trrack_graph": "ᯡ࠽䈌ʀ匦㢠⹰ˠܡⰤ〹䎠ᠤ瀫↭㸻ॿlƭ䐤〰憠皂Ƹㅭ枻烦珄䨠ዪन㪌㱥◪⭷劊懻域١慀†涺ᣤ᪰ӁĠ׿␬W౐㮨⃎濻倡㌸㔠ʑ㥀ǔÚͣᎹ䤿☮ヸ惀Ēいᘠධ䛨⃤想烸㡸̠ⶬ۹䩂ڃɠ檌戰䳤ѡ冺怭ノ㈤竣愠弣ë㎹䝣だ癤䄁䵐㪻G䀡拞瘑䇰穖ႂ垛⏓᳹ȡ኶暑⃪ᡰᒂേӊ䚣ۮሲ㢈├ర䟢㢜⸹䎃洋ᛪ⑨惩૤㉥䙀⁺掓Ⓒ⸠䅁䠴ᔶ䂀夌ᜧ䐀Ѣؤ⁨Î䃐⊗㢄沜䞪⤩唩ᇇᏔ䩨䉒  "
   },
   "outputs": [],
   "source": []
  }
 ],
 "metadata": {
  "__CATEGORIES__": "{\"categories\":{\"coolness_factor\":{\"name\":\"coolness_factor\",\"options\":{\"_None\":{\"name\":\"None\"},\"cool\":{\"name\":\"cool\"},\"not cool\":{\"name\":\"not cool\"},\"alright\":{\"name\":\"alright\"}}}},\"activeCategoryName\":\"coolness_factor\"}",
  "__persist_nb_uuid__": "15b6440c-b112-4dd1-bff1-41461f6ea5c3",
  "kernelspec": {
   "display_name": "Python 3 (ipykernel)",
   "language": "python",
   "name": "python3"
  },
  "language_info": {
   "codemirror_mode": {
    "name": "ipython",
    "version": 3
   },
   "file_extension": ".py",
   "mimetype": "text/x-python",
   "name": "python",
   "nbconvert_exporter": "python",
   "pygments_lexer": "ipython3",
   "version": "3.8.16"
  }
 },
 "nbformat": 4,
 "nbformat_minor": 5
}
