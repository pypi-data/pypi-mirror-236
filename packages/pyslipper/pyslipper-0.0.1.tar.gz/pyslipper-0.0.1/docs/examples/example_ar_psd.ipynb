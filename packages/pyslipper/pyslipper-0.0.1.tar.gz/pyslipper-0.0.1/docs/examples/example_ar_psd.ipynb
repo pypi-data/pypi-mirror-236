{
 "cells": [
  {
   "cell_type": "code",
   "execution_count": null,
   "metadata": {
    "pycharm": {
     "is_executing": true
    }
   },
   "outputs": [],
   "source": [
    "%load_ext autoreload\n",
    "# ! pip install git+https://github.com/avivajpeyi/pspline_psd.git -q"
   ]
  },
  {
   "cell_type": "markdown",
   "metadata": {},
   "source": [
    "# Example: AR process\n",
    "\n",
    "First, lets generate some data from an AR process and plot it."
   ]
  },
  {
   "cell_type": "code",
   "execution_count": null,
   "metadata": {},
   "outputs": [],
   "source": [
    "import numpy as np\n",
    "import matplotlib.pyplot as plt\n",
    "from slipper.example_datasets.ar_data import get_ar_periodogram\n",
    "from slipper.sample import LogPsplineSampler\n",
    "from slipper.plotting import set_plotting_style\n",
    "import os\n",
    "\n",
    "np.random.seed(42)\n",
    "set_plotting_style()\n",
    "N_TOTAL_MCMC_STEPS = 500\n",
    "\n",
    "OUTDIR = \"out\"\n",
    "os.makedirs(OUTDIR, exist_ok=True)"
   ]
  },
  {
   "cell_type": "markdown",
   "metadata": {},
   "source": [
    "## Example 1: AR(3)"
   ]
  },
  {
   "cell_type": "code",
   "execution_count": null,
   "metadata": {
    "scrolled": true
   },
   "outputs": [],
   "source": [
    "mcmc = LogPsplineSampler.fit(\n",
    "    data=get_ar_periodogram(order=3, n_samples=1000), \n",
    "    outdir=OUTDIR,\n",
    "    sampler_kwargs=dict(\n",
    "        Ntotal=N_TOTAL_MCMC_STEPS, \n",
    "        degree=3,\n",
    "    )\n",
    ")\n",
    "\n",
    "fig = plt.figure(figsize=(4, 3))\n",
    "mcmc.plot_model_and_data(ax=fig.gca())\n",
    "fig.savefig(os.path.join(OUTDIR, 'AR3_fit.png'), dpi=100, bbox_inches='tight')"
   ]
  },
  {
   "cell_type": "markdown",
   "source": [
    "![](out/AR3_fit.png)"
   ],
   "metadata": {
    "collapsed": false
   }
  },
  {
   "cell_type": "markdown",
   "metadata": {},
   "source": [
    "## Example 2: AR(4)"
   ]
  },
  {
   "cell_type": "code",
   "execution_count": null,
   "metadata": {},
   "outputs": [],
   "source": [
    "mcmc = LogPsplineSampler.fit(\n",
    "    data=get_ar_periodogram(order=4, n_samples=1000), \n",
    "    outdir=OUTDIR,\n",
    "    sampler_kwargs=dict(Ntotal=N_TOTAL_MCMC_STEPS),\n",
    "    spline_kwargs=dict(\n",
    "        knot_locator_type='data_peak'\n",
    "    )\n",
    ")\n",
    "\n",
    "fig = plt.figure(figsize=(4, 3))\n",
    "mcmc.plot_model_and_data(ax=fig.gca())\n",
    "ax = fig.gca()\n",
    "ax.set_xscale('linear')\n",
    "fig.savefig(os.path.join(OUTDIR, 'AR4_fit.png'), dpi=100, bbox_inches='tight')"
   ]
  },
  {
   "cell_type": "markdown",
   "source": [
    "![](out/AR4_fit.png)"
   ],
   "metadata": {
    "collapsed": false
   }
  }
 ],
 "metadata": {
  "kernelspec": {
   "display_name": "Python 3 (ipykernel)",
   "language": "python",
   "name": "python3"
  },
  "language_info": {
   "codemirror_mode": {
    "name": "ipython",
    "version": 3
   },
   "file_extension": ".py",
   "mimetype": "text/x-python",
   "name": "python",
   "nbconvert_exporter": "python",
   "pygments_lexer": "ipython3",
   "version": "3.9.17"
  },
  "toc": {
   "base_numbering": 1,
   "nav_menu": {},
   "number_sections": true,
   "sideBar": true,
   "skip_h1_title": false,
   "title_cell": "Table of Contents",
   "title_sidebar": "Contents",
   "toc_cell": false,
   "toc_position": {},
   "toc_section_display": true,
   "toc_window_display": true
  },
  "varInspector": {
   "cols": {
    "lenName": 16,
    "lenType": 16,
    "lenVar": 40
   },
   "kernels_config": {
    "python": {
     "delete_cmd_postfix": "",
     "delete_cmd_prefix": "del ",
     "library": "var_list.py",
     "varRefreshCmd": "print(var_dic_list())"
    },
    "r": {
     "delete_cmd_postfix": ") ",
     "delete_cmd_prefix": "rm(",
     "library": "var_list.r",
     "varRefreshCmd": "cat(var_dic_list()) "
    }
   },
   "types_to_exclude": [
    "module",
    "function",
    "builtin_function_or_method",
    "instance",
    "_Feature"
   ],
   "window_display": false
  }
 },
 "nbformat": 4,
 "nbformat_minor": 1
}
