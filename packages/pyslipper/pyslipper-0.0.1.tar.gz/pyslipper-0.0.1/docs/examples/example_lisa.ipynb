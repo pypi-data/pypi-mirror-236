{
 "cells": [
  {
   "cell_type": "markdown",
   "source": [
    "# Example: LISA data"
   ],
   "metadata": {
    "collapsed": false
   }
  },
  {
   "cell_type": "code",
   "execution_count": null,
   "outputs": [],
   "source": [
    "from slipper.example_datasets.lisa_data import lisa_noise_periodogram, lisa_wd_strain\n",
    "from slipper.fourier_methods import get_periodogram\n",
    "from slipper.sample import LogPsplineSampler\n",
    "import os\n",
    "import numpy as np\n",
    "\n",
    "np.random.seed(42)\n",
    "OUTDIR = \"out\"\n",
    "os.makedirs(OUTDIR, exist_ok=True)"
   ],
   "metadata": {
    "collapsed": false
   }
  },
  {
   "cell_type": "markdown",
   "source": [
    "## Noise"
   ],
   "metadata": {
    "collapsed": false
   }
  },
  {
   "cell_type": "code",
   "execution_count": null,
   "outputs": [],
   "source": [
    "noise_mcmc = LogPsplineSampler.fit(\n",
    "    data=lisa_noise_periodogram()[::5],\n",
    "    sampler_kwargs=dict(Ntotal=200, burnin=100),\n",
    "    spline_kwargs=dict(k=30, knot_locator_type='linearly_spaced')\n",
    ");\n",
    "fig = noise_mcmc.plot_model_and_data(add_legend=True)\n",
    "fig.savefig(f\"{OUTDIR}/noise.png\", dpi=100)"
   ],
   "metadata": {
    "collapsed": false
   }
  },
  {
   "cell_type": "markdown",
   "source": [
    "![](out/noise.png)\n"
   ],
   "metadata": {
    "collapsed": false
   }
  },
  {
   "cell_type": "markdown",
   "source": [
    "## White dwarf background"
   ],
   "metadata": {
    "collapsed": false
   }
  },
  {
   "cell_type": "code",
   "execution_count": null,
   "outputs": [],
   "source": [
    "import matplotlib.pyplot as plt\n",
    "data = lisa_wd_strain()[0:10000]\n",
    "pdgrm = get_periodogram(timeseries=data)[10:1000]\n",
    "wdb_mcmc = LogPsplineSampler.fit(\n",
    "    data=pdgrm,\n",
    "    sampler_kwargs=dict(Ntotal=200, burnin=100),\n",
    "    spline_kwargs=dict(k=30, knot_locator_type='linearly_spaced')\n",
    ");\n",
    "fig = wdb_mcmc.plot_model_and_data(add_legend=True)\n",
    "fig.savefig(f\"{OUTDIR}/wdb.png\", dpi=100)"
   ],
   "metadata": {
    "collapsed": false
   }
  },
  {
   "cell_type": "markdown",
   "source": [
    "![](out/wdb.png)"
   ],
   "metadata": {
    "collapsed": false
   }
  }
 ],
 "metadata": {
  "kernelspec": {
   "display_name": "Python 3",
   "language": "python",
   "name": "python3"
  },
  "language_info": {
   "codemirror_mode": {
    "name": "ipython",
    "version": 2
   },
   "file_extension": ".py",
   "mimetype": "text/x-python",
   "name": "python",
   "nbconvert_exporter": "python",
   "pygments_lexer": "ipython2",
   "version": "2.7.6"
  }
 },
 "nbformat": 4,
 "nbformat_minor": 0
}
