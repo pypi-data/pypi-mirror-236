{
 "cells": [
  {
   "cell_type": "markdown",
   "metadata": {},
   "source": [
    "<div align=left style=\"width: 200; height: 80px; overflow: hidden\">\n",
    "    <img src=http://static1.squarespace.com/static/571446ff60b5e92c3a2b4249/57d8a40b9de4bb459f731cf3/58cb2f229de4bb4a049d38c2/1505340359463/teselaGenlogo.jpg align=right width=200>\n",
    "</div>"
   ]
  },
  {
   "cell_type": "markdown",
   "metadata": {},
   "source": [
    "# Hello World! (TEST module)"
   ]
  },
  {
   "cell_type": "markdown",
   "metadata": {},
   "source": [
    "This notebook is intended to show how to use the Teselagen Python's client to access the TEST module. "
   ]
  },
  {
   "cell_type": "code",
   "execution_count": 1,
   "metadata": {},
   "outputs": [
    {
     "name": "stdout",
     "output_type": "stream",
     "text": [
      "python version     : 3.9.13\n",
      "json version       : 2.0.9\n",
      "pandas version     : 1.4.2\n",
      "matplotlib version : 3.5.2\n"
     ]
    }
   ],
   "source": [
    "import json\n",
    "from pathlib import Path\n",
    "import platform\n",
    "\n",
    "import matplotlib\n",
    "import matplotlib.pyplot as plt\n",
    "import pandas as pd\n",
    "\n",
    "from teselagen.api import TeselaGenClient\n",
    "from teselagen.utils.utils import get_project_root\n",
    "\n",
    "plt.style.use('seaborn-colorblind')\n",
    "\n",
    "print(f\"python version     : {platform.python_version()}\")\n",
    "print(f\"json version       : {json.__version__}\")\n",
    "print(f\"pandas version     : {pd.__version__}\")\n",
    "print(f\"matplotlib version : {matplotlib.__version__}\")"
   ]
  },
  {
   "cell_type": "markdown",
   "metadata": {},
   "source": [
    "## Connect and Login"
   ]
  },
  {
   "cell_type": "code",
   "execution_count": 2,
   "metadata": {},
   "outputs": [
    {
     "name": "stdout",
     "output_type": "stream",
     "text": [
      "Client ready. Please login\n",
      "Session active at https://rc.teselagen.com\n"
     ]
    }
   ],
   "source": [
    "# Connect to your teselagen instance by passing it as the 'host_url' argument of TESTCLient(host_url=host_url)\n",
    "#host_url = \"https://your.teselagen.instance.com\"\n",
    "#client = TESTClient(host_url = host_url)\n",
    "client = TeselaGenClient()\n",
    "# The following command will prompt you to type username (email) and password\n",
    "client.login()\n",
    "# Alternatively you can add credential information in the arguments\n",
    "#client.login(username=\"your@email\", password=\"ZZZ\")"
   ]
  },
  {
   "cell_type": "markdown",
   "metadata": {},
   "source": [
    "## Laboratories\n",
    "\n",
    "Laboratories are used to separate data access into groups of users. When you add an experiment into a lab it will only be seen by users that have access to that Lab. "
   ]
  },
  {
   "cell_type": "markdown",
   "metadata": {},
   "source": [
    "Now we list all available laboratories"
   ]
  },
  {
   "cell_type": "code",
   "execution_count": 3,
   "metadata": {},
   "outputs": [
    {
     "data": {
      "text/plain": [
       "[{'id': '6a34bee2-9cc2-4ae4-92b3-5673c13cfe1b',\n",
       "  'name': 'Teselagen Example Lab'},\n",
       " {'id': 'eafd0b92-9369-4f80-81c6-661dc8ef8046', 'name': 'Example Lab'},\n",
       " {'id': 'a8acfc8f-98c5-4a32-9fb5-06fa0a4744fe', 'name': '3 Lab'},\n",
       " {'id': '91a368cc-bb00-4359-9e8d-2525cc667eec', 'name': 'Green Lab'},\n",
       " {'id': 'cfdb5d8e-3cda-43dd-88e5-76bbd5652bcc', 'name': '1 Lab'},\n",
       " {'id': 'd63a9bba-a04a-40d9-877c-dddf004f8038', 'name': 'QA Lab'},\n",
       " {'id': '9de9ab86-2feb-4f09-97a5-ad8ede3f12cb', 'name': 'Xime Lab'},\n",
       " {'id': '4a9cf778-d017-401d-b26a-5669a32a3a9a', 'name': 'User Lab'},\n",
       " {'id': '6131985c-661c-407b-ac86-16cc148712d9', 'name': 'TV_Lab'},\n",
       " {'id': 'b825f27f-2477-49a6-a33b-65175ad372ef', 'name': 'admin lab'},\n",
       " {'id': '04522bbb-f5cd-4ffe-9582-48a2b264d629', 'name': 'Davis Lab 2'},\n",
       " {'id': '449103b4-6274-46ca-a203-4ac312ea4947', 'name': 'Davis Lab'},\n",
       " {'id': 'b2fdf0ed-fd2e-4c58-9faa-1688dce2d200', 'name': 'CLI TEST'},\n",
       " {'id': '08514bfe-b53e-4282-b5ca-31c6fd3beaa1', 'name': 'The Test Lab'},\n",
       " {'id': '3743ea9d-3c29-45c3-98eb-ec8bf3988d4c', 'name': 'Teselagen-AR'},\n",
       " {'id': '3cb272f1-fa5a-46be-8fcb-4ef2a0a12d19', 'name': 'SUPER LAB'}]"
      ]
     },
     "metadata": {},
     "output_type": "display_data"
    }
   ],
   "source": [
    "labs = client.get_laboratories()\n",
    "display(labs)"
   ]
  },
  {
   "cell_type": "markdown",
   "metadata": {},
   "source": [
    "At the next cell a lab is selected. The remaining actions of this notebook will be done inside that lab."
   ]
  },
  {
   "cell_type": "code",
   "execution_count": 4,
   "metadata": {},
   "outputs": [
    {
     "name": "stdout",
     "output_type": "stream",
     "text": [
      "Selected Lab: Example Lab\n"
     ]
    }
   ],
   "source": [
    "# Select a Laboratory\n",
    "client.select_laboratory(lab_name=\"Example Lab\")"
   ]
  },
  {
   "cell_type": "markdown",
   "metadata": {},
   "source": [
    "## Experiments\n",
    "\n",
    "Experiments represents all the studies inside a laboratory. Each experiment can contain several Assays. The **get_experiments** function returns a list of dictionaries that contain experiments information."
   ]
  },
  {
   "cell_type": "code",
   "execution_count": 5,
   "metadata": {},
   "outputs": [
    {
     "name": "stdout",
     "output_type": "stream",
     "text": [
      "{'id': 'ae879d18-3731-4937-ae58-3b1c18df2685', 'name': 'Common Experiment'}\n",
      "{'id': 'c6e7424c-e2c3-4949-8cb4-1d756da4f45a', 'name': 'QA 6495'}\n",
      "{'id': 'c275ba2b-a282-4970-85a6-b74ad5b84405', 'name': 'QA 6793'}\n",
      "{'id': '40720aa2-398c-4883-83fb-2e0ac35ecacb', 'name': 'New Experiment'}\n",
      "{'id': 'a34d31c7-c129-40a3-890a-c9ec0886bd6a', 'name': 'floo'}\n",
      "{'id': '43397bc5-042d-4289-abfa-465d4fe190bd', 'name': 'foo'}\n"
     ]
    }
   ],
   "source": [
    "# Get My Experiments from the selected Laboratory.\n",
    "experiments = client.test.get_experiments()\n",
    "# Print some of them\n",
    "for exp in experiments:\n",
    "    print(exp)"
   ]
  },
  {
   "cell_type": "code",
   "execution_count": 6,
   "metadata": {},
   "outputs": [
    {
     "name": "stdout",
     "output_type": "stream",
     "text": [
      "{'id': '2e1ae17d-6ed1-4026-b7dc-00f4cc9a1a4d', 'name': 'Jupyter Experiment'}\n"
     ]
    }
   ],
   "source": [
    "# Create a new Experiment in the selected Laboratory.\n",
    "new_experiment = client.test.create_experiment(experiment_name=\"Jupyter Experiment\")\n",
    "print(new_experiment)"
   ]
  },
  {
   "cell_type": "markdown",
   "metadata": {},
   "source": [
    "## Assays\n",
    "\n",
    "The assay object allows you to group data obtained from the same *protocol*.\n",
    "\n",
    "Likewise other getters, the get_assays output can be easily parsed into a pandas dataframe. Here we show you how:"
   ]
  },
  {
   "cell_type": "code",
   "execution_count": 7,
   "metadata": {},
   "outputs": [
    {
     "data": {
      "text/html": [
       "<div>\n",
       "<style scoped>\n",
       "    .dataframe tbody tr th:only-of-type {\n",
       "        vertical-align: middle;\n",
       "    }\n",
       "\n",
       "    .dataframe tbody tr th {\n",
       "        vertical-align: top;\n",
       "    }\n",
       "\n",
       "    .dataframe thead th {\n",
       "        text-align: right;\n",
       "    }\n",
       "</style>\n",
       "<table border=\"1\" class=\"dataframe\">\n",
       "  <thead>\n",
       "    <tr style=\"text-align: right;\">\n",
       "      <th></th>\n",
       "      <th>id</th>\n",
       "      <th>name</th>\n",
       "      <th>experiment</th>\n",
       "    </tr>\n",
       "  </thead>\n",
       "  <tbody>\n",
       "    <tr>\n",
       "      <th>0</th>\n",
       "      <td>a7c46c68-6009-49fb-8f21-ed412429a66b</td>\n",
       "      <td>Common Assay</td>\n",
       "      <td>{'id': 'ae879d18-3731-4937-ae58-3b1c18df2685',...</td>\n",
       "    </tr>\n",
       "    <tr>\n",
       "      <th>1</th>\n",
       "      <td>9c29972e-f9c9-4667-a186-475c195d7417</td>\n",
       "      <td>QA6495</td>\n",
       "      <td>{'id': 'c6e7424c-e2c3-4949-8cb4-1d756da4f45a',...</td>\n",
       "    </tr>\n",
       "    <tr>\n",
       "      <th>2</th>\n",
       "      <td>5b728f44-661f-4255-9873-06a2bc3dbaa1</td>\n",
       "      <td>QA6793</td>\n",
       "      <td>{'id': 'c275ba2b-a282-4970-85a6-b74ad5b84405',...</td>\n",
       "    </tr>\n",
       "    <tr>\n",
       "      <th>3</th>\n",
       "      <td>2ad97c41-7d42-42d8-9786-66dc7ff5b1ca</td>\n",
       "      <td>QA6793</td>\n",
       "      <td>{'id': 'c275ba2b-a282-4970-85a6-b74ad5b84405',...</td>\n",
       "    </tr>\n",
       "    <tr>\n",
       "      <th>4</th>\n",
       "      <td>6121505b-e3c7-4919-b4e4-e6132b069824</td>\n",
       "      <td>ASas</td>\n",
       "      <td>{'id': 'c275ba2b-a282-4970-85a6-b74ad5b84405',...</td>\n",
       "    </tr>\n",
       "    <tr>\n",
       "      <th>5</th>\n",
       "      <td>cb7d5ed2-3443-4801-a84c-0eb901dcb4bc</td>\n",
       "      <td>test</td>\n",
       "      <td>{'id': 'c275ba2b-a282-4970-85a6-b74ad5b84405',...</td>\n",
       "    </tr>\n",
       "    <tr>\n",
       "      <th>6</th>\n",
       "      <td>a9bce351-4b76-41d7-8e77-a8b525eeeb78</td>\n",
       "      <td>New assay</td>\n",
       "      <td>{'id': '40720aa2-398c-4883-83fb-2e0ac35ecacb',...</td>\n",
       "    </tr>\n",
       "    <tr>\n",
       "      <th>7</th>\n",
       "      <td>dc64175a-18b7-4416-9039-fb6a44ce32b2</td>\n",
       "      <td>QA Assay</td>\n",
       "      <td>{'id': 'ae879d18-3731-4937-ae58-3b1c18df2685',...</td>\n",
       "    </tr>\n",
       "    <tr>\n",
       "      <th>8</th>\n",
       "      <td>9604cf12-24a0-4742-a35f-4b6391aebee9</td>\n",
       "      <td>Delete Assay</td>\n",
       "      <td>{'id': 'ae879d18-3731-4937-ae58-3b1c18df2685',...</td>\n",
       "    </tr>\n",
       "  </tbody>\n",
       "</table>\n",
       "</div>"
      ],
      "text/plain": [
       "                                     id          name  \\\n",
       "0  a7c46c68-6009-49fb-8f21-ed412429a66b  Common Assay   \n",
       "1  9c29972e-f9c9-4667-a186-475c195d7417        QA6495   \n",
       "2  5b728f44-661f-4255-9873-06a2bc3dbaa1        QA6793   \n",
       "3  2ad97c41-7d42-42d8-9786-66dc7ff5b1ca        QA6793   \n",
       "4  6121505b-e3c7-4919-b4e4-e6132b069824          ASas   \n",
       "5  cb7d5ed2-3443-4801-a84c-0eb901dcb4bc          test   \n",
       "6  a9bce351-4b76-41d7-8e77-a8b525eeeb78     New assay   \n",
       "7  dc64175a-18b7-4416-9039-fb6a44ce32b2      QA Assay   \n",
       "8  9604cf12-24a0-4742-a35f-4b6391aebee9  Delete Assay   \n",
       "\n",
       "                                          experiment  \n",
       "0  {'id': 'ae879d18-3731-4937-ae58-3b1c18df2685',...  \n",
       "1  {'id': 'c6e7424c-e2c3-4949-8cb4-1d756da4f45a',...  \n",
       "2  {'id': 'c275ba2b-a282-4970-85a6-b74ad5b84405',...  \n",
       "3  {'id': 'c275ba2b-a282-4970-85a6-b74ad5b84405',...  \n",
       "4  {'id': 'c275ba2b-a282-4970-85a6-b74ad5b84405',...  \n",
       "5  {'id': 'c275ba2b-a282-4970-85a6-b74ad5b84405',...  \n",
       "6  {'id': '40720aa2-398c-4883-83fb-2e0ac35ecacb',...  \n",
       "7  {'id': 'ae879d18-3731-4937-ae58-3b1c18df2685',...  \n",
       "8  {'id': 'ae879d18-3731-4937-ae58-3b1c18df2685',...  "
      ]
     },
     "metadata": {},
     "output_type": "display_data"
    }
   ],
   "source": [
    "# Get All Assays From all experiments in the selected Laboratory\n",
    "assays_dataframe = pd.DataFrame(client.test.get_assays())\n",
    "# Or, alternatively, if you want to use id as index in the dataframe\n",
    "#assays_dataframe = pd.DataFrame.from_records(client.get_assays(), index='id')\n",
    "display(assays_dataframe)"
   ]
  },
  {
   "cell_type": "markdown",
   "metadata": {},
   "source": [
    "You can also create assays using the client"
   ]
  },
  {
   "cell_type": "code",
   "execution_count": 8,
   "metadata": {},
   "outputs": [
    {
     "name": "stdout",
     "output_type": "stream",
     "text": [
      "{'id': 'fa5a73eb-55f1-4e61-9859-f3888f87f8e3', 'name': 'Jupyter Assay', 'experiment': {'id': '2e1ae17d-6ed1-4026-b7dc-00f4cc9a1a4d', 'name': 'Jupyter Experiment'}}\n"
     ]
    }
   ],
   "source": [
    "# Create a new Assay within a new experiment\n",
    "new_assay = client.test.create_assay(experiment_id=new_experiment['id'], assay_name='Jupyter Assay')\n",
    "print(new_assay)"
   ]
  },
  {
   "cell_type": "markdown",
   "metadata": {},
   "source": [
    "And you can list all assays from an experiment"
   ]
  },
  {
   "cell_type": "code",
   "execution_count": 9,
   "metadata": {},
   "outputs": [
    {
     "data": {
      "text/html": [
       "<div>\n",
       "<style scoped>\n",
       "    .dataframe tbody tr th:only-of-type {\n",
       "        vertical-align: middle;\n",
       "    }\n",
       "\n",
       "    .dataframe tbody tr th {\n",
       "        vertical-align: top;\n",
       "    }\n",
       "\n",
       "    .dataframe thead th {\n",
       "        text-align: right;\n",
       "    }\n",
       "</style>\n",
       "<table border=\"1\" class=\"dataframe\">\n",
       "  <thead>\n",
       "    <tr style=\"text-align: right;\">\n",
       "      <th></th>\n",
       "      <th>id</th>\n",
       "      <th>name</th>\n",
       "      <th>experiment</th>\n",
       "    </tr>\n",
       "  </thead>\n",
       "  <tbody>\n",
       "    <tr>\n",
       "      <th>0</th>\n",
       "      <td>fa5a73eb-55f1-4e61-9859-f3888f87f8e3</td>\n",
       "      <td>Jupyter Assay</td>\n",
       "      <td>{'id': '2e1ae17d-6ed1-4026-b7dc-00f4cc9a1a4d',...</td>\n",
       "    </tr>\n",
       "  </tbody>\n",
       "</table>\n",
       "</div>"
      ],
      "text/plain": [
       "                                     id           name  \\\n",
       "0  fa5a73eb-55f1-4e61-9859-f3888f87f8e3  Jupyter Assay   \n",
       "\n",
       "                                          experiment  \n",
       "0  {'id': '2e1ae17d-6ed1-4026-b7dc-00f4cc9a1a4d',...  "
      ]
     },
     "metadata": {},
     "output_type": "display_data"
    }
   ],
   "source": [
    "# Get All Assays From Experiment with ID=\"experiment_id\"\n",
    "assays = pd.DataFrame(client.test.get_assays(experiment_id=new_experiment['id']))\n",
    "display(assays)"
   ]
  },
  {
   "cell_type": "markdown",
   "metadata": {},
   "source": [
    "## Files\n",
    "\n",
    "The TEST module can also store files. Files are shared between users of the same lab and can be associated to specific assays."
   ]
  },
  {
   "cell_type": "code",
   "execution_count": 10,
   "metadata": {},
   "outputs": [
    {
     "data": {
      "text/html": [
       "<div>\n",
       "<style scoped>\n",
       "    .dataframe tbody tr th:only-of-type {\n",
       "        vertical-align: middle;\n",
       "    }\n",
       "\n",
       "    .dataframe tbody tr th {\n",
       "        vertical-align: top;\n",
       "    }\n",
       "\n",
       "    .dataframe thead th {\n",
       "        text-align: right;\n",
       "    }\n",
       "</style>\n",
       "<table border=\"1\" class=\"dataframe\">\n",
       "  <thead>\n",
       "    <tr style=\"text-align: right;\">\n",
       "      <th></th>\n",
       "      <th>id</th>\n",
       "      <th>name</th>\n",
       "      <th>importStatus</th>\n",
       "      <th>experiment</th>\n",
       "      <th>assay</th>\n",
       "    </tr>\n",
       "  </thead>\n",
       "  <tbody>\n",
       "    <tr>\n",
       "      <th>0</th>\n",
       "      <td>1a586e7b-376c-4553-9cb9-7b50096968bf</td>\n",
       "      <td>Assay A.csv</td>\n",
       "      <td>MAPPING</td>\n",
       "      <td>None</td>\n",
       "      <td>None</td>\n",
       "    </tr>\n",
       "    <tr>\n",
       "      <th>1</th>\n",
       "      <td>0054603b-87f8-415b-8f8a-875d5b121f7e</td>\n",
       "      <td>test_module_example_20_1_aliquots_multi_meas.csv</td>\n",
       "      <td>FINISHED</td>\n",
       "      <td>None</td>\n",
       "      <td>None</td>\n",
       "    </tr>\n",
       "    <tr>\n",
       "      <th>2</th>\n",
       "      <td>6788554e-5d6f-4c48-b5cb-8b677e2100f7</td>\n",
       "      <td>test_module_example_100_aliquots_multi_meas.csv</td>\n",
       "      <td>FINISHED</td>\n",
       "      <td>None</td>\n",
       "      <td>None</td>\n",
       "    </tr>\n",
       "    <tr>\n",
       "      <th>3</th>\n",
       "      <td>da5bc36a-551f-4a5a-b694-4be6f7bf0cb7</td>\n",
       "      <td>test_module_example_100_aliquots_multi_meas.csv</td>\n",
       "      <td>FINISHED</td>\n",
       "      <td>None</td>\n",
       "      <td>None</td>\n",
       "    </tr>\n",
       "    <tr>\n",
       "      <th>4</th>\n",
       "      <td>eb3b7dba-7cce-4c8b-92ee-2a9b0626a0a0</td>\n",
       "      <td>test_module_example_3_subject_2_meas_refdim.csv</td>\n",
       "      <td>FINISHED</td>\n",
       "      <td>None</td>\n",
       "      <td>None</td>\n",
       "    </tr>\n",
       "  </tbody>\n",
       "</table>\n",
       "</div>"
      ],
      "text/plain": [
       "                                     id  \\\n",
       "0  1a586e7b-376c-4553-9cb9-7b50096968bf   \n",
       "1  0054603b-87f8-415b-8f8a-875d5b121f7e   \n",
       "2  6788554e-5d6f-4c48-b5cb-8b677e2100f7   \n",
       "3  da5bc36a-551f-4a5a-b694-4be6f7bf0cb7   \n",
       "4  eb3b7dba-7cce-4c8b-92ee-2a9b0626a0a0   \n",
       "\n",
       "                                               name importStatus experiment  \\\n",
       "0                                       Assay A.csv      MAPPING       None   \n",
       "1  test_module_example_20_1_aliquots_multi_meas.csv     FINISHED       None   \n",
       "2   test_module_example_100_aliquots_multi_meas.csv     FINISHED       None   \n",
       "3   test_module_example_100_aliquots_multi_meas.csv     FINISHED       None   \n",
       "4   test_module_example_3_subject_2_meas_refdim.csv     FINISHED       None   \n",
       "\n",
       "  assay  \n",
       "0  None  \n",
       "1  None  \n",
       "2  None  \n",
       "3  None  \n",
       "4  None  "
      ]
     },
     "execution_count": 10,
     "metadata": {},
     "output_type": "execute_result"
    }
   ],
   "source": [
    "# Get All Files info from the selected Laboratory\n",
    "pd.DataFrame(client.test.get_files_info()).head()\n",
    "# You can fetch info from a specific assay using the assay_id argument\n",
    "# display(pd.DataFrame(client.get_files(assay_id=new_assay['id'])))"
   ]
  },
  {
   "cell_type": "code",
   "execution_count": 11,
   "metadata": {},
   "outputs": [
    {
     "name": "stdout",
     "output_type": "stream",
     "text": [
      "{'id': '209540c8-1e2e-426e-a0a5-5695ad8ef3de', 'name': 'example_file.csv', 'importStatus': 'INPROGRESS', 'experiment': {'id': '2e1ae17d-6ed1-4026-b7dc-00f4cc9a1a4d', 'name': 'Jupyter Experiment'}, 'assay': {'id': 'fa5a73eb-55f1-4e61-9859-f3888f87f8e3', 'name': 'Jupyter Assay'}}\n"
     ]
    }
   ],
   "source": [
    "# Upload a File with an Assay.\n",
    "filepath = str(get_project_root() / \"teselagen/api/tests/example_file.csv\")\n",
    "new_file_info = client.test.upload_file(filepath=filepath, assay_id=new_assay['id'])\n",
    "# Upload a File without an Assay.\n",
    "#new_file_info = client.upload_file(filepath=\"./test_module_example.csv\")\n",
    "print(new_file_info)"
   ]
  },
  {
   "cell_type": "code",
   "execution_count": 12,
   "metadata": {},
   "outputs": [
    {
     "data": {
      "text/html": [
       "<div>\n",
       "<style scoped>\n",
       "    .dataframe tbody tr th:only-of-type {\n",
       "        vertical-align: middle;\n",
       "    }\n",
       "\n",
       "    .dataframe tbody tr th {\n",
       "        vertical-align: top;\n",
       "    }\n",
       "\n",
       "    .dataframe thead th {\n",
       "        text-align: right;\n",
       "    }\n",
       "</style>\n",
       "<table border=\"1\" class=\"dataframe\">\n",
       "  <thead>\n",
       "    <tr style=\"text-align: right;\">\n",
       "      <th></th>\n",
       "      <th>Line</th>\n",
       "      <th>Teselagen Example Descriptor 1</th>\n",
       "      <th>Teselagen Example Descriptor 2</th>\n",
       "      <th>Teselagen Example Target</th>\n",
       "      <th>Teselagen Example Target Metric</th>\n",
       "    </tr>\n",
       "  </thead>\n",
       "  <tbody>\n",
       "    <tr>\n",
       "      <th>0</th>\n",
       "      <td>1</td>\n",
       "      <td>A0</td>\n",
       "      <td>B1</td>\n",
       "      <td>1</td>\n",
       "      <td>ug/mL</td>\n",
       "    </tr>\n",
       "    <tr>\n",
       "      <th>1</th>\n",
       "      <td>2</td>\n",
       "      <td>A0</td>\n",
       "      <td>B2</td>\n",
       "      <td>2</td>\n",
       "      <td>ug/mL</td>\n",
       "    </tr>\n",
       "    <tr>\n",
       "      <th>2</th>\n",
       "      <td>3</td>\n",
       "      <td>A0</td>\n",
       "      <td>B3</td>\n",
       "      <td>3</td>\n",
       "      <td>ug/mL</td>\n",
       "    </tr>\n",
       "    <tr>\n",
       "      <th>3</th>\n",
       "      <td>4</td>\n",
       "      <td>A0</td>\n",
       "      <td>B5</td>\n",
       "      <td>5</td>\n",
       "      <td>ug/mL</td>\n",
       "    </tr>\n",
       "    <tr>\n",
       "      <th>4</th>\n",
       "      <td>5</td>\n",
       "      <td>A0</td>\n",
       "      <td>B6</td>\n",
       "      <td>6</td>\n",
       "      <td>ug/mL</td>\n",
       "    </tr>\n",
       "  </tbody>\n",
       "</table>\n",
       "</div>"
      ],
      "text/plain": [
       "   Line Teselagen Example Descriptor 1 Teselagen Example Descriptor 2  \\\n",
       "0     1                             A0                             B1   \n",
       "1     2                             A0                             B2   \n",
       "2     3                             A0                             B3   \n",
       "3     4                             A0                             B5   \n",
       "4     5                             A0                             B6   \n",
       "\n",
       "   Teselagen Example Target Teselagen Example Target Metric  \n",
       "0                         1                           ug/mL  \n",
       "1                         2                           ug/mL  \n",
       "2                         3                           ug/mL  \n",
       "3                         5                           ug/mL  \n",
       "4                         6                           ug/mL  "
      ]
     },
     "execution_count": 12,
     "metadata": {},
     "output_type": "execute_result"
    }
   ],
   "source": [
    "# Gets File data contens\n",
    "binarydata = client.test.download_file(file_id=new_file_info['id'])\n",
    "df_file = pd.read_csv(binarydata, sep=\",\")\n",
    "df_file.head()"
   ]
  },
  {
   "cell_type": "markdown",
   "metadata": {},
   "source": [
    "## Delete elements\n",
    "\n",
    "You can delete an experiment to remove all its assays. Files work differently and you need to explicitly delete them. In the next cells we will download each object specifically:"
   ]
  },
  {
   "cell_type": "code",
   "execution_count": 13,
   "metadata": {},
   "outputs": [
    {
     "data": {
      "text/plain": [
       "{'id': '209540c8-1e2e-426e-a0a5-5695ad8ef3de'}"
      ]
     },
     "execution_count": 13,
     "metadata": {},
     "output_type": "execute_result"
    }
   ],
   "source": [
    "# Deletes a File\n",
    "client.test.delete_file(file_id=new_file_info['id'])"
   ]
  },
  {
   "cell_type": "code",
   "execution_count": 14,
   "metadata": {},
   "outputs": [
    {
     "data": {
      "text/plain": [
       "{'id': 'fa5a73eb-55f1-4e61-9859-f3888f87f8e3'}"
      ]
     },
     "execution_count": 14,
     "metadata": {},
     "output_type": "execute_result"
    }
   ],
   "source": [
    "# Delete an Assay\n",
    "client.test.delete_assay(assay_id=new_assay['id'])"
   ]
  },
  {
   "cell_type": "code",
   "execution_count": 15,
   "metadata": {},
   "outputs": [],
   "source": [
    "# Delete an Experiment from the selected laboratory.\n",
    "client.test.delete_experiment(experiment_id=new_experiment['id'])"
   ]
  },
  {
   "cell_type": "code",
   "execution_count": 16,
   "metadata": {},
   "outputs": [],
   "source": [
    "# Delete all experiments with the name Jupyter Experiment\n",
    "# (if any remains due to uncompleted executions of the notebook)\n",
    "# experiments = client.get_experiments()\n",
    "# for exp in experiments:\n",
    "#     if exp['name'] == \"Jupyter Experiment\":\n",
    "#         client.delete_experiment(experiment_id=exp['id'])"
   ]
  },
  {
   "cell_type": "code",
   "execution_count": null,
   "metadata": {},
   "outputs": [],
   "source": []
  }
 ],
 "metadata": {
  "kernelspec": {
   "display_name": "Python 3 (ipykernel)",
   "language": "python",
   "name": "python3"
  },
  "language_info": {
   "codemirror_mode": {
    "name": "ipython",
    "version": 3
   },
   "file_extension": ".py",
   "mimetype": "text/x-python",
   "name": "python",
   "nbconvert_exporter": "python",
   "pygments_lexer": "ipython3",
   "version": "3.9.13"
  }
 },
 "nbformat": 4,
 "nbformat_minor": 4
}
