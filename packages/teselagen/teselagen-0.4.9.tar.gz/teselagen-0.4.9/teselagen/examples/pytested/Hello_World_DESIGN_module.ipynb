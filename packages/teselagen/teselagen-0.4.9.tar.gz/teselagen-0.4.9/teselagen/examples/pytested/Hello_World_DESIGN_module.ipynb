{
 "cells": [
  {
   "cell_type": "markdown",
   "id": "north-universe",
   "metadata": {},
   "source": [
    "<div align=left style=\"width: 200; height: 80px; overflow: hidden\">\n",
    "    <img src=http://static1.squarespace.com/static/571446ff60b5e92c3a2b4249/57d8a40b9de4bb459f731cf3/58cb2f229de4bb4a049d38c2/1505340359463/teselaGenlogo.jpg align=right width=200>\n",
    "</div>"
   ]
  },
  {
   "cell_type": "markdown",
   "id": "major-armor",
   "metadata": {},
   "source": [
    "# Hello World! DESIGN Module\n",
    "\n",
    "This notebook shows how to use the TeselaGen's Python API Client to interact with the DESIGN module."
   ]
  },
  {
   "cell_type": "markdown",
   "id": "colored-booth",
   "metadata": {},
   "source": [
    "We start by making some imports"
   ]
  },
  {
   "cell_type": "code",
   "execution_count": 1,
   "id": "working-major",
   "metadata": {},
   "outputs": [
    {
     "data": {
      "application/vnd.jupyter.widget-view+json": {
       "model_id": "edb34ce5a8924cdc84cac96a7e5026d6",
       "version_major": 2,
       "version_minor": 0
      },
      "text/plain": []
     },
     "metadata": {},
     "output_type": "display_data"
    },
    {
     "name": "stdout",
     "output_type": "stream",
     "text": [
      "python version     : 3.9.13\n",
      "pandas version     : 1.4.2\n"
     ]
    }
   ],
   "source": [
    "from pathlib import Path\n",
    "import platform\n",
    "\n",
    "from IPython.display import display\n",
    "from IPython.core.display import HTML\n",
    "import nglview\n",
    "import pandas as pd\n",
    "\n",
    "from teselagen.api import TeselaGenClient\n",
    "from teselagen.utils.plot_tools import plot_plasmid_features\n",
    "from teselagen.utils.plot_tools import RenderJSON\n",
    "\n",
    "print(f\"python version     : {platform.python_version()}\")\n",
    "print(f\"pandas version     : {pd.__version__}\")"
   ]
  },
  {
   "cell_type": "markdown",
   "id": "marked-consequence",
   "metadata": {},
   "source": [
    "And then login into the platform. You should get \"*Connection Accepted*\" printed below. "
   ]
  },
  {
   "cell_type": "code",
   "execution_count": 2,
   "id": "peripheral-brake",
   "metadata": {},
   "outputs": [
    {
     "name": "stdout",
     "output_type": "stream",
     "text": [
      "Client ready. Please login\n",
      "Session active at https://rc.teselagen.com\n",
      "Selected Lab: The Test Lab\n"
     ]
    }
   ],
   "source": [
    "# Connect to your teselagen instance by passing it as the 'host_url' argument of TeselaGenClient(host_url=host_url)\n",
    "# client = TeselaGenClient(host_url=\"https://your-instance-name.teselagen.com\")\n",
    "client = TeselaGenClient()\n",
    "client.login()\n",
    "client.select_laboratory(lab_name=\"The Test Lab\")"
   ]
  },
  {
   "cell_type": "code",
   "execution_count": 3,
   "id": "packed-cause",
   "metadata": {},
   "outputs": [
    {
     "name": "stdout",
     "output_type": "stream",
     "text": [
      "https://rc.teselagen.com\n"
     ]
    }
   ],
   "source": [
    "print(client.host_url)"
   ]
  },
  {
   "cell_type": "markdown",
   "id": "capital-invention",
   "metadata": {},
   "source": [
    "## Downloading DNA sequences"
   ]
  },
  {
   "cell_type": "markdown",
   "id": "graphic-search",
   "metadata": {},
   "source": [
    "In this section we are going to download and explore a sample sequence from the DESIGN module. This sequences is named `GFP_UV`. In the next cell we are going to download this sequence. You can use the cell's output to explore the contents of this object:"
   ]
  },
  {
   "cell_type": "code",
   "execution_count": 4,
   "id": "acute-welding",
   "metadata": {},
   "outputs": [
    {
     "data": {
      "text/html": [
       "\n",
       "            <div id=\"daac4ed8-adf7-4953-b71b-a527927d8624\" style=\"height: max-content; width:100%;background-color: #f2f3ff\";></div>\n",
       "            "
      ]
     },
     "metadata": {},
     "output_type": "display_data"
    },
    {
     "data": {
      "application/javascript": "\n            require([\"https://rawgit.com/caldwell/renderjson/master/renderjson.js\"], function() {\n            document.getElementById('daac4ed8-adf7-4953-b71b-a527927d8624').appendChild(renderjson({\"id\": \"b06f7337-e839-414f-8a16-0474eb0043c0\", \"name\": \"part_1 part_1\", \"circular\": false, \"description\": \"|1800|linear\", \"size\": 0, \"hash\": \"NLD6799b909cd53ea39cd8293646f4c4f36086cb9553fc8270a7431fc1222f0041c\", \"rotationalHash\": \"NLD6799b909cd53ea39cd8293646f4c4f36086cb9553fc8270a7431fc1222f0041c\", \"sequenceTypeCode\": \"LINEAR_DNA\", \"sequenceType\": {\"code\": \"LINEAR_DNA\", \"name\": \"Linear DNA\", \"__typename\": \"sequenceType\"}, \"plasmidMicrobialMaterialPlasmids\": [], \"__typename\": \"sequence\", \"isJ5Sequence\": false, \"parts\": [{\"id\": \"d6aa7df7-f4e2-417a-82d0-b93fded264d5\", \"name\": \"random sequence 1 consisting of 7000 bases. - partitioned in 3 - part 1\", \"type\": \"misc_feature\", \"start\": -1, \"end\": -1, \"strand\": 1, \"notes\": {\"tag\": []}, \"annotationTypePlural\": \"parts\", \"forward\": true, \"color\": \"#006FEF\"}], \"sequenceFeatures\": [], \"type\": \"DNA\", \"isOligo\": false, \"isRna\": false, \"proteinSequence\": \"\", \"sequence\": \"\", \"proteinSize\": 0, \"primers\": [], \"features\": [], \"lineageAnnotations\": [], \"assemblyPieces\": [], \"warnings\": [], \"cutsites\": [], \"orfs\": [], \"translations\": [], \"guides\": [], \"extendedProperties\": [], \"tags\": []}))\n            });\n            "
     },
     "metadata": {},
     "output_type": "display_data"
    }
   ],
   "source": [
    "sequence = client.design.get_dna_sequences(name='GFP_UV')[0]\n",
    "RenderJSON(sequence)"
   ]
  },
  {
   "cell_type": "markdown",
   "id": "impossible-coverage",
   "metadata": {},
   "source": [
    "The output contained  a list of all sequences named `'GFP_UV'`. We just got the first one and now we check the   features it contains"
   ]
  },
  {
   "cell_type": "code",
   "execution_count": 5,
   "id": "narrative-liver",
   "metadata": {},
   "outputs": [],
   "source": [
    "features = sequence['features']\n",
    "for feat in features:\n",
    "    print(feat['name'])"
   ]
  },
  {
   "cell_type": "code",
   "execution_count": 6,
   "id": "13dcfd31",
   "metadata": {},
   "outputs": [
    {
     "data": {
      "text/plain": [
       "[]"
      ]
     },
     "execution_count": 6,
     "metadata": {},
     "output_type": "execute_result"
    }
   ],
   "source": [
    "features"
   ]
  },
  {
   "cell_type": "markdown",
   "id": "thick-parker",
   "metadata": {},
   "source": [
    "Each element contains all the information about that particular feature. In the following cell we show the contents of the `GFPuv` feature (only if available):"
   ]
  },
  {
   "cell_type": "code",
   "execution_count": 7,
   "id": "nuclear-cliff",
   "metadata": {},
   "outputs": [],
   "source": [
    "gfp_uv_feature = [feat for feat in features if feat['name'] == \"GFPuv\"]\n",
    "if gfp_uv_feature:\n",
    "    display(gfp_uv_feature[0])"
   ]
  },
  {
   "cell_type": "markdown",
   "id": "alien-horizon",
   "metadata": {},
   "source": [
    "We can use the above object to get the precise nucleotide sequence for that feature:"
   ]
  },
  {
   "cell_type": "code",
   "execution_count": 8,
   "id": "regular-filename",
   "metadata": {},
   "outputs": [],
   "source": [
    "if gfp_uv_feature:\n",
    "    display(sequence['sequence'][int(gfp_uv_feature[0]['start']):int(gfp_uv_feature[0]['end']) + 1])"
   ]
  },
  {
   "cell_type": "markdown",
   "id": "olympic-variance",
   "metadata": {},
   "source": [
    "We can also make a plot of all features by using [dna_features_viewer library](https://github.com/Edinburgh-Genome-Foundry/DnaFeaturesViewer) (see plot_plasmid_features implementation for details). As there are many features we will just focus on the biggest ones (> 100 base pairs)"
   ]
  },
  {
   "cell_type": "code",
   "execution_count": 9,
   "id": "artistic-liverpool",
   "metadata": {
    "scrolled": false
   },
   "outputs": [],
   "source": [
    "if features:\n",
    "    _ = plot_plasmid_features(plasmid_length=len(sequence['sequence']),\n",
    "                            features=[feat for feat in features if feat['end'] - feat['start'] > 100])\n",
    "    # This line just centers the image\n",
    "    HTML(\"\"\"<style> .output_png {display: table-cell;text-align: center;vertical-align: middle;}</style>\"\"\")"
   ]
  },
  {
   "cell_type": "markdown",
   "id": "plastic-hierarchy",
   "metadata": {},
   "source": [
    "## Downloading designs\n",
    "\n",
    "Now we'll download a design from the platform"
   ]
  },
  {
   "cell_type": "code",
   "execution_count": 10,
   "id": "special-landscape",
   "metadata": {},
   "outputs": [
    {
     "name": "stdout",
     "output_type": "stream",
     "text": [
      "Design not found, please change design_name with an existent design name\n"
     ]
    }
   ],
   "source": [
    "# We first obtain designs id by its name\n",
    "design_name = \"CGG Design demo notebook\"\n",
    "design_info = client.design.get_designs(name=design_name)\n",
    "if not design_info:\n",
    "    print(\"Design not found, please change design_name with an existent design name\")\n",
    "else:\n",
    "    print(\"Downloaded design\", design_info)"
   ]
  },
  {
   "cell_type": "markdown",
   "id": "compatible-script",
   "metadata": {},
   "source": [
    "Click the following link to see the design in the platform"
   ]
  },
  {
   "cell_type": "code",
   "execution_count": 11,
   "id": "serial-promise",
   "metadata": {},
   "outputs": [],
   "source": [
    "if design_info:\n",
    "    design_url = f\"{client.host_url}/design/client/designs/{design_info['id']}\"\n",
    "    display(HTML(f\"\"\"<a href=\"{design_url}\" target=\"_blank\" rel=\"noopener noreferrer\">{design_url}</a>\"\"\"))"
   ]
  },
  {
   "cell_type": "code",
   "execution_count": 12,
   "id": "loving-africa",
   "metadata": {},
   "outputs": [],
   "source": [
    "# Then download design:\n",
    "design = None\n",
    "if design_info:\n",
    "    design = client.design.get_design(design_info['id'])\n"
   ]
  },
  {
   "cell_type": "markdown",
   "id": "least-fisher",
   "metadata": {},
   "source": [
    "You can use the output of the next cell to explore the design object"
   ]
  },
  {
   "cell_type": "code",
   "execution_count": 13,
   "id": "worth-marketplace",
   "metadata": {},
   "outputs": [],
   "source": [
    "if design:\n",
    "    RenderJSON(design)"
   ]
  },
  {
   "cell_type": "markdown",
   "id": "valuable-exhibition",
   "metadata": {},
   "source": [
    "For design upload, please refer to the *Closing-the-DBTL-Cycle.ipynb* jupyter notebook."
   ]
  },
  {
   "cell_type": "markdown",
   "id": "vanilla-sector",
   "metadata": {},
   "source": [
    "## Working with amino acid sequences\n",
    "\n",
    "Below we will explore how to upload and download amino acid secuences with an Antimicrobial Peptide (AMP). \n",
    " "
   ]
  },
  {
   "cell_type": "markdown",
   "id": "plastic-blair",
   "metadata": {},
   "source": [
    "The [2KNJ](https://www.rcsb.org/structure/2KNJ) peptide has AMP properties. Its sequence is: ```HHQELCTKGDDALVTELECIRLRISPETNAAFDNAVQQLNCLNRACAYRKMCATNNLEQAMSVYFTNEQIKEIHDAATACDPEAHHEHDH```\n",
    "\n",
    "The next cell shows its 3D structure:\n",
    "\n",
    "(Note: For displaying the molecule, the [nglview](https://github.com/nglviewer/nglview) library is being used. If the figure is not showing, try running the following command from your environment terminal and reload: `jupyter-nbextension enable nglview --py --sys-prefix`. If still doesn't work you may want to explore their [FAQ](https://github.com/nglviewer/nglview/blob/master/docs/FAQ.md#widget-not-shown))"
   ]
  },
  {
   "cell_type": "code",
   "execution_count": 14,
   "id": "excellent-broad",
   "metadata": {
    "scrolled": true
   },
   "outputs": [
    {
     "data": {
      "application/vnd.jupyter.widget-view+json": {
       "model_id": "ae31abd5da1742b9930121dbb1539dff",
       "version_major": 2,
       "version_minor": 0
      },
      "text/plain": [
       "NGLWidget()"
      ]
     },
     "metadata": {},
     "output_type": "display_data"
    }
   ],
   "source": [
    "# Uncomment the following lines to show the 3D structure\n",
    "view = nglview.show_pdbid(\"2KNJ\")  # load \"2KNJ\" from RCSB PDB and display viewer widget\n",
    "view"
   ]
  },
  {
   "cell_type": "markdown",
   "id": "verified-jason",
   "metadata": {},
   "source": [
    "In the next cell we are going to upload this amino acid sequence into the DESIGN module.\n",
    "\n",
    "If upload works ok, the endpoint will return something like:\n",
    "\n",
    "```\n",
    "{'createdAminoAcidSequences': [{'id': '17', 'name': '2KNJ2'}]}\n",
    "```\n",
    "\n",
    "However, the current example is already loaded in the default server so, in this case, the endpoint will return a non-empty `existingAminoAcidSequences` field, as occurs when some of the uploaded sequences matches a sequence from the the dataset. "
   ]
  },
  {
   "cell_type": "code",
   "execution_count": 15,
   "id": "invisible-commerce",
   "metadata": {},
   "outputs": [
    {
     "data": {
      "text/plain": [
       "{'existingAminoAcidSequences': [{'id': '7a5c3f16-c19e-4f26-bb47-2ecb68e0cdc7'}]}"
      ]
     },
     "execution_count": 15,
     "metadata": {},
     "output_type": "execute_result"
    }
   ],
   "source": [
    "result = client.design.import_aa_sequences([{\n",
    "    'AA_NAME': \"2KNJ2\",\n",
    "    'AA_SEQUENCE': 'HHQELCTKGDDALVTELECIRLRISPETNAAFDNAVQQLNCLNRACAYRKMCATNNLEQAMSVYFTNEQIKEIHDAATACDPEAHHEHDH'\n",
    "}])\n",
    "result"
   ]
  },
  {
   "cell_type": "code",
   "execution_count": 16,
   "id": "bafd06c3",
   "metadata": {},
   "outputs": [
    {
     "data": {
      "text/plain": [
       "{'existingAminoAcidSequences': [{'id': '7a5c3f16-c19e-4f26-bb47-2ecb68e0cdc7'}]}"
      ]
     },
     "execution_count": 16,
     "metadata": {},
     "output_type": "execute_result"
    }
   ],
   "source": [
    "result"
   ]
  },
  {
   "cell_type": "markdown",
   "id": "mental-placement",
   "metadata": {},
   "source": [
    "Now we'll download the sequence. Amino acid sequence `id` is needed for this:"
   ]
  },
  {
   "cell_type": "code",
   "execution_count": 17,
   "id": "pretty-console",
   "metadata": {},
   "outputs": [],
   "source": [
    "# The following list contains a list with the uploaded sequence id\n",
    "if \"existingAminoAcidSequences\" in result:\n",
    "    ids_list = [result['existingAminoAcidSequences'][0]['id']]\n",
    "elif \"createdAminoAcidSequences\" in result:\n",
    "    ids_list = [result['createdAminoAcidSequences'][0]['id']]\n",
    "else:\n",
    "    raise AssertionError(f\"Received malformed result: {result}\")\n",
    "result = client.design.export_aa_sequences(ids_list)"
   ]
  },
  {
   "cell_type": "markdown",
   "id": "disciplinary-sewing",
   "metadata": {},
   "source": [
    "## Finally, the downloaded object can be seen below"
   ]
  },
  {
   "cell_type": "code",
   "execution_count": 18,
   "id": "strong-person",
   "metadata": {},
   "outputs": [
    {
     "data": {
      "text/html": [
       "\n",
       "            <div id=\"6a794431-74d3-4a04-9ae0-9312eb411e3c\" style=\"height: max-content; width:100%;background-color: #f2f3ff\";></div>\n",
       "            "
      ]
     },
     "metadata": {},
     "output_type": "display_data"
    },
    {
     "data": {
      "application/javascript": "\n            require([\"https://rawgit.com/caldwell/renderjson/master/renderjson.js\"], function() {\n            document.getElementById('6a794431-74d3-4a04-9ae0-9312eb411e3c').appendChild(renderjson([{\"id\": \"7a5c3f16-c19e-4f26-bb47-2ecb68e0cdc7\", \"name\": \"2KNJ2\", \"isoPoint\": null, \"uniprotId\": null, \"size\": 270, \"molecularWeight\": 10208.4559, \"extinctionCoefficient\": 2980, \"proteinSequence\": \"hhqelctkgddalvtelecirlrispetnaafdnavqqlnclnracayrkmcatnnleqamsvyftneqikeihdaatacdpeahhehdh\", \"regionAnnotations\": [], \"tags\": [], \"createdAt\": \"2023-10-19T14:16:02.689Z\", \"updatedAt\": \"2023-10-19T14:20:35.163Z\"}]))\n            });\n            "
     },
     "metadata": {},
     "output_type": "display_data"
    }
   ],
   "source": [
    "RenderJSON(result)"
   ]
  },
  {
   "cell_type": "code",
   "execution_count": null,
   "id": "continuing-cause",
   "metadata": {},
   "outputs": [],
   "source": []
  }
 ],
 "metadata": {
  "kernelspec": {
   "display_name": "Python 3 (ipykernel)",
   "language": "python",
   "name": "python3"
  },
  "language_info": {
   "codemirror_mode": {
    "name": "ipython",
    "version": 3
   },
   "file_extension": ".py",
   "mimetype": "text/x-python",
   "name": "python",
   "nbconvert_exporter": "python",
   "pygments_lexer": "ipython3",
   "version": "3.9.13"
  }
 },
 "nbformat": 4,
 "nbformat_minor": 5
}
