{
 "cells": [
  {
   "cell_type": "code",
   "execution_count": 1,
   "metadata": {},
   "outputs": [
    {
     "name": "stdout",
     "output_type": "stream",
     "text": [
      "38 116 154\n"
     ]
    }
   ],
   "source": [
    "from tscode.utils import read_xyz, graphize, scramble_check, write_xyz\n",
    "import os\n",
    "\n",
    "os.chdir('/mnt/c/Users/Nick/Desktop/winscp_temp')\n",
    "\n",
    "mol1 = read_xyz('MsNO2.xyz')\n",
    "mol2 = read_xyz('propip.xyz')\n",
    "mol3 = read_xyz('maybe_scrambled.xyz')\n",
    "print(len(mol1.atomcoords[0]), len(mol2.atomcoords[0]),len(mol3.atomcoords[0]))"
   ]
  },
  {
   "cell_type": "code",
   "execution_count": 2,
   "metadata": {},
   "outputs": [
    {
     "name": "stdout",
     "output_type": "stream",
     "text": [
      "38 116 154\n"
     ]
    }
   ],
   "source": [
    "graph1 = graphize(mol1.atomcoords[0], mol1.atomnos)\n",
    "graph2 = graphize(mol2.atomcoords[0], mol2.atomnos)\n",
    "graph3 = graphize(mol3.atomcoords[0], mol3.atomnos)\n",
    "print(len(graph1.nodes), len(graph2.nodes),len(graph3.nodes))"
   ]
  },
  {
   "cell_type": "code",
   "execution_count": 3,
   "metadata": {},
   "outputs": [],
   "source": [
    "import numpy as np"
   ]
  },
  {
   "cell_type": "code",
   "execution_count": 4,
   "metadata": {},
   "outputs": [
    {
     "data": {
      "text/plain": [
       "array([  4,  35,  36, 153,  37, 149])"
      ]
     },
     "execution_count": 4,
     "metadata": {},
     "output_type": "execute_result"
    }
   ],
   "source": [
    "mols_graphs = [graph1, graph2]\n",
    "constrained_indices = np.array([\n",
    "    [4, 35],\n",
    "    [36, 153], [37, 149]])\n",
    "excluded_atoms = constrained_indices.ravel()\n",
    "excluded_atoms"
   ]
  },
  {
   "cell_type": "code",
   "execution_count": 5,
   "metadata": {},
   "outputs": [
    {
     "data": {
      "text/plain": [
       "True"
      ]
     },
     "execution_count": 5,
     "metadata": {},
     "output_type": "execute_result"
    }
   ],
   "source": [
    "from tscode.calculators._xtb import xtb_opt\n",
    "opt_coords, energy, success = xtb_opt(\n",
    "                mol3.atomcoords[0],\n",
    "                # opt_coords,\n",
    "                mol3.atomnos,\n",
    "                # constrained_indices=constrained_indices,\n",
    "                # constrained_distances=[None, 1.6, 1.6],\n",
    "                constrained_indices=[constrained_indices[0]],\n",
    "                constrained_distances=[None,],\n",
    "                method='GFN2-XTB')\n",
    "success"
   ]
  },
  {
   "cell_type": "code",
   "execution_count": 6,
   "metadata": {},
   "outputs": [
    {
     "data": {
      "text/plain": [
       "-162656.01207416796"
      ]
     },
     "execution_count": 6,
     "metadata": {},
     "output_type": "execute_result"
    }
   ],
   "source": [
    "energy"
   ]
  },
  {
   "cell_type": "code",
   "execution_count": 7,
   "metadata": {},
   "outputs": [],
   "source": [
    "bonds = set()\n",
    "for i, graph in enumerate(mols_graphs):\n",
    "\n",
    "    # pos = 0\n",
    "    # while i != 0:\n",
    "    #     pos += len(mols_graphs[i-1].nodes)\n",
    "    #     i -= 1\n",
    "    pos = sum([len(other_graph.nodes) for j, other_graph in enumerate(mols_graphs) if j < i])\n",
    "\n",
    "    for bond in [tuple(sorted((a+pos, b+pos))) for a, b in list(graph.edges) if a != b]:\n",
    "        bonds.add(bond)\n",
    "# creating bond set containing all bonds present in the desired transition state\n",
    "\n",
    "new_bonds = {tuple(sorted((a, b))) for a, b in list(graphize(opt_coords, mol3.atomnos).edges) if a != b}\n",
    "delta_bonds = (bonds | new_bonds) - (bonds & new_bonds)\n",
    "# delta_bonds -= {tuple(sorted(pair)) for pair in constrained_indices}\n",
    "\n",
    "for bond in delta_bonds.copy():\n",
    "    for a in excluded_atoms:\n",
    "        if a in bond:\n",
    "            delta_bonds -= {bond}\n",
    "# removing bonds involving constrained atoms: they are not counted as scrambled bonds\n"
   ]
  },
  {
   "cell_type": "code",
   "execution_count": 8,
   "metadata": {},
   "outputs": [
    {
     "data": {
      "text/plain": [
       "set()"
      ]
     },
     "execution_count": 8,
     "metadata": {},
     "output_type": "execute_result"
    }
   ],
   "source": [
    "delta_bonds"
   ]
  },
  {
   "cell_type": "code",
   "execution_count": 9,
   "metadata": {},
   "outputs": [],
   "source": [
    "with open('optimized.xyz', 'w') as _f:\n",
    "    write_xyz(opt_coords, mol3.atomnos, _f)"
   ]
  },
  {
   "cell_type": "code",
   "execution_count": 3,
   "metadata": {},
   "outputs": [],
   "source": [
    "with open('force_field_refining_tight_constraints.dat', 'r') as f:\n",
    "    data = f.read()"
   ]
  },
  {
   "cell_type": "code",
   "execution_count": 4,
   "metadata": {},
   "outputs": [],
   "source": [
    "lines = [line.split(' : ')[1] for line in data.replace('\\n [', ', [').split('\\n') if len(line.split(' : ')) > 1]"
   ]
  },
  {
   "cell_type": "code",
   "execution_count": 5,
   "metadata": {},
   "outputs": [],
   "source": [
    "lines = [line.replace('[','').replace(',', '').replace(']','').split() for line in lines]"
   ]
  },
  {
   "cell_type": "code",
   "execution_count": 6,
   "metadata": {},
   "outputs": [],
   "source": [
    "lines = [[int(n) for n in line] for line in lines]"
   ]
  },
  {
   "cell_type": "code",
   "execution_count": 7,
   "metadata": {},
   "outputs": [
    {
     "data": {
      "text/plain": [
       "array([[ 36, 153],\n",
       "       [ 37, 149]])"
      ]
     },
     "execution_count": 7,
     "metadata": {},
     "output_type": "execute_result"
    }
   ],
   "source": [
    "ens_constr = np.array([[[l[0], l[1]], [l[2], l[3]]] for l in lines])\n",
    "ens_constr[0]"
   ]
  },
  {
   "cell_type": "code",
   "execution_count": 8,
   "metadata": {},
   "outputs": [
    {
     "name": "stdout",
     "output_type": "stream",
     "text": [
      "3073 3073\n"
     ]
    }
   ],
   "source": [
    "ens_structs = read_xyz('force_field_refining_tight_structures.xyz')\n",
    "print(len(ens_structs.atomcoords), len(ens_constr))"
   ]
  },
  {
   "cell_type": "code",
   "execution_count": 11,
   "metadata": {},
   "outputs": [
    {
     "data": {
      "text/plain": [
       "(array([521., 287., 434., 393., 256., 189., 360., 321., 241.,  71.]),\n",
       " array([-0.13143273,  1.72435417,  3.58014108,  5.43592798,  7.29171489,\n",
       "         9.14750179, 11.0032887 , 12.8590756 , 14.71486251, 16.57064941,\n",
       "        18.42643632]),\n",
       " <BarContainer object of 10 artists>)"
      ]
     },
     "execution_count": 11,
     "metadata": {},
     "output_type": "execute_result"
    },
    {
     "data": {
      "image/png": "[encoded data removed]",
      "text/plain": [
       "<Figure size 640x480 with 1 Axes>"
      ]
     },
     "metadata": {},
     "output_type": "display_data"
    }
   ],
   "source": [
    "from tscode.utils import norm_of\n",
    "import matplotlib.pyplot as plt\n",
    "errors = []\n",
    "for constraint, structure in zip(ens_constr, ens_structs.atomcoords):\n",
    "    (a, b), (c, d) = constraint\n",
    "    d1 = norm_of(\n",
    "        structure[a]-\n",
    "        structure[b]\n",
    "    ) - 1.6\n",
    "    d2 = norm_of(\n",
    "        structure[c]-\n",
    "        structure[d]\n",
    "    ) - 1.6\n",
    "    errors.append(d1+d2)\n",
    "plt.hist(errors)"
   ]
  },
  {
   "cell_type": "markdown",
   "metadata": {},
   "source": [
    "## LOADING EMBEDDER"
   ]
  },
  {
   "cell_type": "code",
   "execution_count": 4,
   "metadata": {},
   "outputs": [],
   "source": [
    "os.chdir('multiembed_test')"
   ]
  },
  {
   "cell_type": "code",
   "execution_count": 9,
   "metadata": {},
   "outputs": [],
   "source": [
    "import pickle\n",
    "\n",
    "with open('force_field_refining_tight_runembedding.pickle', 'rb') as f:\n",
    "    d = pickle.load(f)"
   ]
  },
  {
   "cell_type": "code",
   "execution_count": 10,
   "metadata": {},
   "outputs": [
    {
     "data": {
      "text/plain": [
       "7131"
      ]
     },
     "execution_count": 10,
     "metadata": {},
     "output_type": "execute_result"
    }
   ],
   "source": [
    "len(d['energies'])"
   ]
  },
  {
   "cell_type": "code",
   "execution_count": 8,
   "metadata": {},
   "outputs": [
    {
     "data": {
      "text/plain": [
       "array([nan, nan, nan, nan, nan, nan, nan, nan, nan])"
      ]
     },
     "execution_count": 8,
     "metadata": {},
     "output_type": "execute_result"
    }
   ],
   "source": [
    "d['energies'][0] = 1E10\n",
    "d['energies'][1] = 1E10\n",
    "d['energies'][2] = 1E10\n",
    "# (d['energies']-np.min(d['energies']))[1:10]"
   ]
  },
  {
   "cell_type": "code",
   "execution_count": null,
   "metadata": {},
   "outputs": [],
   "source": [
    "d['energies']"
   ]
  },
  {
   "cell_type": "code",
   "execution_count": null,
   "metadata": {},
   "outputs": [],
   "source": []
  }
 ],
 "metadata": {
  "kernelspec": {
   "display_name": "tscode",
   "language": "python",
   "name": "python3"
  },
  "language_info": {
   "codemirror_mode": {
    "name": "ipython",
    "version": 3
   },
   "file_extension": ".py",
   "mimetype": "text/x-python",
   "name": "python",
   "nbconvert_exporter": "python",
   "pygments_lexer": "ipython3",
   "version": "3.8.18"
  }
 },
 "nbformat": 4,
 "nbformat_minor": 2
}
