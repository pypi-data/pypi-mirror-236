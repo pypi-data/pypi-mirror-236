{
 "cells": [
  {
   "cell_type": "code",
   "execution_count": 11,
   "metadata": {},
   "outputs": [
    {
     "name": "stdout",
     "output_type": "stream",
     "text": [
      "Collecting natsort\n",
      "  Using cached natsort-8.2.0-py3-none-any.whl (37 kB)\n",
      "Installing collected packages: natsort\n",
      "Successfully installed natsort-8.2.0\n",
      "Note: you may need to restart the kernel to use updated packages.\n"
     ]
    }
   ],
   "source": [
    "%pip install natsort"
   ]
  },
  {
   "cell_type": "code",
   "execution_count": 15,
   "metadata": {},
   "outputs": [
    {
     "name": "stdout",
     "output_type": "stream",
     "text": [
      "Collecting unidecode\n",
      "  Using cached Unidecode-1.3.4-py3-none-any.whl (235 kB)\n",
      "Installing collected packages: unidecode\n",
      "Successfully installed unidecode-1.3.4\n",
      "Note: you may need to restart the kernel to use updated packages.\n"
     ]
    }
   ],
   "source": [
    "%pip install unidecode"
   ]
  },
  {
   "cell_type": "code",
   "execution_count": 9,
   "metadata": {},
   "outputs": [],
   "source": [
    "from pathlib import Path\n",
    "import natsort\n",
    "import unidecode\n",
    "import logging\n",
    "import sys\n",
    "import os"
   ]
  },
  {
   "cell_type": "code",
   "execution_count": 6,
   "metadata": {},
   "outputs": [],
   "source": [
    "folder_path = r'D:\\ztest_split'\n",
    "folder_path = Path(folder_path)"
   ]
  },
  {
   "cell_type": "code",
   "execution_count": 24,
   "metadata": {},
   "outputs": [
    {
     "data": {
      "text/plain": [
       "'D:\\\\ztest_split\\\\meuvideo.mp4'"
      ]
     },
     "execution_count": 24,
     "metadata": {},
     "output_type": "execute_result"
    }
   ],
   "source": [
    "def get_file_path_converted_old(path_origin):\n",
    "    \" converte caminho absoluto de um arquivo de vídeo, para seu equivalente em mp4\"\n",
    "    name_origin = os.path.basename(path_origin)\n",
    "    folder_origin = os.path.dirname(path_origin)\n",
    "    name_wo_ext = os.path.splitext(name_origin)[0]\n",
    "    name_converted = name_wo_ext + \".mp4\"\n",
    "    file_path_converted = os.path.join(folder_origin, name_converted)\n",
    "    return file_path_converted\n",
    "\n",
    "path_origin = r'D:\\ztest_split\\meuvideo.ts'\n",
    "get_file_path_converted_old(path_origin)"
   ]
  },
  {
   "cell_type": "code",
   "execution_count": 27,
   "metadata": {},
   "outputs": [
    {
     "data": {
      "text/plain": [
       "WindowsPath('D:/ztest_split/meuvideo.mp4')"
      ]
     },
     "execution_count": 27,
     "metadata": {},
     "output_type": "execute_result"
    }
   ],
   "source": [
    "def get_file_path_converted(path_origin: Path):\n",
    "    \" converte caminho absoluto de um arquivo de vídeo, para seu equivalente em mp4\"\n",
    "    file_path_c = path_origin.parent / (path_origin.stem + '.mp4')\n",
    "    return file_path_c\n",
    "\n",
    "path_origin = Path(r'D:\\ztest_split\\meuvideo.ts')\n",
    "get_file_path_converted(path_origin)"
   ]
  },
  {
   "cell_type": "markdown",
   "metadata": {},
   "source": []
  },
  {
   "cell_type": "code",
   "execution_count": 7,
   "metadata": {},
   "outputs": [
    {
     "data": {
      "text/plain": [
       "[WindowsPath('D:/ztest_split/1'),\n",
       " WindowsPath('D:/ztest_split/2'),\n",
       " WindowsPath('D:/ztest_split/3')]"
      ]
     },
     "execution_count": 7,
     "metadata": {},
     "output_type": "execute_result"
    }
   ],
   "source": [
    "list_dir_name = [path for path in folder_path.iterdir() if path.is_dir()]\n",
    "list_dir_name"
   ]
  },
  {
   "cell_type": "code",
   "execution_count": 10,
   "metadata": {},
   "outputs": [],
   "source": [
    "import vidqa"
   ]
  },
  {
   "cell_type": "code",
   "execution_count": 12,
   "metadata": {},
   "outputs": [],
   "source": [
    "import importlib"
   ]
  },
  {
   "cell_type": "code",
   "execution_count": 13,
   "metadata": {},
   "outputs": [
    {
     "data": {
      "text/plain": [
       "<module 'vidqa' from 'd:\\\\git\\\\vidqa\\\\.venv\\\\lib\\\\site-packages\\\\vidqa\\\\__init__.py'>"
      ]
     },
     "execution_count": 13,
     "metadata": {},
     "output_type": "execute_result"
    }
   ],
   "source": [
    "importlib.reload(vidqa)"
   ]
  },
  {
   "cell_type": "code",
   "execution_count": 8,
   "metadata": {},
   "outputs": [
    {
     "ename": "AttributeError",
     "evalue": "module 'vidqa' has no attribute 'get_all_file_path'",
     "output_type": "error",
     "traceback": [
      "\u001b[1;31m---------------------------------------------------------------------------\u001b[0m",
      "\u001b[1;31mAttributeError\u001b[0m                            Traceback (most recent call last)",
      "\u001b[1;32md:\\git\\vidqa\\vidqa\\tests\\prototipo.ipynb Célula: 7\u001b[0m in \u001b[0;36m<cell line: 1>\u001b[1;34m()\u001b[0m\n\u001b[1;32m----> <a href='vscode-notebook-cell:/d%3A/git/vidqa/vidqa/tests/prototipo.ipynb#X24sZmlsZQ%3D%3D?line=0'>1</a>\u001b[0m vidqa\u001b[39m.\u001b[39;49mget_all_file_path\n",
      "\u001b[1;31mAttributeError\u001b[0m: module 'vidqa' has no attribute 'get_all_file_path'"
     ]
    }
   ],
   "source": [
    "vidqa."
   ]
  },
  {
   "cell_type": "code",
   "execution_count": 50,
   "metadata": {},
   "outputs": [],
   "source": [
    "\n",
    "utils_folder = Path('.').absolute().parent / 'vidqa'\n",
    "sys.path.append(str(utils_folder))\n",
    "import utils"
   ]
  },
  {
   "cell_type": "code",
   "execution_count": 56,
   "metadata": {},
   "outputs": [],
   "source": [
    "folder_path = Path(r'D:\\git\\vidqa\\vidqa\\tests\\lista_ordem_bug')"
   ]
  },
  {
   "cell_type": "code",
   "execution_count": 57,
   "metadata": {},
   "outputs": [
    {
     "name": "stdout",
     "output_type": "stream",
     "text": [
      "D:\\git\\vidqa\\vidqa\\tests\\lista_ordem_bug\\Aula-003-Revisada.pdf\n",
      "D:\\git\\vidqa\\vidqa\\tests\\lista_ordem_bug\\Aulá-002-Revisada.pdf\n"
     ]
    }
   ],
   "source": [
    "all_file_path = utils.get_all_file_path(folder_path)"
   ]
  },
  {
   "cell_type": "code",
   "execution_count": null,
   "metadata": {},
   "outputs": [],
   "source": [
    "list_errorpath = all_file_path['errors']\n",
    "list_filepath = all_file_path['content']"
   ]
  },
  {
   "cell_type": "code",
   "execution_count": 11,
   "metadata": {},
   "outputs": [
    {
     "data": {
      "text/plain": [
       "{'content': [WindowsPath('D:/git/vidqa/vidqa/tests/lista_ordem_bug/Aulá-002-Revisada.pdf'),\n",
       "  WindowsPath('D:/git/vidqa/vidqa/tests/lista_ordem_bug/Aula-003-Revisada.pdf')],\n",
       " 'errors': []}"
      ]
     },
     "execution_count": 11,
     "metadata": {},
     "output_type": "execute_result"
    }
   ],
   "source": [
    "def get_all_file_path(folder_path: Path, sort=True) -> dict[str, list[Path]]:\n",
    "\n",
    "    \"\"\"Returns List of all file paths inside a folder, recursively.\n",
    "    Option to Sort naturally.\n",
    "\n",
    "    Args:\n",
    "    -----\n",
    "        folder_path (Path): folder path\n",
    "        sort (bool, optional): Return classified. Defaults to True.\n",
    "\n",
    "    Returns:\n",
    "    --------\n",
    "        dict[str, list]: keys: ['content', 'errors']. values: list[Path]\n",
    "    \"\"\"\n",
    "\n",
    "    def iter_folder(sub_folder):\n",
    "\n",
    "        list_error = []\n",
    "        list_file_path = []\n",
    "        for x in folder_path.iterdir():\n",
    "            if not x.exists():\n",
    "                logging.error(\"path_too_long: %s\", x)\n",
    "                list_error.append(x)\n",
    "                continue\n",
    "            if x.is_dir():\n",
    "                iter_folder(x)\n",
    "            else:\n",
    "                list_file_path.append(x)\n",
    "        return list_file_path, list_error\n",
    "    \n",
    "    if not folder_path.exists():\n",
    "        logging.error(\"Folder not exists: %s\", folder_path)\n",
    "        raise FileNotFoundError(f\"Folder not exists: {folder_path}\")\n",
    "\n",
    "    list_file_path, list_error = iter_folder(folder_path)\n",
    "    \n",
    "    if sort:\n",
    "        list_file_path = natsort.natsorted(\n",
    "            list_file_path, lambda x: unidecode.unidecode(str(x).lower())\n",
    "        )\n",
    "        list_error = natsort.natsorted(\n",
    "            list_error, lambda x: unidecode.unidecode(str(x).lower())\n",
    "        )\n",
    "    \n",
    "    return {\"content\": list_file_path, \"errors\": list_error}\n",
    "\n",
    "logging.basicConfig(level=logging.INFO)\n",
    "folder_path = Path(r'D:\\git\\vidqa\\vidqa\\tests\\lista_ordem_bug')\n",
    "\n",
    "get_all_file_path(folder_path)\n"
   ]
  },
  {
   "cell_type": "code",
   "execution_count": 3,
   "metadata": {},
   "outputs": [
    {
     "name": "stderr",
     "output_type": "stream",
     "text": [
      "INFO:root:path_too_long: aaa\n"
     ]
    }
   ],
   "source": [
    "logging.basicConfig(level=logging.INFO)\n",
    "stringa = 'aaa'\n",
    "logging.info('path_too_long: %s', stringa)"
   ]
  },
  {
   "cell_type": "code",
   "execution_count": null,
   "metadata": {},
   "outputs": [],
   "source": []
  }
 ],
 "metadata": {
  "kernelspec": {
   "display_name": "Python 3.10.5 64-bit (system)",
   "language": "python",
   "name": "python3"
  },
  "language_info": {
   "codemirror_mode": {
    "name": "ipython",
    "version": 3
   },
   "file_extension": ".py",
   "mimetype": "text/x-python",
   "name": "python",
   "nbconvert_exporter": "python",
   "pygments_lexer": "ipython3",
   "version": "3.10.5"
  },
  "orig_nbformat": 4,
  "vscode": {
   "interpreter": {
    "hash": "8f0aae869aef2f98a2a5cd66aa55e16e4d4cb7fd9e3b09142a42429becd7e0ef"
   }
  }
 },
 "nbformat": 4,
 "nbformat_minor": 2
}
