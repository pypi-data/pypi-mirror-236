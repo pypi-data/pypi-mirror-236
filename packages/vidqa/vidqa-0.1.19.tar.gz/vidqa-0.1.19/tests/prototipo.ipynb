{
 "cells": [
  {
   "cell_type": "code",
   "execution_count": 11,
   "metadata": {},
   "outputs": [
    {
     "name": "stdout",
     "output_type": "stream",
     "text": [
      "Collecting natsort\n",
      "  Using cached natsort-8.2.0-py3-none-any.whl (37 kB)\n",
      "Installing collected packages: natsort\n",
      "Successfully installed natsort-8.2.0\n",
      "Note: you may need to restart the kernel to use updated packages.\n"
     ]
    }
   ],
   "source": [
    "%pip install natsort"
   ]
  },
  {
   "cell_type": "code",
   "execution_count": 15,
   "metadata": {},
   "outputs": [
    {
     "name": "stdout",
     "output_type": "stream",
     "text": [
      "Collecting unidecode\n",
      "  Using cached Unidecode-1.3.4-py3-none-any.whl (235 kB)\n",
      "Installing collected packages: unidecode\n",
      "Successfully installed unidecode-1.3.4\n",
      "Note: you may need to restart the kernel to use updated packages.\n"
     ]
    }
   ],
   "source": [
    "%pip install unidecode"
   ]
  },
  {
   "cell_type": "code",
   "execution_count": 2,
   "metadata": {},
   "outputs": [],
   "source": [
    "from pathlib import Path\n",
    "# import natsort\n",
    "import unidecode\n",
    "import logging\n",
    "import sys\n",
    "import os\n",
    "import pandas  as pd\n",
    "from io import StringIO"
   ]
  },
  {
   "cell_type": "markdown",
   "metadata": {},
   "source": [
    "## include  type conversion"
   ]
  },
  {
   "cell_type": "code",
   "execution_count": 16,
   "metadata": {},
   "outputs": [
    {
     "data": {
      "text/html": [
       "<div>\n",
       "<style scoped>\n",
       "    .dataframe tbody tr th:only-of-type {\n",
       "        vertical-align: middle;\n",
       "    }\n",
       "\n",
       "    .dataframe tbody tr th {\n",
       "        vertical-align: top;\n",
       "    }\n",
       "\n",
       "    .dataframe thead th {\n",
       "        text-align: right;\n",
       "    }\n",
       "</style>\n",
       "<table border=\"1\" class=\"dataframe\">\n",
       "  <thead>\n",
       "    <tr style=\"text-align: right;\">\n",
       "      <th></th>\n",
       "      <th>video_codec</th>\n",
       "      <th>audio_codec</th>\n",
       "      <th>audio_channels</th>\n",
       "      <th>is_avc</th>\n",
       "      <th>path_file</th>\n",
       "      <th>format_name</th>\n",
       "    </tr>\n",
       "  </thead>\n",
       "  <tbody>\n",
       "    <tr>\n",
       "      <th>0</th>\n",
       "      <td>h264</td>\n",
       "      <td>aac</td>\n",
       "      <td>2</td>\n",
       "      <td>1</td>\n",
       "      <td>/path/to/video1.mp4</td>\n",
       "      <td>mov</td>\n",
       "    </tr>\n",
       "    <tr>\n",
       "      <th>1</th>\n",
       "      <td>h264</td>\n",
       "      <td>mp3</td>\n",
       "      <td>1</td>\n",
       "      <td>1</td>\n",
       "      <td>/path/to/video2.mkv</td>\n",
       "      <td>matroska</td>\n",
       "    </tr>\n",
       "    <tr>\n",
       "      <th>2</th>\n",
       "      <td>h264</td>\n",
       "      <td>aac</td>\n",
       "      <td>2</td>\n",
       "      <td>1</td>\n",
       "      <td>/path/to/video3.mp4</td>\n",
       "      <td>mov</td>\n",
       "    </tr>\n",
       "    <tr>\n",
       "      <th>3</th>\n",
       "      <td>vp9</td>\n",
       "      <td>opus</td>\n",
       "      <td>2</td>\n",
       "      <td>1</td>\n",
       "      <td>/path/to/video4.mkv</td>\n",
       "      <td>mov,mp4,m4a,3gp,3g2,mj2</td>\n",
       "    </tr>\n",
       "    <tr>\n",
       "      <th>4</th>\n",
       "      <td>h264</td>\n",
       "      <td>aac</td>\n",
       "      <td>5</td>\n",
       "      <td>1</td>\n",
       "      <td>/path/to/video5.mp4</td>\n",
       "      <td>mov</td>\n",
       "    </tr>\n",
       "    <tr>\n",
       "      <th>5</th>\n",
       "      <td>h265</td>\n",
       "      <td>aac</td>\n",
       "      <td>2</td>\n",
       "      <td>0</td>\n",
       "      <td>/path/to/video6.mkv</td>\n",
       "      <td>matroska</td>\n",
       "    </tr>\n",
       "    <tr>\n",
       "      <th>6</th>\n",
       "      <td>vp9</td>\n",
       "      <td>mp3</td>\n",
       "      <td>1</td>\n",
       "      <td>0</td>\n",
       "      <td>/path/to/video7.mkv</td>\n",
       "      <td>matroska</td>\n",
       "    </tr>\n",
       "    <tr>\n",
       "      <th>7</th>\n",
       "      <td>h264</td>\n",
       "      <td>aac</td>\n",
       "      <td>2</td>\n",
       "      <td>1</td>\n",
       "      <td>/path/to/video8.mp4</td>\n",
       "      <td>mov,mp4,m4a,3gp,3g2,mj2</td>\n",
       "    </tr>\n",
       "    <tr>\n",
       "      <th>8</th>\n",
       "      <td>h265</td>\n",
       "      <td>opus</td>\n",
       "      <td>2</td>\n",
       "      <td>1</td>\n",
       "      <td>/path/to/video9.mkv</td>\n",
       "      <td>mov,mp4,m4a,3gp,3g2,mj2</td>\n",
       "    </tr>\n",
       "    <tr>\n",
       "      <th>9</th>\n",
       "      <td>h264</td>\n",
       "      <td>aac</td>\n",
       "      <td>2</td>\n",
       "      <td>1</td>\n",
       "      <td>/path/to/video10.mp4</td>\n",
       "      <td>mov,mp4,m4a,3gp,3g2,mj2</td>\n",
       "    </tr>\n",
       "  </tbody>\n",
       "</table>\n",
       "</div>"
      ],
      "text/plain": [
       "  video_codec audio_codec  audio_channels  is_avc             path_file  \\\n",
       "0        h264         aac               2       1   /path/to/video1.mp4   \n",
       "1        h264         mp3               1       1   /path/to/video2.mkv   \n",
       "2        h264         aac               2       1   /path/to/video3.mp4   \n",
       "3         vp9        opus               2       1   /path/to/video4.mkv   \n",
       "4        h264         aac               5       1   /path/to/video5.mp4   \n",
       "5        h265         aac               2       0   /path/to/video6.mkv   \n",
       "6         vp9         mp3               1       0   /path/to/video7.mkv   \n",
       "7        h264         aac               2       1   /path/to/video8.mp4   \n",
       "8        h265        opus               2       1   /path/to/video9.mkv   \n",
       "9        h264         aac               2       1  /path/to/video10.mp4   \n",
       "\n",
       "               format_name  \n",
       "0                      mov  \n",
       "1                 matroska  \n",
       "2                      mov  \n",
       "3  mov,mp4,m4a,3gp,3g2,mj2  \n",
       "4                      mov  \n",
       "5                 matroska  \n",
       "6                 matroska  \n",
       "7  mov,mp4,m4a,3gp,3g2,mj2  \n",
       "8  mov,mp4,m4a,3gp,3g2,mj2  \n",
       "9  mov,mp4,m4a,3gp,3g2,mj2  "
      ]
     },
     "execution_count": 16,
     "metadata": {},
     "output_type": "execute_result"
    }
   ],
   "source": [
    "csv_string = \\\n",
    "\"\"\"\n",
    "video_codec,audio_codec,audio_channels,is_avc,path_file,format_name\n",
    "h264,aac,2,1,/path/to/video1.mp4,mov\n",
    "h264,mp3,1,1,/path/to/video2.mkv,matroska\n",
    "h264,aac,2,1,/path/to/video3.mp4,mov\n",
    "vp9,opus,2,1,/path/to/video4.mkv,\"mov,mp4,m4a,3gp,3g2,mj2\"\n",
    "h264,aac,5,1,/path/to/video5.mp4,mov\n",
    "h265,aac,2,0,/path/to/video6.mkv,matroska\n",
    "vp9,mp3,1,0,/path/to/video7.mkv,matroska\n",
    "h264,aac,2,1,/path/to/video8.mp4,\"mov,mp4,m4a,3gp,3g2,mj2\"\n",
    "h265,opus,2,1,/path/to/video9.mkv,\"mov,mp4,m4a,3gp,3g2,mj2\"\n",
    "h264,aac,2,1,/path/to/video10.mp4,\"mov,mp4,m4a,3gp,3g2,mj2\"\n",
    "\"\"\"\n",
    "\n",
    "df_raw = pd.read_csv(StringIO(csv_string))\n",
    "df_raw"
   ]
  },
  {
   "cell_type": "code",
   "execution_count": 18,
   "metadata": {},
   "outputs": [
    {
     "data": {
      "text/html": [
       "<div>\n",
       "<style scoped>\n",
       "    .dataframe tbody tr th:only-of-type {\n",
       "        vertical-align: middle;\n",
       "    }\n",
       "\n",
       "    .dataframe tbody tr th {\n",
       "        vertical-align: top;\n",
       "    }\n",
       "\n",
       "    .dataframe thead th {\n",
       "        text-align: right;\n",
       "    }\n",
       "</style>\n",
       "<table border=\"1\" class=\"dataframe\">\n",
       "  <thead>\n",
       "    <tr style=\"text-align: right;\">\n",
       "      <th></th>\n",
       "      <th>video_codec</th>\n",
       "      <th>audio_codec</th>\n",
       "      <th>audio_channels</th>\n",
       "      <th>is_avc</th>\n",
       "      <th>path_file</th>\n",
       "      <th>format_name</th>\n",
       "      <th>type_conversion</th>\n",
       "    </tr>\n",
       "  </thead>\n",
       "  <tbody>\n",
       "    <tr>\n",
       "      <th>0</th>\n",
       "      <td>h264</td>\n",
       "      <td>aac</td>\n",
       "      <td>2</td>\n",
       "      <td>1</td>\n",
       "      <td>/path/to/video1.mp4</td>\n",
       "      <td>mov</td>\n",
       "      <td>2_container</td>\n",
       "    </tr>\n",
       "    <tr>\n",
       "      <th>1</th>\n",
       "      <td>h264</td>\n",
       "      <td>mp3</td>\n",
       "      <td>1</td>\n",
       "      <td>1</td>\n",
       "      <td>/path/to/video2.mkv</td>\n",
       "      <td>matroska</td>\n",
       "      <td>3_only_audio</td>\n",
       "    </tr>\n",
       "    <tr>\n",
       "      <th>2</th>\n",
       "      <td>h264</td>\n",
       "      <td>aac</td>\n",
       "      <td>2</td>\n",
       "      <td>1</td>\n",
       "      <td>/path/to/video3.mp4</td>\n",
       "      <td>mov</td>\n",
       "      <td>2_container</td>\n",
       "    </tr>\n",
       "    <tr>\n",
       "      <th>3</th>\n",
       "      <td>vp9</td>\n",
       "      <td>opus</td>\n",
       "      <td>2</td>\n",
       "      <td>1</td>\n",
       "      <td>/path/to/video4.mkv</td>\n",
       "      <td>mov,mp4,m4a,3gp,3g2,mj2</td>\n",
       "      <td>5_total_conv</td>\n",
       "    </tr>\n",
       "    <tr>\n",
       "      <th>4</th>\n",
       "      <td>h264</td>\n",
       "      <td>aac</td>\n",
       "      <td>5</td>\n",
       "      <td>1</td>\n",
       "      <td>/path/to/video5.mp4</td>\n",
       "      <td>mov</td>\n",
       "      <td>3_only_audio</td>\n",
       "    </tr>\n",
       "    <tr>\n",
       "      <th>5</th>\n",
       "      <td>h265</td>\n",
       "      <td>aac</td>\n",
       "      <td>2</td>\n",
       "      <td>0</td>\n",
       "      <td>/path/to/video6.mkv</td>\n",
       "      <td>matroska</td>\n",
       "      <td>4_only_video</td>\n",
       "    </tr>\n",
       "    <tr>\n",
       "      <th>6</th>\n",
       "      <td>vp9</td>\n",
       "      <td>mp3</td>\n",
       "      <td>1</td>\n",
       "      <td>0</td>\n",
       "      <td>/path/to/video7.mkv</td>\n",
       "      <td>matroska</td>\n",
       "      <td>5_total_conv</td>\n",
       "    </tr>\n",
       "    <tr>\n",
       "      <th>7</th>\n",
       "      <td>h264</td>\n",
       "      <td>aac</td>\n",
       "      <td>2</td>\n",
       "      <td>1</td>\n",
       "      <td>/path/to/video8.mp4</td>\n",
       "      <td>mov,mp4,m4a,3gp,3g2,mj2</td>\n",
       "      <td>1_not_needed</td>\n",
       "    </tr>\n",
       "    <tr>\n",
       "      <th>8</th>\n",
       "      <td>h265</td>\n",
       "      <td>opus</td>\n",
       "      <td>2</td>\n",
       "      <td>1</td>\n",
       "      <td>/path/to/video9.mkv</td>\n",
       "      <td>mov,mp4,m4a,3gp,3g2,mj2</td>\n",
       "      <td>5_total_conv</td>\n",
       "    </tr>\n",
       "    <tr>\n",
       "      <th>9</th>\n",
       "      <td>h264</td>\n",
       "      <td>aac</td>\n",
       "      <td>2</td>\n",
       "      <td>1</td>\n",
       "      <td>/path/to/video10.mp4</td>\n",
       "      <td>mov,mp4,m4a,3gp,3g2,mj2</td>\n",
       "      <td>1_not_needed</td>\n",
       "    </tr>\n",
       "  </tbody>\n",
       "</table>\n",
       "</div>"
      ],
      "text/plain": [
       "  video_codec audio_codec  audio_channels  is_avc             path_file  \\\n",
       "0        h264         aac               2       1   /path/to/video1.mp4   \n",
       "1        h264         mp3               1       1   /path/to/video2.mkv   \n",
       "2        h264         aac               2       1   /path/to/video3.mp4   \n",
       "3         vp9        opus               2       1   /path/to/video4.mkv   \n",
       "4        h264         aac               5       1   /path/to/video5.mp4   \n",
       "5        h265         aac               2       0   /path/to/video6.mkv   \n",
       "6         vp9         mp3               1       0   /path/to/video7.mkv   \n",
       "7        h264         aac               2       1   /path/to/video8.mp4   \n",
       "8        h265        opus               2       1   /path/to/video9.mkv   \n",
       "9        h264         aac               2       1  /path/to/video10.mp4   \n",
       "\n",
       "               format_name type_conversion  \n",
       "0                      mov     2_container  \n",
       "1                 matroska    3_only_audio  \n",
       "2                      mov     2_container  \n",
       "3  mov,mp4,m4a,3gp,3g2,mj2    5_total_conv  \n",
       "4                      mov    3_only_audio  \n",
       "5                 matroska    4_only_video  \n",
       "6                 matroska    5_total_conv  \n",
       "7  mov,mp4,m4a,3gp,3g2,mj2    1_not_needed  \n",
       "8  mov,mp4,m4a,3gp,3g2,mj2    5_total_conv  \n",
       "9  mov,mp4,m4a,3gp,3g2,mj2    1_not_needed  "
      ]
     },
     "execution_count": 18,
     "metadata": {},
     "output_type": "execute_result"
    }
   ],
   "source": [
    "df = df_raw.copy()\n",
    "mask_cv_ok = df[\"video_codec\"].isin([\"h264\"])\n",
    "mask_ca_ok = df[\"audio_codec\"].isin([\"aac\"])\n",
    "mask_ac_ok = df[\"audio_channels\"] <= 2\n",
    "mask_isavc = df[\"is_avc\"].isin([1])\n",
    "mask_mp4 = df[\"path_file\"].apply(\n",
    "    lambda x: Path(x).suffix.lower() == \".mp4\"\n",
    ")\n",
    "mask_format = df[\"format_name\"] == \"mov,mp4,m4a,3gp,3g2,mj2\"\n",
    "\n",
    "stream_video_ok = mask_cv_ok & mask_isavc\n",
    "audio_stream_ok = mask_ca_ok & mask_ac_ok\n",
    "container_ok = mask_mp4 & mask_format\n",
    "\n",
    "df[\"type_conversion\"] = \"\"\n",
    "\n",
    "mask_1_not_needed = stream_video_ok & audio_stream_ok & container_ok\n",
    "df.loc[mask_1_not_needed, \"type_conversion\"] = \"1_not_needed\"\n",
    "\n",
    "mask_2_container = (stream_video_ok & audio_stream_ok) & ~container_ok\n",
    "df.loc[mask_2_container, \"type_conversion\"] = \"2_container\"\n",
    "\n",
    "mask_3_only_audio = stream_video_ok & ~audio_stream_ok\n",
    "df.loc[mask_3_only_audio, \"type_conversion\"] = \"3_only_audio\"\n",
    "\n",
    "mask_4_only_video = ~stream_video_ok & audio_stream_ok\n",
    "df.loc[mask_4_only_video, \"type_conversion\"] = \"4_only_video\"\n",
    "\n",
    "mask_5_total_conv = ~stream_video_ok & ~audio_stream_ok\n",
    "df.loc[mask_5_total_conv, \"type_conversion\"] = \"5_total_conv\"\n",
    "df"
   ]
  },
  {
   "cell_type": "code",
   "execution_count": 19,
   "metadata": {},
   "outputs": [
    {
     "name": "stdout",
     "output_type": "stream",
     "text": [
      "2_container\n"
     ]
    },
    {
     "data": {
      "text/html": [
       "<div>\n",
       "<style scoped>\n",
       "    .dataframe tbody tr th:only-of-type {\n",
       "        vertical-align: middle;\n",
       "    }\n",
       "\n",
       "    .dataframe tbody tr th {\n",
       "        vertical-align: top;\n",
       "    }\n",
       "\n",
       "    .dataframe thead th {\n",
       "        text-align: right;\n",
       "    }\n",
       "</style>\n",
       "<table border=\"1\" class=\"dataframe\">\n",
       "  <thead>\n",
       "    <tr style=\"text-align: right;\">\n",
       "      <th></th>\n",
       "      <th>video_codec</th>\n",
       "      <th>audio_codec</th>\n",
       "      <th>audio_channels</th>\n",
       "      <th>is_avc</th>\n",
       "      <th>path_file</th>\n",
       "      <th>format_name</th>\n",
       "      <th>type_conversion</th>\n",
       "    </tr>\n",
       "  </thead>\n",
       "  <tbody>\n",
       "    <tr>\n",
       "      <th>0</th>\n",
       "      <td>h264</td>\n",
       "      <td>aac</td>\n",
       "      <td>2</td>\n",
       "      <td>1</td>\n",
       "      <td>/path/to/video1.mp4</td>\n",
       "      <td>mov</td>\n",
       "      <td>2_container</td>\n",
       "    </tr>\n",
       "    <tr>\n",
       "      <th>2</th>\n",
       "      <td>h264</td>\n",
       "      <td>aac</td>\n",
       "      <td>2</td>\n",
       "      <td>1</td>\n",
       "      <td>/path/to/video3.mp4</td>\n",
       "      <td>mov</td>\n",
       "      <td>2_container</td>\n",
       "    </tr>\n",
       "  </tbody>\n",
       "</table>\n",
       "</div>"
      ],
      "text/plain": [
       "  video_codec audio_codec  audio_channels  is_avc            path_file  \\\n",
       "0        h264         aac               2       1  /path/to/video1.mp4   \n",
       "2        h264         aac               2       1  /path/to/video3.mp4   \n",
       "\n",
       "  format_name type_conversion  \n",
       "0         mov     2_container  \n",
       "2         mov     2_container  "
      ]
     },
     "metadata": {},
     "output_type": "display_data"
    },
    {
     "name": "stdout",
     "output_type": "stream",
     "text": [
      "---\n",
      "3_only_audio\n"
     ]
    },
    {
     "data": {
      "text/html": [
       "<div>\n",
       "<style scoped>\n",
       "    .dataframe tbody tr th:only-of-type {\n",
       "        vertical-align: middle;\n",
       "    }\n",
       "\n",
       "    .dataframe tbody tr th {\n",
       "        vertical-align: top;\n",
       "    }\n",
       "\n",
       "    .dataframe thead th {\n",
       "        text-align: right;\n",
       "    }\n",
       "</style>\n",
       "<table border=\"1\" class=\"dataframe\">\n",
       "  <thead>\n",
       "    <tr style=\"text-align: right;\">\n",
       "      <th></th>\n",
       "      <th>video_codec</th>\n",
       "      <th>audio_codec</th>\n",
       "      <th>audio_channels</th>\n",
       "      <th>is_avc</th>\n",
       "      <th>path_file</th>\n",
       "      <th>format_name</th>\n",
       "      <th>type_conversion</th>\n",
       "    </tr>\n",
       "  </thead>\n",
       "  <tbody>\n",
       "    <tr>\n",
       "      <th>1</th>\n",
       "      <td>h264</td>\n",
       "      <td>mp3</td>\n",
       "      <td>1</td>\n",
       "      <td>1</td>\n",
       "      <td>/path/to/video2.mkv</td>\n",
       "      <td>matroska</td>\n",
       "      <td>3_only_audio</td>\n",
       "    </tr>\n",
       "    <tr>\n",
       "      <th>4</th>\n",
       "      <td>h264</td>\n",
       "      <td>aac</td>\n",
       "      <td>5</td>\n",
       "      <td>1</td>\n",
       "      <td>/path/to/video5.mp4</td>\n",
       "      <td>mov</td>\n",
       "      <td>3_only_audio</td>\n",
       "    </tr>\n",
       "  </tbody>\n",
       "</table>\n",
       "</div>"
      ],
      "text/plain": [
       "  video_codec audio_codec  audio_channels  is_avc            path_file  \\\n",
       "1        h264         mp3               1       1  /path/to/video2.mkv   \n",
       "4        h264         aac               5       1  /path/to/video5.mp4   \n",
       "\n",
       "  format_name type_conversion  \n",
       "1    matroska    3_only_audio  \n",
       "4         mov    3_only_audio  "
      ]
     },
     "metadata": {},
     "output_type": "display_data"
    },
    {
     "name": "stdout",
     "output_type": "stream",
     "text": [
      "---\n",
      "5_total_conv\n"
     ]
    },
    {
     "data": {
      "text/html": [
       "<div>\n",
       "<style scoped>\n",
       "    .dataframe tbody tr th:only-of-type {\n",
       "        vertical-align: middle;\n",
       "    }\n",
       "\n",
       "    .dataframe tbody tr th {\n",
       "        vertical-align: top;\n",
       "    }\n",
       "\n",
       "    .dataframe thead th {\n",
       "        text-align: right;\n",
       "    }\n",
       "</style>\n",
       "<table border=\"1\" class=\"dataframe\">\n",
       "  <thead>\n",
       "    <tr style=\"text-align: right;\">\n",
       "      <th></th>\n",
       "      <th>video_codec</th>\n",
       "      <th>audio_codec</th>\n",
       "      <th>audio_channels</th>\n",
       "      <th>is_avc</th>\n",
       "      <th>path_file</th>\n",
       "      <th>format_name</th>\n",
       "      <th>type_conversion</th>\n",
       "    </tr>\n",
       "  </thead>\n",
       "  <tbody>\n",
       "    <tr>\n",
       "      <th>3</th>\n",
       "      <td>vp9</td>\n",
       "      <td>opus</td>\n",
       "      <td>2</td>\n",
       "      <td>1</td>\n",
       "      <td>/path/to/video4.mkv</td>\n",
       "      <td>mov,mp4,m4a,3gp,3g2,mj2</td>\n",
       "      <td>5_total_conv</td>\n",
       "    </tr>\n",
       "    <tr>\n",
       "      <th>6</th>\n",
       "      <td>vp9</td>\n",
       "      <td>mp3</td>\n",
       "      <td>1</td>\n",
       "      <td>0</td>\n",
       "      <td>/path/to/video7.mkv</td>\n",
       "      <td>matroska</td>\n",
       "      <td>5_total_conv</td>\n",
       "    </tr>\n",
       "    <tr>\n",
       "      <th>8</th>\n",
       "      <td>h265</td>\n",
       "      <td>opus</td>\n",
       "      <td>2</td>\n",
       "      <td>1</td>\n",
       "      <td>/path/to/video9.mkv</td>\n",
       "      <td>mov,mp4,m4a,3gp,3g2,mj2</td>\n",
       "      <td>5_total_conv</td>\n",
       "    </tr>\n",
       "  </tbody>\n",
       "</table>\n",
       "</div>"
      ],
      "text/plain": [
       "  video_codec audio_codec  audio_channels  is_avc            path_file  \\\n",
       "3         vp9        opus               2       1  /path/to/video4.mkv   \n",
       "6         vp9         mp3               1       0  /path/to/video7.mkv   \n",
       "8        h265        opus               2       1  /path/to/video9.mkv   \n",
       "\n",
       "               format_name type_conversion  \n",
       "3  mov,mp4,m4a,3gp,3g2,mj2    5_total_conv  \n",
       "6                 matroska    5_total_conv  \n",
       "8  mov,mp4,m4a,3gp,3g2,mj2    5_total_conv  "
      ]
     },
     "metadata": {},
     "output_type": "display_data"
    },
    {
     "name": "stdout",
     "output_type": "stream",
     "text": [
      "---\n",
      "4_only_video\n"
     ]
    },
    {
     "data": {
      "text/html": [
       "<div>\n",
       "<style scoped>\n",
       "    .dataframe tbody tr th:only-of-type {\n",
       "        vertical-align: middle;\n",
       "    }\n",
       "\n",
       "    .dataframe tbody tr th {\n",
       "        vertical-align: top;\n",
       "    }\n",
       "\n",
       "    .dataframe thead th {\n",
       "        text-align: right;\n",
       "    }\n",
       "</style>\n",
       "<table border=\"1\" class=\"dataframe\">\n",
       "  <thead>\n",
       "    <tr style=\"text-align: right;\">\n",
       "      <th></th>\n",
       "      <th>video_codec</th>\n",
       "      <th>audio_codec</th>\n",
       "      <th>audio_channels</th>\n",
       "      <th>is_avc</th>\n",
       "      <th>path_file</th>\n",
       "      <th>format_name</th>\n",
       "      <th>type_conversion</th>\n",
       "    </tr>\n",
       "  </thead>\n",
       "  <tbody>\n",
       "    <tr>\n",
       "      <th>5</th>\n",
       "      <td>h265</td>\n",
       "      <td>aac</td>\n",
       "      <td>2</td>\n",
       "      <td>0</td>\n",
       "      <td>/path/to/video6.mkv</td>\n",
       "      <td>matroska</td>\n",
       "      <td>4_only_video</td>\n",
       "    </tr>\n",
       "  </tbody>\n",
       "</table>\n",
       "</div>"
      ],
      "text/plain": [
       "  video_codec audio_codec  audio_channels  is_avc            path_file  \\\n",
       "5        h265         aac               2       0  /path/to/video6.mkv   \n",
       "\n",
       "  format_name type_conversion  \n",
       "5    matroska    4_only_video  "
      ]
     },
     "metadata": {},
     "output_type": "display_data"
    },
    {
     "name": "stdout",
     "output_type": "stream",
     "text": [
      "---\n",
      "1_not_needed\n"
     ]
    },
    {
     "data": {
      "text/html": [
       "<div>\n",
       "<style scoped>\n",
       "    .dataframe tbody tr th:only-of-type {\n",
       "        vertical-align: middle;\n",
       "    }\n",
       "\n",
       "    .dataframe tbody tr th {\n",
       "        vertical-align: top;\n",
       "    }\n",
       "\n",
       "    .dataframe thead th {\n",
       "        text-align: right;\n",
       "    }\n",
       "</style>\n",
       "<table border=\"1\" class=\"dataframe\">\n",
       "  <thead>\n",
       "    <tr style=\"text-align: right;\">\n",
       "      <th></th>\n",
       "      <th>video_codec</th>\n",
       "      <th>audio_codec</th>\n",
       "      <th>audio_channels</th>\n",
       "      <th>is_avc</th>\n",
       "      <th>path_file</th>\n",
       "      <th>format_name</th>\n",
       "      <th>type_conversion</th>\n",
       "    </tr>\n",
       "  </thead>\n",
       "  <tbody>\n",
       "    <tr>\n",
       "      <th>7</th>\n",
       "      <td>h264</td>\n",
       "      <td>aac</td>\n",
       "      <td>2</td>\n",
       "      <td>1</td>\n",
       "      <td>/path/to/video8.mp4</td>\n",
       "      <td>mov,mp4,m4a,3gp,3g2,mj2</td>\n",
       "      <td>1_not_needed</td>\n",
       "    </tr>\n",
       "    <tr>\n",
       "      <th>9</th>\n",
       "      <td>h264</td>\n",
       "      <td>aac</td>\n",
       "      <td>2</td>\n",
       "      <td>1</td>\n",
       "      <td>/path/to/video10.mp4</td>\n",
       "      <td>mov,mp4,m4a,3gp,3g2,mj2</td>\n",
       "      <td>1_not_needed</td>\n",
       "    </tr>\n",
       "  </tbody>\n",
       "</table>\n",
       "</div>"
      ],
      "text/plain": [
       "  video_codec audio_codec  audio_channels  is_avc             path_file  \\\n",
       "7        h264         aac               2       1   /path/to/video8.mp4   \n",
       "9        h264         aac               2       1  /path/to/video10.mp4   \n",
       "\n",
       "               format_name type_conversion  \n",
       "7  mov,mp4,m4a,3gp,3g2,mj2    1_not_needed  \n",
       "9  mov,mp4,m4a,3gp,3g2,mj2    1_not_needed  "
      ]
     },
     "metadata": {},
     "output_type": "display_data"
    },
    {
     "name": "stdout",
     "output_type": "stream",
     "text": [
      "---\n"
     ]
    }
   ],
   "source": [
    "for conv_type in df['type_conversion'].unique():\n",
    "    print(conv_type)\n",
    "    display(df.loc[df['type_conversion'].isin([conv_type])])\n",
    "    print('---')"
   ]
  },
  {
   "cell_type": "markdown",
   "metadata": {},
   "source": [
    "## outros"
   ]
  },
  {
   "cell_type": "code",
   "execution_count": 6,
   "metadata": {},
   "outputs": [],
   "source": [
    "folder_path = r'D:\\ztest_split'\n",
    "folder_path = Path(folder_path)"
   ]
  },
  {
   "cell_type": "code",
   "execution_count": 24,
   "metadata": {},
   "outputs": [
    {
     "data": {
      "text/plain": [
       "'D:\\\\ztest_split\\\\meuvideo.mp4'"
      ]
     },
     "execution_count": 24,
     "metadata": {},
     "output_type": "execute_result"
    }
   ],
   "source": [
    "def get_file_path_converted_old(path_origin):\n",
    "    \" converte caminho absoluto de um arquivo de vídeo, para seu equivalente em mp4\"\n",
    "    name_origin = os.path.basename(path_origin)\n",
    "    folder_origin = os.path.dirname(path_origin)\n",
    "    name_wo_ext = os.path.splitext(name_origin)[0]\n",
    "    name_converted = name_wo_ext + \".mp4\"\n",
    "    file_path_converted = os.path.join(folder_origin, name_converted)\n",
    "    return file_path_converted\n",
    "\n",
    "path_origin = r'D:\\ztest_split\\meuvideo.ts'\n",
    "get_file_path_converted_old(path_origin)"
   ]
  },
  {
   "cell_type": "code",
   "execution_count": 27,
   "metadata": {},
   "outputs": [
    {
     "data": {
      "text/plain": [
       "WindowsPath('D:/ztest_split/meuvideo.mp4')"
      ]
     },
     "execution_count": 27,
     "metadata": {},
     "output_type": "execute_result"
    }
   ],
   "source": [
    "def get_file_path_converted(path_origin: Path):\n",
    "    \" converte caminho absoluto de um arquivo de vídeo, para seu equivalente em mp4\"\n",
    "    file_path_c = path_origin.parent / (path_origin.stem + '.mp4')\n",
    "    return file_path_c\n",
    "\n",
    "path_origin = Path(r'D:\\ztest_split\\meuvideo.ts')\n",
    "get_file_path_converted(path_origin)"
   ]
  },
  {
   "cell_type": "markdown",
   "metadata": {},
   "source": []
  },
  {
   "cell_type": "code",
   "execution_count": 7,
   "metadata": {},
   "outputs": [
    {
     "data": {
      "text/plain": [
       "[WindowsPath('D:/ztest_split/1'),\n",
       " WindowsPath('D:/ztest_split/2'),\n",
       " WindowsPath('D:/ztest_split/3')]"
      ]
     },
     "execution_count": 7,
     "metadata": {},
     "output_type": "execute_result"
    }
   ],
   "source": [
    "list_dir_name = [path for path in folder_path.iterdir() if path.is_dir()]\n",
    "list_dir_name"
   ]
  },
  {
   "cell_type": "code",
   "execution_count": 10,
   "metadata": {},
   "outputs": [],
   "source": [
    "import vidqa"
   ]
  },
  {
   "cell_type": "code",
   "execution_count": 12,
   "metadata": {},
   "outputs": [],
   "source": [
    "import importlib"
   ]
  },
  {
   "cell_type": "code",
   "execution_count": 13,
   "metadata": {},
   "outputs": [
    {
     "data": {
      "text/plain": [
       "<module 'vidqa' from 'd:\\\\git\\\\vidqa\\\\.venv\\\\lib\\\\site-packages\\\\vidqa\\\\__init__.py'>"
      ]
     },
     "execution_count": 13,
     "metadata": {},
     "output_type": "execute_result"
    }
   ],
   "source": [
    "importlib.reload(vidqa)"
   ]
  },
  {
   "cell_type": "code",
   "execution_count": 8,
   "metadata": {},
   "outputs": [
    {
     "ename": "AttributeError",
     "evalue": "module 'vidqa' has no attribute 'get_all_file_path'",
     "output_type": "error",
     "traceback": [
      "\u001b[1;31m---------------------------------------------------------------------------\u001b[0m",
      "\u001b[1;31mAttributeError\u001b[0m                            Traceback (most recent call last)",
      "\u001b[1;32md:\\git\\vidqa\\vidqa\\tests\\prototipo.ipynb Célula: 7\u001b[0m in \u001b[0;36m<cell line: 1>\u001b[1;34m()\u001b[0m\n\u001b[1;32m----> <a href='vscode-notebook-cell:/d%3A/git/vidqa/vidqa/tests/prototipo.ipynb#X24sZmlsZQ%3D%3D?line=0'>1</a>\u001b[0m vidqa\u001b[39m.\u001b[39;49mget_all_file_path\n",
      "\u001b[1;31mAttributeError\u001b[0m: module 'vidqa' has no attribute 'get_all_file_path'"
     ]
    }
   ],
   "source": [
    "vidqa."
   ]
  },
  {
   "cell_type": "code",
   "execution_count": 50,
   "metadata": {},
   "outputs": [],
   "source": [
    "\n",
    "utils_folder = Path('.').absolute().parent / 'vidqa'\n",
    "sys.path.append(str(utils_folder))\n",
    "import utils"
   ]
  },
  {
   "cell_type": "code",
   "execution_count": 56,
   "metadata": {},
   "outputs": [],
   "source": [
    "folder_path = Path(r'D:\\git\\vidqa\\vidqa\\tests\\lista_ordem_bug')"
   ]
  },
  {
   "cell_type": "code",
   "execution_count": 57,
   "metadata": {},
   "outputs": [
    {
     "name": "stdout",
     "output_type": "stream",
     "text": [
      "D:\\git\\vidqa\\vidqa\\tests\\lista_ordem_bug\\Aula-003-Revisada.pdf\n",
      "D:\\git\\vidqa\\vidqa\\tests\\lista_ordem_bug\\Aulá-002-Revisada.pdf\n"
     ]
    }
   ],
   "source": [
    "all_file_path = utils.get_all_file_path(folder_path)"
   ]
  },
  {
   "cell_type": "code",
   "execution_count": null,
   "metadata": {},
   "outputs": [],
   "source": [
    "list_errorpath = all_file_path['errors']\n",
    "list_filepath = all_file_path['content']"
   ]
  },
  {
   "cell_type": "code",
   "execution_count": 11,
   "metadata": {},
   "outputs": [
    {
     "data": {
      "text/plain": [
       "{'content': [WindowsPath('D:/git/vidqa/vidqa/tests/lista_ordem_bug/Aulá-002-Revisada.pdf'),\n",
       "  WindowsPath('D:/git/vidqa/vidqa/tests/lista_ordem_bug/Aula-003-Revisada.pdf')],\n",
       " 'errors': []}"
      ]
     },
     "execution_count": 11,
     "metadata": {},
     "output_type": "execute_result"
    }
   ],
   "source": [
    "def get_all_file_path(folder_path: Path, sort=True) -> dict[str, list[Path]]:\n",
    "\n",
    "    \"\"\"Returns List of all file paths inside a folder, recursively.\n",
    "    Option to Sort naturally.\n",
    "\n",
    "    Args:\n",
    "    -----\n",
    "        folder_path (Path): folder path\n",
    "        sort (bool, optional): Return classified. Defaults to True.\n",
    "\n",
    "    Returns:\n",
    "    --------\n",
    "        dict[str, list]: keys: ['content', 'errors']. values: list[Path]\n",
    "    \"\"\"\n",
    "\n",
    "    def iter_folder(sub_folder):\n",
    "\n",
    "        list_error = []\n",
    "        list_file_path = []\n",
    "        for x in folder_path.iterdir():\n",
    "            if not x.exists():\n",
    "                logging.error(\"path_too_long: %s\", x)\n",
    "                list_error.append(x)\n",
    "                continue\n",
    "            if x.is_dir():\n",
    "                iter_folder(x)\n",
    "            else:\n",
    "                list_file_path.append(x)\n",
    "        return list_file_path, list_error\n",
    "    \n",
    "    if not folder_path.exists():\n",
    "        logging.error(\"Folder not exists: %s\", folder_path)\n",
    "        raise FileNotFoundError(f\"Folder not exists: {folder_path}\")\n",
    "\n",
    "    list_file_path, list_error = iter_folder(folder_path)\n",
    "    \n",
    "    if sort:\n",
    "        list_file_path = natsort.natsorted(\n",
    "            list_file_path, lambda x: unidecode.unidecode(str(x).lower())\n",
    "        )\n",
    "        list_error = natsort.natsorted(\n",
    "            list_error, lambda x: unidecode.unidecode(str(x).lower())\n",
    "        )\n",
    "    \n",
    "    return {\"content\": list_file_path, \"errors\": list_error}\n",
    "\n",
    "logging.basicConfig(level=logging.INFO)\n",
    "folder_path = Path(r'D:\\git\\vidqa\\vidqa\\tests\\lista_ordem_bug')\n",
    "\n",
    "get_all_file_path(folder_path)\n"
   ]
  },
  {
   "cell_type": "code",
   "execution_count": 3,
   "metadata": {},
   "outputs": [
    {
     "name": "stderr",
     "output_type": "stream",
     "text": [
      "INFO:root:path_too_long: aaa\n"
     ]
    }
   ],
   "source": [
    "logging.basicConfig(level=logging.INFO)\n",
    "stringa = 'aaa'\n",
    "logging.info('path_too_long: %s', stringa)"
   ]
  },
  {
   "cell_type": "code",
   "execution_count": null,
   "metadata": {},
   "outputs": [],
   "source": []
  }
 ],
 "metadata": {
  "kernelspec": {
   "display_name": "bjshare",
   "language": "python",
   "name": "bjshare"
  },
  "language_info": {
   "codemirror_mode": {
    "name": "ipython",
    "version": 3
   },
   "file_extension": ".py",
   "mimetype": "text/x-python",
   "name": "python",
   "nbconvert_exporter": "python",
   "pygments_lexer": "ipython3",
   "version": "3.11.4"
  },
  "vscode": {
   "interpreter": {
    "hash": "8f0aae869aef2f98a2a5cd66aa55e16e4d4cb7fd9e3b09142a42429becd7e0ef"
   }
  }
 },
 "nbformat": 4,
 "nbformat_minor": 4
}
